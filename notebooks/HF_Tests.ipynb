{
  "nbformat": 4,
  "nbformat_minor": 0,
  "metadata": {
    "colab": {
      "name": "HF Tests.ipynb",
      "provenance": [],
      "collapsed_sections": [],
      "toc_visible": true
    },
    "kernelspec": {
      "name": "python3",
      "display_name": "Python 3"
    },
    "accelerator": "GPU",
    "widgets": {
      "application/vnd.jupyter.widget-state+json": {
        "2f588dd3dcce45989d5040a2551d45c2": {
          "model_module": "@jupyter-widgets/controls",
          "model_name": "HBoxModel",
          "state": {
            "_view_name": "HBoxView",
            "_dom_classes": [],
            "_model_name": "HBoxModel",
            "_view_module": "@jupyter-widgets/controls",
            "_model_module_version": "1.5.0",
            "_view_count": null,
            "_view_module_version": "1.5.0",
            "box_style": "",
            "layout": "IPY_MODEL_bc8d4bc32fa44442adfe62a53a0101c7",
            "_model_module": "@jupyter-widgets/controls",
            "children": [
              "IPY_MODEL_d9cfef4ff0ec4598986b488cc65e2142",
              "IPY_MODEL_c33add0554394d4fb3b63bec5a3470d7"
            ]
          }
        },
        "bc8d4bc32fa44442adfe62a53a0101c7": {
          "model_module": "@jupyter-widgets/base",
          "model_name": "LayoutModel",
          "state": {
            "_view_name": "LayoutView",
            "grid_template_rows": null,
            "right": null,
            "justify_content": null,
            "_view_module": "@jupyter-widgets/base",
            "overflow": null,
            "_model_module_version": "1.2.0",
            "_view_count": null,
            "flex_flow": null,
            "width": null,
            "min_width": null,
            "border": null,
            "align_items": null,
            "bottom": null,
            "_model_module": "@jupyter-widgets/base",
            "top": null,
            "grid_column": null,
            "overflow_y": null,
            "overflow_x": null,
            "grid_auto_flow": null,
            "grid_area": null,
            "grid_template_columns": null,
            "flex": null,
            "_model_name": "LayoutModel",
            "justify_items": null,
            "grid_row": null,
            "max_height": null,
            "align_content": null,
            "visibility": null,
            "align_self": null,
            "height": null,
            "min_height": null,
            "padding": null,
            "grid_auto_rows": null,
            "grid_gap": null,
            "max_width": null,
            "order": null,
            "_view_module_version": "1.2.0",
            "grid_template_areas": null,
            "object_position": null,
            "object_fit": null,
            "grid_auto_columns": null,
            "margin": null,
            "display": null,
            "left": null
          }
        },
        "d9cfef4ff0ec4598986b488cc65e2142": {
          "model_module": "@jupyter-widgets/controls",
          "model_name": "FloatProgressModel",
          "state": {
            "_view_name": "ProgressView",
            "style": "IPY_MODEL_a5b881e705314415a4616f467bfc2827",
            "_dom_classes": [],
            "description": "Downloading: 100%",
            "_model_name": "FloatProgressModel",
            "bar_style": "success",
            "max": 9143613,
            "_view_module": "@jupyter-widgets/controls",
            "_model_module_version": "1.5.0",
            "value": 9143613,
            "_view_count": null,
            "_view_module_version": "1.5.0",
            "orientation": "horizontal",
            "min": 0,
            "description_tooltip": null,
            "_model_module": "@jupyter-widgets/controls",
            "layout": "IPY_MODEL_b975a3e6931d482a9e20be93b1034399"
          }
        },
        "c33add0554394d4fb3b63bec5a3470d7": {
          "model_module": "@jupyter-widgets/controls",
          "model_name": "HTMLModel",
          "state": {
            "_view_name": "HTMLView",
            "style": "IPY_MODEL_75446cbdc13c4d88882f6f0975b87831",
            "_dom_classes": [],
            "description": "",
            "_model_name": "HTMLModel",
            "placeholder": "​",
            "_view_module": "@jupyter-widgets/controls",
            "_model_module_version": "1.5.0",
            "value": " 9.14M/9.14M [00:01&lt;00:00, 4.71MB/s]",
            "_view_count": null,
            "_view_module_version": "1.5.0",
            "description_tooltip": null,
            "_model_module": "@jupyter-widgets/controls",
            "layout": "IPY_MODEL_7db88f2ea89645c68ef8db1de867947c"
          }
        },
        "a5b881e705314415a4616f467bfc2827": {
          "model_module": "@jupyter-widgets/controls",
          "model_name": "ProgressStyleModel",
          "state": {
            "_view_name": "StyleView",
            "_model_name": "ProgressStyleModel",
            "description_width": "initial",
            "_view_module": "@jupyter-widgets/base",
            "_model_module_version": "1.5.0",
            "_view_count": null,
            "_view_module_version": "1.2.0",
            "bar_color": null,
            "_model_module": "@jupyter-widgets/controls"
          }
        },
        "b975a3e6931d482a9e20be93b1034399": {
          "model_module": "@jupyter-widgets/base",
          "model_name": "LayoutModel",
          "state": {
            "_view_name": "LayoutView",
            "grid_template_rows": null,
            "right": null,
            "justify_content": null,
            "_view_module": "@jupyter-widgets/base",
            "overflow": null,
            "_model_module_version": "1.2.0",
            "_view_count": null,
            "flex_flow": null,
            "width": null,
            "min_width": null,
            "border": null,
            "align_items": null,
            "bottom": null,
            "_model_module": "@jupyter-widgets/base",
            "top": null,
            "grid_column": null,
            "overflow_y": null,
            "overflow_x": null,
            "grid_auto_flow": null,
            "grid_area": null,
            "grid_template_columns": null,
            "flex": null,
            "_model_name": "LayoutModel",
            "justify_items": null,
            "grid_row": null,
            "max_height": null,
            "align_content": null,
            "visibility": null,
            "align_self": null,
            "height": null,
            "min_height": null,
            "padding": null,
            "grid_auto_rows": null,
            "grid_gap": null,
            "max_width": null,
            "order": null,
            "_view_module_version": "1.2.0",
            "grid_template_areas": null,
            "object_position": null,
            "object_fit": null,
            "grid_auto_columns": null,
            "margin": null,
            "display": null,
            "left": null
          }
        },
        "75446cbdc13c4d88882f6f0975b87831": {
          "model_module": "@jupyter-widgets/controls",
          "model_name": "DescriptionStyleModel",
          "state": {
            "_view_name": "StyleView",
            "_model_name": "DescriptionStyleModel",
            "description_width": "",
            "_view_module": "@jupyter-widgets/base",
            "_model_module_version": "1.5.0",
            "_view_count": null,
            "_view_module_version": "1.2.0",
            "_model_module": "@jupyter-widgets/controls"
          }
        },
        "7db88f2ea89645c68ef8db1de867947c": {
          "model_module": "@jupyter-widgets/base",
          "model_name": "LayoutModel",
          "state": {
            "_view_name": "LayoutView",
            "grid_template_rows": null,
            "right": null,
            "justify_content": null,
            "_view_module": "@jupyter-widgets/base",
            "overflow": null,
            "_model_module_version": "1.2.0",
            "_view_count": null,
            "flex_flow": null,
            "width": null,
            "min_width": null,
            "border": null,
            "align_items": null,
            "bottom": null,
            "_model_module": "@jupyter-widgets/base",
            "top": null,
            "grid_column": null,
            "overflow_y": null,
            "overflow_x": null,
            "grid_auto_flow": null,
            "grid_area": null,
            "grid_template_columns": null,
            "flex": null,
            "_model_name": "LayoutModel",
            "justify_items": null,
            "grid_row": null,
            "max_height": null,
            "align_content": null,
            "visibility": null,
            "align_self": null,
            "height": null,
            "min_height": null,
            "padding": null,
            "grid_auto_rows": null,
            "grid_gap": null,
            "max_width": null,
            "order": null,
            "_view_module_version": "1.2.0",
            "grid_template_areas": null,
            "object_position": null,
            "object_fit": null,
            "grid_auto_columns": null,
            "margin": null,
            "display": null,
            "left": null
          }
        },
        "2d865b87ca3d4ff68f140a81cf6a2821": {
          "model_module": "@jupyter-widgets/controls",
          "model_name": "HBoxModel",
          "state": {
            "_view_name": "HBoxView",
            "_dom_classes": [],
            "_model_name": "HBoxModel",
            "_view_module": "@jupyter-widgets/controls",
            "_model_module_version": "1.5.0",
            "_view_count": null,
            "_view_module_version": "1.5.0",
            "box_style": "",
            "layout": "IPY_MODEL_36efb3ab67cb4c0492e6dc2b257c83a3",
            "_model_module": "@jupyter-widgets/controls",
            "children": [
              "IPY_MODEL_e4bd85907bec4ba982542c371753ee31",
              "IPY_MODEL_9e7fd009d581488d893fc8b921d0cfd3"
            ]
          }
        },
        "36efb3ab67cb4c0492e6dc2b257c83a3": {
          "model_module": "@jupyter-widgets/base",
          "model_name": "LayoutModel",
          "state": {
            "_view_name": "LayoutView",
            "grid_template_rows": null,
            "right": null,
            "justify_content": null,
            "_view_module": "@jupyter-widgets/base",
            "overflow": null,
            "_model_module_version": "1.2.0",
            "_view_count": null,
            "flex_flow": null,
            "width": null,
            "min_width": null,
            "border": null,
            "align_items": null,
            "bottom": null,
            "_model_module": "@jupyter-widgets/base",
            "top": null,
            "grid_column": null,
            "overflow_y": null,
            "overflow_x": null,
            "grid_auto_flow": null,
            "grid_area": null,
            "grid_template_columns": null,
            "flex": null,
            "_model_name": "LayoutModel",
            "justify_items": null,
            "grid_row": null,
            "max_height": null,
            "align_content": null,
            "visibility": null,
            "align_self": null,
            "height": null,
            "min_height": null,
            "padding": null,
            "grid_auto_rows": null,
            "grid_gap": null,
            "max_width": null,
            "order": null,
            "_view_module_version": "1.2.0",
            "grid_template_areas": null,
            "object_position": null,
            "object_fit": null,
            "grid_auto_columns": null,
            "margin": null,
            "display": null,
            "left": null
          }
        },
        "e4bd85907bec4ba982542c371753ee31": {
          "model_module": "@jupyter-widgets/controls",
          "model_name": "FloatProgressModel",
          "state": {
            "_view_name": "ProgressView",
            "style": "IPY_MODEL_88d3cb11bbe64cfe8512f2ff1828a430",
            "_dom_classes": [],
            "description": "Downloading: 100%",
            "_model_name": "FloatProgressModel",
            "bar_style": "success",
            "max": 856,
            "_view_module": "@jupyter-widgets/controls",
            "_model_module_version": "1.5.0",
            "value": 856,
            "_view_count": null,
            "_view_module_version": "1.5.0",
            "orientation": "horizontal",
            "min": 0,
            "description_tooltip": null,
            "_model_module": "@jupyter-widgets/controls",
            "layout": "IPY_MODEL_d2a3a34f689e4036ae37ce1a597e9585"
          }
        },
        "9e7fd009d581488d893fc8b921d0cfd3": {
          "model_module": "@jupyter-widgets/controls",
          "model_name": "HTMLModel",
          "state": {
            "_view_name": "HTMLView",
            "style": "IPY_MODEL_b3ca4f6d30064057a06a5105abf8ffa1",
            "_dom_classes": [],
            "description": "",
            "_model_name": "HTMLModel",
            "placeholder": "​",
            "_view_module": "@jupyter-widgets/controls",
            "_model_module_version": "1.5.0",
            "value": " 856/856 [00:29&lt;00:00, 28.9B/s]",
            "_view_count": null,
            "_view_module_version": "1.5.0",
            "description_tooltip": null,
            "_model_module": "@jupyter-widgets/controls",
            "layout": "IPY_MODEL_f1b8340440634c068711b83e2e372f41"
          }
        },
        "88d3cb11bbe64cfe8512f2ff1828a430": {
          "model_module": "@jupyter-widgets/controls",
          "model_name": "ProgressStyleModel",
          "state": {
            "_view_name": "StyleView",
            "_model_name": "ProgressStyleModel",
            "description_width": "initial",
            "_view_module": "@jupyter-widgets/base",
            "_model_module_version": "1.5.0",
            "_view_count": null,
            "_view_module_version": "1.2.0",
            "bar_color": null,
            "_model_module": "@jupyter-widgets/controls"
          }
        },
        "d2a3a34f689e4036ae37ce1a597e9585": {
          "model_module": "@jupyter-widgets/base",
          "model_name": "LayoutModel",
          "state": {
            "_view_name": "LayoutView",
            "grid_template_rows": null,
            "right": null,
            "justify_content": null,
            "_view_module": "@jupyter-widgets/base",
            "overflow": null,
            "_model_module_version": "1.2.0",
            "_view_count": null,
            "flex_flow": null,
            "width": null,
            "min_width": null,
            "border": null,
            "align_items": null,
            "bottom": null,
            "_model_module": "@jupyter-widgets/base",
            "top": null,
            "grid_column": null,
            "overflow_y": null,
            "overflow_x": null,
            "grid_auto_flow": null,
            "grid_area": null,
            "grid_template_columns": null,
            "flex": null,
            "_model_name": "LayoutModel",
            "justify_items": null,
            "grid_row": null,
            "max_height": null,
            "align_content": null,
            "visibility": null,
            "align_self": null,
            "height": null,
            "min_height": null,
            "padding": null,
            "grid_auto_rows": null,
            "grid_gap": null,
            "max_width": null,
            "order": null,
            "_view_module_version": "1.2.0",
            "grid_template_areas": null,
            "object_position": null,
            "object_fit": null,
            "grid_auto_columns": null,
            "margin": null,
            "display": null,
            "left": null
          }
        },
        "b3ca4f6d30064057a06a5105abf8ffa1": {
          "model_module": "@jupyter-widgets/controls",
          "model_name": "DescriptionStyleModel",
          "state": {
            "_view_name": "StyleView",
            "_model_name": "DescriptionStyleModel",
            "description_width": "",
            "_view_module": "@jupyter-widgets/base",
            "_model_module_version": "1.5.0",
            "_view_count": null,
            "_view_module_version": "1.2.0",
            "_model_module": "@jupyter-widgets/controls"
          }
        },
        "f1b8340440634c068711b83e2e372f41": {
          "model_module": "@jupyter-widgets/base",
          "model_name": "LayoutModel",
          "state": {
            "_view_name": "LayoutView",
            "grid_template_rows": null,
            "right": null,
            "justify_content": null,
            "_view_module": "@jupyter-widgets/base",
            "overflow": null,
            "_model_module_version": "1.2.0",
            "_view_count": null,
            "flex_flow": null,
            "width": null,
            "min_width": null,
            "border": null,
            "align_items": null,
            "bottom": null,
            "_model_module": "@jupyter-widgets/base",
            "top": null,
            "grid_column": null,
            "overflow_y": null,
            "overflow_x": null,
            "grid_auto_flow": null,
            "grid_area": null,
            "grid_template_columns": null,
            "flex": null,
            "_model_name": "LayoutModel",
            "justify_items": null,
            "grid_row": null,
            "max_height": null,
            "align_content": null,
            "visibility": null,
            "align_self": null,
            "height": null,
            "min_height": null,
            "padding": null,
            "grid_auto_rows": null,
            "grid_gap": null,
            "max_width": null,
            "order": null,
            "_view_module_version": "1.2.0",
            "grid_template_areas": null,
            "object_position": null,
            "object_fit": null,
            "grid_auto_columns": null,
            "margin": null,
            "display": null,
            "left": null
          }
        },
        "fe818277c51f4da186afc9e3a42e41f5": {
          "model_module": "@jupyter-widgets/controls",
          "model_name": "HBoxModel",
          "state": {
            "_view_name": "HBoxView",
            "_dom_classes": [],
            "_model_name": "HBoxModel",
            "_view_module": "@jupyter-widgets/controls",
            "_model_module_version": "1.5.0",
            "_view_count": null,
            "_view_module_version": "1.5.0",
            "box_style": "",
            "layout": "IPY_MODEL_8414154c104446d0b5ae47c497f1a701",
            "_model_module": "@jupyter-widgets/controls",
            "children": [
              "IPY_MODEL_c4aff07b6b2c441a95b1ff9a229f26e5",
              "IPY_MODEL_712d6a65ca1c4e1f885bfaa57854b985"
            ]
          }
        },
        "8414154c104446d0b5ae47c497f1a701": {
          "model_module": "@jupyter-widgets/base",
          "model_name": "LayoutModel",
          "state": {
            "_view_name": "LayoutView",
            "grid_template_rows": null,
            "right": null,
            "justify_content": null,
            "_view_module": "@jupyter-widgets/base",
            "overflow": null,
            "_model_module_version": "1.2.0",
            "_view_count": null,
            "flex_flow": null,
            "width": null,
            "min_width": null,
            "border": null,
            "align_items": null,
            "bottom": null,
            "_model_module": "@jupyter-widgets/base",
            "top": null,
            "grid_column": null,
            "overflow_y": null,
            "overflow_x": null,
            "grid_auto_flow": null,
            "grid_area": null,
            "grid_template_columns": null,
            "flex": null,
            "_model_name": "LayoutModel",
            "justify_items": null,
            "grid_row": null,
            "max_height": null,
            "align_content": null,
            "visibility": null,
            "align_self": null,
            "height": null,
            "min_height": null,
            "padding": null,
            "grid_auto_rows": null,
            "grid_gap": null,
            "max_width": null,
            "order": null,
            "_view_module_version": "1.2.0",
            "grid_template_areas": null,
            "object_position": null,
            "object_fit": null,
            "grid_auto_columns": null,
            "margin": null,
            "display": null,
            "left": null
          }
        },
        "c4aff07b6b2c441a95b1ff9a229f26e5": {
          "model_module": "@jupyter-widgets/controls",
          "model_name": "FloatProgressModel",
          "state": {
            "_view_name": "ProgressView",
            "style": "IPY_MODEL_e659096c327e4a67b20118eff8f05539",
            "_dom_classes": [],
            "description": "Downloading: 100%",
            "_model_name": "FloatProgressModel",
            "bar_style": "success",
            "max": 1290191976,
            "_view_module": "@jupyter-widgets/controls",
            "_model_module_version": "1.5.0",
            "value": 1290191976,
            "_view_count": null,
            "_view_module_version": "1.5.0",
            "orientation": "horizontal",
            "min": 0,
            "description_tooltip": null,
            "_model_module": "@jupyter-widgets/controls",
            "layout": "IPY_MODEL_ef6d56f331ec412e8894f483f71b0ee1"
          }
        },
        "712d6a65ca1c4e1f885bfaa57854b985": {
          "model_module": "@jupyter-widgets/controls",
          "model_name": "HTMLModel",
          "state": {
            "_view_name": "HTMLView",
            "style": "IPY_MODEL_9c39c97f22e14458b4b8a4a972853e9d",
            "_dom_classes": [],
            "description": "",
            "_model_name": "HTMLModel",
            "placeholder": "​",
            "_view_module": "@jupyter-widgets/controls",
            "_model_module_version": "1.5.0",
            "value": " 1.29G/1.29G [00:28&lt;00:00, 44.8MB/s]",
            "_view_count": null,
            "_view_module_version": "1.5.0",
            "description_tooltip": null,
            "_model_module": "@jupyter-widgets/controls",
            "layout": "IPY_MODEL_7f27a8011ce749dd9c31cbeecb09f9d2"
          }
        },
        "e659096c327e4a67b20118eff8f05539": {
          "model_module": "@jupyter-widgets/controls",
          "model_name": "ProgressStyleModel",
          "state": {
            "_view_name": "StyleView",
            "_model_name": "ProgressStyleModel",
            "description_width": "initial",
            "_view_module": "@jupyter-widgets/base",
            "_model_module_version": "1.5.0",
            "_view_count": null,
            "_view_module_version": "1.2.0",
            "bar_color": null,
            "_model_module": "@jupyter-widgets/controls"
          }
        },
        "ef6d56f331ec412e8894f483f71b0ee1": {
          "model_module": "@jupyter-widgets/base",
          "model_name": "LayoutModel",
          "state": {
            "_view_name": "LayoutView",
            "grid_template_rows": null,
            "right": null,
            "justify_content": null,
            "_view_module": "@jupyter-widgets/base",
            "overflow": null,
            "_model_module_version": "1.2.0",
            "_view_count": null,
            "flex_flow": null,
            "width": null,
            "min_width": null,
            "border": null,
            "align_items": null,
            "bottom": null,
            "_model_module": "@jupyter-widgets/base",
            "top": null,
            "grid_column": null,
            "overflow_y": null,
            "overflow_x": null,
            "grid_auto_flow": null,
            "grid_area": null,
            "grid_template_columns": null,
            "flex": null,
            "_model_name": "LayoutModel",
            "justify_items": null,
            "grid_row": null,
            "max_height": null,
            "align_content": null,
            "visibility": null,
            "align_self": null,
            "height": null,
            "min_height": null,
            "padding": null,
            "grid_auto_rows": null,
            "grid_gap": null,
            "max_width": null,
            "order": null,
            "_view_module_version": "1.2.0",
            "grid_template_areas": null,
            "object_position": null,
            "object_fit": null,
            "grid_auto_columns": null,
            "margin": null,
            "display": null,
            "left": null
          }
        },
        "9c39c97f22e14458b4b8a4a972853e9d": {
          "model_module": "@jupyter-widgets/controls",
          "model_name": "DescriptionStyleModel",
          "state": {
            "_view_name": "StyleView",
            "_model_name": "DescriptionStyleModel",
            "description_width": "",
            "_view_module": "@jupyter-widgets/base",
            "_model_module_version": "1.5.0",
            "_view_count": null,
            "_view_module_version": "1.2.0",
            "_model_module": "@jupyter-widgets/controls"
          }
        },
        "7f27a8011ce749dd9c31cbeecb09f9d2": {
          "model_module": "@jupyter-widgets/base",
          "model_name": "LayoutModel",
          "state": {
            "_view_name": "LayoutView",
            "grid_template_rows": null,
            "right": null,
            "justify_content": null,
            "_view_module": "@jupyter-widgets/base",
            "overflow": null,
            "_model_module_version": "1.2.0",
            "_view_count": null,
            "flex_flow": null,
            "width": null,
            "min_width": null,
            "border": null,
            "align_items": null,
            "bottom": null,
            "_model_module": "@jupyter-widgets/base",
            "top": null,
            "grid_column": null,
            "overflow_y": null,
            "overflow_x": null,
            "grid_auto_flow": null,
            "grid_area": null,
            "grid_template_columns": null,
            "flex": null,
            "_model_name": "LayoutModel",
            "justify_items": null,
            "grid_row": null,
            "max_height": null,
            "align_content": null,
            "visibility": null,
            "align_self": null,
            "height": null,
            "min_height": null,
            "padding": null,
            "grid_auto_rows": null,
            "grid_gap": null,
            "max_width": null,
            "order": null,
            "_view_module_version": "1.2.0",
            "grid_template_areas": null,
            "object_position": null,
            "object_fit": null,
            "grid_auto_columns": null,
            "margin": null,
            "display": null,
            "left": null
          }
        }
      }
    }
  },
  "cells": [
    {
      "cell_type": "markdown",
      "metadata": {
        "id": "KMBwyni7ZGMM",
        "colab_type": "text"
      },
      "source": [
        "##### Installation"
      ]
    },
    {
      "cell_type": "code",
      "metadata": {
        "id": "RRKZg1tJ-Y0D",
        "colab_type": "code",
        "colab": {
          "base_uri": "https://localhost:8080/",
          "height": 1000
        },
        "outputId": "eb3cfdd0-f6a1-4f5e-fb6e-9bcbc8bb1381"
      },
      "source": [
        "!pip install torch\n",
        "!pip install tensorflow\n",
        "!pip install tensorflow-datasets\n",
        "!pip install transformers\n",
        "\n",
        "# for tracking and visualising training in web browser\n",
        "!pip install wandb\n",
        "!wandb login 20983d37439737ea3e750cd826d32f9ed826c1dc"
      ],
      "execution_count": 4,
      "outputs": [
        {
          "output_type": "stream",
          "text": [
            "Requirement already satisfied: torch in /usr/local/lib/python3.6/dist-packages (1.5.1+cu101)\n",
            "Requirement already satisfied: numpy in /usr/local/lib/python3.6/dist-packages (from torch) (1.18.5)\n",
            "Requirement already satisfied: future in /usr/local/lib/python3.6/dist-packages (from torch) (0.16.0)\n",
            "Requirement already satisfied: tensorflow in /usr/local/lib/python3.6/dist-packages (2.2.0)\n",
            "Requirement already satisfied: grpcio>=1.8.6 in /usr/local/lib/python3.6/dist-packages (from tensorflow) (1.30.0)\n",
            "Requirement already satisfied: opt-einsum>=2.3.2 in /usr/local/lib/python3.6/dist-packages (from tensorflow) (3.2.1)\n",
            "Requirement already satisfied: tensorboard<2.3.0,>=2.2.0 in /usr/local/lib/python3.6/dist-packages (from tensorflow) (2.2.2)\n",
            "Requirement already satisfied: tensorflow-estimator<2.3.0,>=2.2.0 in /usr/local/lib/python3.6/dist-packages (from tensorflow) (2.2.0)\n",
            "Requirement already satisfied: termcolor>=1.1.0 in /usr/local/lib/python3.6/dist-packages (from tensorflow) (1.1.0)\n",
            "Requirement already satisfied: wrapt>=1.11.1 in /usr/local/lib/python3.6/dist-packages (from tensorflow) (1.12.1)\n",
            "Requirement already satisfied: numpy<2.0,>=1.16.0 in /usr/local/lib/python3.6/dist-packages (from tensorflow) (1.18.5)\n",
            "Requirement already satisfied: gast==0.3.3 in /usr/local/lib/python3.6/dist-packages (from tensorflow) (0.3.3)\n",
            "Requirement already satisfied: astunparse==1.6.3 in /usr/local/lib/python3.6/dist-packages (from tensorflow) (1.6.3)\n",
            "Requirement already satisfied: wheel>=0.26; python_version >= \"3\" in /usr/local/lib/python3.6/dist-packages (from tensorflow) (0.34.2)\n",
            "Requirement already satisfied: protobuf>=3.8.0 in /usr/local/lib/python3.6/dist-packages (from tensorflow) (3.10.0)\n",
            "Requirement already satisfied: six>=1.12.0 in /usr/local/lib/python3.6/dist-packages (from tensorflow) (1.12.0)\n",
            "Requirement already satisfied: scipy==1.4.1; python_version >= \"3\" in /usr/local/lib/python3.6/dist-packages (from tensorflow) (1.4.1)\n",
            "Requirement already satisfied: keras-preprocessing>=1.1.0 in /usr/local/lib/python3.6/dist-packages (from tensorflow) (1.1.2)\n",
            "Requirement already satisfied: google-pasta>=0.1.8 in /usr/local/lib/python3.6/dist-packages (from tensorflow) (0.2.0)\n",
            "Requirement already satisfied: absl-py>=0.7.0 in /usr/local/lib/python3.6/dist-packages (from tensorflow) (0.9.0)\n",
            "Requirement already satisfied: h5py<2.11.0,>=2.10.0 in /usr/local/lib/python3.6/dist-packages (from tensorflow) (2.10.0)\n",
            "Requirement already satisfied: werkzeug>=0.11.15 in /usr/local/lib/python3.6/dist-packages (from tensorboard<2.3.0,>=2.2.0->tensorflow) (1.0.1)\n",
            "Requirement already satisfied: google-auth-oauthlib<0.5,>=0.4.1 in /usr/local/lib/python3.6/dist-packages (from tensorboard<2.3.0,>=2.2.0->tensorflow) (0.4.1)\n",
            "Requirement already satisfied: requests<3,>=2.21.0 in /usr/local/lib/python3.6/dist-packages (from tensorboard<2.3.0,>=2.2.0->tensorflow) (2.23.0)\n",
            "Requirement already satisfied: google-auth<2,>=1.6.3 in /usr/local/lib/python3.6/dist-packages (from tensorboard<2.3.0,>=2.2.0->tensorflow) (1.17.2)\n",
            "Requirement already satisfied: tensorboard-plugin-wit>=1.6.0 in /usr/local/lib/python3.6/dist-packages (from tensorboard<2.3.0,>=2.2.0->tensorflow) (1.6.0.post3)\n",
            "Requirement already satisfied: setuptools>=41.0.0 in /usr/local/lib/python3.6/dist-packages (from tensorboard<2.3.0,>=2.2.0->tensorflow) (47.3.1)\n",
            "Requirement already satisfied: markdown>=2.6.8 in /usr/local/lib/python3.6/dist-packages (from tensorboard<2.3.0,>=2.2.0->tensorflow) (3.2.2)\n",
            "Requirement already satisfied: requests-oauthlib>=0.7.0 in /usr/local/lib/python3.6/dist-packages (from google-auth-oauthlib<0.5,>=0.4.1->tensorboard<2.3.0,>=2.2.0->tensorflow) (1.3.0)\n",
            "Requirement already satisfied: chardet<4,>=3.0.2 in /usr/local/lib/python3.6/dist-packages (from requests<3,>=2.21.0->tensorboard<2.3.0,>=2.2.0->tensorflow) (3.0.4)\n",
            "Requirement already satisfied: certifi>=2017.4.17 in /usr/local/lib/python3.6/dist-packages (from requests<3,>=2.21.0->tensorboard<2.3.0,>=2.2.0->tensorflow) (2020.6.20)\n",
            "Requirement already satisfied: idna<3,>=2.5 in /usr/local/lib/python3.6/dist-packages (from requests<3,>=2.21.0->tensorboard<2.3.0,>=2.2.0->tensorflow) (2.9)\n",
            "Requirement already satisfied: urllib3!=1.25.0,!=1.25.1,<1.26,>=1.21.1 in /usr/local/lib/python3.6/dist-packages (from requests<3,>=2.21.0->tensorboard<2.3.0,>=2.2.0->tensorflow) (1.24.3)\n",
            "Requirement already satisfied: rsa<5,>=3.1.4; python_version >= \"3\" in /usr/local/lib/python3.6/dist-packages (from google-auth<2,>=1.6.3->tensorboard<2.3.0,>=2.2.0->tensorflow) (4.6)\n",
            "Requirement already satisfied: cachetools<5.0,>=2.0.0 in /usr/local/lib/python3.6/dist-packages (from google-auth<2,>=1.6.3->tensorboard<2.3.0,>=2.2.0->tensorflow) (4.1.0)\n",
            "Requirement already satisfied: pyasn1-modules>=0.2.1 in /usr/local/lib/python3.6/dist-packages (from google-auth<2,>=1.6.3->tensorboard<2.3.0,>=2.2.0->tensorflow) (0.2.8)\n",
            "Requirement already satisfied: importlib-metadata; python_version < \"3.8\" in /usr/local/lib/python3.6/dist-packages (from markdown>=2.6.8->tensorboard<2.3.0,>=2.2.0->tensorflow) (1.6.1)\n",
            "Requirement already satisfied: oauthlib>=3.0.0 in /usr/local/lib/python3.6/dist-packages (from requests-oauthlib>=0.7.0->google-auth-oauthlib<0.5,>=0.4.1->tensorboard<2.3.0,>=2.2.0->tensorflow) (3.1.0)\n",
            "Requirement already satisfied: pyasn1>=0.1.3 in /usr/local/lib/python3.6/dist-packages (from rsa<5,>=3.1.4; python_version >= \"3\"->google-auth<2,>=1.6.3->tensorboard<2.3.0,>=2.2.0->tensorflow) (0.4.8)\n",
            "Requirement already satisfied: zipp>=0.5 in /usr/local/lib/python3.6/dist-packages (from importlib-metadata; python_version < \"3.8\"->markdown>=2.6.8->tensorboard<2.3.0,>=2.2.0->tensorflow) (3.1.0)\n",
            "Requirement already satisfied: tensorflow-datasets in /usr/local/lib/python3.6/dist-packages (2.1.0)\n",
            "Requirement already satisfied: numpy in /usr/local/lib/python3.6/dist-packages (from tensorflow-datasets) (1.18.5)\n",
            "Requirement already satisfied: protobuf>=3.6.1 in /usr/local/lib/python3.6/dist-packages (from tensorflow-datasets) (3.10.0)\n",
            "Requirement already satisfied: absl-py in /usr/local/lib/python3.6/dist-packages (from tensorflow-datasets) (0.9.0)\n",
            "Requirement already satisfied: termcolor in /usr/local/lib/python3.6/dist-packages (from tensorflow-datasets) (1.1.0)\n",
            "Requirement already satisfied: future in /usr/local/lib/python3.6/dist-packages (from tensorflow-datasets) (0.16.0)\n",
            "Requirement already satisfied: dill in /usr/local/lib/python3.6/dist-packages (from tensorflow-datasets) (0.3.2)\n",
            "Requirement already satisfied: requests>=2.19.0 in /usr/local/lib/python3.6/dist-packages (from tensorflow-datasets) (2.23.0)\n",
            "Requirement already satisfied: tqdm in /usr/local/lib/python3.6/dist-packages (from tensorflow-datasets) (4.41.1)\n",
            "Requirement already satisfied: wrapt in /usr/local/lib/python3.6/dist-packages (from tensorflow-datasets) (1.12.1)\n",
            "Requirement already satisfied: tensorflow-metadata in /usr/local/lib/python3.6/dist-packages (from tensorflow-datasets) (0.22.2)\n",
            "Requirement already satisfied: six in /usr/local/lib/python3.6/dist-packages (from tensorflow-datasets) (1.12.0)\n",
            "Requirement already satisfied: promise in /usr/local/lib/python3.6/dist-packages (from tensorflow-datasets) (2.3)\n",
            "Requirement already satisfied: attrs>=18.1.0 in /usr/local/lib/python3.6/dist-packages (from tensorflow-datasets) (19.3.0)\n",
            "Requirement already satisfied: setuptools in /usr/local/lib/python3.6/dist-packages (from protobuf>=3.6.1->tensorflow-datasets) (47.3.1)\n",
            "Requirement already satisfied: chardet<4,>=3.0.2 in /usr/local/lib/python3.6/dist-packages (from requests>=2.19.0->tensorflow-datasets) (3.0.4)\n",
            "Requirement already satisfied: urllib3!=1.25.0,!=1.25.1,<1.26,>=1.21.1 in /usr/local/lib/python3.6/dist-packages (from requests>=2.19.0->tensorflow-datasets) (1.24.3)\n",
            "Requirement already satisfied: idna<3,>=2.5 in /usr/local/lib/python3.6/dist-packages (from requests>=2.19.0->tensorflow-datasets) (2.9)\n",
            "Requirement already satisfied: certifi>=2017.4.17 in /usr/local/lib/python3.6/dist-packages (from requests>=2.19.0->tensorflow-datasets) (2020.6.20)\n",
            "Requirement already satisfied: googleapis-common-protos in /usr/local/lib/python3.6/dist-packages (from tensorflow-metadata->tensorflow-datasets) (1.52.0)\n",
            "Collecting transformers\n",
            "\u001b[?25l  Downloading https://files.pythonhosted.org/packages/48/35/ad2c5b1b8f99feaaf9d7cdadaeef261f098c6e1a6a2935d4d07662a6b780/transformers-2.11.0-py3-none-any.whl (674kB)\n",
            "\u001b[K     |████████████████████████████████| 675kB 7.3MB/s \n",
            "\u001b[?25hRequirement already satisfied: numpy in /usr/local/lib/python3.6/dist-packages (from transformers) (1.18.5)\n",
            "Collecting sentencepiece\n",
            "\u001b[?25l  Downloading https://files.pythonhosted.org/packages/d4/a4/d0a884c4300004a78cca907a6ff9a5e9fe4f090f5d95ab341c53d28cbc58/sentencepiece-0.1.91-cp36-cp36m-manylinux1_x86_64.whl (1.1MB)\n",
            "\u001b[K     |████████████████████████████████| 1.1MB 18.6MB/s \n",
            "\u001b[?25hRequirement already satisfied: packaging in /usr/local/lib/python3.6/dist-packages (from transformers) (20.4)\n",
            "Collecting tokenizers==0.7.0\n",
            "\u001b[?25l  Downloading https://files.pythonhosted.org/packages/14/e5/a26eb4716523808bb0a799fcfdceb6ebf77a18169d9591b2f46a9adb87d9/tokenizers-0.7.0-cp36-cp36m-manylinux1_x86_64.whl (3.8MB)\n",
            "\u001b[K     |████████████████████████████████| 3.8MB 38.6MB/s \n",
            "\u001b[?25hCollecting sacremoses\n",
            "\u001b[?25l  Downloading https://files.pythonhosted.org/packages/7d/34/09d19aff26edcc8eb2a01bed8e98f13a1537005d31e95233fd48216eed10/sacremoses-0.0.43.tar.gz (883kB)\n",
            "\u001b[K     |████████████████████████████████| 890kB 28.7MB/s \n",
            "\u001b[?25hRequirement already satisfied: regex!=2019.12.17 in /usr/local/lib/python3.6/dist-packages (from transformers) (2019.12.20)\n",
            "Requirement already satisfied: filelock in /usr/local/lib/python3.6/dist-packages (from transformers) (3.0.12)\n",
            "Requirement already satisfied: tqdm>=4.27 in /usr/local/lib/python3.6/dist-packages (from transformers) (4.41.1)\n",
            "Requirement already satisfied: requests in /usr/local/lib/python3.6/dist-packages (from transformers) (2.23.0)\n",
            "Requirement already satisfied: dataclasses; python_version < \"3.7\" in /usr/local/lib/python3.6/dist-packages (from transformers) (0.7)\n",
            "Requirement already satisfied: six in /usr/local/lib/python3.6/dist-packages (from packaging->transformers) (1.12.0)\n",
            "Requirement already satisfied: pyparsing>=2.0.2 in /usr/local/lib/python3.6/dist-packages (from packaging->transformers) (2.4.7)\n",
            "Requirement already satisfied: click in /usr/local/lib/python3.6/dist-packages (from sacremoses->transformers) (7.1.2)\n",
            "Requirement already satisfied: joblib in /usr/local/lib/python3.6/dist-packages (from sacremoses->transformers) (0.15.1)\n",
            "Requirement already satisfied: certifi>=2017.4.17 in /usr/local/lib/python3.6/dist-packages (from requests->transformers) (2020.6.20)\n",
            "Requirement already satisfied: chardet<4,>=3.0.2 in /usr/local/lib/python3.6/dist-packages (from requests->transformers) (3.0.4)\n",
            "Requirement already satisfied: urllib3!=1.25.0,!=1.25.1,<1.26,>=1.21.1 in /usr/local/lib/python3.6/dist-packages (from requests->transformers) (1.24.3)\n",
            "Requirement already satisfied: idna<3,>=2.5 in /usr/local/lib/python3.6/dist-packages (from requests->transformers) (2.9)\n",
            "Building wheels for collected packages: sacremoses\n",
            "  Building wheel for sacremoses (setup.py) ... \u001b[?25l\u001b[?25hdone\n",
            "  Created wheel for sacremoses: filename=sacremoses-0.0.43-cp36-none-any.whl size=893260 sha256=16762286a397ab70d7ba405967b0b5615fd9b721ca42998856a179aa717aa74f\n",
            "  Stored in directory: /root/.cache/pip/wheels/29/3c/fd/7ce5c3f0666dab31a50123635e6fb5e19ceb42ce38d4e58f45\n",
            "Successfully built sacremoses\n",
            "Installing collected packages: sentencepiece, tokenizers, sacremoses, transformers\n",
            "Successfully installed sacremoses-0.0.43 sentencepiece-0.1.91 tokenizers-0.7.0 transformers-2.11.0\n",
            "Collecting wandb\n",
            "\u001b[?25l  Downloading https://files.pythonhosted.org/packages/4b/85/ee3bec131a1078f0450140abc6c3f17177e832109c44912dca2a82e9f7d9/wandb-0.9.1-py2.py3-none-any.whl (1.4MB)\n",
            "\u001b[K     |████████████████████████████████| 1.4MB 7.1MB/s \n",
            "\u001b[?25hCollecting gql==0.2.0\n",
            "  Downloading https://files.pythonhosted.org/packages/c4/6f/cf9a3056045518f06184e804bae89390eb706168349daa9dff8ac609962a/gql-0.2.0.tar.gz\n",
            "Requirement already satisfied: python-dateutil>=2.6.1 in /usr/local/lib/python3.6/dist-packages (from wandb) (2.8.1)\n",
            "Requirement already satisfied: nvidia-ml-py3>=7.352.0 in /usr/local/lib/python3.6/dist-packages (from wandb) (7.352.0)\n",
            "Requirement already satisfied: psutil>=5.0.0 in /usr/local/lib/python3.6/dist-packages (from wandb) (5.4.8)\n",
            "Collecting subprocess32>=3.5.3\n",
            "\u001b[?25l  Downloading https://files.pythonhosted.org/packages/32/c8/564be4d12629b912ea431f1a50eb8b3b9d00f1a0b1ceff17f266be190007/subprocess32-3.5.4.tar.gz (97kB)\n",
            "\u001b[K     |████████████████████████████████| 102kB 10.4MB/s \n",
            "\u001b[?25hCollecting watchdog>=0.8.3\n",
            "\u001b[?25l  Downloading https://files.pythonhosted.org/packages/0e/06/121302598a4fc01aca942d937f4a2c33430b7181137b35758913a8db10ad/watchdog-0.10.3.tar.gz (94kB)\n",
            "\u001b[K     |████████████████████████████████| 102kB 10.9MB/s \n",
            "\u001b[?25hRequirement already satisfied: requests>=2.0.0 in /usr/local/lib/python3.6/dist-packages (from wandb) (2.23.0)\n",
            "Requirement already satisfied: Click>=7.0 in /usr/local/lib/python3.6/dist-packages (from wandb) (7.1.2)\n",
            "Collecting sentry-sdk>=0.4.0\n",
            "\u001b[?25l  Downloading https://files.pythonhosted.org/packages/2f/6b/939519d77c95a9b2c85b771e9dccbf9e69cb90016c7cd63887c26400dd7a/sentry_sdk-0.15.1-py2.py3-none-any.whl (105kB)\n",
            "\u001b[K     |████████████████████████████████| 112kB 37.1MB/s \n",
            "\u001b[?25hCollecting shortuuid>=0.5.0\n",
            "  Downloading https://files.pythonhosted.org/packages/25/a6/2ecc1daa6a304e7f1b216f0896b26156b78e7c38e1211e9b798b4716c53d/shortuuid-1.0.1-py3-none-any.whl\n",
            "Requirement already satisfied: six>=1.10.0 in /usr/local/lib/python3.6/dist-packages (from wandb) (1.12.0)\n",
            "Collecting configparser>=3.8.1\n",
            "  Downloading https://files.pythonhosted.org/packages/4b/6b/01baa293090240cf0562cc5eccb69c6f5006282127f2b846fad011305c79/configparser-5.0.0-py3-none-any.whl\n",
            "Collecting GitPython>=1.0.0\n",
            "\u001b[?25l  Downloading https://files.pythonhosted.org/packages/8c/f9/c315aa88e51fabdc08e91b333cfefb255aff04a2ee96d632c32cb19180c9/GitPython-3.1.3-py3-none-any.whl (451kB)\n",
            "\u001b[K     |████████████████████████████████| 460kB 37.6MB/s \n",
            "\u001b[?25hCollecting docker-pycreds>=0.4.0\n",
            "  Downloading https://files.pythonhosted.org/packages/f5/e8/f6bd1eee09314e7e6dee49cbe2c5e22314ccdb38db16c9fc72d2fa80d054/docker_pycreds-0.4.0-py2.py3-none-any.whl\n",
            "Requirement already satisfied: PyYAML>=3.10 in /usr/local/lib/python3.6/dist-packages (from wandb) (3.13)\n",
            "Collecting graphql-core<2,>=0.5.0\n",
            "\u001b[?25l  Downloading https://files.pythonhosted.org/packages/b0/89/00ad5e07524d8c523b14d70c685e0299a8b0de6d0727e368c41b89b7ed0b/graphql-core-1.1.tar.gz (70kB)\n",
            "\u001b[K     |████████████████████████████████| 71kB 8.4MB/s \n",
            "\u001b[?25hRequirement already satisfied: promise<3,>=2.0 in /usr/local/lib/python3.6/dist-packages (from gql==0.2.0->wandb) (2.3)\n",
            "Collecting pathtools>=0.1.1\n",
            "  Downloading https://files.pythonhosted.org/packages/e7/7f/470d6fcdf23f9f3518f6b0b76be9df16dcc8630ad409947f8be2eb0ed13a/pathtools-0.1.2.tar.gz\n",
            "Requirement already satisfied: urllib3!=1.25.0,!=1.25.1,<1.26,>=1.21.1 in /usr/local/lib/python3.6/dist-packages (from requests>=2.0.0->wandb) (1.24.3)\n",
            "Requirement already satisfied: chardet<4,>=3.0.2 in /usr/local/lib/python3.6/dist-packages (from requests>=2.0.0->wandb) (3.0.4)\n",
            "Requirement already satisfied: idna<3,>=2.5 in /usr/local/lib/python3.6/dist-packages (from requests>=2.0.0->wandb) (2.9)\n",
            "Requirement already satisfied: certifi>=2017.4.17 in /usr/local/lib/python3.6/dist-packages (from requests>=2.0.0->wandb) (2020.6.20)\n",
            "Collecting gitdb<5,>=4.0.1\n",
            "\u001b[?25l  Downloading https://files.pythonhosted.org/packages/48/11/d1800bca0a3bae820b84b7d813ad1eff15a48a64caea9c823fc8c1b119e8/gitdb-4.0.5-py3-none-any.whl (63kB)\n",
            "\u001b[K     |████████████████████████████████| 71kB 8.6MB/s \n",
            "\u001b[?25hCollecting smmap<4,>=3.0.1\n",
            "  Downloading https://files.pythonhosted.org/packages/b0/9a/4d409a6234eb940e6a78dfdfc66156e7522262f5f2fecca07dc55915952d/smmap-3.0.4-py2.py3-none-any.whl\n",
            "Building wheels for collected packages: gql, subprocess32, watchdog, graphql-core, pathtools\n",
            "  Building wheel for gql (setup.py) ... \u001b[?25l\u001b[?25hdone\n",
            "  Created wheel for gql: filename=gql-0.2.0-cp36-none-any.whl size=7630 sha256=35cf16967207053a0d09b432cc20b1ba415f7077cac6e9dfd379862bf39accf4\n",
            "  Stored in directory: /root/.cache/pip/wheels/ce/0e/7b/58a8a5268655b3ad74feef5aa97946f0addafb3cbb6bd2da23\n",
            "  Building wheel for subprocess32 (setup.py) ... \u001b[?25l\u001b[?25hdone\n",
            "  Created wheel for subprocess32: filename=subprocess32-3.5.4-cp36-none-any.whl size=6489 sha256=4ed0c1b5eda599681c773359cd8a52cc6a6b9f94c605bfcdaa729da381f1f210\n",
            "  Stored in directory: /root/.cache/pip/wheels/68/39/1a/5e402bdfdf004af1786c8b853fd92f8c4a04f22aad179654d1\n",
            "  Building wheel for watchdog (setup.py) ... \u001b[?25l\u001b[?25hdone\n",
            "  Created wheel for watchdog: filename=watchdog-0.10.3-cp36-none-any.whl size=73870 sha256=f80831ceaa7b3b6a6b3f1e4705b5ad6061a9258e251a8040c88eb965bb9f8648\n",
            "  Stored in directory: /root/.cache/pip/wheels/a8/1d/38/2c19bb311f67cc7b4d07a2ec5ea36ab1a0a0ea50db994a5bc7\n",
            "  Building wheel for graphql-core (setup.py) ... \u001b[?25l\u001b[?25hdone\n",
            "  Created wheel for graphql-core: filename=graphql_core-1.1-cp36-none-any.whl size=104650 sha256=46a55ba764094836d7e6f06f337367ce50b443cf576b39abd8bbe4fa141f6048\n",
            "  Stored in directory: /root/.cache/pip/wheels/45/99/d7/c424029bb0fe910c63b68dbf2aa20d3283d023042521bcd7d5\n",
            "  Building wheel for pathtools (setup.py) ... \u001b[?25l\u001b[?25hdone\n",
            "  Created wheel for pathtools: filename=pathtools-0.1.2-cp36-none-any.whl size=8784 sha256=f113afbfd1d611a3b37df329c82229c83dd2607b7440d94cf355d64aa74b00b2\n",
            "  Stored in directory: /root/.cache/pip/wheels/0b/04/79/c3b0c3a0266a3cb4376da31e5bfe8bba0c489246968a68e843\n",
            "Successfully built gql subprocess32 watchdog graphql-core pathtools\n",
            "Installing collected packages: graphql-core, gql, subprocess32, pathtools, watchdog, sentry-sdk, shortuuid, configparser, smmap, gitdb, GitPython, docker-pycreds, wandb\n",
            "Successfully installed GitPython-3.1.3 configparser-5.0.0 docker-pycreds-0.4.0 gitdb-4.0.5 gql-0.2.0 graphql-core-1.1 pathtools-0.1.2 sentry-sdk-0.15.1 shortuuid-1.0.1 smmap-3.0.4 subprocess32-3.5.4 wandb-0.9.1 watchdog-0.10.3\n",
            "\u001b[34m\u001b[1mwandb\u001b[0m: Appending key for api.wandb.ai to your netrc file: /root/.netrc\n",
            "\u001b[32mSuccessfully logged in to Weights & Biases!\u001b[0m\n"
          ],
          "name": "stdout"
        }
      ]
    },
    {
      "cell_type": "code",
      "metadata": {
        "id": "ng8HiXlgY1uZ",
        "colab_type": "code",
        "colab": {}
      },
      "source": [
        "%tensorflow_version 2.x\n",
        "from datetime import datetime\n",
        "from google.colab import files"
      ],
      "execution_count": 5,
      "outputs": []
    },
    {
      "cell_type": "code",
      "metadata": {
        "id": "k9sEKFu2Y2t7",
        "colab_type": "code",
        "colab": {
          "base_uri": "https://localhost:8080/",
          "height": 122
        },
        "outputId": "bb0177f6-ba52-4cc8-d337-7503df7fa051"
      },
      "source": [
        "from google.colab import drive\n",
        "drive.mount('/gdrive')"
      ],
      "execution_count": 6,
      "outputs": [
        {
          "output_type": "stream",
          "text": [
            "Go to this URL in a browser: https://accounts.google.com/o/oauth2/auth?client_id=947318989803-6bn6qk8qdgf4n4g3pfee6491hc0brc4i.apps.googleusercontent.com&redirect_uri=urn%3aietf%3awg%3aoauth%3a2.0%3aoob&response_type=code&scope=email%20https%3a%2f%2fwww.googleapis.com%2fauth%2fdocs.test%20https%3a%2f%2fwww.googleapis.com%2fauth%2fdrive%20https%3a%2f%2fwww.googleapis.com%2fauth%2fdrive.photos.readonly%20https%3a%2f%2fwww.googleapis.com%2fauth%2fpeopleapi.readonly\n",
            "\n",
            "Enter your authorization code:\n",
            "··········\n",
            "Mounted at /gdrive\n"
          ],
          "name": "stdout"
        }
      ]
    },
    {
      "cell_type": "code",
      "metadata": {
        "id": "4PueSBbkiqlU",
        "colab_type": "code",
        "colab": {}
      },
      "source": [
        "data_file_name = data_express_original.txt"
      ],
      "execution_count": null,
      "outputs": []
    },
    {
      "cell_type": "code",
      "metadata": {
        "id": "klP9K_m4Y58f",
        "colab_type": "code",
        "colab": {
          "base_uri": "https://localhost:8080/",
          "height": 34
        },
        "outputId": "0e79f017-fb50-45a0-9e15-c1f7e9f64b40"
      },
      "source": [
        "%mkdir /content/data\n",
        "%cp -av /gdrive/My\\ Drive/data/$data_file_name /content/data/"
      ],
      "execution_count": 7,
      "outputs": [
        {
          "output_type": "stream",
          "text": [
            "'/gdrive/My Drive/data/data_express_original.txt' -> '/content/data/data_express_original.txt'\n"
          ],
          "name": "stdout"
        }
      ]
    },
    {
      "cell_type": "code",
      "metadata": {
        "id": "DLLeDxqUY70U",
        "colab_type": "code",
        "colab": {
          "base_uri": "https://localhost:8080/",
          "height": 34
        },
        "outputId": "6e93d74e-3e5e-4164-9128-5104d5a08813"
      },
      "source": [
        "!ls"
      ],
      "execution_count": 8,
      "outputs": [
        {
          "output_type": "stream",
          "text": [
            "data  sample_data  wandb\n"
          ],
          "name": "stdout"
        }
      ]
    },
    {
      "cell_type": "code",
      "metadata": {
        "id": "8UZrNRC5Y-el",
        "colab_type": "code",
        "colab": {
          "base_uri": "https://localhost:8080/",
          "height": 357
        },
        "outputId": "1475568b-ef0e-4b7a-b495-3fc1fc73f730"
      },
      "source": [
        "!nvidia-smi"
      ],
      "execution_count": 9,
      "outputs": [
        {
          "output_type": "stream",
          "text": [
            "Sat Jun 27 02:11:52 2020       \n",
            "+-----------------------------------------------------------------------------+\n",
            "| NVIDIA-SMI 450.36.06    Driver Version: 418.67       CUDA Version: 10.1     |\n",
            "|-------------------------------+----------------------+----------------------+\n",
            "| GPU  Name        Persistence-M| Bus-Id        Disp.A | Volatile Uncorr. ECC |\n",
            "| Fan  Temp  Perf  Pwr:Usage/Cap|         Memory-Usage | GPU-Util  Compute M. |\n",
            "|                               |                      |               MIG M. |\n",
            "|===============================+======================+======================|\n",
            "|   0  Tesla P100-PCIE...  Off  | 00000000:00:04.0 Off |                    0 |\n",
            "| N/A   41C    P0    27W / 250W |      0MiB / 16280MiB |      0%      Default |\n",
            "|                               |                      |                 ERR! |\n",
            "+-------------------------------+----------------------+----------------------+\n",
            "                                                                               \n",
            "+-----------------------------------------------------------------------------+\n",
            "| Processes:                                                                  |\n",
            "|  GPU   GI   CI        PID   Type   Process name                  GPU Memory |\n",
            "|        ID   ID                                                   Usage      |\n",
            "|=============================================================================|\n",
            "|  No running processes found                                                 |\n",
            "+-----------------------------------------------------------------------------+\n"
          ],
          "name": "stdout"
        }
      ]
    },
    {
      "cell_type": "markdown",
      "metadata": {
        "id": "uHSfC8JGZA2P",
        "colab_type": "text"
      },
      "source": [
        "##### Training\n"
      ]
    },
    {
      "cell_type": "code",
      "metadata": {
        "id": "OuATfpWybbJP",
        "colab_type": "code",
        "colab": {
          "base_uri": "https://localhost:8080/",
          "height": 290
        },
        "outputId": "52c84cda-67ca-46e1-f3f5-8698e17fd853"
      },
      "source": [
        "import tensorflow as tf\n",
        "import tensorflow_datasets\n",
        "from transformers import *\n",
        "\n",
        "# Load dataset, tokenizer, model from pretrained model/vocabulary\n",
        "tokenizer = BertTokenizer.from_pretrained('bert-base-cased')\n",
        "model = TFBertForSequenceClassification.from_pretrained('bert-base-cased')\n",
        "data = tensorflow_datasets.load('glue/mrpc')\n",
        "\n",
        "# Prepare dataset for GLUE as a tf.data.Dataset instance\n",
        "train_dataset = glue_convert_examples_to_features(data['train'], tokenizer, max_length=128, task='mrpc')\n",
        "valid_dataset = glue_convert_examples_to_features(data['validation'], tokenizer, max_length=128, task='mrpc')\n",
        "train_dataset = train_dataset.shuffle(100).batch(32).repeat(2)\n",
        "valid_dataset = valid_dataset.batch(64)\n",
        "\n",
        "# Prepare training: Compile tf.keras model with optimizer, loss and learning rate schedule\n",
        "optimizer = tf.keras.optimizers.Adam(learning_rate=3e-5, epsilon=1e-08, clipnorm=1.0)\n",
        "loss = tf.keras.losses.SparseCategoricalCrossentropy(from_logits=True)\n",
        "metric = tf.keras.metrics.SparseCategoricalAccuracy('accuracy')\n",
        "model.compile(optimizer=optimizer, loss=loss, metrics=[metric])\n",
        "\n",
        "# Train and evaluate using tf.keras.Model.fit()\n",
        "history = model.fit(train_dataset, epochs=2, steps_per_epoch=115,\n",
        "                    validation_data=valid_dataset, validation_steps=7)\n",
        "\n",
        "# Load the TensorFlow model in PyTorch for inspection\n",
        "model.save_pretrained('./data/')\n",
        "pytorch_model = BertForSequenceClassification.from_pretrained('./data/', from_tf=True)\n",
        "\n",
        "# Quickly test a few predictions - MRPC is a paraphrasing task, let's see if our model learned the task\n",
        "sentence_0 = \"This research was consistent with his findings.\"\n",
        "sentence_1 = \"His findings were compatible with this research.\"\n",
        "sentence_2 = \"His findings were not compatible with this research.\"\n",
        "inputs_1 = tokenizer.encode_plus(sentence_0, sentence_1, add_special_tokens=True, return_tensors='pt')\n",
        "inputs_2 = tokenizer.encode_plus(sentence_0, sentence_2, add_special_tokens=True, return_tensors='pt')\n",
        "\n",
        "pred_1 = pytorch_model(inputs_1['input_ids'], token_type_ids=inputs_1['token_type_ids'])[0].argmax().item()\n",
        "pred_2 = pytorch_model(inputs_2['input_ids'], token_type_ids=inputs_2['token_type_ids'])[0].argmax().item()\n",
        "\n",
        "print(\"sentence_1 is\", \"a paraphrase\" if pred_1 else \"not a paraphrase\", \"of sentence_0\")\n",
        "print(\"sentence_2 is\", \"a paraphrase\" if pred_2 else \"not a paraphrase\", \"of sentence_0\")"
      ],
      "execution_count": 10,
      "outputs": [
        {
          "output_type": "error",
          "ename": "KeyboardInterrupt",
          "evalue": "ignored",
          "traceback": [
            "\u001b[0;31m---------------------------------------------------------------------------\u001b[0m",
            "\u001b[0;31mKeyboardInterrupt\u001b[0m                         Traceback (most recent call last)",
            "\u001b[0;32m<ipython-input-10-f114538a91cf>\u001b[0m in \u001b[0;36m<module>\u001b[0;34m()\u001b[0m\n\u001b[1;32m      1\u001b[0m \u001b[0;32mimport\u001b[0m \u001b[0mtensorflow\u001b[0m \u001b[0;32mas\u001b[0m \u001b[0mtf\u001b[0m\u001b[0;34m\u001b[0m\u001b[0;34m\u001b[0m\u001b[0m\n\u001b[1;32m      2\u001b[0m \u001b[0;32mimport\u001b[0m \u001b[0mtensorflow_datasets\u001b[0m\u001b[0;34m\u001b[0m\u001b[0;34m\u001b[0m\u001b[0m\n\u001b[0;32m----> 3\u001b[0;31m \u001b[0;32mfrom\u001b[0m \u001b[0mtransformers\u001b[0m \u001b[0;32mimport\u001b[0m \u001b[0;34m*\u001b[0m\u001b[0;34m\u001b[0m\u001b[0;34m\u001b[0m\u001b[0m\n\u001b[0m\u001b[1;32m      4\u001b[0m \u001b[0;34m\u001b[0m\u001b[0m\n\u001b[1;32m      5\u001b[0m \u001b[0;31m# Load dataset, tokenizer, model from pretrained model/vocabulary\u001b[0m\u001b[0;34m\u001b[0m\u001b[0;34m\u001b[0m\u001b[0;34m\u001b[0m\u001b[0m\n",
            "\u001b[0;32m/usr/local/lib/python3.6/dist-packages/transformers/__init__.py\u001b[0m in \u001b[0;36m<module>\u001b[0;34m()\u001b[0m\n\u001b[1;32m     44\u001b[0m \u001b[0;32mfrom\u001b[0m \u001b[0;34m.\u001b[0m\u001b[0mconfiguration_xlm_roberta\u001b[0m \u001b[0;32mimport\u001b[0m \u001b[0mXLM_ROBERTA_PRETRAINED_CONFIG_ARCHIVE_MAP\u001b[0m\u001b[0;34m,\u001b[0m \u001b[0mXLMRobertaConfig\u001b[0m\u001b[0;34m\u001b[0m\u001b[0;34m\u001b[0m\u001b[0m\n\u001b[1;32m     45\u001b[0m \u001b[0;32mfrom\u001b[0m \u001b[0;34m.\u001b[0m\u001b[0mconfiguration_xlnet\u001b[0m \u001b[0;32mimport\u001b[0m \u001b[0mXLNET_PRETRAINED_CONFIG_ARCHIVE_MAP\u001b[0m\u001b[0;34m,\u001b[0m \u001b[0mXLNetConfig\u001b[0m\u001b[0;34m\u001b[0m\u001b[0;34m\u001b[0m\u001b[0m\n\u001b[0;32m---> 46\u001b[0;31m from .data import (\n\u001b[0m\u001b[1;32m     47\u001b[0m     \u001b[0mDataProcessor\u001b[0m\u001b[0;34m,\u001b[0m\u001b[0;34m\u001b[0m\u001b[0;34m\u001b[0m\u001b[0m\n\u001b[1;32m     48\u001b[0m     \u001b[0mInputExample\u001b[0m\u001b[0;34m,\u001b[0m\u001b[0;34m\u001b[0m\u001b[0;34m\u001b[0m\u001b[0m\n",
            "\u001b[0;32m/usr/local/lib/python3.6/dist-packages/transformers/data/__init__.py\u001b[0m in \u001b[0;36m<module>\u001b[0;34m()\u001b[0m\n\u001b[1;32m      3\u001b[0m \u001b[0;31m# module, but to preserve other warnings. So, don't check this module at all.\u001b[0m\u001b[0;34m\u001b[0m\u001b[0;34m\u001b[0m\u001b[0;34m\u001b[0m\u001b[0m\n\u001b[1;32m      4\u001b[0m \u001b[0;34m\u001b[0m\u001b[0m\n\u001b[0;32m----> 5\u001b[0;31m \u001b[0;32mfrom\u001b[0m \u001b[0;34m.\u001b[0m\u001b[0mmetrics\u001b[0m \u001b[0;32mimport\u001b[0m \u001b[0mis_sklearn_available\u001b[0m\u001b[0;34m\u001b[0m\u001b[0;34m\u001b[0m\u001b[0m\n\u001b[0m\u001b[1;32m      6\u001b[0m from .processors import (\n\u001b[1;32m      7\u001b[0m     \u001b[0mDataProcessor\u001b[0m\u001b[0;34m,\u001b[0m\u001b[0;34m\u001b[0m\u001b[0;34m\u001b[0m\u001b[0m\n",
            "\u001b[0;32m/usr/local/lib/python3.6/dist-packages/transformers/data/metrics/__init__.py\u001b[0m in \u001b[0;36m<module>\u001b[0;34m()\u001b[0m\n\u001b[1;32m     17\u001b[0m \u001b[0;32mtry\u001b[0m\u001b[0;34m:\u001b[0m\u001b[0;34m\u001b[0m\u001b[0;34m\u001b[0m\u001b[0m\n\u001b[1;32m     18\u001b[0m     \u001b[0;32mfrom\u001b[0m \u001b[0mscipy\u001b[0m\u001b[0;34m.\u001b[0m\u001b[0mstats\u001b[0m \u001b[0;32mimport\u001b[0m \u001b[0mpearsonr\u001b[0m\u001b[0;34m,\u001b[0m \u001b[0mspearmanr\u001b[0m\u001b[0;34m\u001b[0m\u001b[0;34m\u001b[0m\u001b[0m\n\u001b[0;32m---> 19\u001b[0;31m     \u001b[0;32mfrom\u001b[0m \u001b[0msklearn\u001b[0m\u001b[0;34m.\u001b[0m\u001b[0mmetrics\u001b[0m \u001b[0;32mimport\u001b[0m \u001b[0mmatthews_corrcoef\u001b[0m\u001b[0;34m,\u001b[0m \u001b[0mf1_score\u001b[0m\u001b[0;34m\u001b[0m\u001b[0;34m\u001b[0m\u001b[0m\n\u001b[0m\u001b[1;32m     20\u001b[0m \u001b[0;34m\u001b[0m\u001b[0m\n\u001b[1;32m     21\u001b[0m     \u001b[0m_has_sklearn\u001b[0m \u001b[0;34m=\u001b[0m \u001b[0;32mTrue\u001b[0m\u001b[0;34m\u001b[0m\u001b[0;34m\u001b[0m\u001b[0m\n",
            "\u001b[0;32m/usr/local/lib/python3.6/dist-packages/sklearn/__init__.py\u001b[0m in \u001b[0;36m<module>\u001b[0;34m()\u001b[0m\n\u001b[1;32m     80\u001b[0m     \u001b[0;32mfrom\u001b[0m \u001b[0;34m.\u001b[0m \u001b[0;32mimport\u001b[0m \u001b[0m_distributor_init\u001b[0m  \u001b[0;31m# noqa: F401\u001b[0m\u001b[0;34m\u001b[0m\u001b[0;34m\u001b[0m\u001b[0m\n\u001b[1;32m     81\u001b[0m     \u001b[0;32mfrom\u001b[0m \u001b[0;34m.\u001b[0m \u001b[0;32mimport\u001b[0m \u001b[0m__check_build\u001b[0m  \u001b[0;31m# noqa: F401\u001b[0m\u001b[0;34m\u001b[0m\u001b[0;34m\u001b[0m\u001b[0m\n\u001b[0;32m---> 82\u001b[0;31m     \u001b[0;32mfrom\u001b[0m \u001b[0;34m.\u001b[0m\u001b[0mbase\u001b[0m \u001b[0;32mimport\u001b[0m \u001b[0mclone\u001b[0m\u001b[0;34m\u001b[0m\u001b[0;34m\u001b[0m\u001b[0m\n\u001b[0m\u001b[1;32m     83\u001b[0m     \u001b[0;32mfrom\u001b[0m \u001b[0;34m.\u001b[0m\u001b[0mutils\u001b[0m\u001b[0;34m.\u001b[0m\u001b[0m_show_versions\u001b[0m \u001b[0;32mimport\u001b[0m \u001b[0mshow_versions\u001b[0m\u001b[0;34m\u001b[0m\u001b[0;34m\u001b[0m\u001b[0m\n\u001b[1;32m     84\u001b[0m \u001b[0;34m\u001b[0m\u001b[0m\n",
            "\u001b[0;32m/usr/local/lib/python3.6/dist-packages/sklearn/base.py\u001b[0m in \u001b[0;36m<module>\u001b[0;34m()\u001b[0m\n\u001b[1;32m     18\u001b[0m \u001b[0;34m\u001b[0m\u001b[0m\n\u001b[1;32m     19\u001b[0m \u001b[0;32mfrom\u001b[0m \u001b[0;34m.\u001b[0m \u001b[0;32mimport\u001b[0m \u001b[0m__version__\u001b[0m\u001b[0;34m\u001b[0m\u001b[0;34m\u001b[0m\u001b[0m\n\u001b[0;32m---> 20\u001b[0;31m \u001b[0;32mfrom\u001b[0m \u001b[0;34m.\u001b[0m\u001b[0mutils\u001b[0m \u001b[0;32mimport\u001b[0m \u001b[0m_IS_32BIT\u001b[0m\u001b[0;34m\u001b[0m\u001b[0;34m\u001b[0m\u001b[0m\n\u001b[0m\u001b[1;32m     21\u001b[0m \u001b[0;34m\u001b[0m\u001b[0m\n\u001b[1;32m     22\u001b[0m _DEFAULT_TAGS = {\n",
            "\u001b[0;32m/usr/local/lib/python3.6/dist-packages/sklearn/utils/__init__.py\u001b[0m in \u001b[0;36m<module>\u001b[0;34m()\u001b[0m\n\u001b[1;32m     25\u001b[0m \u001b[0;32mfrom\u001b[0m \u001b[0;34m.\u001b[0m\u001b[0;34m.\u001b[0m\u001b[0mexceptions\u001b[0m \u001b[0;32mimport\u001b[0m \u001b[0mDataConversionWarning\u001b[0m\u001b[0;34m\u001b[0m\u001b[0;34m\u001b[0m\u001b[0m\n\u001b[1;32m     26\u001b[0m \u001b[0;32mfrom\u001b[0m \u001b[0;34m.\u001b[0m\u001b[0mdeprecation\u001b[0m \u001b[0;32mimport\u001b[0m \u001b[0mdeprecated\u001b[0m\u001b[0;34m\u001b[0m\u001b[0;34m\u001b[0m\u001b[0m\n\u001b[0;32m---> 27\u001b[0;31m \u001b[0;32mfrom\u001b[0m \u001b[0;34m.\u001b[0m\u001b[0mfixes\u001b[0m \u001b[0;32mimport\u001b[0m \u001b[0mnp_version\u001b[0m\u001b[0;34m\u001b[0m\u001b[0;34m\u001b[0m\u001b[0m\n\u001b[0m\u001b[1;32m     28\u001b[0m from .validation import (as_float_array,\n\u001b[1;32m     29\u001b[0m                          \u001b[0massert_all_finite\u001b[0m\u001b[0;34m,\u001b[0m\u001b[0;34m\u001b[0m\u001b[0;34m\u001b[0m\u001b[0m\n",
            "\u001b[0;32m/usr/local/lib/python3.6/dist-packages/sklearn/utils/fixes.py\u001b[0m in \u001b[0;36m<module>\u001b[0;34m()\u001b[0m\n\u001b[1;32m     50\u001b[0m     \u001b[0;31m# Preserves earlier default choice of pinvh cutoff `cond` value.\u001b[0m\u001b[0;34m\u001b[0m\u001b[0;34m\u001b[0m\u001b[0;34m\u001b[0m\u001b[0m\n\u001b[1;32m     51\u001b[0m     \u001b[0;31m# Can be removed once issue #14055 is fully addressed.\u001b[0m\u001b[0;34m\u001b[0m\u001b[0;34m\u001b[0m\u001b[0;34m\u001b[0m\u001b[0m\n\u001b[0;32m---> 52\u001b[0;31m     \u001b[0;32mfrom\u001b[0m \u001b[0;34m.\u001b[0m\u001b[0;34m.\u001b[0m\u001b[0mexternals\u001b[0m\u001b[0;34m.\u001b[0m\u001b[0m_scipy_linalg\u001b[0m \u001b[0;32mimport\u001b[0m \u001b[0mpinvh\u001b[0m\u001b[0;34m\u001b[0m\u001b[0;34m\u001b[0m\u001b[0m\n\u001b[0m\u001b[1;32m     53\u001b[0m \u001b[0;32melse\u001b[0m\u001b[0;34m:\u001b[0m\u001b[0;34m\u001b[0m\u001b[0;34m\u001b[0m\u001b[0m\n\u001b[1;32m     54\u001b[0m     \u001b[0;32mfrom\u001b[0m \u001b[0mscipy\u001b[0m\u001b[0;34m.\u001b[0m\u001b[0mlinalg\u001b[0m \u001b[0;32mimport\u001b[0m \u001b[0mpinvh\u001b[0m \u001b[0;31m# noqa\u001b[0m\u001b[0;34m\u001b[0m\u001b[0;34m\u001b[0m\u001b[0m\n",
            "\u001b[0;32m/usr/lib/python3.6/importlib/_bootstrap.py\u001b[0m in \u001b[0;36m_find_and_load\u001b[0;34m(name, import_)\u001b[0m\n",
            "\u001b[0;32m/usr/lib/python3.6/importlib/_bootstrap.py\u001b[0m in \u001b[0;36m_find_and_load_unlocked\u001b[0;34m(name, import_)\u001b[0m\n",
            "\u001b[0;32m/usr/lib/python3.6/importlib/_bootstrap.py\u001b[0m in \u001b[0;36m_load_unlocked\u001b[0;34m(spec)\u001b[0m\n",
            "\u001b[0;32m/usr/lib/python3.6/importlib/_bootstrap_external.py\u001b[0m in \u001b[0;36mexec_module\u001b[0;34m(self, module)\u001b[0m\n",
            "\u001b[0;32m/usr/lib/python3.6/importlib/_bootstrap_external.py\u001b[0m in \u001b[0;36mget_code\u001b[0;34m(self, fullname)\u001b[0m\n",
            "\u001b[0;32m/usr/lib/python3.6/importlib/_bootstrap_external.py\u001b[0m in \u001b[0;36mget_data\u001b[0;34m(self, path)\u001b[0m\n",
            "\u001b[0;31mKeyboardInterrupt\u001b[0m: "
          ]
        }
      ]
    },
    {
      "cell_type": "code",
      "metadata": {
        "id": "xauozHcYkSjS",
        "colab_type": "code",
        "colab": {}
      },
      "source": [
        "!mkdir train"
      ],
      "execution_count": 18,
      "outputs": []
    },
    {
      "cell_type": "code",
      "metadata": {
        "id": "gJQna1n4gIHa",
        "colab_type": "code",
        "colab": {}
      },
      "source": [
        "from transformers import TransfoXLTokenizer, TFTransfoXLModel\n",
        "import torch\n",
        "import tensorflow as tf\n",
        "import tensorflow_datasets as tfds\n",
        "\n",
        "import os"
      ],
      "execution_count": 11,
      "outputs": []
    },
    {
      "cell_type": "markdown",
      "metadata": {
        "id": "LdekFRmchjrU",
        "colab_type": "text"
      },
      "source": [
        "###### Convert .txt file to tf.data.Dataset"
      ]
    },
    {
      "cell_type": "code",
      "metadata": {
        "id": "Wo-f1Xg3hURY",
        "colab_type": "code",
        "colab": {}
      },
      "source": [
        "file_name = 'data/data_express_original.txt'"
      ],
      "execution_count": 12,
      "outputs": []
    },
    {
      "cell_type": "code",
      "metadata": {
        "id": "PxZuO2L6vtFc",
        "colab_type": "code",
        "colab": {
          "base_uri": "https://localhost:8080/",
          "height": 164,
          "referenced_widgets": [
            "2f588dd3dcce45989d5040a2551d45c2",
            "bc8d4bc32fa44442adfe62a53a0101c7",
            "d9cfef4ff0ec4598986b488cc65e2142",
            "c33add0554394d4fb3b63bec5a3470d7",
            "a5b881e705314415a4616f467bfc2827",
            "b975a3e6931d482a9e20be93b1034399",
            "75446cbdc13c4d88882f6f0975b87831",
            "7db88f2ea89645c68ef8db1de867947c",
            "2d865b87ca3d4ff68f140a81cf6a2821",
            "36efb3ab67cb4c0492e6dc2b257c83a3",
            "e4bd85907bec4ba982542c371753ee31",
            "9e7fd009d581488d893fc8b921d0cfd3",
            "88d3cb11bbe64cfe8512f2ff1828a430",
            "d2a3a34f689e4036ae37ce1a597e9585",
            "b3ca4f6d30064057a06a5105abf8ffa1",
            "f1b8340440634c068711b83e2e372f41",
            "fe818277c51f4da186afc9e3a42e41f5",
            "8414154c104446d0b5ae47c497f1a701",
            "c4aff07b6b2c441a95b1ff9a229f26e5",
            "712d6a65ca1c4e1f885bfaa57854b985",
            "e659096c327e4a67b20118eff8f05539",
            "ef6d56f331ec412e8894f483f71b0ee1",
            "9c39c97f22e14458b4b8a4a972853e9d",
            "7f27a8011ce749dd9c31cbeecb09f9d2"
          ]
        },
        "outputId": "b24bad70-dfcc-4f1c-c8ea-5fbe59c2bd58"
      },
      "source": [
        "pretrained_weight = 'transfo-xl-wt103'\n",
        "tokenizer = TransfoXLTokenizer.from_pretrained(pretrained_weight)\n",
        "model = TFTransfoXLModel.from_pretrained(pretrained_weight)"
      ],
      "execution_count": 13,
      "outputs": [
        {
          "output_type": "display_data",
          "data": {
            "application/vnd.jupyter.widget-view+json": {
              "model_id": "2f588dd3dcce45989d5040a2551d45c2",
              "version_minor": 0,
              "version_major": 2
            },
            "text/plain": [
              "HBox(children=(FloatProgress(value=0.0, description='Downloading', max=9143613.0, style=ProgressStyle(descript…"
            ]
          },
          "metadata": {
            "tags": []
          }
        },
        {
          "output_type": "stream",
          "text": [
            "\n"
          ],
          "name": "stdout"
        },
        {
          "output_type": "display_data",
          "data": {
            "application/vnd.jupyter.widget-view+json": {
              "model_id": "2d865b87ca3d4ff68f140a81cf6a2821",
              "version_minor": 0,
              "version_major": 2
            },
            "text/plain": [
              "HBox(children=(FloatProgress(value=0.0, description='Downloading', max=856.0, style=ProgressStyle(description_…"
            ]
          },
          "metadata": {
            "tags": []
          }
        },
        {
          "output_type": "stream",
          "text": [
            "\n"
          ],
          "name": "stdout"
        },
        {
          "output_type": "display_data",
          "data": {
            "application/vnd.jupyter.widget-view+json": {
              "model_id": "fe818277c51f4da186afc9e3a42e41f5",
              "version_minor": 0,
              "version_major": 2
            },
            "text/plain": [
              "HBox(children=(FloatProgress(value=0.0, description='Downloading', max=1290191976.0, style=ProgressStyle(descr…"
            ]
          },
          "metadata": {
            "tags": []
          }
        },
        {
          "output_type": "stream",
          "text": [
            "\n"
          ],
          "name": "stdout"
        }
      ]
    },
    {
      "cell_type": "code",
      "metadata": {
        "id": "Bj5QZxJrjxRl",
        "colab_type": "code",
        "colab": {
          "base_uri": "https://localhost:8080/",
          "height": 215
        },
        "outputId": "b277f708-6a3c-456c-f151-d285f4ee71bc"
      },
      "source": [
        "from pathlib import Path\n",
        "\n",
        "paths = [str(x) for x in Path(\".\").glob(\"data/data_express_transpose_original.txt\")] #glob(\"data/*.txt\")\n",
        "print(paths)\n",
        "\n",
        "tokenizer.train(files=paths)"
      ],
      "execution_count": 19,
      "outputs": [
        {
          "output_type": "stream",
          "text": [
            "[]\n"
          ],
          "name": "stdout"
        },
        {
          "output_type": "error",
          "ename": "TypeError",
          "evalue": "ignored",
          "traceback": [
            "\u001b[0;31m---------------------------------------------------------------------------\u001b[0m",
            "\u001b[0;31mTypeError\u001b[0m                                 Traceback (most recent call last)",
            "\u001b[0;32m<ipython-input-19-ebe93b804882>\u001b[0m in \u001b[0;36m<module>\u001b[0;34m()\u001b[0m\n\u001b[1;32m      4\u001b[0m \u001b[0mprint\u001b[0m\u001b[0;34m(\u001b[0m\u001b[0mpaths\u001b[0m\u001b[0;34m)\u001b[0m\u001b[0;34m\u001b[0m\u001b[0;34m\u001b[0m\u001b[0m\n\u001b[1;32m      5\u001b[0m \u001b[0;34m\u001b[0m\u001b[0m\n\u001b[0;32m----> 6\u001b[0;31m \u001b[0mtokenizer\u001b[0m\u001b[0;34m.\u001b[0m\u001b[0mtrain\u001b[0m\u001b[0;34m(\u001b[0m\u001b[0mfiles\u001b[0m\u001b[0;34m=\u001b[0m\u001b[0mpaths\u001b[0m\u001b[0;34m)\u001b[0m\u001b[0;34m\u001b[0m\u001b[0;34m\u001b[0m\u001b[0m\n\u001b[0m",
            "\u001b[0;31mTypeError\u001b[0m: Tokenizer.train() missing required positional argument: trainer"
          ]
        }
      ]
    },
    {
      "cell_type": "code",
      "metadata": {
        "id": "cvLdRJeMjXof",
        "colab_type": "code",
        "colab": {
          "base_uri": "https://localhost:8080/",
          "height": 34
        },
        "outputId": "27bb5224-91d8-4836-bc34-0f0aaa880633"
      },
      "source": [
        "from tokenizers import Tokenizer\n",
        "from tokenizers.decoders import ByteLevel as ByteLevelDecoder\n",
        "from tokenizers.models import BPE\n",
        "from tokenizers.normalizers import Lowercase, NFKC, Sequence\n",
        "from tokenizers.pre_tokenizers import ByteLevel\n",
        "\n",
        "# First we create an empty Byte-Pair Encoding model (i.e. not trained model)\n",
        "tokenizer = Tokenizer(BPE())\n",
        "\n",
        "# Then we enable lower-casing and unicode-normalization\n",
        "# The Sequence normalizer allows us to combine multiple Normalizer that will be\n",
        "# executed in order.\n",
        "tokenizer.normalizer = Sequence([\n",
        "    NFKC(),\n",
        "    Lowercase()\n",
        "])\n",
        "\n",
        "# Our tokenizer also needs a pre-tokenizer responsible for converting the input to a ByteLevel representation.\n",
        "tokenizer.pre_tokenizer = ByteLevel()\n",
        "\n",
        "# And finally, let's plug a decoder so we can recover from a tokenized input to the original one\n",
        "tokenizer.decoder = ByteLevelDecoder()\n",
        "\n",
        "\n",
        "from tokenizers.trainers import BpeTrainer\n",
        "\n",
        "# We initialize our trainer, giving him the details about the vocabulary we want to generate\n",
        "trainer = BpeTrainer(vocab_size=25000, show_progress=True, initial_alphabet=ByteLevel.alphabet())\n",
        "tokenizer.train(trainer, [\"./data/data_express_original.txt\"])\n",
        "\n",
        "print(\"Trained vocab size: {}\".format(tokenizer.get_vocab_size()))"
      ],
      "execution_count": 21,
      "outputs": [
        {
          "output_type": "stream",
          "text": [
            "Trained vocab size: 521\n"
          ],
          "name": "stdout"
        }
      ]
    },
    {
      "cell_type": "code",
      "metadata": {
        "id": "INvAgrDVkM27",
        "colab_type": "code",
        "colab": {
          "base_uri": "https://localhost:8080/",
          "height": 34
        },
        "outputId": "6f110466-2389-4f5d-bfe6-f80994c929a0"
      },
      "source": [
        "# You will see the generated files in the output.\n",
        "tokenizer.model.save('./train/')"
      ],
      "execution_count": 22,
      "outputs": [
        {
          "output_type": "execute_result",
          "data": {
            "text/plain": [
              "['./train/vocab.json', './train/merges.txt']"
            ]
          },
          "metadata": {
            "tags": []
          },
          "execution_count": 22
        }
      ]
    },
    {
      "cell_type": "code",
      "metadata": {
        "id": "iiR-XVzolTAZ",
        "colab_type": "code",
        "colab": {
          "base_uri": "https://localhost:8080/",
          "height": 51
        },
        "outputId": "43e9fc94-8f51-43b8-db43-3c8368ce651b"
      },
      "source": [
        "# Let's tokenizer a simple input\n",
        "tokenizer.model = BPE('./train/vocab.json', './train/merges.txt')\n",
        "encoding = tokenizer.encode(\"[CLS] start tempo120 melody:v100:A4 wait:12\")\n",
        "\n",
        "print(\"Encoded string: {}\".format(encoding.tokens))\n",
        "\n",
        "decoded = tokenizer.decode(encoding.ids)\n",
        "print(\"Decoded string: {}\".format(decoded))"
      ],
      "execution_count": 26,
      "outputs": [
        {
          "output_type": "stream",
          "text": [
            "Encoded string: ['Ġ[', 'cls', ']', 'Ġ', 's', 't', 'a', 'r', 't', 'Ġtempo', '120', 'Ġmelody', ':', 'v', '100', ':', 'a', '4', 'Ġwait', ':', '12']\n",
            "Decoded string:  [cls] start tempo120 melody:v100:a4 wait:12\n"
          ],
          "name": "stdout"
        }
      ]
    },
    {
      "cell_type": "code",
      "metadata": {
        "id": "vDOx--2-gLyE",
        "colab_type": "code",
        "colab": {}
      },
      "source": [
        "def labeler(example, index):\n",
        "  return example, tf.cast(index, tf.int64)  \n",
        "\n",
        "labeled_data_sets = []\n",
        "\n",
        "lines_dataset = tf.data.TextLineDataset(file_name)\n",
        "labeled_dataset = lines_dataset.map(lambda ex: labeler(ex, 0))\n",
        "labeled_data_sets.append(labeled_dataset)\n",
        "\n",
        "# for i, file_name in enumerate(FILE_NAMES):\n",
        "#   lines_dataset = tf.data.TextLineDataset(os.path.join(parent_dir, file_name))\n",
        "#   labeled_dataset = lines_dataset.map(lambda ex: labeler(ex, i))\n",
        "#   labeled_data_sets.append(labeled_dataset)"
      ],
      "execution_count": null,
      "outputs": []
    },
    {
      "cell_type": "code",
      "metadata": {
        "id": "5gLvm6eThqlN",
        "colab_type": "code",
        "colab": {}
      },
      "source": [
        "BUFFER_SIZE = 50000\n",
        "BATCH_SIZE = 64\n",
        "TAKE_SIZE = 5000\n",
        "\n",
        "all_labeled_data = labeled_data_sets[0]\n",
        "\n",
        "# all_labeled_data = labeled_data_sets[0]\n",
        "# for labeled_dataset in labeled_data_sets[1:]:\n",
        "#   all_labeled_data = all_labeled_data.concatenate(labeled_dataset)\n",
        "  \n",
        "shuffled_labeled_data = all_labeled_data.shuffle(BUFFER_SIZE, reshuffle_each_iteration=False)"
      ],
      "execution_count": null,
      "outputs": []
    },
    {
      "cell_type": "code",
      "metadata": {
        "id": "Lyg2Np4hirNN",
        "colab_type": "code",
        "colab": {}
      },
      "source": [
        "# example\n",
        "for ex in all_labeled_data.take(5):\n",
        "  print(ex)"
      ],
      "execution_count": null,
      "outputs": []
    },
    {
      "cell_type": "code",
      "metadata": {
        "id": "KNKwMfvMtbvU",
        "colab_type": "code",
        "colab": {
          "base_uri": "https://localhost:8080/",
          "height": 54
        },
        "outputId": "66ec00cb-9950-47e1-81d5-8ffb4f47ef5b"
      },
      "source": [
        "tokenizer = tfds.features.text.Tokenizer()\n",
        "\n",
        "vocabulary_set = set()\n",
        "for text_tensor, _ in all_labeled_data:\n",
        "  some_tokens = tokenizer.tokenize(text_tensor.numpy())\n",
        "  vocabulary_set.update(some_tokens)\n",
        "\n",
        "vocab_size = len(vocabulary_set)\n",
        "\n",
        "vocab_size\n",
        "\n",
        "print(vocabulary_set)"
      ],
      "execution_count": null,
      "outputs": [
        {
          "output_type": "stream",
          "text": [
            "{'55', '135', '12', 'v78', 'accomp10', '111', '139', '38', 'F2', '1504', 'v48', '120', '21', 'v65', '79', 'v83', '110', 'v99', '96', '209', '125', 'v59', 'tempo91', '87', 'G4', '39', '767', 'v75', 'v89', '948', '411', '26', 'tempo126', '76', 'v63', 'v91', '11', 'v66', '100', '46', 'tempo86', '3875', '16', '205', '105', '13', 'tempo170', '455', 'v77', 'v7', 'tempo60', '41', 'v25', 'v71', '20', '298', 'melody', 'v97', '440', 'C3', 'tempo147', 'F4', '113', 'C5', '314', '102', '186', 'G3', 'v8', '45', '70', '960', '121', 'B4', 'D7', 'v53', '3632', '122', 'v32', 'v30', '104', '37', '71', 'E6', '1', 'tempo115', 'tempo175', 'C4', 'accomp6', '89', 'B', '815', '40', '95', '50', '577', '67', 'v88', 'v54', '181', '42', '151', 'v33', '74', '3647', 'v100', '996', 'v47', 'tempo87', 'tempo148', '303', 'v69', '866', '86', '191', '144', '22', '19', 'v18', '24', '383', 'tempo150', 'v60', 'tempo107', '69', 'v74', 'tempo104', 'tempo109', '10898', 'accomp1', 'C7', 'v119', '896', '345', '118', '864', '30', 'E1', 'v122', 'A6', 'v50', 'tempo125', 'SEP', '480', 'accomp2', '10', '47', 'tempo103', '759', 'v73', '167', 'v3', 'F1', '201', 'v96', 'tempo96', '329', '432', '563', '64', 'v81', '116', 'C', 'v39', '193', '576', 'v76', '143', 'v86', '1823', 'v103', '423', '115', 'C1', '44', 'tempo97', 'v13', 'accomp3', 'v110', 'v29', 'v114', '68', '63', '264', 'v24', '31', '72', '0', '241', '29', 'v95', 'CLS', '607', '103', 'tempo102', 'v85', 'tempo137', '190', 'F7', 'B6', 'tempo80', '2720', '575', 'v57', '8', 'v79', 'v70', '59', '216', 'v44', 'v92', '312', '895', '32', 'A7', '384', 'v127', 'v38', '903', '36', 'v51', '136', 'tempo112', 'B5', 'A5', '255', '377', 'v94', 'F5', '407', '81', 'F', '192', 'v5', 'v105', 'tempo128', 'v90', 'tempo73', '360', 'v26', 'v17', '155', 'G7', '162', '4', '431', 'v107', 'v111', 'v45', 'v43', 'v9', '287', 'D2', '112', 'tempo93', 'v87', '359', 'D3', '77', '66', '61', 'accomp5', 'A4', 'v6', '92', 'v49', 'accomp8', '797', '90', '108', '117', '847', 'C2', '792', '720', '93', 'E2', 'G6', '7', 'tempo83', 'C6', '73', 'v27', 'v82', '54', 'wait', '101', '127', '210', 'B1', '82', '124', '109', '203', 'v106', 'E3', '1059', '17', '145', '653', 'v84', '75', '240', 'v16', 'v104', 'accomp0', '114', 'tempo123', 'A2', '223', 'tempo94', 'v67', 'v46', '408', 'v11', '84', '107', 'tempo130', 'v21', '5', '188', '78', '816', '2', '51', '140', 'accomp9', 'D1', 'v56', '97', '53', 'tempo120', '752', '91', 'v109', 'A1', 'v102', '320', 'v34', 'A3', '35', '15', '88', 'v42', '768', 'v101', 'tempo145', '28', '34', '640', 'G', '57', 'tempo89', '881', '43', 'B2', 'tempo135', 'v0', '83', 'v41', '65', '123', '905', 'D6', '48', 'D5', '425', '911', '58', '672', '62', 'E', 'G1', 'G2', '489', '119', 'v62', 'G5', 'tempo100', 'v37', '60', 'v58', '168', '98', '80', '9', '1215', 'v52', 'v55', '3', '528', 'B3', '49', 'tempo200', 'v31', '1856', '23', '85', '326', '106', '1345', 'v80', '33', '635', '285', 'accomp7', 'v64', 'E5', 'tempo85', 'v20', '6', '99', '25', 'F6', 'v35', '94', 'E7', '179', '239', '2735', '134', '288', 'tempo140', 'v93', '52', 'E4', '336', '169', 'v61', 'v28', '126', '14', 'v108', 'v40', '791', '426', 'F3', '405', '349', '721', 'v98', 'v68', 'v36', '27', 'D4', 'v112', '56', '18', 'accomp4'}\n"
          ],
          "name": "stdout"
        }
      ]
    },
    {
      "cell_type": "code",
      "metadata": {
        "id": "Te6cebUSuYQJ",
        "colab_type": "code",
        "colab": {}
      },
      "source": [
        "encoder = tfds.features.text.TokenTextEncoder(vocabulary_set)"
      ],
      "execution_count": null,
      "outputs": []
    },
    {
      "cell_type": "code",
      "metadata": {
        "id": "sEzvylFAueZ_",
        "colab_type": "code",
        "colab": {
          "base_uri": "https://localhost:8080/",
          "height": 54
        },
        "outputId": "578065ec-9a57-4a48-bb40-4be183e1b65d"
      },
      "source": [
        "# example\n",
        "example_text = next(iter(all_labeled_data))[0].numpy()\n",
        "print(example_text)"
      ],
      "execution_count": null,
      "outputs": [
        {
          "output_type": "stream",
          "text": [
            "b'[CLS] tempo128 [127] melody:v91:D4 melody:v91:B-3 melody:v91:F4 accomp0:v92:F2 wait:96 melody:v0:D4 melody:v0:B-3 melody:v0:F4 accomp0:v0:F2 accomp0:v92:G1 wait:96 melody:v91:F4 melody:v91:D4 melody:v91:B-3 accomp0:v0:G1 wait:48 melody:v0:B-3 melody:v0:F4 melody:v0:D4 melody:v91:D4 melody:v91:B-3 melody:v91:G4 wait:48 melody:v0:G4 melody:v0:B-3 melody:v0:D4 wait:24 melody:v91:D4 melody:v91:B-3 melody:v91:G4 wait:48 melody:v0:D4 melody:v0:B-3 melody:v0:G4 wait:24 melody:v91:B-3 melody:v91:D4 melody:v91:F4 accomp0:v92:F2 wait:96 [126] melody:v0:B-3 melody:v0:D4 melody:v0:F4 accomp0:v0:F2 accomp0:v92:G1 wait:96 melody:v91:F4 melody:v91:B-3 melody:v91:D4 accomp0:v0:G1 wait:48 melody:v0:D4 melody:v0:F4 melody:v0:B-3 melody:v91:D4 melody:v91:B-3 melody:v91:G4 wait:48 melody:v0:G4 melody:v0:B-3 melody:v0:D4 wait:24 melody:v91:D4 melody:v91:B-3 melody:v91:G4 wait:48 melody:v0:D4 melody:v0:B-3 melody:v0:G4 wait:24 melody:v91:B-3 melody:v91:D4 melody:v91:F4 accomp0:v92:F2 wait:96 melody:v0:B-3 melody:v0:D4 melody:v0:F4 accomp0:v0:F2 accomp0:v92:G1 wait:96 [125] melody:v91:D4 melody:v91:B-3 melody:v91:F4 accomp0:v0:G1 wait:48 melody:v0:F4 melody:v0:D4 melody:v0:B-3 melody:v91:D4 melody:v91:B-3 melody:v91:G4 wait:48 melody:v0:G4 melody:v0:B-3 melody:v0:D4 wait:24 melody:v91:D4 melody:v91:B-3 melody:v91:G4 wait:48 melody:v0:D4 melody:v0:B-3 melody:v0:G4 wait:24 melody:v91:D4 melody:v91:B-3 melody:v91:F4 accomp0:v92:F2 wait:96 melody:v0:D4 melody:v0:B-3 melody:v0:F4 accomp0:v0:F2 accomp0:v92:G1 wait:96 melody:v91:F4 melody:v91:B-3 melody:v91:D4 accomp0:v0:G1 wait:48 [124] melody:v0:D4 melody:v0:F4 melody:v0:B-3 melody:v91:D4 melody:v91:B-3 melody:v91:G4 wait:48 melody:v0:G4 melody:v0:B-3 melody:v0:D4 wait:24 melody:v91:G4 melody:v91:B-3 melody:v91:D4 wait:48 melody:v0:G4 melody:v0:B-3 melody:v0:D4 wait:24 melody:v91:D4 melody:v91:B-3 melody:v91:F4 accomp0:v92:F2 wait:96 melody:v0:D4 melody:v0:B-3 melody:v0:F4 accomp0:v0:F2 accomp0:v92:G1 wait:96 melody:v91:F4 melody:v91:D4 melody:v91:B-3 accomp0:v0:G1 wait:48 melody:v0:B-3 melody:v0:F4 melody:v0:D4 melody:v91:D4 melody:v91:B-3 melody:v91:G4 wait:48 melody:v0:G4 melody:v0:B-3 melody:v0:D4 wait:24 [123] melody:v91:D4 melody:v91:B-3 melody:v91:G4 wait:48 melody:v0:D4 melody:v0:B-3 melody:v0:G4 wait:24 melody:v91:B-3 melody:v91:D4 melody:v91:F4 accomp0:v92:F2 wait:96 melody:v0:B-3 melody:v0:D4 melody:v0:F4 accomp0:v0:F2 accomp0:v92:G1 wait:96 melody:v91:F4 melody:v91:B-3 melody:v91:D4 accomp0:v0:G1 wait:48 melody:v0:D4 melody:v0:F4 melody:v0:B-3 melody:v91:D4 melody:v91:B-3 melody:v91:G4 wait:48 melody:v0:G4 melody:v0:B-3 melody:v0:D4 wait:24 melody:v91:D4 melody:v91:B-3 melody:v91:G4 wait:48 melody:v0:D4 melody:v0:B-3 melody:v0:G4 wait:24 [122] melody:v91:B-3 melody:v91:D4 melody:v91:F4 accomp0:v92:F2 wait:96 melody:v0:B-3 melody:v0:D4 melody:v0:F4 accomp0:v0:F2 accomp0:v92:G1 wait:96 melody:v91:D4 melody:v91:B-3 melody:v91:F4 accomp0:v0:G1 wait:48 melody:v0:F4 melody:v0:D4 melody:v0:B-3 melody:v91:D4 melody:v91:B-3 melody:v91:G4 wait:48 melody:v0:G4 melody:v0:B-3 melody:v0:D4 wait:24 melody:v91:D4 melody:v91:B-3 melody:v91:G4 wait:48 melody:v0:D4 melody:v0:B-3 melody:v0:G4 wait:24 melody:v91:D4 melody:v91:B-3 melody:v91:F4 accomp0:v92:F2 wait:96 [121] melody:v0:D4 melody:v0:B-3 melody:v0:F4 accomp0:v0:F2 accomp0:v92:G1 wait:96 melody:v91:F4 melody:v91:B-3 melody:v91:D4 accomp0:v0:G1 wait:48 melody:v0:D4 melody:v0:F4 melody:v0:B-3 melody:v91:D4 melody:v91:B-3 melody:v91:G4 wait:48 melody:v0:G4 melody:v0:B-3 melody:v0:D4 wait:24 melody:v91:G4 melody:v91:B-3 melody:v91:D4 wait:48 melody:v0:G4 melody:v0:B-3 melody:v0:D4 wait:24 melody:v98:D4 melody:v98:F4 melody:v91:B-4 accomp0:v100:G2 wait:96 melody:v0:D4 melody:v0:F4 melody:v0:B-4 accomp0:v0:G2 accomp0:v100:G1 wait:96 [120] melody:v100:B-4 melody:v98:F4 melody:v98:D4 accomp0:v0:G1 accomp0:v100:G1 wait:48 melody:v0:B-4 melody:v0:F4 melody:v0:D4 melody:v98:B-4 melody:v98:G4 melody:v98:D4 wait:48 melody:v0:D4 melody:v0:G4 melody:v0:B-4 accomp0:v0:G1 accomp0:v100:G1 wait:24 melody:v98:B-4 melody:v98:G4 melody:v98:D4 wait:48 melody:v0:B-4 melody:v0:G4 melody:v0:D4 wait:24 melody:v98:C4 melody:v98:F4 melody:v98:A4 accomp0:v0:G1 accomp0:v100:F2 wait:96 melody:v0:C4 melody:v0:F4 melody:v0:A4 accomp0:v0:F2 accomp0:v100:F1 wait:96 melody:v98:D5 melody:v98:F4 melody:v98:C4 accomp0:v0:F1 accomp0:v100:F1 wait:48 [119] melody:v0:D5 melody:v0:F4 melody:v0:C4 melody:v98:C5 melody:v98:F4 melody:v98:C4 wait:48 melody:v0:C4 melody:v0:F4 melody:v0:C5 accomp0:v0:F1 accomp0:v100:F1 wait:24 melody:v98:C5 melody:v98:F4 melody:v98:C4 wait:48 melody:v0:C5 melody:v0:F4 melody:v0:C4 wait:24 melody:v97:A4 melody:v97:F4 melody:v97:D4 accomp0:v0:F1 accomp0:v100:D3 wait:96 melody:v0:D4 melody:v0:A4 melody:v0:F4 accomp0:v0:D3 accomp0:v100:D2 wait:96 melody:v97:D4 melody:v97:F4 melody:v97:A4 accomp0:v0:D2 accomp0:v100:D2 wait:48 melody:v0:D4 melody:v0:F4 melody:v0:A4 melody:v96:F4 melody:v96:D4 melody:v96:A4 wait:48 [118] melody:v0:A4 melody:v0:D4 melody:v0:F4 accomp0:v0:D2 accomp0:v100:D2 wait:24 melody:v96:A4 melody:v96:F4 melody:v96:D4 wait:48 melody:v0:A4 melody:v0:F4 melody:v0:D4 wait:24 melody:v96:D5 melody:v96:G4 melody:v96:E4 accomp0:v0:D2 accomp0:v100:C3 wait:96 melody:v0:E4 melody:v0:D5 melody:v0:G4 accomp0:v0:C3 accomp0:v100:C2 wait:96 melody:v96:D5 melody:v96:E4 melody:v96:G4 accomp0:v0:C2 accomp0:v100:C2 wait:48 melody:v0:D5 melody:v0:E4 melody:v0:G4 melody:v96:G4 melody:v96:E4 melody:v96:C5 wait:48 melody:v0:C5 melody:v0:E4 melody:v0:G4 accomp0:v0:C2 accomp0:v100:C2 wait:24 melody:v96:E4 melody:v96:G4 melody:v96:A4 wait:48 [117] melody:v0:E4 melody:v0:G4 melody:v0:A4 wait:24 melody:v98:D4 melody:v98:F4 melody:v91:B-4 accomp0:v0:C2 accomp0:v100:G2 wait:96 melody:v0:D4 melody:v0:F4 melody:v0:B-4 accomp0:v0:G2 accomp0:v100:G1 wait:96 melody:v100:B-4 melody:v98:F4 melody:v98:D4 accomp0:v0:G1 accomp0:v100:G1 wait:48 melody:v0:B-4 melody:v0:F4 melody:v0:D4 melody:v98:B-4 melody:v98:G4 melody:v98:D4 wait:48 melody:v0:D4 melody:v0:G4 melody:v0:B-4 accomp0:v0:G1 accomp0:v100:G1 wait:24 melody:v98:B-4 melody:v98:G4 melody:v98:D4 wait:48 melody:v0:B-4 melody:v0:G4 melody:v0:D4 wait:24 melody:v98:C4 melody:v98:F4 melody:v98:A4 accomp0:v0:G1 accomp0:v100:F2 wait:96 [116] melody:v0:C4 melody:v0:F4 melody:v0:A4 accomp0:v0:F2 accomp0:v100:F1 wait:96 melody:v98:D5 melody:v98:F4 melody:v98:C4 accomp0:v0:F1 accomp0:v100:F1 wait:48 melody:v0:D5 melody:v0:F4 melody:v0:C4 melody:v98:C5 melody:v98:F4 melody:v98:C4 wait:48 melody:v0:C4 melody:v0:F4 melody:v0:C5 accomp0:v0:F1 accomp0:v100:F1 wait:24 melody:v98:C5 melody:v98:F4 melody:v98:C4 wait:48 melody:v0:C5 melody:v0:F4 melody:v0:C4 wait:24 melody:v97:A4 melody:v97:F4 melody:v97:D4 accomp0:v0:F1 accomp0:v100:D3 wait:96 melody:v0:D4 melody:v0:A4 melody:v0:F4 accomp0:v0:D3 accomp0:v100:D2 wait:96 [115] melody:v97:D4 melody:v97:F4 melody:v97:A4 accomp0:v0:D2 accomp0:v100:D2 wait:48 melody:v0:D4 melody:v0:F4 melody:v0:A4 melody:v96:F4 melody:v96:D4 melody:v96:A4 wait:48 melody:v0:A4 melody:v0:D4 melody:v0:F4 accomp0:v0:D2 accomp0:v100:D2 wait:24 melody:v96:A4 melody:v96:F4 melody:v96:D4 wait:48 melody:v0:A4 melody:v0:F4 melody:v0:D4 wait:24 melody:v96:D5 melody:v96:G4 melody:v96:E4 accomp0:v0:D2 accomp0:v100:C3 wait:96 melody:v0:E4 melody:v0:D5 melody:v0:G4 accomp0:v0:C3 accomp0:v100:C2 wait:96 [114] melody:v96:D5 melody:v96:E4 melody:v96:G4 accomp0:v0:C2 accomp0:v100:C2 wait:48 melody:v0:D5 melody:v0:E4 melody:v0:G4 melody:v96:G4 melody:v96:E4 melody:v96:C5 wait:48 melody:v0:C5 melody:v0:E4 melody:v0:G4 accomp0:v0:C2 accomp0:v100:C2 wait:24 melody:v96:E4 melody:v96:G4 melody:v96:A4 wait:48 melody:v0:E4 melody:v0:G4 melody:v0:A4 wait:24 accomp0:v0:C2 accomp0:v100:G2 wait:336 [113] accomp0:v0:G2 accomp0:v100:B-2 wait:432 [112] accomp0:v0:B-2 accomp0:v100:D3 wait:336 accomp0:v0:D3 accomp0:v100:C3 wait:432 [111] accomp0:v0:C3 accomp0:v100:G2 wait:48 melody:v100:F5 wait:48 [110] melody:v0:F5 wait:48 melody:v100:F5 wait:48 melody:v0:F5 wait:48 melody:v100:F5 wait:48 melody:v0:F5 wait:48 melody:v100:F5 accomp0:v0:G2 accomp0:v100:B-2 wait:48 melody:v0:F5 wait:48 melody:v100:F5 wait:48 melody:v0:F5 wait:48 melody:v100:F5 wait:48 [109] melody:v0:F5 wait:48 melody:v100:F5 wait:48 melody:v0:F5 wait:48 melody:v100:F5 wait:48 melody:v0:F5 accomp0:v0:B-2 accomp0:v100:D2 wait:48 melody:v100:F5 wait:48 melody:v0:F5 wait:48 melody:v100:F5 wait:48 melody:v0:F5 accomp0:v0:D2 accomp0:v100:F2 wait:48 [108] melody:v100:F5 wait:48 melody:v0:F5 wait:48 melody:v100:F5 accomp0:v0:F2 accomp0:v100:C3 wait:48 melody:v0:F5 wait:48 melody:v100:F5 wait:48 melody:v0:F5 wait:48 melody:v100:F5 wait:48 melody:v0:F5 wait:48 melody:v100:E5 wait:48 melody:v0:E5 wait:48 [107] melody:v100:C5 wait:48 melody:v0:C5 accomp0:v0:C3 accomp0:v100:G4 accomp0:v100:B-3 accomp0:v100:D4 wait:48 melody:v100:F5 wait:48 melody:v0:F5 wait:48 melody:v100:F5 wait:48 melody:v0:F5 wait:48 melody:v100:F5 wait:48 melody:v0:F5 wait:48 melody:v100:F5 wait:48 [106] melody:v0:F5 accomp0:v0:D4 accomp0:v0:B-3 accomp0:v0:G4 accomp0:v100:F4 accomp0:v100:B-3 accomp0:v100:D4 wait:48 melody:v100:F5 wait:48 melody:v0:F5 wait:48 melody:v100:F5 wait:48 melody:v0:F5 wait:48 melody:v100:F5 wait:48 melody:v0:F5 wait:48 melody:v100:C6 wait:48 melody:v0:C6 accomp0:v0:D4 accomp0:v0:B-3 accomp0:v0:F4 accomp0:v100:F4 accomp0:v100:A3 accomp0:v100:D4 wait:48 melody:v100:F5 wait:48 [105] melody:v0:F5 wait:48 melody:v100:F5 wait:48 melody:v0:F5 wait:48 melody:v100:F5 wait:48 melody:v0:F5 wait:48 melody:v100:F5 wait:48 melody:v0:F5 accomp0:v0:D4 accomp0:v0:A3 accomp0:v0:F4 accomp0:v100:E4 accomp0:v100:G3 accomp0:v100:C4 wait:48 melody:v100:F5 wait:48 melody:v0:F5 wait:48 [104] melody:v100:F5 wait:48 melody:v0:F5 wait:48 melody:v100:F5 wait:4 melody:v100:G5 wait:8 melody:v0:F5 wait:40 melody:v0:G5 wait:44 melody:v100:F5 wait:48 melody:v0:F5 accomp0:v0:C4 accomp0:v0:G3 accomp0:v0:E4 accomp0:v100:D4 accomp0:v100:B-3 accomp0:v100:G4 wait:48 melody:v100:F5 wait:48 melody:v0:F5 wait:48 melody:v100:F5 wait:48 melody:v0:F5 wait:48 [103] melody:v100:F5 wait:48 melody:v0:F5 wait:48 melody:v100:F5 wait:48 melody:v0:F5 accomp0:v0:G4 accomp0:v0:B-3 accomp0:v0:D4 accomp0:v100:B-3 accomp0:v100:F4 accomp0:v100:D4 wait:48 melody:v100:F5 wait:48 melody:v0:F5 wait:48 melody:v100:F5 wait:48 melody:v0:F5 wait:48 melody:v100:C5 wait:48 melody:v0:C5 wait:48 [102] melody:v100:F5 wait:48 melody:v0:F5 accomp0:v0:D4 accomp0:v0:F4 accomp0:v0:B-3 accomp0:v100:F3 accomp0:v100:D4 accomp0:v100:A3 wait:48 melody:v100:F5 wait:48 melody:v0:F5 wait:48 melody:v100:F5 wait:48 melody:v0:F5 accomp0:v0:A3 accomp0:v0:D4 accomp0:v0:F3 accomp0:v100:F4 accomp0:v100:A3 accomp0:v100:C4 wait:48 melody:v100:F5 wait:48 melody:v0:F5 wait:48 melody:v100:F5 wait:48 [101] melody:v0:F5 accomp0:v0:C4 accomp0:v0:A3 accomp0:v0:F4 accomp0:v100:E4 accomp0:v100:G3 accomp0:v100:C4 wait:48 melody:v100:F5 wait:48 melody:v0:F5 wait:48 melody:v100:F5 wait:48 melody:v0:F5 wait:48 melody:v100:E6 wait:48 melody:v0:E6 wait:48 melody:v100:C6 wait:48 melody:v0:C6 melody:v100:C6 accomp0:v0:C4 accomp0:v0:G3 accomp0:v0:E4 accomp0:v100:G4 accomp0:v100:B-3 accomp0:v100:D4 wait:240 [100] melody:v0:C6 melody:v100:C5 wait:96 melody:v0:C5 melody:v100:B-5 wait:48 accomp0:v0:D4 accomp0:v0:B-3 accomp0:v0:G4 accomp0:v100:F4 accomp0:v100:B-3 accomp0:v100:D4 wait:240 [99] melody:v0:B-5 melody:v100:B-4 wait:96 melody:v0:B-4 melody:v100:C6 wait:48 accomp0:v0:D4 accomp0:v0:B-3 accomp0:v0:F4 accomp0:v100:F4 accomp0:v100:A3 accomp0:v100:D4 wait:48 melody:v0:C6 melody:v100:A5 wait:48 melody:v0:A5 wait:48 melody:v100:A5 wait:96 [98] melody:v0:A5 melody:v100:C5 wait:96 melody:v0:C5 melody:v100:F5 wait:48 accomp0:v0:F4 accomp0:v0:D4 accomp0:v0:A3 accomp0:v100:E4 accomp0:v100:G3 accomp0:v100:C4 wait:384 [97] melody:v0:F5 melody:v100:C6 accomp0:v0:C4 accomp0:v0:G3 accomp0:v0:E4 accomp0:v100:D4 accomp0:v100:B-3 accomp0:v100:G4 wait:240 melody:v0:C6 melody:v100:C5 wait:96 melody:v0:C5 melody:v100:B-5 wait:48 [96] accomp0:v0:G4 accomp0:v0:B-3 accomp0:v0:D4 accomp0:v100:B-3 accomp0:v100:F4 accomp0:v100:D4 wait:240 melody:v0:B-5 melody:v100:B-4 wait:96 melody:v0:B-4 melody:v100:C6 wait:48 accomp0:v0:D4 accomp0:v0:F4 accomp0:v0:B-3 accomp0:v100:F4 accomp0:v100:A3 accomp0:v100:D4 wait:48 [95] melody:v0:C6 melody:v100:A5 wait:48 melody:v0:A5 wait:48 melody:v100:A5 wait:48 accomp0:v0:F4 accomp0:v0:D4 accomp0:v0:A3 accomp0:v100:A3 accomp0:v100:C4 accomp0:v100:F4 wait:48 melody:v0:A5 melody:v100:C5 wait:96 melody:v0:C5 melody:v100:F5 wait:48 accomp0:v0:F4 accomp0:v0:C4 accomp0:v0:A3 accomp0:v100:E4 accomp0:v100:G3 accomp0:v100:C4 wait:384 [94] melody:v0:F5 accomp0:v0:C4 accomp0:v0:G3 accomp0:v0:E4 wait:144 melody:v100:G5 wait:48 [93] melody:v0:G5 melody:v100:G5 wait:48 melody:v0:G5 melody:v100:A5 wait:24 melody:v0:A5 melody:v100:G5 wait:48 melody:v0:G5 wait:24 melody:v100:F5 wait:48 melody:v0:F5 accomp0:v100:G4 accomp0:v100:B-3 accomp0:v100:D4 wait:48 melody:v100:F5 wait:48 melody:v0:F5 melody:v100:G5 wait:48 melody:v0:G5 melody:v100:F5 wait:48 melody:v0:F5 melody:v100:G5 wait:48 melody:v0:G5 melody:v100:F5 wait:24 [92] melody:v0:F5 melody:v100:G5 wait:48 melody:v0:G5 wait:24 melody:v100:A5 accomp0:v0:D4 accomp0:v0:G4 accomp0:v0:B-3 accomp0:v100:B-4 accomp0:v100:F4 accomp0:v100:D4 wait:48 melody:v0:A5 wait:48 melody:v100:A5 wait:48 melody:v0:A5 melody:v100:A5 wait:48 melody:v0:A5 melody:v100:C5 wait:48 melody:v0:C5 wait:48 melody:v100:C5 wait:48 melody:v0:C5 melody:v100:F5 wait:48 [91] melody:v0:F5 melody:v100:G5 wait:48 melody:v0:G5 accomp0:v0:D4 accomp0:v0:F4 accomp0:v0:B-4 accomp0:v100:A4 accomp0:v100:F4 accomp0:v100:D4 wait:48 melody:v100:F5 wait:48 melody:v0:F5 melody:v100:G5 wait:48 melody:v0:G5 melody:v100:F5 wait:48 melody:v0:F5 melody:v100:G5 wait:48 melody:v0:G5 melody:v100:F5 wait:24 melody:v0:F5 melody:v100:G5 wait:72 melody:v0:G5 melody:v100:A5 accomp0:v0:D4 accomp0:v0:F4 accomp0:v0:A4 accomp0:v100:G4 accomp0:v100:E4 accomp0:v100:C4 wait:48 melody:v0:A5 wait:48 [90] melody:v100:C6 wait:48 melody:v0:C6 wait:48 melody:v100:C6 wait:48 melody:v0:C6 melody:v97:D6 wait:48 melody:v0:D6 melody:v100:C6 wait:24 melody:v0:C6 melody:v100:A5 wait:48 melody:v0:A5 wait:24 melody:v100:C6 wait:48 melody:v0:C6 accomp0:v0:C4 accomp0:v0:E4 accomp0:v0:G4 accomp0:v100:D4 accomp0:v100:B-3 accomp0:v100:G4 wait:48 melody:v100:F5 wait:48 [89] melody:v0:F5 melody:v100:G5 wait:48 melody:v0:G5 melody:v100:F5 wait:48 melody:v0:F5 melody:v100:G5 wait:48 melody:v0:G5 melody:v100:F5 wait:24 melody:v0:F5 melody:v100:G5 wait:48 melody:v0:G5 wait:24 melody:v100:A5 accomp0:v0:G4 accomp0:v0:B-3 accomp0:v0:D4 accomp0:v100:B-4 accomp0:v100:F4 accomp0:v100:D4 wait:48 melody:v0:A5 wait:48 melody:v100:A5 wait:48 melody:v0:A5 melody:v100:A5 wait:48 melody:v0:A5 melody:v100:C5 wait:48 [88] melody:v0:C5 wait:48 melody:v100:C5 wait:48 melody:v0:C5 melody:v100:F5 wait:48 melody:v0:F5 melody:v100:G5 wait:48 melody:v0:G5 accomp0:v0:D4 accomp0:v0:F4 accomp0:v0:B-4 accomp0:v100:F4 accomp0:v100:A3 accomp0:v100:D4 wait:48 melody:v100:C6 wait:48 melody:v0:C6 melody:v100:C6 wait:48 melody:v0:C6 melody:v100:F5 wait:48 melody:v0:F5 melody:v100:G5 accomp0:v0:D4 accomp0:v0:A3 accomp0:v0:F4 accomp0:v100:A4 accomp0:v100:C4 accomp0:v100:F4 wait:48 [87] melody:v0:G5 melody:v100:A5 wait:24 melody:v0:A5 melody:v100:G5 wait:48 melody:v0:G5 wait:24 melody:v100:G5 wait:48 melody:v0:G5 melody:v100:G5 accomp0:v0:F4 accomp0:v0:C4 accomp0:v0:A4 accomp0:v100:C4 accomp0:v100:E4 accomp0:v100:G4 wait:48 melody:v0:G5 melody:v100:A5 wait:24 melody:v0:A5 melody:v100:G5 wait:48 melody:v0:G5 wait:24 melody:v100:G5 wait:48 melody:v0:G5 melody:v100:G5 accomp0:v0:C4 accomp0:v0:G4 accomp0:v0:E4 wait:48 melody:v0:G5 melody:v100:A5 wait:24 melody:v0:A5 melody:v100:G5 wait:48 [86] melody:v0:G5 wait:24 melody:v100:F5 wait:48 melody:v0:F5 accomp0:v100:G2 accomp0:v100:G3 accomp0:v100:D3 wait:48 melody:v100:F4 melody:v100:F5 accomp0:v0:D3 accomp0:v0:G2 accomp0:v0:G3 wait:48 melody:v0:F5 melody:v0:F4 melody:v100:G4 melody:v100:G5 accomp0:v100:D3 accomp0:v100:G3 accomp0:v100:G2 wait:48 melody:v0:G4 melody:v0:G5 melody:v100:F4 melody:v100:F5 accomp0:v0:G2 accomp0:v0:G3 accomp0:v0:D3 accomp0:v100:G2 accomp0:v100:G3 accomp0:v100:D3 wait:48 melody:v0:F5 melody:v0:F4 melody:v100:G4 melody:v100:G5 accomp0:v0:D3 accomp0:v0:G3 accomp0:v0:G2 accomp0:v100:G2 accomp0:v100:G3 accomp0:v100:D3 wait:48 melody:v0:G5 melody:v0:G4 melody:v100:F4 melody:v100:F5 accomp0:v0:D3 accomp0:v0:G3 accomp0:v0:G2 accomp0:v100:G2 accomp0:v100:G3 accomp0:v100:D3 wait:24 melody:v0:F5 melody:v0:F4 melody:v100:G4 melody:v100:G5 wait:24 accomp0:v0:D3 accomp0:v0:G3 accomp0:v0:G2 accomp0:v100:G2 accomp0:v100:G3 accomp0:v100:D3 wait:24 melody:v0:G5 melody:v0:G4 wait:24 melody:v100:A4 melody:v100:A5 accomp0:v0:D3 accomp0:v0:G3 accomp0:v0:G2 accomp0:v100:B-2 accomp0:v100:B-3 accomp0:v100:F3 wait:48 [85] melody:v0:A4 melody:v0:A5 accomp0:v0:F3 accomp0:v0:B-3 accomp0:v0:B-2 wait:48 melody:v100:A4 melody:v100:A5 accomp0:v100:B-2 accomp0:v100:B-3 accomp0:v100:F3 wait:48 melody:v0:A4 melody:v0:A5 melody:v100:A4 melody:v100:A5 accomp0:v0:B-2 accomp0:v0:B-3 accomp0:v0:F3 wait:48 melody:v0:A5 melody:v0:A4 melody:v100:C4 melody:v100:C5 accomp0:v100:F3 accomp0:v100:B-3 accomp0:v100:B-2 wait:48 melody:v0:C4 melody:v0:C5 accomp0:v0:B-2 accomp0:v0:B-3 accomp0:v0:F3 wait:48 melody:v100:C4 melody:v100:C5 accomp0:v100:B-2 accomp0:v100:B-3 accomp0:v100:F3 wait:48 melody:v0:C4 melody:v0:C5 melody:v100:F4 melody:v100:F5 accomp0:v0:B-2 accomp0:v0:B-3 accomp0:v0:F3 wait:48 melody:v0:F5 melody:v0:F4 melody:v100:G4 melody:v100:G5 accomp0:v100:F3 accomp0:v100:B-3 accomp0:v100:B-2 wait:48 melody:v0:G4 melody:v0:G5 accomp0:v0:B-2 accomp0:v0:B-3 accomp0:v0:F3 accomp0:v100:A3 accomp0:v100:D4 accomp0:v100:D3 wait:48 melody:v100:F4 melody:v100:F5 accomp0:v0:D3 accomp0:v0:D4 accomp0:v0:A3 wait:48 [84] melody:v0:F5 melody:v0:F4 melody:v100:G4 melody:v100:G5 accomp0:v100:D3 accomp0:v100:D4 accomp0:v100:A3 wait:48 melody:v0:G4 melody:v0:G5 melody:v100:F4 melody:v100:F5 accomp0:v0:A3 accomp0:v0:D4 accomp0:v0:D3 accomp0:v100:A3 accomp0:v100:D4 accomp0:v100:D3 wait:48 melody:v0:F5 melody:v0:F4 melody:v100:G4 melody:v100:G5 accomp0:v0:D3 accomp0:v0:D4 accomp0:v0:A3 accomp0:v100:D3 accomp0:v100:D4 accomp0:v100:A3 wait:48 melody:v0:G5 melody:v0:G4 melody:v100:F4 melody:v100:F5 accomp0:v0:A3 accomp0:v0:D4 accomp0:v0:D3 accomp0:v100:D3 accomp0:v100:D4 accomp0:v100:A3 wait:24 melody:v0:F5 melody:v0:F4 melody:v100:G4 melody:v100:G5 wait:24 accomp0:v0:A3 accomp0:v0:D4 accomp0:v0:D3 accomp0:v100:A3 accomp0:v100:D4 accomp0:v100:D3 wait:48 melody:v0:G5 melody:v0:G4 melody:v100:A4 melody:v100:A5 accomp0:v0:D3 accomp0:v0:D4 accomp0:v0:A3 accomp0:v100:G3 accomp0:v100:C4 accomp0:v100:C3 wait:48 melody:v0:A5 melody:v0:A4 accomp0:v0:C3 accomp0:v0:C4 accomp0:v0:G3 wait:48 melody:v100:C5 melody:v100:C6 accomp0:v100:G3 accomp0:v100:C4 accomp0:v100:C3 wait:48 melody:v0:C5 melody:v0:C6 accomp0:v0:G3 accomp0:v0:C4 accomp0:v0:C3 wait:48 [83] melody:v100:C5 melody:v100:C6 accomp0:v100:C3 accomp0:v100:C4 accomp0:v100:G3 wait:48 melody:v0:C5 melody:v0:C6 melody:v100:D5 melody:v100:D6 accomp0:v0:C3 accomp0:v0:C4 accomp0:v0:G3 wait:48 melody:v0:D6 melody:v0:D5 melody:v100:C5 melody:v100:C6 accomp0:v100:C3 accomp0:v100:C4 accomp0:v100:G3 wait:24 melody:v0:C5 melody:v0:C6 melody:v100:A4 melody:v100:A5 wait:24 accomp0:v0:G3 accomp0:v0:C4 accomp0:v0:C3 wait:24 melody:v0:A4 melody:v0:A5 wait:24 melody:v100:C5 melody:v100:C6 accomp0:v100:C4 accomp0:v100:G3 accomp0:v100:C3 wait:48 melody:v0:C5 melody:v0:C6 accomp0:v0:C4 accomp0:v0:G3 accomp0:v0:C3 accomp0:v100:D3 accomp0:v100:G3 accomp0:v100:G2 wait:48 melody:v100:F4 melody:v100:F5 accomp0:v0:G2 accomp0:v0:G3 accomp0:v0:D3 wait:48 melody:v0:F5 melody:v0:F4 melody:v100:G4 melody:v100:G5 accomp0:v100:G2 accomp0:v100:G3 accomp0:v100:D3 wait:48 melody:v0:G4 melody:v0:G5 melody:v100:F4 melody:v100:F5 accomp0:v0:D3 accomp0:v0:G3 accomp0:v0:G2 accomp0:v100:G2 accomp0:v100:G3 accomp0:v100:D3 wait:48 melody:v0:F5 melody:v0:F4 melody:v100:G4 melody:v100:G5 accomp0:v0:D3 accomp0:v0:G3 accomp0:v0:G2 accomp0:v100:G2 accomp0:v100:G3 accomp0:v100:D3 wait:48 [82] melody:v0:G5 melody:v0:G4 melody:v100:F4 melody:v100:F5 accomp0:v0:D3 accomp0:v0:G3 accomp0:v0:G2 accomp0:v100:D3 accomp0:v100:G3 accomp0:v100:G2 wait:24 melody:v0:F5 melody:v0:F4 melody:v100:G4 melody:v100:G5 wait:24 accomp0:v0:G2 accomp0:v0:G3 accomp0:v0:D3 accomp0:v100:D3 accomp0:v100:G3 accomp0:v100:G2 wait:24 melody:v0:G5 melody:v0:G4 wait:24 melody:v100:A4 melody:v100:A5 accomp0:v0:G2 accomp0:v0:G3 accomp0:v0:D3 accomp0:v100:B-2 accomp0:v100:B-3 accomp0:v100:F3 wait:48 melody:v0:A4 melody:v0:A5 accomp0:v0:F3 accomp0:v0:B-3 accomp0:v0:B-2 wait:48 melody:v100:A4 melody:v100:A5 accomp0:v100:B-2 accomp0:v100:B-3 accomp0:v100:F3 wait:48 melody:v0:A4 melody:v0:A5 melody:v100:A4 melody:v100:A5 accomp0:v0:B-2 accomp0:v0:B-3 accomp0:v0:F3 wait:48 melody:v0:A5 melody:v0:A4 melody:v100:C4 melody:v100:C5 accomp0:v100:B-2 accomp0:v100:B-3 accomp0:v100:F3 wait:48 melody:v0:C4 melody:v0:C5 accomp0:v0:F3 accomp0:v0:B-3 accomp0:v0:B-2 wait:48 melody:v100:C4 melody:v100:C5 accomp0:v100:B-2 accomp0:v100:B-3 accomp0:v100:F3 wait:48 [81] melody:v0:C4 melody:v0:C5 melody:v100:F4 melody:v100:F5 accomp0:v0:B-2 accomp0:v0:B-3 accomp0:v0:F3 wait:48 melody:v0:F5 melody:v0:F4 melody:v100:G4 melody:v100:G5 accomp0:v100:B-2 accomp0:v100:B-3 accomp0:v100:F3 wait:48 melody:v0:G4 melody:v0:G5 accomp0:v0:F3 accomp0:v0:B-3 accomp0:v0:B-2 accomp0:v100:D2 accomp0:v100:D3 accomp0:v100:A2 wait:48 melody:v100:C5 melody:v100:C6 accomp0:v0:A2 accomp0:v0:D3 accomp0:v0:D2 wait:48 melody:v0:C6 melody:v0:C5 melody:v100:C5 melody:v100:C6 accomp0:v100:D2 accomp0:v100:D3 accomp0:v100:A2 wait:48 melody:v0:C5 melody:v0:C6 melody:v100:F4 melody:v100:F5 accomp0:v0:A2 accomp0:v0:D3 accomp0:v0:D2 accomp0:v100:F2 accomp0:v100:F3 accomp0:v100:C3 wait:48 melody:v0:F5 melody:v0:F4 melody:v100:G4 melody:v100:G5 wait:48 melody:v0:G5 melody:v0:G4 melody:v100:A4 melody:v100:A5 accomp0:v0:C3 accomp0:v0:F3 accomp0:v0:F2 accomp0:v100:F2 accomp0:v100:F3 accomp0:v100:C3 wait:24 melody:v0:A5 melody:v0:A4 melody:v100:G4 melody:v100:G5 wait:48 melody:v0:G5 melody:v0:G4 wait:24 melody:v100:G4 melody:v100:G5 accomp0:v0:C3 accomp0:v0:F3 accomp0:v0:F2 accomp0:v100:F2 accomp0:v100:F3 accomp0:v100:C3 wait:48 [80] melody:v0:G4 melody:v0:G5 melody:v100:G4 melody:v100:G5 accomp0:v0:C3 accomp0:v0:F3 accomp0:v0:F2 accomp0:v100:C3 accomp0:v100:C4 accomp0:v100:G3 wait:48 melody:v0:G5 melody:v0:G4 melody:v100:A4 melody:v100:A5 wait:24 melody:v0:A5 melody:v0:A4 melody:v100:G4 melody:v100:G5 wait:24 accomp0:v0:G3 accomp0:v0:C4 accomp0:v0:C3 accomp0:v100:C3 accomp0:v100:C4 accomp0:v100:G3 wait:24 melody:v0:G5 melody:v0:G4 wait:24 melody:v100:G4 melody:v100:G5 wait:48 melody:v0:G4 melody:v0:G5 melody:v100:G4 melody:v100:G5 accomp0:v0:G3 accomp0:v0:C4 accomp0:v0:C3 accomp0:v100:C3 accomp0:v100:C4 accomp0:v100:G3 wait:48 melody:v0:G5 melody:v0:G4 melody:v100:A4 melody:v100:A5 wait:24 melody:v0:A5 melody:v0:A4 melody:v100:G4 melody:v100:G5 wait:24 accomp0:v0:G3 accomp0:v0:C4 accomp0:v0:C3 accomp0:v100:G3 accomp0:v100:C4 accomp0:v100:C3 wait:24 melody:v0:G5 melody:v0:G4 wait:24 melody:v100:F5 melody:v100:F4 wait:48 melody:v0:F5 melody:v0:F4 accomp0:v0:C3 accomp0:v0:C4 accomp0:v0:G3 accomp0:v100:G2 accomp0:v100:G3 accomp0:v100:D3 wait:48 melody:v100:F4 melody:v100:F5 accomp0:v0:D3 accomp0:v0:G3 accomp0:v0:G2 wait:48 [79] melody:v0:F5 melody:v0:F4 melody:v100:G4 melody:v100:G5 accomp0:v100:D3 accomp0:v100:G3 accomp0:v100:G2 wait:48 melody:v0:G4 melody:v0:G5 melody:v100:F4 melody:v100:F5 accomp0:v0:G2 accomp0:v0:G3 accomp0:v0:D3 accomp0:v100:G2 accomp0:v100:G3 accomp0:v100:D3 wait:48 melody:v0:F5 melody:v0:F4 melody:v100:G4 melody:v100:G5 accomp0:v0:D3 accomp0:v0:G3 accomp0:v0:G2 accomp0:v100:G2 accomp0:v100:G3 accomp0:v100:D3 wait:48 melody:v0:G5 melody:v0:G4 melody:v100:F4 melody:v100:F5 accomp0:v0:D3 accomp0:v0:G3 accomp0:v0:G2 accomp0:v100:G2 accomp0:v100:G3 accomp0:v100:D3 wait:24 melody:v0:F5 melody:v0:F4 melody:v100:G4 melody:v100:G5 wait:24 accomp0:v0:D3 accomp0:v0:G3 accomp0:v0:G2 accomp0:v100:G2 accomp0:v100:G3 accomp0:v100:D3 wait:24 melody:v0:G5 melody:v0:G4 wait:24 melody:v100:A4 melody:v100:A5 accomp0:v0:D3 accomp0:v0:G3 accomp0:v0:G2 accomp0:v100:B-2 accomp0:v100:B-3 accomp0:v100:F3 wait:48 melody:v0:A4 melody:v0:A5 accomp0:v0:F3 accomp0:v0:B-3 accomp0:v0:B-2 wait:48 melody:v100:A4 melody:v100:A5 accomp0:v100:B-2 accomp0:v100:B-3 accomp0:v100:F3 wait:48 melody:v0:A4 melody:v0:A5 melody:v100:A4 melody:v100:A5 accomp0:v0:B-2 accomp0:v0:B-3 accomp0:v0:F3 wait:48 [78] melody:v0:A5 melody:v0:A4 melody:v100:C4 melody:v100:C5 accomp0:v100:F3 accomp0:v100:B-3 accomp0:v100:B-2 wait:48 melody:v0:C4 melody:v0:C5 accomp0:v0:B-2 accomp0:v0:B-3 accomp0:v0:F3 wait:48 melody:v100:C4 melody:v100:C5 accomp0:v100:B-2 accomp0:v100:B-3 accomp0:v100:F3 wait:48 melody:v0:C4 melody:v0:C5 melody:v100:F4 melody:v100:F5 accomp0:v0:B-2 accomp0:v0:B-3 accomp0:v0:F3 wait:48 melody:v0:F5 melody:v0:F4 melody:v100:G4 melody:v100:G5 accomp0:v100:F3 accomp0:v100:B-3 accomp0:v100:B-2 wait:48 melody:v0:G4 melody:v0:G5 accomp0:v0:B-2 accomp0:v0:B-3 accomp0:v0:F3 accomp0:v100:A3 accomp0:v100:D4 accomp0:v100:D3 wait:48 melody:v100:F4 melody:v100:F5 accomp0:v0:D3 accomp0:v0:D4 accomp0:v0:A3 wait:48 melody:v0:F5 melody:v0:F4 melody:v100:G4 melody:v100:G5 accomp0:v100:D3 accomp0:v100:D4 accomp0:v100:A3 wait:48 melody:v0:G4 melody:v0:G5 melody:v100:F4 melody:v100:F5 accomp0:v0:A3 accomp0:v0:D4 accomp0:v0:D3 accomp0:v100:A3 accomp0:v100:D4 accomp0:v100:D3 wait:48 melody:v0:F5 melody:v0:F4 melody:v100:G4 melody:v100:G5 accomp0:v0:D3 accomp0:v0:D4 accomp0:v0:A3 accomp0:v100:D3 accomp0:v100:D4 accomp0:v100:A3 wait:48 [77] melody:v0:G5 melody:v0:G4 melody:v100:F4 melody:v100:F5 accomp0:v0:A3 accomp0:v0:D4 accomp0:v0:D3 accomp0:v100:D3 accomp0:v100:D4 accomp0:v100:A3 wait:24 melody:v0:F5 melody:v0:F4 melody:v100:G4 melody:v100:G5 wait:24 accomp0:v0:A3 accomp0:v0:D4 accomp0:v0:D3 accomp0:v100:A3 accomp0:v100:D4 accomp0:v100:D3 wait:48 melody:v0:G5 melody:v0:G4 melody:v100:A4 melody:v100:A5 accomp0:v0:D3 accomp0:v0:D4 accomp0:v0:A3 accomp0:v100:G3 accomp0:v100:C4 accomp0:v100:C3 wait:48 melody:v0:A5 melody:v0:A4 accomp0:v0:C3 accomp0:v0:C4 accomp0:v0:G3 wait:48 melody:v100:C5 melody:v100:C6 accomp0:v100:G3 accomp0:v100:C4 accomp0:v100:C3 wait:48 melody:v0:C5 melody:v0:C6 accomp0:v0:G3 accomp0:v0:C4 accomp0:v0:C3 wait:48 melody:v100:C5 melody:v100:C6 accomp0:v100:C3 accomp0:v100:C4 accomp0:v100:G3 wait:48 melody:v0:C5 melody:v0:C6 melody:v100:D5 melody:v100:D6 accomp0:v0:C3 accomp0:v0:C4 accomp0:v0:G3 wait:48 melody:v0:D6 melody:v0:D5 melody:v100:C5 melody:v100:C6 accomp0:v100:C3 accomp0:v100:C4 accomp0:v100:G3 wait:24 melody:v0:C5 melody:v0:C6 melody:v100:A4 melody:v100:A5 wait:24 [76] accomp0:v0:G3 accomp0:v0:C4 accomp0:v0:C3 wait:24 melody:v0:A4 melody:v0:A5 wait:24 melody:v100:C5 melody:v100:C6 accomp0:v100:C4 accomp0:v100:G3 accomp0:v100:C3 wait:48 melody:v0:C5 melody:v0:C6 accomp0:v0:C4 accomp0:v0:G3 accomp0:v0:C3 accomp0:v100:D3 accomp0:v100:G3 accomp0:v100:G2 wait:48 melody:v100:F4 melody:v100:F5 accomp0:v0:G2 accomp0:v0:G3 accomp0:v0:D3 wait:48 melody:v0:F5 melody:v0:F4 melody:v100:G4 melody:v100:G5 accomp0:v100:G2 accomp0:v100:G3 accomp0:v100:D3 wait:48 melody:v0:G4 melody:v0:G5 melody:v100:F4 melody:v100:F5 accomp0:v0:D3 accomp0:v0:G3 accomp0:v0:G2 accomp0:v100:G2 accomp0:v100:G3 accomp0:v100:D3 wait:48 melody:v0:F5 melody:v0:F4 melody:v100:G4 melody:v100:G5 accomp0:v0:D3 accomp0:v0:G3 accomp0:v0:G2 accomp0:v100:G2 accomp0:v100:G3 accomp0:v100:D3 wait:48 melody:v0:G5 melody:v0:G4 melody:v100:F4 melody:v100:F5 accomp0:v0:D3 accomp0:v0:G3 accomp0:v0:G2 accomp0:v100:D3 accomp0:v100:G3 accomp0:v100:G2 wait:24 melody:v0:F5 melody:v0:F4 melody:v100:G4 melody:v100:G5 wait:24 accomp0:v0:G2 accomp0:v0:G3 accomp0:v0:D3 accomp0:v100:D3 accomp0:v100:G3 accomp0:v100:G2 wait:24 melody:v0:G5 melody:v0:G4 wait:24 melody:v100:A4 melody:v100:A5 accomp0:v0:G2 accomp0:v0:G3 accomp0:v0:D3 accomp0:v100:B-2 accomp0:v100:B-3 accomp0:v100:F3 wait:48 [75] melody:v0:A4 melody:v0:A5 accomp0:v0:F3 accomp0:v0:B-3 accomp0:v0:B-2 wait:48 melody:v100:A4 melody:v100:A5 accomp0:v100:B-2 accomp0:v100:B-3 accomp0:v100:F3 wait:48 melody:v0:A4 melody:v0:A5 melody:v100:A4 melody:v100:A5 accomp0:v0:B-2 accomp0:v0:B-3 accomp0:v0:F3 wait:48 melody:v0:A5 melody:v0:A4 melody:v100:C4 melody:v100:C5 accomp0:v100:B-2 accomp0:v100:B-3 accomp0:v100:F3 wait:48 melody:v0:C4 melody:v0:C5 accomp0:v0:F3 accomp0:v0:B-3 accomp0:v0:B-2 wait:48 melody:v100:C4 melody:v100:C5 accomp0:v100:B-2 accomp0:v100:B-3 accomp0:v100:F3 wait:48 melody:v0:C4 melody:v0:C5 melody:v100:F4 melody:v100:F5 accomp0:v0:B-2 accomp0:v0:B-3 accomp0:v0:F3 wait:48 melody:v0:F5 melody:v0:F4 melody:v100:G4 melody:v100:G5 accomp0:v100:B-2 accomp0:v100:B-3 accomp0:v100:F3 wait:48 melody:v0:G4 melody:v0:G5 accomp0:v0:F3 accomp0:v0:B-3 accomp0:v0:B-2 accomp0:v100:D2 accomp0:v100:D3 accomp0:v100:A2 wait:48 [74] melody:v100:C5 melody:v100:C6 accomp0:v0:A2 accomp0:v0:D3 accomp0:v0:D2 wait:48 melody:v0:C6 melody:v0:C5 melody:v100:C5 melody:v100:C6 accomp0:v100:D2 accomp0:v100:D3 accomp0:v100:A2 wait:48 melody:v0:C5 melody:v0:C6 melody:v100:F4 melody:v100:F5 accomp0:v0:A2 accomp0:v0:D3 accomp0:v0:D2 accomp0:v100:F2 accomp0:v100:F3 accomp0:v100:C3 wait:48 melody:v0:F5 melody:v0:F4 melody:v100:G4 melody:v100:G5 wait:48 melody:v0:G5 melody:v0:G4 melody:v100:A4 melody:v100:A5 accomp0:v0:C3 accomp0:v0:F3 accomp0:v0:F2 accomp0:v100:F2 accomp0:v100:F3 accomp0:v100:C3 wait:24 melody:v0:A5 melody:v0:A4 melody:v100:G4 melody:v100:G5 wait:48 melody:v0:G5 melody:v0:G4 wait:24 melody:v100:G4 melody:v100:G5 accomp0:v0:C3 accomp0:v0:F3 accomp0:v0:F2 accomp0:v100:F2 accomp0:v100:F3 accomp0:v100:C3 wait:48 melody:v0:G4 melody:v0:G5 melody:v100:G4 melody:v100:G5 accomp0:v0:C3 accomp0:v0:F3 accomp0:v0:F2 accomp0:v100:C3 accomp0:v100:C4 accomp0:v100:G3 wait:48 melody:v0:G5 melody:v0:G4 melody:v100:A4 melody:v100:A5 wait:24 melody:v0:A5 melody:v0:A4 melody:v100:G4 melody:v100:G5 wait:24 accomp0:v0:G3 accomp0:v0:C4 accomp0:v0:C3 accomp0:v100:C3 accomp0:v100:C4 accomp0:v100:G3 wait:24 [73] melody:v0:G5 melody:v0:G4 wait:24 melody:v100:G4 melody:v100:G5 wait:48 melody:v0:G4 melody:v0:G5 melody:v100:G4 melody:v100:G5 accomp0:v0:G3 accomp0:v0:C4 accomp0:v0:C3 accomp0:v100:C3 accomp0:v100:C4 accomp0:v100:G3 wait:48 melody:v0:G5 melody:v0:G4 melody:v100:A4 melody:v100:A5 wait:24 melody:v0:A5 melody:v0:A4 melody:v100:G4 melody:v100:G5 wait:24 accomp0:v0:G3 accomp0:v0:C4 accomp0:v0:C3 accomp0:v100:G3 accomp0:v100:C4 accomp0:v100:C3 wait:24 melody:v0:G5 melody:v0:G4 wait:24 melody:v100:F5 melody:v100:F4 wait:48 melody:v0:F5 melody:v0:F4 melody:v98:C5 accomp0:v0:C3 accomp0:v0:C4 accomp0:v0:G3 accomp0:v100:G2 accomp0:v100:G3 accomp0:v100:D3 wait:48 melody:v0:C5 melody:v98:F5 accomp0:v0:D3 accomp0:v0:G3 accomp0:v0:G2 wait:48 melody:v0:F5 melody:v98:F5 accomp0:v100:G2 accomp0:v100:G3 accomp0:v100:D3 wait:48 melody:v0:F5 melody:v98:D5 accomp0:v0:D3 accomp0:v0:G2 accomp0:v0:G3 accomp0:v100:G2 accomp0:v100:G3 accomp0:v100:D3 wait:48 [72] melody:v0:D5 melody:v98:F5 accomp0:v0:D3 accomp0:v0:G3 accomp0:v0:G2 accomp0:v100:G2 accomp0:v100:G3 accomp0:v100:D3 wait:48 melody:v0:F5 melody:v98:F5 accomp0:v0:D3 accomp0:v0:G3 accomp0:v0:G2 accomp0:v100:G2 accomp0:v100:G3 accomp0:v100:D3 wait:48 melody:v0:F5 melody:v98:D5 accomp0:v0:D3 accomp0:v0:G3 accomp0:v0:G2 accomp0:v100:D3 accomp0:v100:G3 accomp0:v100:G2 wait:48 melody:v0:D5 melody:v98:F5 accomp0:v0:G2 accomp0:v0:G3 accomp0:v0:D3 accomp0:v100:F3 accomp0:v100:B-3 accomp0:v100:B-2 wait:48 melody:v0:F5 accomp0:v0:B-2 accomp0:v0:B-3 accomp0:v0:F3 wait:48 melody:v98:F5 accomp0:v100:B-2 accomp0:v100:B-3 accomp0:v100:F3 wait:48 melody:v0:F5 melody:v98:F5 accomp0:v0:B-2 accomp0:v0:B-3 accomp0:v0:F3 wait:48 melody:v0:F5 melody:v98:D5 accomp0:v100:B-2 accomp0:v100:B-3 accomp0:v100:F3 wait:48 melody:v0:D5 melody:v98:F5 accomp0:v0:F3 accomp0:v0:B-2 accomp0:v0:B-3 wait:48 melody:v0:F5 melody:v98:F5 accomp0:v100:B-2 accomp0:v100:B-3 accomp0:v100:F3 wait:48 [71] melody:v0:F5 melody:v98:D5 accomp0:v0:F3 accomp0:v0:B-2 accomp0:v0:B-3 wait:48 melody:v0:D5 melody:v98:F5 accomp0:v100:F3 accomp0:v100:B-3 accomp0:v100:B-2 wait:48 melody:v0:F5 accomp0:v0:B-2 accomp0:v0:F3 accomp0:v0:B-3 accomp0:v100:A3 accomp0:v100:D4 accomp0:v100:D3 wait:48 melody:v98:F5 accomp0:v0:D3 accomp0:v0:D4 accomp0:v0:A3 wait:48 melody:v0:F5 melody:v98:F5 accomp0:v100:A3 accomp0:v100:D4 accomp0:v100:D3 wait:48 melody:v0:F5 melody:v98:D5 accomp0:v0:D3 accomp0:v0:A3 accomp0:v0:D4 accomp0:v100:A3 accomp0:v100:D4 accomp0:v100:D3 wait:48 melody:v0:D5 melody:v98:F5 accomp0:v0:D3 accomp0:v0:D4 accomp0:v0:A3 accomp0:v100:D3 accomp0:v100:D4 accomp0:v100:A3 wait:48 melody:v0:F5 melody:v98:F5 accomp0:v0:A3 accomp0:v0:D4 accomp0:v0:D3 accomp0:v100:A3 accomp0:v100:D4 accomp0:v100:D3 wait:48 melody:v0:F5 melody:v98:D5 accomp0:v0:D3 accomp0:v0:D4 accomp0:v0:A3 accomp0:v100:D3 accomp0:v100:D4 accomp0:v100:A3 wait:48 [70] melody:v0:D5 melody:v98:C5 accomp0:v0:A3 accomp0:v0:D4 accomp0:v0:D3 accomp0:v100:C3 accomp0:v100:C4 accomp0:v100:G3 wait:48 melody:v0:C5 accomp0:v0:G3 accomp0:v0:C4 accomp0:v0:C3 wait:48 melody:v98:F5 accomp0:v100:G3 accomp0:v100:C4 accomp0:v100:C3 wait:48 melody:v0:F5 melody:v98:F5 accomp0:v0:G3 accomp0:v0:C4 accomp0:v0:C3 wait:48 melody:v0:F5 melody:v98:F5 accomp0:v100:G3 accomp0:v100:C4 accomp0:v100:C3 wait:48 melody:v0:F5 melody:v98:F5 accomp0:v0:C3 accomp0:v0:G3 accomp0:v0:C4 wait:48 melody:v0:F5 melody:v98:C5 accomp0:v100:G3 accomp0:v100:C4 accomp0:v100:C3 wait:48 melody:v0:C5 melody:v98:G4 accomp0:v0:C3 accomp0:v0:G3 accomp0:v0:C4 wait:48 melody:v0:G4 melody:v98:A4 accomp0:v100:C4 accomp0:v100:G3 accomp0:v100:C3 wait:48 melody:v0:A4 melody:v98:C5 accomp0:v0:C3 accomp0:v0:C4 accomp0:v0:G3 accomp0:v100:G2 accomp0:v100:G3 accomp0:v100:D3 wait:48 [69] melody:v0:C5 melody:v98:F5 accomp0:v0:D3 accomp0:v0:G3 accomp0:v0:G2 wait:48 melody:v0:F5 melody:v98:F5 accomp0:v100:G2 accomp0:v100:G3 accomp0:v100:D3 wait:48 melody:v0:F5 melody:v98:D5 accomp0:v0:D3 accomp0:v0:G2 accomp0:v0:G3 accomp0:v100:D3 accomp0:v100:G3 accomp0:v100:G2 wait:48 melody:v0:D5 melody:v98:F5 accomp0:v0:G2 accomp0:v0:G3 accomp0:v0:D3 accomp0:v100:G2 accomp0:v100:G3 accomp0:v100:D3 wait:48 melody:v0:F5 melody:v98:F5 accomp0:v0:D3 accomp0:v0:G3 accomp0:v0:G2 accomp0:v100:G2 accomp0:v100:G3 accomp0:v100:D3 wait:48 melody:v0:F5 melody:v98:D5 accomp0:v0:D3 accomp0:v0:G3 accomp0:v0:G2 accomp0:v100:G2 accomp0:v100:G3 accomp0:v100:D3 wait:48 melody:v0:D5 melody:v98:F5 accomp0:v0:D3 accomp0:v0:G3 accomp0:v0:G2 accomp0:v100:F3 accomp0:v100:B-3 accomp0:v100:B-2 wait:48 melody:v0:F5 accomp0:v0:B-2 accomp0:v0:B-3 accomp0:v0:F3 wait:48 melody:v98:F5 accomp0:v100:B-2 accomp0:v100:B-3 accomp0:v100:F3 wait:48 [68] melody:v0:F5 melody:v98:F5 accomp0:v0:B-2 accomp0:v0:B-3 accomp0:v0:F3 wait:48 melody:v0:F5 melody:v98:D5 accomp0:v100:F3 accomp0:v100:B-3 accomp0:v100:B-2 wait:48 melody:v0:D5 melody:v98:F5 accomp0:v0:B-2 accomp0:v0:F3 accomp0:v0:B-3 wait:48 melody:v0:F5 melody:v98:A4 accomp0:v100:B-2 accomp0:v100:B-3 accomp0:v100:F3 wait:48 melody:v0:A4 melody:v98:D5 accomp0:v0:F3 accomp0:v0:B-2 accomp0:v0:B-3 wait:48 melody:v0:D5 melody:v98:F5 accomp0:v100:F3 accomp0:v100:B-3 accomp0:v100:B-2 wait:48 melody:v0:F5 accomp0:v0:B-2 accomp0:v0:F3 accomp0:v0:B-3 accomp0:v100:A2 accomp0:v100:D3 accomp0:v100:D2 wait:48 melody:v98:F5 accomp0:v0:D2 accomp0:v0:D3 accomp0:v0:A2 wait:48 melody:v0:F5 melody:v98:F5 accomp0:v100:A2 accomp0:v100:D3 accomp0:v100:D2 wait:48 melody:v0:F5 melody:v98:D5 accomp0:v0:D2 accomp0:v0:A2 accomp0:v0:D3 accomp0:v100:F2 accomp0:v100:F3 accomp0:v100:C3 wait:48 [67] melody:v0:D5 melody:v98:G5 wait:48 melody:v0:G5 melody:v98:G5 accomp0:v0:C3 accomp0:v0:F3 accomp0:v0:F2 accomp0:v100:F2 accomp0:v100:F3 accomp0:v100:C3 wait:48 melody:v0:G5 melody:v98:F5 wait:48 melody:v0:F5 melody:v98:G5 accomp0:v0:C3 accomp0:v0:F3 accomp0:v0:F2 accomp0:v100:C3 accomp0:v100:F3 accomp0:v100:F2 wait:48 melody:v0:G5 accomp0:v0:F2 accomp0:v0:F3 accomp0:v0:C3 accomp0:v100:C3 accomp0:v100:C4 accomp0:v100:G3 wait:48 melody:v98:G5 wait:48 melody:v0:G5 accomp0:v0:G3 accomp0:v0:C4 accomp0:v0:C3 accomp0:v100:G3 accomp0:v100:C4 accomp0:v100:C3 wait:48 melody:v98:G5 wait:24 melody:v0:G5 melody:v98:A5 wait:24 accomp0:v0:C3 accomp0:v0:C4 accomp0:v0:G3 accomp0:v100:C3 accomp0:v100:C4 accomp0:v100:G3 wait:24 melody:v0:A5 wait:24 [66] melody:v98:A5 wait:48 melody:v0:A5 melody:v98:F5 accomp0:v0:G3 accomp0:v0:C4 accomp0:v0:C3 accomp0:v100:C3 accomp0:v100:C4 accomp0:v100:G3 wait:48 melody:v0:F5 melody:v98:D5 wait:48 melody:v0:D5 accomp0:v0:G3 accomp0:v0:C4 accomp0:v0:C3 accomp0:v100:G2 wait:336 [65] accomp0:v0:G2 accomp0:v100:B-2 wait:432 [64] accomp0:v0:B-2 accomp0:v100:D3 wait:336 accomp0:v0:D3 accomp0:v100:C3 wait:432 [63] accomp0:v0:C3 accomp0:v100:G4 accomp0:v100:B-3 accomp0:v100:D4 wait:48 melody:v100:F5 wait:48 melody:v0:F5 wait:48 [62] melody:v100:F5 wait:48 melody:v0:F5 wait:48 melody:v100:F5 wait:48 melody:v0:F5 wait:48 melody:v100:F5 wait:48 melody:v0:F5 accomp0:v0:D4 accomp0:v0:G4 accomp0:v0:B-3 accomp0:v100:F4 accomp0:v100:B-3 accomp0:v100:D4 wait:48 melody:v100:F5 wait:48 melody:v0:F5 wait:48 melody:v100:F5 wait:48 melody:v0:F5 wait:48 [61] melody:v100:F5 wait:48 melody:v0:F5 wait:48 melody:v100:C6 wait:48 melody:v0:C6 accomp0:v0:D4 accomp0:v0:B-3 accomp0:v0:F4 accomp0:v100:F4 accomp0:v100:A3 accomp0:v100:D4 wait:48 melody:v100:F5 wait:48 melody:v0:F5 wait:48 melody:v100:F5 wait:48 melody:v0:F5 wait:48 melody:v100:F5 wait:48 [60] melody:v0:F5 wait:48 melody:v100:F5 wait:48 melody:v0:F5 accomp0:v0:D4 accomp0:v0:A3 accomp0:v0:F4 accomp0:v100:E4 accomp0:v100:G3 accomp0:v100:C4 wait:48 melody:v100:F5 wait:48 melody:v0:F5 wait:48 melody:v100:F5 wait:48 melody:v0:F5 wait:48 melody:v100:F5 wait:4 melody:v100:G5 wait:8 melody:v0:F5 wait:40 melody:v0:G5 wait:44 melody:v100:F5 wait:48 [59] melody:v0:F5 accomp0:v0:C4 accomp0:v0:G3 accomp0:v0:E4 accomp0:v100:D4 accomp0:v100:B-3 accomp0:v100:G4 wait:48 melody:v100:F5 wait:48 melody:v0:F5 wait:48 melody:v100:F5 wait:48 melody:v0:F5 wait:48 melody:v100:F5 wait:48 melody:v0:F5 wait:48 melody:v100:F5 wait:48 melody:v0:F5 accomp0:v0:G4 accomp0:v0:B-3 accomp0:v0:D4 accomp0:v100:B-3 accomp0:v100:F4 accomp0:v100:D4 wait:48 [58] melody:v100:F5 wait:48 melody:v0:F5 wait:48 melody:v100:F5 wait:48 melody:v0:F5 wait:48 melody:v100:C5 wait:48 melody:v0:C5 wait:48 melody:v100:F5 wait:48 melody:v0:F5 accomp0:v0:D4 accomp0:v0:F4 accomp0:v0:B-3 accomp0:v100:F3 accomp0:v100:D4 accomp0:v100:A3 wait:48 melody:v100:F5 wait:48 melody:v0:F5 wait:48 [57] melody:v100:F5 wait:48 melody:v0:F5 accomp0:v0:A3 accomp0:v0:D4 accomp0:v0:F3 accomp0:v100:F4 accomp0:v100:A3 accomp0:v100:C4 wait:48 melody:v100:F5 wait:48 melody:v0:F5 wait:48 melody:v100:F5 wait:48 melody:v0:F5 accomp0:v0:C4 accomp0:v0:A3 accomp0:v0:F4 accomp0:v100:E4 accomp0:v100:G3 accomp0:v100:C4 wait:48 melody:v100:F5 wait:48 melody:v0:F5 wait:48 melody:v100:F5 wait:48 [56] melody:v0:F5 wait:48 melody:v100:E6 wait:48 melody:v0:E6 wait:48 melody:v100:C6 wait:48 melody:v0:C6 melody:v100:C6 accomp0:v0:C4 accomp0:v0:G3 accomp0:v0:E4 accomp0:v100:G4 accomp0:v100:B-3 accomp0:v100:D4 wait:240 melody:v0:C6 melody:v100:C5 wait:96 [55] melody:v0:C5 melody:v100:B-5 wait:48 accomp0:v0:D4 accomp0:v0:B-3 accomp0:v0:G4 accomp0:v100:F4 accomp0:v100:B-3 accomp0:v100:D4 wait:240 melody:v0:B-5 melody:v100:B-4 wait:96 melody:v0:B-4 melody:v100:C6 wait:48 [54] accomp0:v0:D4 accomp0:v0:B-3 accomp0:v0:F4 accomp0:v100:F4 accomp0:v100:A3 accomp0:v100:D4 wait:48 melody:v0:C6 melody:v100:A5 wait:48 melody:v0:A5 wait:48 melody:v100:A5 wait:96 melody:v0:A5 melody:v100:C5 wait:96 melody:v0:C5 melody:v100:F5 wait:48 accomp0:v0:F4 accomp0:v0:D4 accomp0:v0:A3 accomp0:v100:E4 accomp0:v100:G3 accomp0:v100:C4 wait:384 [53] melody:v0:F5 melody:v100:C6 accomp0:v0:C4 accomp0:v0:G3 accomp0:v0:E4 accomp0:v100:D4 accomp0:v100:B-3 accomp0:v100:G4 wait:240 [52] melody:v0:C6 melody:v100:C5 wait:96 melody:v0:C5 melody:v100:B-5 wait:48 accomp0:v0:G4 accomp0:v0:B-3 accomp0:v0:D4 accomp0:v100:B-3 accomp0:v100:F4 accomp0:v100:D4 wait:240 [51] melody:v0:B-5 melody:v100:B-4 wait:96 melody:v0:B-4 melody:v100:C6 wait:48 accomp0:v0:D4 accomp0:v0:F4 accomp0:v0:B-3 accomp0:v100:F4 accomp0:v100:A3 accomp0:v100:D4 wait:48 melody:v0:C6 melody:v100:A5 wait:48 melody:v0:A5 wait:48 melody:v100:A5 wait:48 accomp0:v0:F4 accomp0:v0:D4 accomp0:v0:A3 accomp0:v100:A3 accomp0:v100:C4 accomp0:v100:F4 wait:48 melody:v0:A5 melody:v100:C5 wait:96 [50] melody:v0:C5 melody:v100:F5 wait:48 accomp0:v0:F4 accomp0:v0:C4 accomp0:v0:A3 accomp0:v100:E4 accomp0:v100:G3 accomp0:v100:C4 wait:384 [49] melody:v0:F5 accomp0:v0:C4 accomp0:v0:G3 accomp0:v0:E4 accomp0:v100:G4 accomp0:v100:B-3 accomp0:v100:D4 wait:48 melody:v100:F5 wait:48 melody:v0:F5 melody:v100:G5 wait:48 melody:v0:G5 melody:v100:F5 wait:48 melody:v0:F5 melody:v100:G5 wait:48 melody:v0:G5 melody:v100:F5 wait:24 melody:v0:F5 melody:v100:G5 wait:48 melody:v0:G5 wait:24 melody:v100:A5 accomp0:v0:D4 accomp0:v0:B-3 accomp0:v0:G4 accomp0:v100:B-4 accomp0:v100:F4 accomp0:v100:D4 wait:48 melody:v0:A5 wait:48 [48] melody:v100:A5 wait:48 melody:v0:A5 melody:v100:A5 wait:48 melody:v0:A5 melody:v100:C5 wait:48 melody:v0:C5 wait:48 melody:v100:C5 wait:48 melody:v0:C5 melody:v100:F5 wait:48 melody:v0:F5 melody:v100:G5 wait:48 melody:v0:G5 accomp0:v0:D4 accomp0:v0:F4 accomp0:v0:B-4 accomp0:v100:A4 accomp0:v100:F4 accomp0:v100:D4 wait:48 melody:v100:F5 wait:48 [47] melody:v0:F5 melody:v100:G5 wait:48 melody:v0:G5 melody:v100:F5 wait:48 melody:v0:F5 melody:v100:G5 wait:48 melody:v0:G5 melody:v100:F5 wait:24 melody:v0:F5 melody:v100:G5 wait:72 melody:v0:G5 melody:v100:A5 accomp0:v0:D4 accomp0:v0:F4 accomp0:v0:A4 accomp0:v100:G4 accomp0:v100:E4 accomp0:v100:C4 wait:48 melody:v0:A5 wait:48 melody:v100:C6 wait:48 melody:v0:C6 wait:48 melody:v100:C6 wait:48 [46] melody:v0:C6 melody:v100:D6 wait:48 melody:v0:D6 melody:v100:C6 wait:24 melody:v0:C6 melody:v100:A5 wait:48 melody:v0:A5 wait:24 melody:v100:C6 wait:48 melody:v0:C6 accomp0:v0:C4 accomp0:v0:E4 accomp0:v0:G4 accomp0:v100:D4 accomp0:v100:B-3 accomp0:v100:G4 wait:48 melody:v100:F5 wait:48 melody:v0:F5 melody:v100:G5 wait:48 melody:v0:G5 melody:v100:F5 wait:48 melody:v0:F5 melody:v100:G5 wait:48 [45] melody:v0:G5 melody:v100:F5 wait:24 melody:v0:F5 melody:v100:G5 wait:48 melody:v0:G5 wait:24 melody:v100:A5 accomp0:v0:G4 accomp0:v0:B-3 accomp0:v0:D4 accomp0:v100:B-4 accomp0:v100:F4 accomp0:v100:D4 wait:48 melody:v0:A5 wait:48 melody:v100:A5 wait:48 melody:v0:A5 melody:v100:A5 wait:48 melody:v0:A5 melody:v100:C5 wait:48 melody:v0:C5 wait:48 melody:v100:C5 wait:48 melody:v0:C5 melody:v100:F5 wait:48 [44] melody:v0:F5 melody:v100:G5 wait:48 melody:v0:G5 accomp0:v0:D4 accomp0:v0:F4 accomp0:v0:B-4 accomp0:v100:F4 accomp0:v100:A3 accomp0:v100:D4 wait:48 melody:v100:C6 wait:48 melody:v0:C6 melody:v100:C6 wait:48 melody:v0:C6 melody:v100:F5 wait:48 melody:v0:F5 melody:v100:G5 accomp0:v0:D4 accomp0:v0:A3 accomp0:v0:F4 accomp0:v100:A4 accomp0:v100:C4 accomp0:v100:F4 wait:48 melody:v0:G5 melody:v100:A5 wait:24 melody:v0:A5 melody:v100:G5 wait:48 melody:v0:G5 wait:24 melody:v100:G5 wait:48 [43] melody:v0:G5 melody:v100:G5 accomp0:v0:F4 accomp0:v0:C4 accomp0:v0:A4 accomp0:v100:G4 accomp0:v100:E4 accomp0:v100:C4 wait:48 melody:v0:G5 melody:v100:A5 wait:24 melody:v0:A5 melody:v100:G5 wait:48 melody:v0:G5 wait:24 melody:v100:G5 wait:48 melody:v0:G5 melody:v100:G5 wait:48 melody:v0:G5 melody:v100:A5 wait:24 melody:v0:A5 melody:v100:G5 wait:48 melody:v0:G5 wait:24 melody:v100:F5 wait:48 melody:v0:F5 accomp0:v0:C4 accomp0:v0:E4 accomp0:v0:G4 accomp0:v100:G4 accomp0:v100:B-3 accomp0:v100:D4 wait:48 melody:v100:F5 wait:48 [42] melody:v0:F5 melody:v100:G5 wait:48 melody:v0:G5 melody:v100:F5 wait:48 melody:v0:F5 melody:v100:G5 wait:48 melody:v0:G5 melody:v100:F5 wait:24 melody:v0:F5 melody:v100:G5 wait:48 melody:v0:G5 wait:24 melody:v100:A5 accomp0:v0:D4 accomp0:v0:B-3 accomp0:v0:G4 accomp0:v100:B-4 accomp0:v100:F4 accomp0:v100:D4 wait:48 melody:v0:A5 wait:48 melody:v100:A5 wait:48 melody:v0:A5 melody:v100:A5 wait:48 [41] melody:v0:A5 melody:v100:C5 wait:48 melody:v0:C5 wait:48 melody:v100:C5 wait:48 melody:v0:C5 melody:v100:F5 wait:48 melody:v0:F5 melody:v100:G5 wait:48 melody:v0:G5 accomp0:v0:D4 accomp0:v0:F4 accomp0:v0:B-4 accomp0:v100:A4 accomp0:v100:F4 accomp0:v100:D4 wait:48 melody:v100:F5 wait:48 melody:v0:F5 melody:v100:G5 wait:48 melody:v0:G5 melody:v100:F5 wait:48 melody:v0:F5 melody:v100:G5 wait:48 [40] melody:v0:G5 melody:v100:F5 wait:24 melody:v0:F5 melody:v100:G5 wait:72 melody:v0:G5 melody:v100:A5 accomp0:v0:D4 accomp0:v0:F4 accomp0:v0:A4 accomp0:v100:G4 accomp0:v100:E4 accomp0:v100:C4 wait:48 melody:v0:A5 wait:48 melody:v100:C6 wait:48 melody:v0:C6 wait:48 melody:v100:C6 wait:48 melody:v0:C6 melody:v97:D6 wait:48 melody:v0:D6 melody:v100:C6 wait:24 melody:v0:C6 melody:v100:A5 wait:48 [39] melody:v0:A5 wait:24 melody:v100:C6 wait:48 melody:v0:C6 accomp0:v0:C4 accomp0:v0:E4 accomp0:v0:G4 accomp0:v100:D4 accomp0:v100:B-3 accomp0:v100:G4 wait:48 melody:v100:F5 wait:48 melody:v0:F5 melody:v100:G5 wait:48 melody:v0:G5 melody:v100:F5 wait:48 melody:v0:F5 melody:v100:G5 wait:48 melody:v0:G5 melody:v100:F5 wait:24 melody:v0:F5 melody:v100:G5 wait:48 melody:v0:G5 wait:24 melody:v100:A5 accomp0:v0:G4 accomp0:v0:B-3 accomp0:v0:D4 accomp0:v100:B-4 accomp0:v100:F4 accomp0:v100:D4 wait:48 [38] melody:v0:A5 wait:48 melody:v100:A5 wait:48 melody:v0:A5 melody:v100:A5 wait:48 melody:v0:A5 melody:v100:C5 wait:48 melody:v0:C5 wait:48 melody:v100:C5 wait:48 melody:v0:C5 melody:v100:F5 wait:48 melody:v0:F5 melody:v100:G5 wait:48 melody:v0:G5 accomp0:v0:D4 accomp0:v0:F4 accomp0:v0:B-4 accomp0:v100:F4 accomp0:v100:A3 accomp0:v100:D4 wait:48 [37] melody:v100:C6 wait:48 melody:v0:C6 melody:v100:C6 wait:48 melody:v0:C6 melody:v100:F5 wait:48 melody:v0:F5 melody:v100:G5 accomp0:v0:D4 accomp0:v0:A3 accomp0:v0:F4 accomp0:v100:A4 accomp0:v100:C4 accomp0:v100:F4 wait:48 melody:v0:G5 melody:v100:A5 wait:24 melody:v0:A5 melody:v100:G5 wait:48 melody:v0:G5 wait:24 melody:v100:G5 wait:48 melody:v0:G5 melody:v100:G5 accomp0:v0:F4 accomp0:v0:C4 accomp0:v0:A4 accomp0:v100:C4 accomp0:v100:E4 accomp0:v100:G4 wait:48 melody:v0:G5 melody:v100:A5 wait:24 melody:v0:A5 melody:v100:G5 wait:48 [36] melody:v0:G5 wait:24 melody:v100:G5 wait:48 melody:v0:G5 melody:v100:G5 accomp0:v0:C4 accomp0:v0:G4 accomp0:v0:E4 wait:48 melody:v0:G5 melody:v100:A5 wait:24 melody:v0:A5 melody:v100:G5 wait:48 melody:v0:G5 wait:24 melody:v100:F5 wait:48 melody:v0:F5 accomp0:v100:G2 accomp0:v100:G3 accomp0:v100:D3 wait:48 melody:v100:F4 melody:v100:F5 accomp0:v0:D3 accomp0:v0:G2 accomp0:v0:G3 wait:48 melody:v0:F5 melody:v0:F4 melody:v100:G4 melody:v100:G5 accomp0:v100:D3 accomp0:v100:G3 accomp0:v100:G2 wait:48 melody:v0:G4 melody:v0:G5 melody:v100:F4 melody:v100:F5 accomp0:v0:G2 accomp0:v0:G3 accomp0:v0:D3 accomp0:v100:G2 accomp0:v100:G3 accomp0:v100:D3 wait:48 [35] melody:v0:F5 melody:v0:F4 melody:v100:G4 melody:v100:G5 accomp0:v0:D3 accomp0:v0:G3 accomp0:v0:G2 accomp0:v100:G2 accomp0:v100:G3 accomp0:v100:D3 wait:48 melody:v0:G5 melody:v0:G4 melody:v100:F4 melody:v100:F5 accomp0:v0:D3 accomp0:v0:G3 accomp0:v0:G2 accomp0:v100:G2 accomp0:v100:G3 accomp0:v100:D3 wait:24 melody:v0:F5 melody:v0:F4 melody:v100:G4 melody:v100:G5 wait:24 accomp0:v0:D3 accomp0:v0:G3 accomp0:v0:G2 accomp0:v100:G2 accomp0:v100:G3 accomp0:v100:D3 wait:24 melody:v0:G5 melody:v0:G4 wait:24 melody:v100:A4 melody:v100:A5 accomp0:v0:D3 accomp0:v0:G3 accomp0:v0:G2 accomp0:v100:B-2 accomp0:v100:B-3 accomp0:v100:F3 wait:48 melody:v0:A4 melody:v0:A5 accomp0:v0:F3 accomp0:v0:B-3 accomp0:v0:B-2 wait:48 melody:v100:A4 melody:v100:A5 accomp0:v100:B-2 accomp0:v100:B-3 accomp0:v100:F3 wait:48 melody:v0:A4 melody:v0:A5 melody:v100:A4 melody:v100:A5 accomp0:v0:B-2 accomp0:v0:B-3 accomp0:v0:F3 wait:48 melody:v0:A5 melody:v0:A4 melody:v100:C4 melody:v100:C5 accomp0:v100:F3 accomp0:v100:B-3 accomp0:v100:B-2 wait:48 melody:v0:C4 melody:v0:C5 accomp0:v0:B-2 accomp0:v0:B-3 accomp0:v0:F3 wait:48 melody:v100:C4 melody:v100:C5 accomp0:v100:B-2 accomp0:v100:B-3 accomp0:v100:F3 wait:48 [34] melody:v0:C4 melody:v0:C5 melody:v100:F4 melody:v100:F5 accomp0:v0:B-2 accomp0:v0:B-3 accomp0:v0:F3 wait:48 melody:v0:F5 melody:v0:F4 melody:v100:G4 melody:v100:G5 accomp0:v100:F3 accomp0:v100:B-3 accomp0:v100:B-2 wait:48 melody:v0:G4 melody:v0:G5 accomp0:v0:B-2 accomp0:v0:B-3 accomp0:v0:F3 accomp0:v100:A3 accomp0:v100:D4 accomp0:v100:D3 wait:48 melody:v100:F4 melody:v100:F5 accomp0:v0:D3 accomp0:v0:D4 accomp0:v0:A3 wait:48 melody:v0:F5 melody:v0:F4 melody:v100:G4 melody:v100:G5 accomp0:v100:D3 accomp0:v100:D4 accomp0:v100:A3 wait:48 melody:v0:G4 melody:v0:G5 melody:v100:F4 melody:v100:F5 accomp0:v0:A3 accomp0:v0:D4 accomp0:v0:D3 accomp0:v100:A3 accomp0:v100:D4 accomp0:v100:D3 wait:48 melody:v0:F5 melody:v0:F4 melody:v100:G4 melody:v100:G5 accomp0:v0:D3 accomp0:v0:D4 accomp0:v0:A3 accomp0:v100:D3 accomp0:v100:D4 accomp0:v100:A3 wait:48 melody:v0:G5 melody:v0:G4 melody:v100:F4 melody:v100:F5 accomp0:v0:A3 accomp0:v0:D4 accomp0:v0:D3 accomp0:v100:D3 accomp0:v100:D4 accomp0:v100:A3 wait:24 melody:v0:F5 melody:v0:F4 melody:v100:G4 melody:v100:G5 wait:24 accomp0:v0:A3 accomp0:v0:D4 accomp0:v0:D3 accomp0:v100:A3 accomp0:v100:D4 accomp0:v100:D3 wait:48 [33] melody:v0:G5 melody:v0:G4 melody:v100:A4 melody:v100:A5 accomp0:v0:D3 accomp0:v0:D4 accomp0:v0:A3 accomp0:v100:G3 accomp0:v100:C4 accomp0:v100:C3 wait:48 melody:v0:A5 melody:v0:A4 accomp0:v0:C3 accomp0:v0:C4 accomp0:v0:G3 wait:48 melody:v100:C5 melody:v100:C6 accomp0:v100:G3 accomp0:v100:C4 accomp0:v100:C3 wait:48 melody:v0:C5 melody:v0:C6 accomp0:v0:G3 accomp0:v0:C4 accomp0:v0:C3 wait:48 melody:v100:C5 melody:v100:C6 accomp0:v100:C3 accomp0:v100:C4 accomp0:v100:G3 wait:48 melody:v0:C5 melody:v0:C6 melody:v100:D5 melody:v100:D6 accomp0:v0:C3 accomp0:v0:C4 accomp0:v0:G3 wait:48 melody:v0:D6 melody:v0:D5 melody:v100:C5 melody:v100:C6 accomp0:v100:C3 accomp0:v100:C4 accomp0:v100:G3 wait:24 melody:v0:C5 melody:v0:C6 melody:v100:A4 melody:v100:A5 wait:24 accomp0:v0:G3 accomp0:v0:C4 accomp0:v0:C3 wait:24 melody:v0:A4 melody:v0:A5 wait:24 melody:v100:C5 melody:v100:C6 accomp0:v100:C4 accomp0:v100:G3 accomp0:v100:C3 wait:48 melody:v0:C5 melody:v0:C6 accomp0:v0:C4 accomp0:v0:G3 accomp0:v0:C3 accomp0:v100:D3 accomp0:v100:G3 accomp0:v100:G2 wait:48 [32] melody:v100:F4 melody:v100:F5 accomp0:v0:G2 accomp0:v0:G3 accomp0:v0:D3 wait:48 melody:v0:F5 melody:v0:F4 melody:v100:G4 melody:v100:G5 accomp0:v100:G2 accomp0:v100:G3 accomp0:v100:D3 wait:48 melody:v0:G4 melody:v0:G5 melody:v100:F4 melody:v100:F5 accomp0:v0:D3 accomp0:v0:G3 accomp0:v0:G2 accomp0:v100:G2 accomp0:v100:G3 accomp0:v100:D3 wait:48 melody:v0:F5 melody:v0:F4 melody:v100:G4 melody:v100:G5 accomp0:v0:D3 accomp0:v0:G3 accomp0:v0:G2 accomp0:v100:G2 accomp0:v100:G3 accomp0:v100:D3 wait:48 melody:v0:G5 melody:v0:G4 melody:v100:F4 melody:v100:F5 accomp0:v0:D3 accomp0:v0:G3 accomp0:v0:G2 accomp0:v100:D3 accomp0:v100:G3 accomp0:v100:G2 wait:24 melody:v0:F5 melody:v0:F4 melody:v100:G4 melody:v100:G5 wait:24 accomp0:v0:G2 accomp0:v0:G3 accomp0:v0:D3 accomp0:v100:D3 accomp0:v100:G3 accomp0:v100:G2 wait:24 melody:v0:G5 melody:v0:G4 wait:24 melody:v100:A4 melody:v100:A5 accomp0:v0:G2 accomp0:v0:G3 accomp0:v0:D3 accomp0:v100:B-2 accomp0:v100:B-3 accomp0:v100:F3 wait:48 melody:v0:A4 melody:v0:A5 accomp0:v0:F3 accomp0:v0:B-3 accomp0:v0:B-2 wait:48 melody:v100:A4 melody:v100:A5 accomp0:v100:B-2 accomp0:v100:B-3 accomp0:v100:F3 wait:48 melody:v0:A4 melody:v0:A5 melody:v100:A4 melody:v100:A5 accomp0:v0:B-2 accomp0:v0:B-3 accomp0:v0:F3 wait:48 [31] melody:v0:A5 melody:v0:A4 melody:v100:C4 melody:v100:C5 accomp0:v100:B-2 accomp0:v100:B-3 accomp0:v100:F3 wait:48 melody:v0:C4 melody:v0:C5 accomp0:v0:F3 accomp0:v0:B-3 accomp0:v0:B-2 wait:48 melody:v100:C4 melody:v100:C5 accomp0:v100:B-2 accomp0:v100:B-3 accomp0:v100:F3 wait:48 melody:v0:C4 melody:v0:C5 melody:v100:F4 melody:v100:F5 accomp0:v0:B-2 accomp0:v0:B-3 accomp0:v0:F3 wait:48 melody:v0:F5 melody:v0:F4 melody:v100:G4 melody:v100:G5 accomp0:v100:B-2 accomp0:v100:B-3 accomp0:v100:F3 wait:48 melody:v0:G4 melody:v0:G5 accomp0:v0:F3 accomp0:v0:B-3 accomp0:v0:B-2 accomp0:v100:D2 accomp0:v100:D3 accomp0:v100:A2 wait:48 melody:v100:C5 melody:v100:C6 accomp0:v0:A2 accomp0:v0:D3 accomp0:v0:D2 wait:48 melody:v0:C6 melody:v0:C5 melody:v100:C5 melody:v100:C6 accomp0:v100:D2 accomp0:v100:D3 accomp0:v100:A2 wait:48 melody:v0:C5 melody:v0:C6 melody:v100:F4 melody:v100:F5 accomp0:v0:A2 accomp0:v0:D3 accomp0:v0:D2 accomp0:v100:F2 accomp0:v100:F3 accomp0:v100:C3 wait:48 [30] melody:v0:F5 melody:v0:F4 melody:v100:G4 melody:v100:G5 wait:48 melody:v0:G5 melody:v0:G4 melody:v100:A4 melody:v100:A5 accomp0:v0:C3 accomp0:v0:F3 accomp0:v0:F2 accomp0:v100:F2 accomp0:v100:F3 accomp0:v100:C3 wait:24 melody:v0:A5 melody:v0:A4 melody:v100:G4 melody:v100:G5 wait:48 melody:v0:G5 melody:v0:G4 wait:24 melody:v100:G4 melody:v100:G5 accomp0:v0:C3 accomp0:v0:F3 accomp0:v0:F2 accomp0:v100:F2 accomp0:v100:F3 accomp0:v100:C3 wait:48 melody:v0:G4 melody:v0:G5 melody:v100:G4 melody:v100:G5 accomp0:v0:C3 accomp0:v0:F3 accomp0:v0:F2 accomp0:v100:C3 accomp0:v100:C4 accomp0:v100:G3 wait:48 melody:v0:G5 melody:v0:G4 melody:v100:A4 melody:v100:A5 wait:24 melody:v0:A5 melody:v0:A4 melody:v100:G4 melody:v100:G5 wait:24 accomp0:v0:G3 accomp0:v0:C4 accomp0:v0:C3 accomp0:v100:C3 accomp0:v100:C4 accomp0:v100:G3 wait:24 melody:v0:G5 melody:v0:G4 wait:24 melody:v100:G4 melody:v100:G5 wait:48 melody:v0:G4 melody:v0:G5 melody:v100:G4 melody:v100:G5 accomp0:v0:G3 accomp0:v0:C4 accomp0:v0:C3 accomp0:v100:C3 accomp0:v100:C4 accomp0:v100:G3 wait:48 melody:v0:G5 melody:v0:G4 melody:v100:A4 melody:v100:A5 wait:24 [29] melody:v0:A5 melody:v0:A4 melody:v100:G4 melody:v100:G5 wait:24 accomp0:v0:G3 accomp0:v0:C4 accomp0:v0:C3 accomp0:v100:G3 accomp0:v100:C4 accomp0:v100:C3 wait:24 melody:v0:G5 melody:v0:G4 wait:24 melody:v100:F5 melody:v100:F4 wait:48 melody:v0:F5 melody:v0:F4 accomp0:v0:C3 accomp0:v0:C4 accomp0:v0:G3 accomp0:v100:G2 accomp0:v100:G3 accomp0:v100:D3 wait:48 melody:v100:F4 melody:v100:F5 accomp0:v0:D3 accomp0:v0:G3 accomp0:v0:G2 wait:48 melody:v0:F5 melody:v0:F4 melody:v100:G4 melody:v100:G5 accomp0:v100:D3 accomp0:v100:G3 accomp0:v100:G2 wait:48 melody:v0:G4 melody:v0:G5 melody:v100:F4 melody:v100:F5 accomp0:v0:G2 accomp0:v0:G3 accomp0:v0:D3 accomp0:v100:G2 accomp0:v100:G3 accomp0:v100:D3 wait:48 melody:v0:F5 melody:v0:F4 melody:v100:G4 melody:v100:G5 accomp0:v0:D3 accomp0:v0:G3 accomp0:v0:G2 accomp0:v100:G2 accomp0:v100:G3 accomp0:v100:D3 wait:48 melody:v0:G5 melody:v0:G4 melody:v100:F4 melody:v100:F5 accomp0:v0:D3 accomp0:v0:G3 accomp0:v0:G2 accomp0:v100:G2 accomp0:v100:G3 accomp0:v100:D3 wait:24 melody:v0:F5 melody:v0:F4 melody:v100:G4 melody:v100:G5 wait:24 accomp0:v0:D3 accomp0:v0:G3 accomp0:v0:G2 accomp0:v100:G2 accomp0:v100:G3 accomp0:v100:D3 wait:24 melody:v0:G5 melody:v0:G4 wait:24 [28] melody:v100:A4 melody:v100:A5 accomp0:v0:D3 accomp0:v0:G3 accomp0:v0:G2 accomp0:v100:B-2 accomp0:v100:B-3 accomp0:v100:F3 wait:48 melody:v0:A4 melody:v0:A5 accomp0:v0:F3 accomp0:v0:B-3 accomp0:v0:B-2 wait:48 melody:v100:A4 melody:v100:A5 accomp0:v100:B-2 accomp0:v100:B-3 accomp0:v100:F3 wait:48 melody:v0:A4 melody:v0:A5 melody:v100:A4 melody:v100:A5 accomp0:v0:B-2 accomp0:v0:B-3 accomp0:v0:F3 wait:48 melody:v0:A5 melody:v0:A4 melody:v100:C4 melody:v100:C5 accomp0:v100:F3 accomp0:v100:B-3 accomp0:v100:B-2 wait:48 melody:v0:C4 melody:v0:C5 accomp0:v0:B-2 accomp0:v0:B-3 accomp0:v0:F3 wait:48 melody:v100:C4 melody:v100:C5 accomp0:v100:B-2 accomp0:v100:B-3 accomp0:v100:F3 wait:48 melody:v0:C4 melody:v0:C5 melody:v100:F4 melody:v100:F5 accomp0:v0:B-2 accomp0:v0:B-3 accomp0:v0:F3 wait:48 melody:v0:F5 melody:v0:F4 melody:v100:G4 melody:v100:G5 accomp0:v100:F3 accomp0:v100:B-3 accomp0:v100:B-2 wait:48 melody:v0:G4 melody:v0:G5 accomp0:v0:B-2 accomp0:v0:B-3 accomp0:v0:F3 accomp0:v100:A3 accomp0:v100:D4 accomp0:v100:D3 wait:48 [27] melody:v100:F4 melody:v100:F5 accomp0:v0:D3 accomp0:v0:D4 accomp0:v0:A3 wait:48 melody:v0:F5 melody:v0:F4 melody:v100:G4 melody:v100:G5 accomp0:v100:D3 accomp0:v100:D4 accomp0:v100:A3 wait:48 melody:v0:G4 melody:v0:G5 melody:v100:F4 melody:v100:F5 accomp0:v0:A3 accomp0:v0:D4 accomp0:v0:D3 accomp0:v100:A3 accomp0:v100:D4 accomp0:v100:D3 wait:48 melody:v0:F5 melody:v0:F4 melody:v100:G4 melody:v100:G5 accomp0:v0:D3 accomp0:v0:D4 accomp0:v0:A3 accomp0:v100:D3 accomp0:v100:D4 accomp0:v100:A3 wait:48 melody:v0:G5 melody:v0:G4 melody:v100:F4 melody:v100:F5 accomp0:v0:A3 accomp0:v0:D4 accomp0:v0:D3 accomp0:v100:D3 accomp0:v100:D4 accomp0:v100:A3 wait:24 melody:v0:F5 melody:v0:F4 melody:v100:G4 melody:v100:G5 wait:24 accomp0:v0:A3 accomp0:v0:D4 accomp0:v0:D3 accomp0:v100:A3 accomp0:v100:D4 accomp0:v100:D3 wait:48 melody:v0:G5 melody:v0:G4 melody:v100:A4 melody:v100:A5 accomp0:v0:D3 accomp0:v0:D4 accomp0:v0:A3 accomp0:v100:G3 accomp0:v100:C4 accomp0:v100:C3 wait:48 melody:v0:A5 melody:v0:A4 accomp0:v0:C3 accomp0:v0:C4 accomp0:v0:G3 wait:48 melody:v100:C5 melody:v100:C6 accomp0:v100:G3 accomp0:v100:C4 accomp0:v100:C3 wait:48 [26] melody:v0:C5 melody:v0:C6 accomp0:v0:G3 accomp0:v0:C4 accomp0:v0:C3 wait:48 melody:v100:C5 melody:v100:C6 accomp0:v100:C3 accomp0:v100:C4 accomp0:v100:G3 wait:48 melody:v0:C5 melody:v0:C6 melody:v100:D5 melody:v100:D6 accomp0:v0:C3 accomp0:v0:C4 accomp0:v0:G3 wait:48 melody:v0:D6 melody:v0:D5 melody:v100:C5 melody:v100:C6 accomp0:v100:C3 accomp0:v100:C4 accomp0:v100:G3 wait:24 melody:v0:C5 melody:v0:C6 melody:v100:A4 melody:v100:A5 wait:24 accomp0:v0:G3 accomp0:v0:C4 accomp0:v0:C3 wait:24 melody:v0:A4 melody:v0:A5 wait:24 melody:v100:C5 melody:v100:C6 accomp0:v100:C4 accomp0:v100:G3 accomp0:v100:C3 wait:48 melody:v0:C5 melody:v0:C6 accomp0:v0:C4 accomp0:v0:G3 accomp0:v0:C3 accomp0:v100:D3 accomp0:v100:G3 accomp0:v100:G2 wait:48 melody:v100:F4 melody:v100:F5 accomp0:v0:G2 accomp0:v0:G3 accomp0:v0:D3 wait:48 melody:v0:F5 melody:v0:F4 melody:v100:G4 melody:v100:G5 accomp0:v100:G2 accomp0:v100:G3 accomp0:v100:D3 wait:48 melody:v0:G4 melody:v0:G5 melody:v100:F4 melody:v100:F5 accomp0:v0:D3 accomp0:v0:G3 accomp0:v0:G2 accomp0:v100:G2 accomp0:v100:G3 accomp0:v100:D3 wait:48 [25] melody:v0:F5 melody:v0:F4 melody:v100:G4 melody:v100:G5 accomp0:v0:D3 accomp0:v0:G3 accomp0:v0:G2 accomp0:v100:G2 accomp0:v100:G3 accomp0:v100:D3 wait:48 melody:v0:G5 melody:v0:G4 melody:v100:F4 melody:v100:F5 accomp0:v0:D3 accomp0:v0:G3 accomp0:v0:G2 accomp0:v100:D3 accomp0:v100:G3 accomp0:v100:G2 wait:24 melody:v0:F5 melody:v0:F4 melody:v100:G4 melody:v100:G5 wait:24 accomp0:v0:G2 accomp0:v0:G3 accomp0:v0:D3 accomp0:v100:D3 accomp0:v100:G3 accomp0:v100:G2 wait:24 melody:v0:G5 melody:v0:G4 wait:24 melody:v100:A4 melody:v100:A5 accomp0:v0:G2 accomp0:v0:G3 accomp0:v0:D3 accomp0:v100:B-2 accomp0:v100:B-3 accomp0:v100:F3 wait:48 melody:v0:A4 melody:v0:A5 accomp0:v0:F3 accomp0:v0:B-3 accomp0:v0:B-2 wait:48 melody:v100:A4 melody:v100:A5 accomp0:v100:B-2 accomp0:v100:B-3 accomp0:v100:F3 wait:48 melody:v0:A4 melody:v0:A5 melody:v100:A4 melody:v100:A5 accomp0:v0:B-2 accomp0:v0:B-3 accomp0:v0:F3 wait:48 melody:v0:A5 melody:v0:A4 melody:v100:C4 melody:v100:C5 accomp0:v100:B-2 accomp0:v100:B-3 accomp0:v100:F3 wait:48 melody:v0:C4 melody:v0:C5 accomp0:v0:F3 accomp0:v0:B-3 accomp0:v0:B-2 wait:48 [24] melody:v100:C4 melody:v100:C5 accomp0:v100:B-2 accomp0:v100:B-3 accomp0:v100:F3 wait:48 melody:v0:C4 melody:v0:C5 melody:v100:F4 melody:v100:F5 accomp0:v0:B-2 accomp0:v0:B-3 accomp0:v0:F3 wait:48 melody:v0:F5 melody:v0:F4 melody:v100:G4 melody:v100:G5 accomp0:v100:B-2 accomp0:v100:B-3 accomp0:v100:F3 wait:48 melody:v0:G4 melody:v0:G5 accomp0:v0:F3 accomp0:v0:B-3 accomp0:v0:B-2 accomp0:v100:D2 accomp0:v100:D3 accomp0:v100:A2 wait:48 melody:v100:C5 melody:v100:C6 accomp0:v0:A2 accomp0:v0:D3 accomp0:v0:D2 wait:48 melody:v0:C6 melody:v0:C5 melody:v100:C5 melody:v100:C6 accomp0:v100:D2 accomp0:v100:D3 accomp0:v100:A2 wait:48 melody:v0:C5 melody:v0:C6 melody:v100:F4 melody:v100:F5 accomp0:v0:A2 accomp0:v0:D3 accomp0:v0:D2 accomp0:v100:F2 accomp0:v100:F3 accomp0:v100:C3 wait:48 melody:v0:F5 melody:v0:F4 melody:v100:G4 melody:v100:G5 wait:48 melody:v0:G5 melody:v0:G4 melody:v100:A4 melody:v100:A5 accomp0:v0:C3 accomp0:v0:F3 accomp0:v0:F2 accomp0:v100:F2 accomp0:v100:F3 accomp0:v100:C3 wait:24 melody:v0:A5 melody:v0:A4 melody:v100:G4 melody:v100:G5 wait:48 [23] melody:v0:G5 melody:v0:G4 wait:24 melody:v100:G4 melody:v100:G5 accomp0:v0:C3 accomp0:v0:F3 accomp0:v0:F2 accomp0:v100:F2 accomp0:v100:F3 accomp0:v100:C3 wait:48 melody:v0:G4 melody:v0:G5 melody:v100:G4 melody:v100:G5 accomp0:v0:C3 accomp0:v0:F3 accomp0:v0:F2 accomp0:v100:C3 accomp0:v100:C4 accomp0:v100:G3 wait:48 melody:v0:G5 melody:v0:G4 melody:v100:A4 melody:v100:A5 wait:24 melody:v0:A5 melody:v0:A4 melody:v100:G4 melody:v100:G5 wait:24 accomp0:v0:G3 accomp0:v0:C4 accomp0:v0:C3 accomp0:v100:C3 accomp0:v100:C4 accomp0:v100:G3 wait:24 melody:v0:G5 melody:v0:G4 wait:24 melody:v100:G4 melody:v100:G5 wait:48 melody:v0:G4 melody:v0:G5 melody:v100:G4 melody:v100:G5 accomp0:v0:G3 accomp0:v0:C4 accomp0:v0:C3 accomp0:v100:C3 accomp0:v100:C4 accomp0:v100:G3 wait:48 melody:v0:G5 melody:v0:G4 melody:v100:A4 melody:v100:A5 wait:24 melody:v0:A5 melody:v0:A4 melody:v100:G4 melody:v100:G5 wait:24 accomp0:v0:G3 accomp0:v0:C4 accomp0:v0:C3 accomp0:v100:G3 accomp0:v100:C4 accomp0:v100:C3 wait:24 melody:v0:G5 melody:v0:G4 wait:24 melody:v100:F5 melody:v100:F4 wait:48 [22] melody:v0:F5 melody:v0:F4 melody:v98:C5 accomp0:v0:C3 accomp0:v0:C4 accomp0:v0:G3 accomp0:v100:G2 accomp0:v100:G3 accomp0:v100:D3 wait:48 melody:v0:C5 melody:v98:F5 accomp0:v0:D3 accomp0:v0:G3 accomp0:v0:G2 wait:48 melody:v0:F5 melody:v98:F5 accomp0:v100:G2 accomp0:v100:G3 accomp0:v100:D3 wait:48 melody:v0:F5 melody:v98:D5 accomp0:v0:D3 accomp0:v0:G2 accomp0:v0:G3 accomp0:v100:G2 accomp0:v100:G3 accomp0:v100:D3 wait:48 melody:v0:D5 melody:v98:F5 accomp0:v0:D3 accomp0:v0:G3 accomp0:v0:G2 accomp0:v100:G2 accomp0:v100:G3 accomp0:v100:D3 wait:48 melody:v0:F5 melody:v98:F5 accomp0:v0:D3 accomp0:v0:G3 accomp0:v0:G2 accomp0:v100:G2 accomp0:v100:G3 accomp0:v100:D3 wait:48 melody:v0:F5 melody:v98:D5 accomp0:v0:D3 accomp0:v0:G3 accomp0:v0:G2 accomp0:v100:D3 accomp0:v100:G3 accomp0:v100:G2 wait:48 melody:v0:D5 melody:v98:F5 accomp0:v0:G2 accomp0:v0:G3 accomp0:v0:D3 accomp0:v100:F3 accomp0:v100:B-3 accomp0:v100:B-2 wait:48 melody:v0:F5 accomp0:v0:B-2 accomp0:v0:B-3 accomp0:v0:F3 wait:48 melody:v98:F5 accomp0:v100:B-2 accomp0:v100:B-3 accomp0:v100:F3 wait:48 [21] melody:v0:F5 melody:v98:F5 accomp0:v0:B-2 accomp0:v0:B-3 accomp0:v0:F3 wait:48 melody:v0:F5 melody:v98:D5 accomp0:v100:B-2 accomp0:v100:B-3 accomp0:v100:F3 wait:48 melody:v0:D5 melody:v98:F5 accomp0:v0:F3 accomp0:v0:B-2 accomp0:v0:B-3 wait:48 melody:v0:F5 melody:v98:F5 accomp0:v100:B-2 accomp0:v100:B-3 accomp0:v100:F3 wait:48 melody:v0:F5 melody:v98:D5 accomp0:v0:F3 accomp0:v0:B-2 accomp0:v0:B-3 wait:48 melody:v0:D5 melody:v98:F5 accomp0:v100:F3 accomp0:v100:B-3 accomp0:v100:B-2 wait:48 melody:v0:F5 accomp0:v0:B-2 accomp0:v0:F3 accomp0:v0:B-3 accomp0:v100:A3 accomp0:v100:D4 accomp0:v100:D3 wait:48 melody:v98:F5 accomp0:v0:D3 accomp0:v0:D4 accomp0:v0:A3 wait:48 melody:v0:F5 melody:v98:F5 accomp0:v100:A3 accomp0:v100:D4 accomp0:v100:D3 wait:48 [20] melody:v0:F5 melody:v98:D5 accomp0:v0:D3 accomp0:v0:A3 accomp0:v0:D4 accomp0:v100:A3 accomp0:v100:D4 accomp0:v100:D3 wait:48 melody:v0:D5 melody:v98:F5 accomp0:v0:D3 accomp0:v0:D4 accomp0:v0:A3 accomp0:v100:D3 accomp0:v100:D4 accomp0:v100:A3 wait:48 melody:v0:F5 melody:v98:F5 accomp0:v0:A3 accomp0:v0:D4 accomp0:v0:D3 accomp0:v100:A3 accomp0:v100:D4 accomp0:v100:D3 wait:48 melody:v0:F5 melody:v98:D5 accomp0:v0:D3 accomp0:v0:D4 accomp0:v0:A3 accomp0:v100:D3 accomp0:v100:D4 accomp0:v100:A3 wait:48 melody:v0:D5 melody:v98:C5 accomp0:v0:A3 accomp0:v0:D4 accomp0:v0:D3 accomp0:v100:C3 accomp0:v100:C4 accomp0:v100:G3 wait:48 melody:v0:C5 accomp0:v0:G3 accomp0:v0:C4 accomp0:v0:C3 wait:48 melody:v98:F5 accomp0:v100:G3 accomp0:v100:C4 accomp0:v100:C3 wait:48 melody:v0:F5 melody:v98:F5 accomp0:v0:G3 accomp0:v0:C4 accomp0:v0:C3 wait:48 melody:v0:F5 melody:v98:F5 accomp0:v100:G3 accomp0:v100:C4 accomp0:v100:C3 wait:48 melody:v0:F5 melody:v98:F5 accomp0:v0:C3 accomp0:v0:G3 accomp0:v0:C4 wait:48 [19] melody:v0:F5 melody:v98:C5 accomp0:v100:G3 accomp0:v100:C4 accomp0:v100:C3 wait:48 melody:v0:C5 melody:v98:G4 accomp0:v0:C3 accomp0:v0:G3 accomp0:v0:C4 wait:48 melody:v0:G4 melody:v98:A4 accomp0:v100:C4 accomp0:v100:G3 accomp0:v100:C3 wait:48 melody:v0:A4 melody:v98:C5 accomp0:v0:C3 accomp0:v0:C4 accomp0:v0:G3 accomp0:v100:G2 accomp0:v100:G3 accomp0:v100:D3 wait:48 melody:v0:C5 melody:v98:F5 accomp0:v0:D3 accomp0:v0:G3 accomp0:v0:G2 wait:48 melody:v0:F5 melody:v98:F5 accomp0:v100:G2 accomp0:v100:G3 accomp0:v100:D3 wait:48 melody:v0:F5 melody:v98:D5 accomp0:v0:D3 accomp0:v0:G2 accomp0:v0:G3 accomp0:v100:D3 accomp0:v100:G3 accomp0:v100:G2 wait:48 melody:v0:D5 melody:v98:F5 accomp0:v0:G2 accomp0:v0:G3 accomp0:v0:D3 accomp0:v100:G2 accomp0:v100:G3 accomp0:v100:D3 wait:48 melody:v0:F5 melody:v98:F5 accomp0:v0:D3 accomp0:v0:G3 accomp0:v0:G2 accomp0:v100:G2 accomp0:v100:G3 accomp0:v100:D3 wait:48 [18] melody:v0:F5 melody:v98:D5 accomp0:v0:D3 accomp0:v0:G3 accomp0:v0:G2 accomp0:v100:G2 accomp0:v100:G3 accomp0:v100:D3 wait:48 melody:v0:D5 melody:v98:F5 accomp0:v0:D3 accomp0:v0:G3 accomp0:v0:G2 accomp0:v100:F3 accomp0:v100:B-3 accomp0:v100:B-2 wait:48 melody:v0:F5 accomp0:v0:B-2 accomp0:v0:B-3 accomp0:v0:F3 wait:48 melody:v98:F5 accomp0:v100:B-2 accomp0:v100:B-3 accomp0:v100:F3 wait:48 melody:v0:F5 melody:v98:F5 accomp0:v0:B-2 accomp0:v0:B-3 accomp0:v0:F3 wait:48 melody:v0:F5 melody:v98:D5 accomp0:v100:F3 accomp0:v100:B-3 accomp0:v100:B-2 wait:48 melody:v0:D5 melody:v98:F5 accomp0:v0:B-2 accomp0:v0:F3 accomp0:v0:B-3 wait:48 melody:v0:F5 melody:v98:A4 accomp0:v100:B-2 accomp0:v100:B-3 accomp0:v100:F3 wait:48 melody:v0:A4 melody:v98:D5 accomp0:v0:F3 accomp0:v0:B-2 accomp0:v0:B-3 wait:48 melody:v0:D5 melody:v98:F5 accomp0:v100:F3 accomp0:v100:B-3 accomp0:v100:B-2 wait:48 [17] melody:v0:F5 accomp0:v0:B-2 accomp0:v0:F3 accomp0:v0:B-3 accomp0:v100:A2 accomp0:v100:D3 accomp0:v100:D2 wait:48 melody:v98:F5 accomp0:v0:D2 accomp0:v0:D3 accomp0:v0:A2 wait:48 melody:v0:F5 melody:v98:F5 accomp0:v100:A2 accomp0:v100:D3 accomp0:v100:D2 wait:48 melody:v0:F5 melody:v98:D5 accomp0:v0:D2 accomp0:v0:A2 accomp0:v0:D3 accomp0:v100:F2 accomp0:v100:F3 accomp0:v100:C3 wait:48 melody:v0:D5 melody:v98:G5 wait:48 melody:v0:G5 melody:v98:G5 accomp0:v0:C3 accomp0:v0:F3 accomp0:v0:F2 accomp0:v100:F2 accomp0:v100:F3 accomp0:v100:C3 wait:48 melody:v0:G5 melody:v98:F5 wait:48 melody:v0:F5 melody:v98:G5 accomp0:v0:C3 accomp0:v0:F3 accomp0:v0:F2 accomp0:v100:C3 accomp0:v100:F3 accomp0:v100:F2 wait:48 melody:v0:G5 accomp0:v0:F2 accomp0:v0:F3 accomp0:v0:C3 accomp0:v100:C3 accomp0:v100:C4 accomp0:v100:G3 wait:48 [16] melody:v98:G5 wait:48 melody:v0:G5 accomp0:v0:G3 accomp0:v0:C4 accomp0:v0:C3 accomp0:v100:G3 accomp0:v100:C4 accomp0:v100:C3 wait:48 melody:v98:G5 wait:24 melody:v0:G5 melody:v98:A5 wait:24 accomp0:v0:C3 accomp0:v0:C4 accomp0:v0:G3 accomp0:v100:C3 accomp0:v100:C4 accomp0:v100:G3 wait:24 melody:v0:A5 wait:24 melody:v98:A5 wait:48 melody:v0:A5 melody:v98:F5 accomp0:v0:G3 accomp0:v0:C4 accomp0:v0:C3 accomp0:v100:C3 accomp0:v100:C4 accomp0:v100:G3 wait:48 melody:v0:F5 melody:v98:D5 wait:48 melody:v0:D5 melody:v98:D4 melody:v98:F4 melody:v91:B-4 accomp0:v0:G3 accomp0:v0:C4 accomp0:v0:C3 accomp0:v100:G2 wait:96 melody:v0:B-4 melody:v0:F4 melody:v0:D4 accomp0:v0:G2 accomp0:v100:G1 wait:96 [15] melody:v100:B-4 melody:v98:F4 melody:v98:D4 accomp0:v0:G1 accomp0:v100:G1 wait:48 melody:v0:B-4 melody:v0:F4 melody:v0:D4 melody:v98:B-4 melody:v98:G4 melody:v98:D4 wait:48 melody:v0:D4 melody:v0:G4 melody:v0:B-4 accomp0:v0:G1 accomp0:v100:G1 wait:24 melody:v98:B-4 melody:v98:G4 melody:v98:D4 wait:48 melody:v0:B-4 melody:v0:G4 melody:v0:D4 wait:24 melody:v98:C4 melody:v98:F4 melody:v98:A4 accomp0:v0:G1 accomp0:v100:F2 wait:96 melody:v0:C4 melody:v0:F4 melody:v0:A4 accomp0:v0:F2 accomp0:v100:F1 wait:96 [14] melody:v98:D5 melody:v98:F4 melody:v98:C4 accomp0:v0:F1 accomp0:v100:F1 wait:48 melody:v0:D5 melody:v0:F4 melody:v0:C4 melody:v98:C5 melody:v98:F4 melody:v98:C4 wait:48 melody:v0:C4 melody:v0:F4 melody:v0:C5 accomp0:v0:F1 accomp0:v100:F1 wait:24 melody:v98:C5 melody:v98:F4 melody:v98:C4 wait:48 melody:v0:C5 melody:v0:F4 melody:v0:C4 wait:24 melody:v97:A4 melody:v97:F4 melody:v97:D4 accomp0:v0:F1 accomp0:v100:D3 wait:96 melody:v0:D4 melody:v0:A4 melody:v0:F4 accomp0:v0:D3 accomp0:v100:D2 wait:96 melody:v97:D4 melody:v97:F4 melody:v97:A4 accomp0:v0:D2 accomp0:v100:D2 wait:48 melody:v0:D4 melody:v0:F4 melody:v0:A4 melody:v96:F4 melody:v96:D4 melody:v96:A4 wait:48 [13] melody:v0:A4 melody:v0:D4 melody:v0:F4 accomp0:v0:D2 accomp0:v100:D2 wait:24 melody:v96:A4 melody:v96:F4 melody:v96:D4 wait:48 melody:v0:A4 melody:v0:F4 melody:v0:D4 wait:24 melody:v96:D5 melody:v96:G4 melody:v96:E4 accomp0:v0:D2 accomp0:v100:C3 wait:96 melody:v0:E4 melody:v0:D5 melody:v0:G4 accomp0:v0:C3 accomp0:v100:C2 wait:96 melody:v96:D5 melody:v96:E4 melody:v96:G4 accomp0:v0:C2 accomp0:v100:C2 wait:48 melody:v0:D5 melody:v0:E4 melody:v0:G4 melody:v96:G4 melody:v96:E4 melody:v96:C5 wait:48 melody:v0:C5 melody:v0:E4 melody:v0:G4 accomp0:v0:C2 accomp0:v100:C2 wait:24 melody:v96:E4 melody:v96:G4 melody:v96:A4 wait:48 [12] melody:v0:E4 melody:v0:G4 melody:v0:A4 wait:24 melody:v98:D4 melody:v98:F4 melody:v91:B-4 accomp0:v0:C2 accomp0:v100:G2 wait:96 melody:v0:D4 melody:v0:F4 melody:v0:B-4 accomp0:v0:G2 accomp0:v100:G1 wait:96 melody:v100:B-4 melody:v98:F4 melody:v98:D4 accomp0:v0:G1 accomp0:v100:G1 wait:48 melody:v0:B-4 melody:v0:F4 melody:v0:D4 melody:v98:B-4 melody:v98:G4 melody:v98:D4 wait:48 melody:v0:D4 melody:v0:G4 melody:v0:B-4 accomp0:v0:G1 accomp0:v100:G1 wait:24 melody:v98:B-4 melody:v98:G4 melody:v98:D4 wait:48 melody:v0:B-4 melody:v0:G4 melody:v0:D4 wait:24 melody:v98:C4 melody:v98:F4 melody:v98:A4 accomp0:v0:G1 accomp0:v100:F2 wait:96 [11] melody:v0:C4 melody:v0:F4 melody:v0:A4 accomp0:v0:F2 accomp0:v100:F1 wait:96 melody:v98:D5 melody:v98:F4 melody:v98:C4 accomp0:v0:F1 accomp0:v100:F1 wait:48 melody:v0:D5 melody:v0:F4 melody:v0:C4 melody:v98:C5 melody:v98:F4 melody:v98:C4 wait:48 melody:v0:C4 melody:v0:F4 melody:v0:C5 accomp0:v0:F1 accomp0:v100:F1 wait:24 melody:v98:C5 melody:v98:F4 melody:v98:C4 wait:48 melody:v0:C5 melody:v0:F4 melody:v0:C4 wait:24 melody:v97:A4 melody:v97:F4 melody:v97:D4 accomp0:v0:F1 accomp0:v100:D3 wait:96 [10] melody:v0:D4 melody:v0:A4 melody:v0:F4 accomp0:v0:D3 accomp0:v100:D2 wait:96 melody:v97:D4 melody:v97:F4 melody:v97:A4 accomp0:v0:D2 accomp0:v100:D2 wait:48 melody:v0:D4 melody:v0:F4 melody:v0:A4 melody:v96:F4 melody:v96:D4 melody:v96:A4 wait:48 melody:v0:A4 melody:v0:D4 melody:v0:F4 accomp0:v0:D2 accomp0:v100:D2 wait:24 melody:v96:A4 melody:v96:F4 melody:v96:D4 wait:48 melody:v0:A4 melody:v0:F4 melody:v0:D4 wait:24 melody:v96:D5 melody:v96:G4 melody:v96:E4 accomp0:v0:D2 accomp0:v100:C3 wait:96 melody:v0:E4 melody:v0:D5 melody:v0:G4 accomp0:v0:C3 accomp0:v100:C2 wait:96 [9] melody:v96:D5 melody:v96:E4 melody:v96:G4 accomp0:v0:C2 accomp0:v100:C2 wait:48 melody:v0:D5 melody:v0:E4 melody:v0:G4 melody:v96:G4 melody:v96:E4 melody:v96:C5 wait:48 melody:v0:C5 melody:v0:E4 melody:v0:G4 accomp0:v0:C2 accomp0:v100:C2 wait:24 melody:v96:E4 melody:v96:G4 melody:v96:A4 wait:48 melody:v0:E4 melody:v0:G4 melody:v0:A4 wait:24 melody:v98:D4 melody:v98:F4 melody:v91:B-4 accomp0:v0:C2 accomp0:v100:G2 wait:96 melody:v0:D4 melody:v0:F4 melody:v0:B-4 accomp0:v0:G2 accomp0:v100:G1 wait:96 melody:v100:B-4 melody:v98:F4 melody:v98:D4 accomp0:v0:G1 accomp0:v100:G1 wait:48 [8] melody:v0:B-4 melody:v0:F4 melody:v0:D4 melody:v98:B-4 melody:v98:G4 melody:v98:D4 wait:48 melody:v0:D4 melody:v0:G4 melody:v0:B-4 accomp0:v0:G1 accomp0:v100:G1 wait:24 melody:v98:B-4 melody:v98:G4 melody:v98:D4 wait:48 melody:v0:B-4 melody:v0:G4 melody:v0:D4 wait:24 melody:v98:C4 melody:v98:F4 melody:v98:A4 accomp0:v0:G1 accomp0:v100:F2 wait:96 melody:v0:C4 melody:v0:F4 melody:v0:A4 accomp0:v0:F2 accomp0:v100:F1 wait:96 melody:v98:D5 melody:v98:F4 melody:v98:C4 accomp0:v0:F1 accomp0:v100:F1 wait:48 melody:v0:D5 melody:v0:F4 melody:v0:C4 melody:v98:C5 melody:v98:F4 melody:v98:C4 wait:48 melody:v0:C4 melody:v0:F4 melody:v0:C5 accomp0:v0:F1 accomp0:v100:F1 wait:24 melody:v98:C5 melody:v98:F4 melody:v98:C4 wait:48 [7] melody:v0:C5 melody:v0:F4 melody:v0:C4 wait:24 melody:v97:A4 melody:v97:F4 melody:v97:D4 accomp0:v0:F1 accomp0:v100:D3 wait:96 melody:v0:D4 melody:v0:A4 melody:v0:F4 accomp0:v0:D3 accomp0:v100:D2 wait:96 melody:v97:D4 melody:v97:F4 melody:v97:A4 accomp0:v0:D2 accomp0:v100:D2 wait:48 melody:v0:D4 melody:v0:F4 melody:v0:A4 melody:v96:F4 melody:v96:D4 melody:v96:A4 wait:48 melody:v0:A4 melody:v0:D4 melody:v0:F4 accomp0:v0:D2 accomp0:v100:D2 wait:24 melody:v96:A4 melody:v96:F4 melody:v96:D4 wait:48 melody:v0:A4 melody:v0:F4 melody:v0:D4 wait:24 melody:v96:D5 melody:v96:G4 melody:v96:E4 accomp0:v0:D2 accomp0:v100:C3 wait:96 [6] melody:v0:E4 melody:v0:D5 melody:v0:G4 accomp0:v0:C3 accomp0:v100:C2 wait:96 melody:v96:D5 melody:v96:E4 melody:v96:G4 accomp0:v0:C2 accomp0:v100:C2 wait:48 melody:v0:D5 melody:v0:E4 melody:v0:G4 melody:v96:G4 melody:v96:E4 melody:v96:C5 wait:48 melody:v0:C5 melody:v0:E4 melody:v0:G4 accomp0:v0:C2 accomp0:v100:C2 wait:24 melody:v96:E4 melody:v96:G4 melody:v96:A4 wait:48 melody:v0:E4 melody:v0:G4 melody:v0:A4 wait:24 melody:v98:D4 melody:v98:F4 melody:v91:B-4 accomp0:v0:C2 accomp0:v100:G2 wait:96 [5] melody:v0:D4 melody:v0:F4 melody:v0:B-4 accomp0:v0:G2 accomp0:v100:G1 wait:96 melody:v100:B-4 melody:v98:F4 melody:v98:D4 accomp0:v0:G1 accomp0:v100:G1 wait:48 melody:v0:B-4 melody:v0:F4 melody:v0:D4 melody:v98:B-4 melody:v98:G4 melody:v98:D4 wait:48 melody:v0:D4 melody:v0:G4 melody:v0:B-4 accomp0:v0:G1 accomp0:v100:G1 wait:24 melody:v98:B-4 melody:v98:G4 melody:v98:D4 wait:48 melody:v0:B-4 melody:v0:G4 melody:v0:D4 wait:24 melody:v98:C4 melody:v98:F4 melody:v98:A4 accomp0:v0:G1 accomp0:v100:F2 wait:96 melody:v0:C4 melody:v0:F4 melody:v0:A4 accomp0:v0:F2 accomp0:v100:F1 wait:96 [4] melody:v98:D5 melody:v98:F4 melody:v98:C4 accomp0:v0:F1 accomp0:v100:F1 wait:48 melody:v0:D5 melody:v0:F4 melody:v0:C4 melody:v98:C5 melody:v98:F4 melody:v98:C4 wait:48 melody:v0:C4 melody:v0:F4 melody:v0:C5 accomp0:v0:F1 accomp0:v100:F1 wait:24 melody:v98:C5 melody:v98:F4 melody:v98:C4 wait:48 melody:v0:C5 melody:v0:F4 melody:v0:C4 wait:24 melody:v97:A4 melody:v97:F4 melody:v97:D4 accomp0:v0:F1 accomp0:v100:D3 wait:96 melody:v0:D4 melody:v0:A4 melody:v0:F4 accomp0:v0:D3 accomp0:v100:D2 wait:96 melody:v97:D4 melody:v97:F4 melody:v97:A4 accomp0:v0:D2 accomp0:v100:D2 wait:48 [3] melody:v0:D4 melody:v0:F4 melody:v0:A4 melody:v96:F4 melody:v96:D4 melody:v96:A4 wait:48 melody:v0:A4 melody:v0:D4 melody:v0:F4 accomp0:v0:D2 accomp0:v100:D2 wait:24 melody:v96:A4 melody:v96:F4 melody:v96:D4 wait:48 melody:v0:A4 melody:v0:F4 melody:v0:D4 wait:24 melody:v96:D5 melody:v96:G4 melody:v96:E4 accomp0:v0:D2 accomp0:v100:C3 wait:96 melody:v0:E4 melody:v0:D5 melody:v0:G4 accomp0:v0:C3 accomp0:v100:C2 wait:96 melody:v96:D5 melody:v96:E4 melody:v96:G4 accomp0:v0:C2 accomp0:v100:C2 wait:48 melody:v0:D5 melody:v0:E4 melody:v0:G4 melody:v96:G4 melody:v96:E4 melody:v96:C5 wait:48 melody:v0:C5 melody:v0:E4 melody:v0:G4 accomp0:v0:C2 accomp0:v100:C2 wait:24 [2] melody:v96:E4 melody:v96:G4 melody:v96:A4 wait:48 melody:v0:E4 melody:v0:G4 melody:v0:A4 wait:24 accomp0:v0:C2 [0] [SEP]'\n"
          ],
          "name": "stdout"
        }
      ]
    },
    {
      "cell_type": "code",
      "metadata": {
        "id": "ODhJjmJlun0q",
        "colab_type": "code",
        "colab": {}
      },
      "source": [
        "def encode(text_tensor, label):\n",
        "  encoded_text = encoder.encode(text_tensor.numpy())\n",
        "  return encoded_text, label"
      ],
      "execution_count": null,
      "outputs": []
    },
    {
      "cell_type": "code",
      "metadata": {
        "id": "DaaVExa1urX9",
        "colab_type": "code",
        "colab": {}
      },
      "source": [
        "def encode_map_fn(text, label):\n",
        "  # py_func doesn't set the shape of the returned tensors.\n",
        "  encoded_text, label = tf.py_function(encode, \n",
        "                                       inp=[text, label], \n",
        "                                       Tout=(tf.int64, tf.int64))\n",
        "\n",
        "  # `tf.data.Datasets` work best if all components have a shape set\n",
        "  #  so set the shapes manually: \n",
        "  encoded_text.set_shape([None])\n",
        "  label.set_shape([])\n",
        "\n",
        "  return encoded_text, label\n",
        "\n",
        "\n",
        "all_encoded_data = all_labeled_data.map(encode_map_fn)"
      ],
      "execution_count": null,
      "outputs": []
    },
    {
      "cell_type": "code",
      "metadata": {
        "id": "AOJ3-UNZ6LTa",
        "colab_type": "code",
        "colab": {
          "base_uri": "https://localhost:8080/",
          "height": 34
        },
        "outputId": "929f191c-85ed-4c6a-89d6-7db9e725663f"
      },
      "source": [
        "# example\n",
        "example_text = next(iter(all_encoded_data))[0].numpy()\n",
        "print(example_text)"
      ],
      "execution_count": null,
      "outputs": [
        {
          "output_type": "stream",
          "text": [
            "[192 236 288 ... 273 188 143]\n"
          ],
          "name": "stdout"
        }
      ]
    },
    {
      "cell_type": "code",
      "metadata": {
        "id": "mGNXreM-nXss",
        "colab_type": "code",
        "colab": {}
      },
      "source": [
        "train_data = all_encoded_data.skip(TAKE_SIZE).shuffle(BUFFER_SIZE)\n",
        "train_data = train_data.padded_batch(BATCH_SIZE).repeat(30)\n",
        "\n",
        "test_data = all_encoded_data.take(TAKE_SIZE)\n",
        "test_data = test_data.padded_batch(BATCH_SIZE)"
      ],
      "execution_count": null,
      "outputs": []
    },
    {
      "cell_type": "code",
      "metadata": {
        "id": "xpkJJyZC6TTe",
        "colab_type": "code",
        "colab": {
          "base_uri": "https://localhost:8080/",
          "height": 34
        },
        "outputId": "5c97fdf8-0d86-4e9c-9b87-4c4e4a8823d6"
      },
      "source": [
        "test_data"
      ],
      "execution_count": null,
      "outputs": [
        {
          "output_type": "execute_result",
          "data": {
            "text/plain": [
              "<PaddedBatchDataset shapes: ((None, None), (None,)), types: (tf.int64, tf.int64)>"
            ]
          },
          "metadata": {
            "tags": []
          },
          "execution_count": 21
        }
      ]
    },
    {
      "cell_type": "code",
      "metadata": {
        "id": "WOgy0iNYHlnX",
        "colab_type": "code",
        "colab": {
          "base_uri": "https://localhost:8080/",
          "height": 395
        },
        "outputId": "3edc9de1-b351-4e66-ba74-786137f411bc"
      },
      "source": [
        "%%time\n",
        "from transformers import LineByLineTextDataset\n",
        "\n",
        "dataset = LineByLineTextDataset(\n",
        "    tokenizer=tokenizer,\n",
        "    file_path=\"./data/data_express_original.txt\",\n",
        "    block_size=128,\n",
        ")"
      ],
      "execution_count": 25,
      "outputs": [
        {
          "output_type": "error",
          "ename": "AttributeError",
          "evalue": "ignored",
          "traceback": [
            "\u001b[0;31m---------------------------------------------------------------------------\u001b[0m",
            "\u001b[0;31mAttributeError\u001b[0m                            Traceback (most recent call last)",
            "\u001b[0;32m<ipython-input-25-87875743c45c>\u001b[0m in \u001b[0;36m<module>\u001b[0;34m()\u001b[0m\n\u001b[0;32m----> 1\u001b[0;31m \u001b[0mget_ipython\u001b[0m\u001b[0;34m(\u001b[0m\u001b[0;34m)\u001b[0m\u001b[0;34m.\u001b[0m\u001b[0mrun_cell_magic\u001b[0m\u001b[0;34m(\u001b[0m\u001b[0;34m'time'\u001b[0m\u001b[0;34m,\u001b[0m \u001b[0;34m''\u001b[0m\u001b[0;34m,\u001b[0m \u001b[0;34m'from transformers import LineByLineTextDataset\\n\\ndataset = LineByLineTextDataset(\\n    tokenizer=tokenizer,\\n    file_path=\"./data/data_express_original.txt\",\\n    block_size=128,\\n)'\u001b[0m\u001b[0;34m)\u001b[0m\u001b[0;34m\u001b[0m\u001b[0;34m\u001b[0m\u001b[0m\n\u001b[0m",
            "\u001b[0;32m/usr/local/lib/python3.6/dist-packages/IPython/core/interactiveshell.py\u001b[0m in \u001b[0;36mrun_cell_magic\u001b[0;34m(self, magic_name, line, cell)\u001b[0m\n\u001b[1;32m   2115\u001b[0m             \u001b[0mmagic_arg_s\u001b[0m \u001b[0;34m=\u001b[0m \u001b[0mself\u001b[0m\u001b[0;34m.\u001b[0m\u001b[0mvar_expand\u001b[0m\u001b[0;34m(\u001b[0m\u001b[0mline\u001b[0m\u001b[0;34m,\u001b[0m \u001b[0mstack_depth\u001b[0m\u001b[0;34m)\u001b[0m\u001b[0;34m\u001b[0m\u001b[0;34m\u001b[0m\u001b[0m\n\u001b[1;32m   2116\u001b[0m             \u001b[0;32mwith\u001b[0m \u001b[0mself\u001b[0m\u001b[0;34m.\u001b[0m\u001b[0mbuiltin_trap\u001b[0m\u001b[0;34m:\u001b[0m\u001b[0;34m\u001b[0m\u001b[0;34m\u001b[0m\u001b[0m\n\u001b[0;32m-> 2117\u001b[0;31m                 \u001b[0mresult\u001b[0m \u001b[0;34m=\u001b[0m \u001b[0mfn\u001b[0m\u001b[0;34m(\u001b[0m\u001b[0mmagic_arg_s\u001b[0m\u001b[0;34m,\u001b[0m \u001b[0mcell\u001b[0m\u001b[0;34m)\u001b[0m\u001b[0;34m\u001b[0m\u001b[0;34m\u001b[0m\u001b[0m\n\u001b[0m\u001b[1;32m   2118\u001b[0m             \u001b[0;32mreturn\u001b[0m \u001b[0mresult\u001b[0m\u001b[0;34m\u001b[0m\u001b[0;34m\u001b[0m\u001b[0m\n\u001b[1;32m   2119\u001b[0m \u001b[0;34m\u001b[0m\u001b[0m\n",
            "\u001b[0;32m<decorator-gen-60>\u001b[0m in \u001b[0;36mtime\u001b[0;34m(self, line, cell, local_ns)\u001b[0m\n",
            "\u001b[0;32m/usr/local/lib/python3.6/dist-packages/IPython/core/magic.py\u001b[0m in \u001b[0;36m<lambda>\u001b[0;34m(f, *a, **k)\u001b[0m\n\u001b[1;32m    186\u001b[0m     \u001b[0;31m# but it's overkill for just that one bit of state.\u001b[0m\u001b[0;34m\u001b[0m\u001b[0;34m\u001b[0m\u001b[0;34m\u001b[0m\u001b[0m\n\u001b[1;32m    187\u001b[0m     \u001b[0;32mdef\u001b[0m \u001b[0mmagic_deco\u001b[0m\u001b[0;34m(\u001b[0m\u001b[0marg\u001b[0m\u001b[0;34m)\u001b[0m\u001b[0;34m:\u001b[0m\u001b[0;34m\u001b[0m\u001b[0;34m\u001b[0m\u001b[0m\n\u001b[0;32m--> 188\u001b[0;31m         \u001b[0mcall\u001b[0m \u001b[0;34m=\u001b[0m \u001b[0;32mlambda\u001b[0m \u001b[0mf\u001b[0m\u001b[0;34m,\u001b[0m \u001b[0;34m*\u001b[0m\u001b[0ma\u001b[0m\u001b[0;34m,\u001b[0m \u001b[0;34m**\u001b[0m\u001b[0mk\u001b[0m\u001b[0;34m:\u001b[0m \u001b[0mf\u001b[0m\u001b[0;34m(\u001b[0m\u001b[0;34m*\u001b[0m\u001b[0ma\u001b[0m\u001b[0;34m,\u001b[0m \u001b[0;34m**\u001b[0m\u001b[0mk\u001b[0m\u001b[0;34m)\u001b[0m\u001b[0;34m\u001b[0m\u001b[0;34m\u001b[0m\u001b[0m\n\u001b[0m\u001b[1;32m    189\u001b[0m \u001b[0;34m\u001b[0m\u001b[0m\n\u001b[1;32m    190\u001b[0m         \u001b[0;32mif\u001b[0m \u001b[0mcallable\u001b[0m\u001b[0;34m(\u001b[0m\u001b[0marg\u001b[0m\u001b[0;34m)\u001b[0m\u001b[0;34m:\u001b[0m\u001b[0;34m\u001b[0m\u001b[0;34m\u001b[0m\u001b[0m\n",
            "\u001b[0;32m/usr/local/lib/python3.6/dist-packages/IPython/core/magics/execution.py\u001b[0m in \u001b[0;36mtime\u001b[0;34m(self, line, cell, local_ns)\u001b[0m\n\u001b[1;32m   1191\u001b[0m         \u001b[0;32melse\u001b[0m\u001b[0;34m:\u001b[0m\u001b[0;34m\u001b[0m\u001b[0;34m\u001b[0m\u001b[0m\n\u001b[1;32m   1192\u001b[0m             \u001b[0mst\u001b[0m \u001b[0;34m=\u001b[0m \u001b[0mclock2\u001b[0m\u001b[0;34m(\u001b[0m\u001b[0;34m)\u001b[0m\u001b[0;34m\u001b[0m\u001b[0;34m\u001b[0m\u001b[0m\n\u001b[0;32m-> 1193\u001b[0;31m             \u001b[0mexec\u001b[0m\u001b[0;34m(\u001b[0m\u001b[0mcode\u001b[0m\u001b[0;34m,\u001b[0m \u001b[0mglob\u001b[0m\u001b[0;34m,\u001b[0m \u001b[0mlocal_ns\u001b[0m\u001b[0;34m)\u001b[0m\u001b[0;34m\u001b[0m\u001b[0;34m\u001b[0m\u001b[0m\n\u001b[0m\u001b[1;32m   1194\u001b[0m             \u001b[0mend\u001b[0m \u001b[0;34m=\u001b[0m \u001b[0mclock2\u001b[0m\u001b[0;34m(\u001b[0m\u001b[0;34m)\u001b[0m\u001b[0;34m\u001b[0m\u001b[0;34m\u001b[0m\u001b[0m\n\u001b[1;32m   1195\u001b[0m             \u001b[0mout\u001b[0m \u001b[0;34m=\u001b[0m \u001b[0;32mNone\u001b[0m\u001b[0;34m\u001b[0m\u001b[0;34m\u001b[0m\u001b[0m\n",
            "\u001b[0;32m<timed exec>\u001b[0m in \u001b[0;36m<module>\u001b[0;34m()\u001b[0m\n",
            "\u001b[0;32m/usr/local/lib/python3.6/dist-packages/transformers/data/datasets/language_modeling.py\u001b[0m in \u001b[0;36m__init__\u001b[0;34m(self, tokenizer, file_path, block_size)\u001b[0m\n\u001b[1;32m     92\u001b[0m             \u001b[0mlines\u001b[0m \u001b[0;34m=\u001b[0m \u001b[0;34m[\u001b[0m\u001b[0mline\u001b[0m \u001b[0;32mfor\u001b[0m \u001b[0mline\u001b[0m \u001b[0;32min\u001b[0m \u001b[0mf\u001b[0m\u001b[0;34m.\u001b[0m\u001b[0mread\u001b[0m\u001b[0;34m(\u001b[0m\u001b[0;34m)\u001b[0m\u001b[0;34m.\u001b[0m\u001b[0msplitlines\u001b[0m\u001b[0;34m(\u001b[0m\u001b[0;34m)\u001b[0m \u001b[0;32mif\u001b[0m \u001b[0;34m(\u001b[0m\u001b[0mlen\u001b[0m\u001b[0;34m(\u001b[0m\u001b[0mline\u001b[0m\u001b[0;34m)\u001b[0m \u001b[0;34m>\u001b[0m \u001b[0;36m0\u001b[0m \u001b[0;32mand\u001b[0m \u001b[0;32mnot\u001b[0m \u001b[0mline\u001b[0m\u001b[0;34m.\u001b[0m\u001b[0misspace\u001b[0m\u001b[0;34m(\u001b[0m\u001b[0;34m)\u001b[0m\u001b[0;34m)\u001b[0m\u001b[0;34m]\u001b[0m\u001b[0;34m\u001b[0m\u001b[0;34m\u001b[0m\u001b[0m\n\u001b[1;32m     93\u001b[0m \u001b[0;34m\u001b[0m\u001b[0m\n\u001b[0;32m---> 94\u001b[0;31m         \u001b[0mbatch_encoding\u001b[0m \u001b[0;34m=\u001b[0m \u001b[0mtokenizer\u001b[0m\u001b[0;34m.\u001b[0m\u001b[0mbatch_encode_plus\u001b[0m\u001b[0;34m(\u001b[0m\u001b[0mlines\u001b[0m\u001b[0;34m,\u001b[0m \u001b[0madd_special_tokens\u001b[0m\u001b[0;34m=\u001b[0m\u001b[0;32mTrue\u001b[0m\u001b[0;34m,\u001b[0m \u001b[0mmax_length\u001b[0m\u001b[0;34m=\u001b[0m\u001b[0mblock_size\u001b[0m\u001b[0;34m)\u001b[0m\u001b[0;34m\u001b[0m\u001b[0;34m\u001b[0m\u001b[0m\n\u001b[0m\u001b[1;32m     95\u001b[0m         \u001b[0mself\u001b[0m\u001b[0;34m.\u001b[0m\u001b[0mexamples\u001b[0m \u001b[0;34m=\u001b[0m \u001b[0mbatch_encoding\u001b[0m\u001b[0;34m[\u001b[0m\u001b[0;34m\"input_ids\"\u001b[0m\u001b[0;34m]\u001b[0m\u001b[0;34m\u001b[0m\u001b[0;34m\u001b[0m\u001b[0m\n\u001b[1;32m     96\u001b[0m \u001b[0;34m\u001b[0m\u001b[0m\n",
            "\u001b[0;31mAttributeError\u001b[0m: 'Tokenizer' object has no attribute 'batch_encode_plus'"
          ]
        }
      ]
    },
    {
      "cell_type": "markdown",
      "metadata": {
        "id": "OV4L3BpThm2F",
        "colab_type": "text"
      },
      "source": [
        "###### Training"
      ]
    },
    {
      "cell_type": "code",
      "metadata": {
        "id": "ywftxJiR1K--",
        "colab_type": "code",
        "colab": {}
      },
      "source": [
        "# Prepare training: Compile tf.keras model with optimizer, loss and learning rate schedule\n",
        "optimizer = tf.keras.optimizers.Adam(learning_rate=3e-5, epsilon=1e-08, clipnorm=1.0)\n",
        "loss = tf.keras.losses.SparseCategoricalCrossentropy(from_logits=True)\n",
        "metric = tf.keras.metrics.SparseCategoricalAccuracy('accuracy')\n",
        "model.compile(optimizer=optimizer, loss=loss, metrics=[metric])\n",
        "\n",
        "# Fix to TypeError: \n",
        "# You are attempting to use Python control flow in a layer that was not declared to be dynamic. Pass `dynamic=True` to the class constructor\n",
        "model.run_eagerly = True"
      ],
      "execution_count": null,
      "outputs": []
    },
    {
      "cell_type": "code",
      "metadata": {
        "id": "AlOOG7961jHZ",
        "colab_type": "code",
        "colab": {
          "base_uri": "https://localhost:8080/",
          "height": 613
        },
        "outputId": "d9ce36b4-8390-461f-9a9e-c102c20c0898"
      },
      "source": [
        "# Train and evaluate using tf.keras.Model.fit()\n",
        "history = model.fit(train_data, epochs=2) #steps_per_epoch=115,)\n",
        "                    #validation_data=test_data, validation_steps=7)"
      ],
      "execution_count": null,
      "outputs": [
        {
          "output_type": "stream",
          "text": [
            "Epoch 1/2\n"
          ],
          "name": "stdout"
        },
        {
          "output_type": "error",
          "ename": "TypeError",
          "evalue": "ignored",
          "traceback": [
            "\u001b[0;31m---------------------------------------------------------------------------\u001b[0m",
            "\u001b[0;31mOutOfRangeError\u001b[0m                           Traceback (most recent call last)",
            "\u001b[0;32m/usr/local/lib/python3.6/dist-packages/tensorflow/python/eager/context.py\u001b[0m in \u001b[0;36mexecution_mode\u001b[0;34m(mode)\u001b[0m\n\u001b[1;32m   1985\u001b[0m       \u001b[0mctx\u001b[0m\u001b[0;34m.\u001b[0m\u001b[0mexecutor\u001b[0m \u001b[0;34m=\u001b[0m \u001b[0mexecutor_new\u001b[0m\u001b[0;34m\u001b[0m\u001b[0;34m\u001b[0m\u001b[0m\n\u001b[0;32m-> 1986\u001b[0;31m       \u001b[0;32myield\u001b[0m\u001b[0;34m\u001b[0m\u001b[0;34m\u001b[0m\u001b[0m\n\u001b[0m\u001b[1;32m   1987\u001b[0m     \u001b[0;32mfinally\u001b[0m\u001b[0;34m:\u001b[0m\u001b[0;34m\u001b[0m\u001b[0;34m\u001b[0m\u001b[0m\n",
            "\u001b[0;32m/usr/local/lib/python3.6/dist-packages/tensorflow/python/data/ops/iterator_ops.py\u001b[0m in \u001b[0;36m_next_internal\u001b[0;34m(self)\u001b[0m\n\u001b[1;32m    654\u001b[0m             \u001b[0moutput_types\u001b[0m\u001b[0;34m=\u001b[0m\u001b[0mself\u001b[0m\u001b[0;34m.\u001b[0m\u001b[0m_flat_output_types\u001b[0m\u001b[0;34m,\u001b[0m\u001b[0;34m\u001b[0m\u001b[0;34m\u001b[0m\u001b[0m\n\u001b[0;32m--> 655\u001b[0;31m             output_shapes=self._flat_output_shapes)\n\u001b[0m\u001b[1;32m    656\u001b[0m \u001b[0;34m\u001b[0m\u001b[0m\n",
            "\u001b[0;32m/usr/local/lib/python3.6/dist-packages/tensorflow/python/ops/gen_dataset_ops.py\u001b[0m in \u001b[0;36miterator_get_next\u001b[0;34m(iterator, output_types, output_shapes, name)\u001b[0m\n\u001b[1;32m   2362\u001b[0m     \u001b[0;32mexcept\u001b[0m \u001b[0m_core\u001b[0m\u001b[0;34m.\u001b[0m\u001b[0m_NotOkStatusException\u001b[0m \u001b[0;32mas\u001b[0m \u001b[0me\u001b[0m\u001b[0;34m:\u001b[0m\u001b[0;34m\u001b[0m\u001b[0;34m\u001b[0m\u001b[0m\n\u001b[0;32m-> 2363\u001b[0;31m       \u001b[0m_ops\u001b[0m\u001b[0;34m.\u001b[0m\u001b[0mraise_from_not_ok_status\u001b[0m\u001b[0;34m(\u001b[0m\u001b[0me\u001b[0m\u001b[0;34m,\u001b[0m \u001b[0mname\u001b[0m\u001b[0;34m)\u001b[0m\u001b[0;34m\u001b[0m\u001b[0;34m\u001b[0m\u001b[0m\n\u001b[0m\u001b[1;32m   2364\u001b[0m   \u001b[0;31m# Add nodes to the TensorFlow graph.\u001b[0m\u001b[0;34m\u001b[0m\u001b[0;34m\u001b[0m\u001b[0;34m\u001b[0m\u001b[0m\n",
            "\u001b[0;32m/usr/local/lib/python3.6/dist-packages/tensorflow/python/framework/ops.py\u001b[0m in \u001b[0;36mraise_from_not_ok_status\u001b[0;34m(e, name)\u001b[0m\n\u001b[1;32m   6652\u001b[0m   \u001b[0;31m# pylint: disable=protected-access\u001b[0m\u001b[0;34m\u001b[0m\u001b[0;34m\u001b[0m\u001b[0;34m\u001b[0m\u001b[0m\n\u001b[0;32m-> 6653\u001b[0;31m   \u001b[0msix\u001b[0m\u001b[0;34m.\u001b[0m\u001b[0mraise_from\u001b[0m\u001b[0;34m(\u001b[0m\u001b[0mcore\u001b[0m\u001b[0;34m.\u001b[0m\u001b[0m_status_to_exception\u001b[0m\u001b[0;34m(\u001b[0m\u001b[0me\u001b[0m\u001b[0;34m.\u001b[0m\u001b[0mcode\u001b[0m\u001b[0;34m,\u001b[0m \u001b[0mmessage\u001b[0m\u001b[0;34m)\u001b[0m\u001b[0;34m,\u001b[0m \u001b[0;32mNone\u001b[0m\u001b[0;34m)\u001b[0m\u001b[0;34m\u001b[0m\u001b[0;34m\u001b[0m\u001b[0m\n\u001b[0m\u001b[1;32m   6654\u001b[0m   \u001b[0;31m# pylint: enable=protected-access\u001b[0m\u001b[0;34m\u001b[0m\u001b[0;34m\u001b[0m\u001b[0;34m\u001b[0m\u001b[0m\n",
            "\u001b[0;32m/usr/local/lib/python3.6/dist-packages/six.py\u001b[0m in \u001b[0;36mraise_from\u001b[0;34m(value, from_value)\u001b[0m\n",
            "\u001b[0;31mOutOfRangeError\u001b[0m: End of sequence [Op:IteratorGetNext]",
            "\nDuring handling of the above exception, another exception occurred:\n",
            "\u001b[0;31mOutOfRangeError\u001b[0m                           Traceback (most recent call last)",
            "\u001b[0;32m/usr/local/lib/python3.6/dist-packages/tensorflow/python/data/ops/iterator_ops.py\u001b[0m in \u001b[0;36mnext\u001b[0;34m(self)\u001b[0m\n\u001b[1;32m    669\u001b[0m     \u001b[0;32mtry\u001b[0m\u001b[0;34m:\u001b[0m\u001b[0;34m\u001b[0m\u001b[0;34m\u001b[0m\u001b[0m\n\u001b[0;32m--> 670\u001b[0;31m       \u001b[0;32mreturn\u001b[0m \u001b[0mself\u001b[0m\u001b[0;34m.\u001b[0m\u001b[0m_next_internal\u001b[0m\u001b[0;34m(\u001b[0m\u001b[0;34m)\u001b[0m\u001b[0;34m\u001b[0m\u001b[0;34m\u001b[0m\u001b[0m\n\u001b[0m\u001b[1;32m    671\u001b[0m     \u001b[0;32mexcept\u001b[0m \u001b[0merrors\u001b[0m\u001b[0;34m.\u001b[0m\u001b[0mOutOfRangeError\u001b[0m\u001b[0;34m:\u001b[0m\u001b[0;34m\u001b[0m\u001b[0;34m\u001b[0m\u001b[0m\n",
            "\u001b[0;32m/usr/local/lib/python3.6/dist-packages/tensorflow/python/data/ops/iterator_ops.py\u001b[0m in \u001b[0;36m_next_internal\u001b[0;34m(self)\u001b[0m\n\u001b[1;32m    660\u001b[0m       \u001b[0;32mexcept\u001b[0m \u001b[0mAttributeError\u001b[0m\u001b[0;34m:\u001b[0m\u001b[0;34m\u001b[0m\u001b[0;34m\u001b[0m\u001b[0m\n\u001b[0;32m--> 661\u001b[0;31m         \u001b[0;32mreturn\u001b[0m \u001b[0mstructure\u001b[0m\u001b[0;34m.\u001b[0m\u001b[0mfrom_compatible_tensor_list\u001b[0m\u001b[0;34m(\u001b[0m\u001b[0mself\u001b[0m\u001b[0;34m.\u001b[0m\u001b[0m_element_spec\u001b[0m\u001b[0;34m,\u001b[0m \u001b[0mret\u001b[0m\u001b[0;34m)\u001b[0m\u001b[0;34m\u001b[0m\u001b[0;34m\u001b[0m\u001b[0m\n\u001b[0m\u001b[1;32m    662\u001b[0m \u001b[0;34m\u001b[0m\u001b[0m\n",
            "\u001b[0;32m/usr/lib/python3.6/contextlib.py\u001b[0m in \u001b[0;36m__exit__\u001b[0;34m(self, type, value, traceback)\u001b[0m\n\u001b[1;32m     98\u001b[0m             \u001b[0;32mtry\u001b[0m\u001b[0;34m:\u001b[0m\u001b[0;34m\u001b[0m\u001b[0;34m\u001b[0m\u001b[0m\n\u001b[0;32m---> 99\u001b[0;31m                 \u001b[0mself\u001b[0m\u001b[0;34m.\u001b[0m\u001b[0mgen\u001b[0m\u001b[0;34m.\u001b[0m\u001b[0mthrow\u001b[0m\u001b[0;34m(\u001b[0m\u001b[0mtype\u001b[0m\u001b[0;34m,\u001b[0m \u001b[0mvalue\u001b[0m\u001b[0;34m,\u001b[0m \u001b[0mtraceback\u001b[0m\u001b[0;34m)\u001b[0m\u001b[0;34m\u001b[0m\u001b[0;34m\u001b[0m\u001b[0m\n\u001b[0m\u001b[1;32m    100\u001b[0m             \u001b[0;32mexcept\u001b[0m \u001b[0mStopIteration\u001b[0m \u001b[0;32mas\u001b[0m \u001b[0mexc\u001b[0m\u001b[0;34m:\u001b[0m\u001b[0;34m\u001b[0m\u001b[0;34m\u001b[0m\u001b[0m\n",
            "\u001b[0;32m/usr/local/lib/python3.6/dist-packages/tensorflow/python/eager/context.py\u001b[0m in \u001b[0;36mexecution_mode\u001b[0;34m(mode)\u001b[0m\n\u001b[1;32m   1988\u001b[0m       \u001b[0mctx\u001b[0m\u001b[0;34m.\u001b[0m\u001b[0mexecutor\u001b[0m \u001b[0;34m=\u001b[0m \u001b[0mexecutor_old\u001b[0m\u001b[0;34m\u001b[0m\u001b[0;34m\u001b[0m\u001b[0m\n\u001b[0;32m-> 1989\u001b[0;31m       \u001b[0mexecutor_new\u001b[0m\u001b[0;34m.\u001b[0m\u001b[0mwait\u001b[0m\u001b[0;34m(\u001b[0m\u001b[0;34m)\u001b[0m\u001b[0;34m\u001b[0m\u001b[0;34m\u001b[0m\u001b[0m\n\u001b[0m\u001b[1;32m   1990\u001b[0m \u001b[0;34m\u001b[0m\u001b[0m\n",
            "\u001b[0;32m/usr/local/lib/python3.6/dist-packages/tensorflow/python/eager/executor.py\u001b[0m in \u001b[0;36mwait\u001b[0;34m(self)\u001b[0m\n\u001b[1;32m     66\u001b[0m     \u001b[0;34m\"\"\"Waits for ops dispatched in this executor to finish.\"\"\"\u001b[0m\u001b[0;34m\u001b[0m\u001b[0;34m\u001b[0m\u001b[0m\n\u001b[0;32m---> 67\u001b[0;31m     \u001b[0mpywrap_tfe\u001b[0m\u001b[0;34m.\u001b[0m\u001b[0mTFE_ExecutorWaitForAllPendingNodes\u001b[0m\u001b[0;34m(\u001b[0m\u001b[0mself\u001b[0m\u001b[0;34m.\u001b[0m\u001b[0m_handle\u001b[0m\u001b[0;34m)\u001b[0m\u001b[0;34m\u001b[0m\u001b[0;34m\u001b[0m\u001b[0m\n\u001b[0m\u001b[1;32m     68\u001b[0m \u001b[0;34m\u001b[0m\u001b[0m\n",
            "\u001b[0;31mOutOfRangeError\u001b[0m: End of sequence",
            "\nDuring handling of the above exception, another exception occurred:\n",
            "\u001b[0;31mStopIteration\u001b[0m                             Traceback (most recent call last)",
            "\u001b[0;32m/usr/local/lib/python3.6/dist-packages/tensorflow/python/keras/engine/data_adapter.py\u001b[0m in \u001b[0;36mcatch_stop_iteration\u001b[0;34m(self)\u001b[0m\n\u001b[1;32m   1135\u001b[0m     \u001b[0;32mtry\u001b[0m\u001b[0;34m:\u001b[0m\u001b[0;34m\u001b[0m\u001b[0;34m\u001b[0m\u001b[0m\n\u001b[0;32m-> 1136\u001b[0;31m       \u001b[0;32myield\u001b[0m\u001b[0;34m\u001b[0m\u001b[0;34m\u001b[0m\u001b[0m\n\u001b[0m\u001b[1;32m   1137\u001b[0m       \u001b[0mcontext\u001b[0m\u001b[0;34m.\u001b[0m\u001b[0masync_wait\u001b[0m\u001b[0;34m(\u001b[0m\u001b[0;34m)\u001b[0m\u001b[0;34m\u001b[0m\u001b[0;34m\u001b[0m\u001b[0m\n",
            "\u001b[0;32m/usr/local/lib/python3.6/dist-packages/tensorflow/python/keras/engine/training.py\u001b[0m in \u001b[0;36mfit\u001b[0;34m(self, x, y, batch_size, epochs, verbose, callbacks, validation_split, validation_data, shuffle, class_weight, sample_weight, initial_epoch, steps_per_epoch, validation_steps, validation_batch_size, validation_freq, max_queue_size, workers, use_multiprocessing)\u001b[0m\n\u001b[1;32m    847\u001b[0m               \u001b[0mcallbacks\u001b[0m\u001b[0;34m.\u001b[0m\u001b[0mon_train_batch_begin\u001b[0m\u001b[0;34m(\u001b[0m\u001b[0mstep\u001b[0m\u001b[0;34m)\u001b[0m\u001b[0;34m\u001b[0m\u001b[0;34m\u001b[0m\u001b[0m\n\u001b[0;32m--> 848\u001b[0;31m               \u001b[0mtmp_logs\u001b[0m \u001b[0;34m=\u001b[0m \u001b[0mtrain_function\u001b[0m\u001b[0;34m(\u001b[0m\u001b[0miterator\u001b[0m\u001b[0;34m)\u001b[0m\u001b[0;34m\u001b[0m\u001b[0;34m\u001b[0m\u001b[0m\n\u001b[0m\u001b[1;32m    849\u001b[0m               \u001b[0;31m# Catch OutOfRangeError for Datasets of unknown size.\u001b[0m\u001b[0;34m\u001b[0m\u001b[0;34m\u001b[0m\u001b[0;34m\u001b[0m\u001b[0m\n",
            "\u001b[0;32m/usr/local/lib/python3.6/dist-packages/tensorflow/python/keras/engine/training.py\u001b[0m in \u001b[0;36mtrain_function\u001b[0;34m(iterator)\u001b[0m\n\u001b[1;32m    569\u001b[0m     \u001b[0;32mdef\u001b[0m \u001b[0mtrain_function\u001b[0m\u001b[0;34m(\u001b[0m\u001b[0miterator\u001b[0m\u001b[0;34m)\u001b[0m\u001b[0;34m:\u001b[0m\u001b[0;34m\u001b[0m\u001b[0;34m\u001b[0m\u001b[0m\n\u001b[0;32m--> 570\u001b[0;31m       \u001b[0mdata\u001b[0m \u001b[0;34m=\u001b[0m \u001b[0mnext\u001b[0m\u001b[0;34m(\u001b[0m\u001b[0miterator\u001b[0m\u001b[0;34m)\u001b[0m\u001b[0;34m\u001b[0m\u001b[0;34m\u001b[0m\u001b[0m\n\u001b[0m\u001b[1;32m    571\u001b[0m       outputs = self.distribute_strategy.run(\n",
            "\u001b[0;32m/usr/local/lib/python3.6/dist-packages/tensorflow/python/data/ops/iterator_ops.py\u001b[0m in \u001b[0;36m__next__\u001b[0;34m(self)\u001b[0m\n\u001b[1;32m    630\u001b[0m   \u001b[0;32mdef\u001b[0m \u001b[0m__next__\u001b[0m\u001b[0;34m(\u001b[0m\u001b[0mself\u001b[0m\u001b[0;34m)\u001b[0m\u001b[0;34m:\u001b[0m  \u001b[0;31m# For Python 3 compatibility\u001b[0m\u001b[0;34m\u001b[0m\u001b[0;34m\u001b[0m\u001b[0m\n\u001b[0;32m--> 631\u001b[0;31m     \u001b[0;32mreturn\u001b[0m \u001b[0mself\u001b[0m\u001b[0;34m.\u001b[0m\u001b[0mnext\u001b[0m\u001b[0;34m(\u001b[0m\u001b[0;34m)\u001b[0m\u001b[0;34m\u001b[0m\u001b[0;34m\u001b[0m\u001b[0m\n\u001b[0m\u001b[1;32m    632\u001b[0m \u001b[0;34m\u001b[0m\u001b[0m\n",
            "\u001b[0;32m/usr/local/lib/python3.6/dist-packages/tensorflow/python/data/ops/iterator_ops.py\u001b[0m in \u001b[0;36mnext\u001b[0;34m(self)\u001b[0m\n\u001b[1;32m    671\u001b[0m     \u001b[0;32mexcept\u001b[0m \u001b[0merrors\u001b[0m\u001b[0;34m.\u001b[0m\u001b[0mOutOfRangeError\u001b[0m\u001b[0;34m:\u001b[0m\u001b[0;34m\u001b[0m\u001b[0;34m\u001b[0m\u001b[0m\n\u001b[0;32m--> 672\u001b[0;31m       \u001b[0;32mraise\u001b[0m \u001b[0mStopIteration\u001b[0m\u001b[0;34m\u001b[0m\u001b[0;34m\u001b[0m\u001b[0m\n\u001b[0m\u001b[1;32m    673\u001b[0m \u001b[0;34m\u001b[0m\u001b[0m\n",
            "\u001b[0;31mStopIteration\u001b[0m: ",
            "\nDuring handling of the above exception, another exception occurred:\n",
            "\u001b[0;31mTypeError\u001b[0m                                 Traceback (most recent call last)",
            "\u001b[0;32m<ipython-input-30-c195e020856a>\u001b[0m in \u001b[0;36m<module>\u001b[0;34m()\u001b[0m\n\u001b[1;32m      1\u001b[0m \u001b[0;31m# Train and evaluate using tf.keras.Model.fit()\u001b[0m\u001b[0;34m\u001b[0m\u001b[0;34m\u001b[0m\u001b[0;34m\u001b[0m\u001b[0m\n\u001b[0;32m----> 2\u001b[0;31m \u001b[0mhistory\u001b[0m \u001b[0;34m=\u001b[0m \u001b[0mmodel\u001b[0m\u001b[0;34m.\u001b[0m\u001b[0mfit\u001b[0m\u001b[0;34m(\u001b[0m\u001b[0mtrain_data\u001b[0m\u001b[0;34m,\u001b[0m \u001b[0mepochs\u001b[0m\u001b[0;34m=\u001b[0m\u001b[0;36m2\u001b[0m\u001b[0;34m)\u001b[0m \u001b[0;31m#steps_per_epoch=115,)\u001b[0m\u001b[0;34m\u001b[0m\u001b[0;34m\u001b[0m\u001b[0m\n\u001b[0m\u001b[1;32m      3\u001b[0m                     \u001b[0;31m#validation_data=test_data, validation_steps=7)\u001b[0m\u001b[0;34m\u001b[0m\u001b[0;34m\u001b[0m\u001b[0;34m\u001b[0m\u001b[0m\n",
            "\u001b[0;32m/usr/local/lib/python3.6/dist-packages/tensorflow/python/keras/engine/training.py\u001b[0m in \u001b[0;36m_method_wrapper\u001b[0;34m(self, *args, **kwargs)\u001b[0m\n\u001b[1;32m     64\u001b[0m   \u001b[0;32mdef\u001b[0m \u001b[0m_method_wrapper\u001b[0m\u001b[0;34m(\u001b[0m\u001b[0mself\u001b[0m\u001b[0;34m,\u001b[0m \u001b[0;34m*\u001b[0m\u001b[0margs\u001b[0m\u001b[0;34m,\u001b[0m \u001b[0;34m**\u001b[0m\u001b[0mkwargs\u001b[0m\u001b[0;34m)\u001b[0m\u001b[0;34m:\u001b[0m\u001b[0;34m\u001b[0m\u001b[0;34m\u001b[0m\u001b[0m\n\u001b[1;32m     65\u001b[0m     \u001b[0;32mif\u001b[0m \u001b[0;32mnot\u001b[0m \u001b[0mself\u001b[0m\u001b[0;34m.\u001b[0m\u001b[0m_in_multi_worker_mode\u001b[0m\u001b[0;34m(\u001b[0m\u001b[0;34m)\u001b[0m\u001b[0;34m:\u001b[0m  \u001b[0;31m# pylint: disable=protected-access\u001b[0m\u001b[0;34m\u001b[0m\u001b[0;34m\u001b[0m\u001b[0m\n\u001b[0;32m---> 66\u001b[0;31m       \u001b[0;32mreturn\u001b[0m \u001b[0mmethod\u001b[0m\u001b[0;34m(\u001b[0m\u001b[0mself\u001b[0m\u001b[0;34m,\u001b[0m \u001b[0;34m*\u001b[0m\u001b[0margs\u001b[0m\u001b[0;34m,\u001b[0m \u001b[0;34m**\u001b[0m\u001b[0mkwargs\u001b[0m\u001b[0;34m)\u001b[0m\u001b[0;34m\u001b[0m\u001b[0;34m\u001b[0m\u001b[0m\n\u001b[0m\u001b[1;32m     67\u001b[0m \u001b[0;34m\u001b[0m\u001b[0m\n\u001b[1;32m     68\u001b[0m     \u001b[0;31m# Running inside `run_distribute_coordinator` already.\u001b[0m\u001b[0;34m\u001b[0m\u001b[0;34m\u001b[0m\u001b[0;34m\u001b[0m\u001b[0m\n",
            "\u001b[0;32m/usr/local/lib/python3.6/dist-packages/tensorflow/python/keras/engine/training.py\u001b[0m in \u001b[0;36mfit\u001b[0;34m(self, x, y, batch_size, epochs, verbose, callbacks, validation_split, validation_data, shuffle, class_weight, sample_weight, initial_epoch, steps_per_epoch, validation_steps, validation_batch_size, validation_freq, max_queue_size, workers, use_multiprocessing)\u001b[0m\n\u001b[1;32m    853\u001b[0m                 \u001b[0mcontext\u001b[0m\u001b[0;34m.\u001b[0m\u001b[0masync_wait\u001b[0m\u001b[0;34m(\u001b[0m\u001b[0;34m)\u001b[0m\u001b[0;34m\u001b[0m\u001b[0;34m\u001b[0m\u001b[0m\n\u001b[1;32m    854\u001b[0m               \u001b[0mlogs\u001b[0m \u001b[0;34m=\u001b[0m \u001b[0mtmp_logs\u001b[0m  \u001b[0;31m# No error, now safe to assign to logs.\u001b[0m\u001b[0;34m\u001b[0m\u001b[0;34m\u001b[0m\u001b[0m\n\u001b[0;32m--> 855\u001b[0;31m               \u001b[0mcallbacks\u001b[0m\u001b[0;34m.\u001b[0m\u001b[0mon_train_batch_end\u001b[0m\u001b[0;34m(\u001b[0m\u001b[0mstep\u001b[0m\u001b[0;34m,\u001b[0m \u001b[0mlogs\u001b[0m\u001b[0;34m)\u001b[0m\u001b[0;34m\u001b[0m\u001b[0;34m\u001b[0m\u001b[0m\n\u001b[0m\u001b[1;32m    856\u001b[0m         \u001b[0mepoch_logs\u001b[0m \u001b[0;34m=\u001b[0m \u001b[0mcopy\u001b[0m\u001b[0;34m.\u001b[0m\u001b[0mcopy\u001b[0m\u001b[0;34m(\u001b[0m\u001b[0mlogs\u001b[0m\u001b[0;34m)\u001b[0m\u001b[0;34m\u001b[0m\u001b[0;34m\u001b[0m\u001b[0m\n\u001b[1;32m    857\u001b[0m \u001b[0;34m\u001b[0m\u001b[0m\n",
            "\u001b[0;32m/usr/lib/python3.6/contextlib.py\u001b[0m in \u001b[0;36m__exit__\u001b[0;34m(self, type, value, traceback)\u001b[0m\n\u001b[1;32m     97\u001b[0m                 \u001b[0mvalue\u001b[0m \u001b[0;34m=\u001b[0m \u001b[0mtype\u001b[0m\u001b[0;34m(\u001b[0m\u001b[0;34m)\u001b[0m\u001b[0;34m\u001b[0m\u001b[0;34m\u001b[0m\u001b[0m\n\u001b[1;32m     98\u001b[0m             \u001b[0;32mtry\u001b[0m\u001b[0;34m:\u001b[0m\u001b[0;34m\u001b[0m\u001b[0;34m\u001b[0m\u001b[0m\n\u001b[0;32m---> 99\u001b[0;31m                 \u001b[0mself\u001b[0m\u001b[0;34m.\u001b[0m\u001b[0mgen\u001b[0m\u001b[0;34m.\u001b[0m\u001b[0mthrow\u001b[0m\u001b[0;34m(\u001b[0m\u001b[0mtype\u001b[0m\u001b[0;34m,\u001b[0m \u001b[0mvalue\u001b[0m\u001b[0;34m,\u001b[0m \u001b[0mtraceback\u001b[0m\u001b[0;34m)\u001b[0m\u001b[0;34m\u001b[0m\u001b[0;34m\u001b[0m\u001b[0m\n\u001b[0m\u001b[1;32m    100\u001b[0m             \u001b[0;32mexcept\u001b[0m \u001b[0mStopIteration\u001b[0m \u001b[0;32mas\u001b[0m \u001b[0mexc\u001b[0m\u001b[0;34m:\u001b[0m\u001b[0;34m\u001b[0m\u001b[0;34m\u001b[0m\u001b[0m\n\u001b[1;32m    101\u001b[0m                 \u001b[0;31m# Suppress StopIteration *unless* it's the same exception that\u001b[0m\u001b[0;34m\u001b[0m\u001b[0;34m\u001b[0m\u001b[0;34m\u001b[0m\u001b[0m\n",
            "\u001b[0;32m/usr/local/lib/python3.6/dist-packages/tensorflow/python/keras/engine/data_adapter.py\u001b[0m in \u001b[0;36mcatch_stop_iteration\u001b[0;34m(self)\u001b[0m\n\u001b[1;32m   1151\u001b[0m             \u001b[0;34m\"{} batches). You may need to use the repeat() function \"\u001b[0m\u001b[0;34m\u001b[0m\u001b[0;34m\u001b[0m\u001b[0m\n\u001b[1;32m   1152\u001b[0m             \"when building your dataset.\".format(total_epochs *\n\u001b[0;32m-> 1153\u001b[0;31m                                                  self._inferred_steps))\n\u001b[0m\u001b[1;32m   1154\u001b[0m \u001b[0;34m\u001b[0m\u001b[0m\n\u001b[1;32m   1155\u001b[0m   \u001b[0;32mdef\u001b[0m \u001b[0msteps\u001b[0m\u001b[0;34m(\u001b[0m\u001b[0mself\u001b[0m\u001b[0;34m)\u001b[0m\u001b[0;34m:\u001b[0m\u001b[0;34m\u001b[0m\u001b[0;34m\u001b[0m\u001b[0m\n",
            "\u001b[0;31mTypeError\u001b[0m: unsupported operand type(s) for *: 'int' and 'NoneType'"
          ]
        }
      ]
    },
    {
      "cell_type": "code",
      "metadata": {
        "id": "05RKK0AX1tD9",
        "colab_type": "code",
        "colab": {}
      },
      "source": [
        "eval_loss, eval_acc = model.evaluate(test_data)\n",
        "print('\\nEval loss: {:.3f}, Eval accuracy: {:.3f}'.format(eval_loss, eval_acc))"
      ],
      "execution_count": null,
      "outputs": []
    },
    {
      "cell_type": "code",
      "metadata": {
        "id": "S1CKSdv51wGw",
        "colab_type": "code",
        "colab": {}
      },
      "source": [
        "model.save_pretrained('./save/')"
      ],
      "execution_count": null,
      "outputs": []
    },
    {
      "cell_type": "code",
      "metadata": {
        "id": "Dn6zobRb4zBZ",
        "colab_type": "code",
        "colab": {}
      },
      "source": [
        ""
      ],
      "execution_count": null,
      "outputs": []
    },
    {
      "cell_type": "code",
      "metadata": {
        "id": "M3OYSoDZ2Kd5",
        "colab_type": "code",
        "colab": {
          "base_uri": "https://localhost:8080/",
          "height": 630
        },
        "outputId": "beed7459-0e52-4905-f767-b6f6a4ee7a66"
      },
      "source": [
        "model = tf.keras.Sequential()\n",
        "\n",
        "# The first layer converts integer representations to dense vector embeddings\n",
        "model.add(tf.keras.layers.Embedding(vocab_size, 64))\n",
        "\n",
        "# The next layer is a Long Short-Term Memory layer, \n",
        "# which lets the model understand words in their context with other words. \n",
        "# A bidirectional wrapper on the LSTM helps it to learn about the datapoints \n",
        "# in relationship to the datapoints that came before it and after it.\n",
        "model.add(tf.keras.layers.Bidirectional(tf.keras.layers.LSTM(64)))\n",
        "\n",
        "# a series of one or more densely connected layers, with the last one being the output layer. \n",
        "# The output layer produces a probability for all the labels. \n",
        "# The one with the highest probability is the models prediction of an example's label.\n",
        "for units in [64, 64]:\n",
        "  model.add(tf.keras.layers.Dense(units, activation='relu'))\n",
        "\n",
        "# Output layer. The first argument is the number of labels.\n",
        "model.add(tf.keras.layers.Dense(3))\n",
        "\n",
        "\n",
        "model.compile(optimizer='adam',\n",
        "              loss=tf.keras.losses.SparseCategoricalCrossentropy(from_logits=True),\n",
        "              metrics=['accuracy'])\n",
        "\n",
        "model.fit(train_data, epochs=3, validation_data=test_data)"
      ],
      "execution_count": null,
      "outputs": [
        {
          "output_type": "stream",
          "text": [
            "Epoch 1/3\n"
          ],
          "name": "stdout"
        },
        {
          "output_type": "error",
          "ename": "TypeError",
          "evalue": "ignored",
          "traceback": [
            "\u001b[0;31m---------------------------------------------------------------------------\u001b[0m",
            "\u001b[0;31mOutOfRangeError\u001b[0m                           Traceback (most recent call last)",
            "\u001b[0;32m/usr/local/lib/python3.6/dist-packages/tensorflow/python/keras/engine/data_adapter.py\u001b[0m in \u001b[0;36mcatch_stop_iteration\u001b[0;34m(self)\u001b[0m\n\u001b[1;32m   1135\u001b[0m     \u001b[0;32mtry\u001b[0m\u001b[0;34m:\u001b[0m\u001b[0;34m\u001b[0m\u001b[0;34m\u001b[0m\u001b[0m\n\u001b[0;32m-> 1136\u001b[0;31m       \u001b[0;32myield\u001b[0m\u001b[0;34m\u001b[0m\u001b[0;34m\u001b[0m\u001b[0m\n\u001b[0m\u001b[1;32m   1137\u001b[0m       \u001b[0mcontext\u001b[0m\u001b[0;34m.\u001b[0m\u001b[0masync_wait\u001b[0m\u001b[0;34m(\u001b[0m\u001b[0;34m)\u001b[0m\u001b[0;34m\u001b[0m\u001b[0;34m\u001b[0m\u001b[0m\n",
            "\u001b[0;32m/usr/local/lib/python3.6/dist-packages/tensorflow/python/keras/engine/training.py\u001b[0m in \u001b[0;36mfit\u001b[0;34m(self, x, y, batch_size, epochs, verbose, callbacks, validation_split, validation_data, shuffle, class_weight, sample_weight, initial_epoch, steps_per_epoch, validation_steps, validation_batch_size, validation_freq, max_queue_size, workers, use_multiprocessing)\u001b[0m\n\u001b[1;32m    847\u001b[0m               \u001b[0mcallbacks\u001b[0m\u001b[0;34m.\u001b[0m\u001b[0mon_train_batch_begin\u001b[0m\u001b[0;34m(\u001b[0m\u001b[0mstep\u001b[0m\u001b[0;34m)\u001b[0m\u001b[0;34m\u001b[0m\u001b[0;34m\u001b[0m\u001b[0m\n\u001b[0;32m--> 848\u001b[0;31m               \u001b[0mtmp_logs\u001b[0m \u001b[0;34m=\u001b[0m \u001b[0mtrain_function\u001b[0m\u001b[0;34m(\u001b[0m\u001b[0miterator\u001b[0m\u001b[0;34m)\u001b[0m\u001b[0;34m\u001b[0m\u001b[0;34m\u001b[0m\u001b[0m\n\u001b[0m\u001b[1;32m    849\u001b[0m               \u001b[0;31m# Catch OutOfRangeError for Datasets of unknown size.\u001b[0m\u001b[0;34m\u001b[0m\u001b[0;34m\u001b[0m\u001b[0;34m\u001b[0m\u001b[0m\n",
            "\u001b[0;32m/usr/local/lib/python3.6/dist-packages/tensorflow/python/eager/def_function.py\u001b[0m in \u001b[0;36m__call__\u001b[0;34m(self, *args, **kwds)\u001b[0m\n\u001b[1;32m    579\u001b[0m     \u001b[0;32melse\u001b[0m\u001b[0;34m:\u001b[0m\u001b[0;34m\u001b[0m\u001b[0;34m\u001b[0m\u001b[0m\n\u001b[0;32m--> 580\u001b[0;31m       \u001b[0mresult\u001b[0m \u001b[0;34m=\u001b[0m \u001b[0mself\u001b[0m\u001b[0;34m.\u001b[0m\u001b[0m_call\u001b[0m\u001b[0;34m(\u001b[0m\u001b[0;34m*\u001b[0m\u001b[0margs\u001b[0m\u001b[0;34m,\u001b[0m \u001b[0;34m**\u001b[0m\u001b[0mkwds\u001b[0m\u001b[0;34m)\u001b[0m\u001b[0;34m\u001b[0m\u001b[0;34m\u001b[0m\u001b[0m\n\u001b[0m\u001b[1;32m    581\u001b[0m \u001b[0;34m\u001b[0m\u001b[0m\n",
            "\u001b[0;32m/usr/local/lib/python3.6/dist-packages/tensorflow/python/eager/def_function.py\u001b[0m in \u001b[0;36m_call\u001b[0;34m(self, *args, **kwds)\u001b[0m\n\u001b[1;32m    643\u001b[0m         \u001b[0;31m# stateless function.\u001b[0m\u001b[0;34m\u001b[0m\u001b[0;34m\u001b[0m\u001b[0;34m\u001b[0m\u001b[0m\n\u001b[0;32m--> 644\u001b[0;31m         \u001b[0;32mreturn\u001b[0m \u001b[0mself\u001b[0m\u001b[0;34m.\u001b[0m\u001b[0m_stateless_fn\u001b[0m\u001b[0;34m(\u001b[0m\u001b[0;34m*\u001b[0m\u001b[0margs\u001b[0m\u001b[0;34m,\u001b[0m \u001b[0;34m**\u001b[0m\u001b[0mkwds\u001b[0m\u001b[0;34m)\u001b[0m\u001b[0;34m\u001b[0m\u001b[0;34m\u001b[0m\u001b[0m\n\u001b[0m\u001b[1;32m    645\u001b[0m     \u001b[0;32melse\u001b[0m\u001b[0;34m:\u001b[0m\u001b[0;34m\u001b[0m\u001b[0;34m\u001b[0m\u001b[0m\n",
            "\u001b[0;32m/usr/local/lib/python3.6/dist-packages/tensorflow/python/eager/function.py\u001b[0m in \u001b[0;36m__call__\u001b[0;34m(self, *args, **kwargs)\u001b[0m\n\u001b[1;32m   2419\u001b[0m       \u001b[0mgraph_function\u001b[0m\u001b[0;34m,\u001b[0m \u001b[0margs\u001b[0m\u001b[0;34m,\u001b[0m \u001b[0mkwargs\u001b[0m \u001b[0;34m=\u001b[0m \u001b[0mself\u001b[0m\u001b[0;34m.\u001b[0m\u001b[0m_maybe_define_function\u001b[0m\u001b[0;34m(\u001b[0m\u001b[0margs\u001b[0m\u001b[0;34m,\u001b[0m \u001b[0mkwargs\u001b[0m\u001b[0;34m)\u001b[0m\u001b[0;34m\u001b[0m\u001b[0;34m\u001b[0m\u001b[0m\n\u001b[0;32m-> 2420\u001b[0;31m     \u001b[0;32mreturn\u001b[0m \u001b[0mgraph_function\u001b[0m\u001b[0;34m.\u001b[0m\u001b[0m_filtered_call\u001b[0m\u001b[0;34m(\u001b[0m\u001b[0margs\u001b[0m\u001b[0;34m,\u001b[0m \u001b[0mkwargs\u001b[0m\u001b[0;34m)\u001b[0m  \u001b[0;31m# pylint: disable=protected-access\u001b[0m\u001b[0;34m\u001b[0m\u001b[0;34m\u001b[0m\u001b[0m\n\u001b[0m\u001b[1;32m   2421\u001b[0m \u001b[0;34m\u001b[0m\u001b[0m\n",
            "\u001b[0;32m/usr/local/lib/python3.6/dist-packages/tensorflow/python/eager/function.py\u001b[0m in \u001b[0;36m_filtered_call\u001b[0;34m(self, args, kwargs)\u001b[0m\n\u001b[1;32m   1664\u001b[0m                            resource_variable_ops.BaseResourceVariable))),\n\u001b[0;32m-> 1665\u001b[0;31m         self.captured_inputs)\n\u001b[0m\u001b[1;32m   1666\u001b[0m \u001b[0;34m\u001b[0m\u001b[0m\n",
            "\u001b[0;32m/usr/local/lib/python3.6/dist-packages/tensorflow/python/eager/function.py\u001b[0m in \u001b[0;36m_call_flat\u001b[0;34m(self, args, captured_inputs, cancellation_manager)\u001b[0m\n\u001b[1;32m   1745\u001b[0m       return self._build_call_outputs(self._inference_function.call(\n\u001b[0;32m-> 1746\u001b[0;31m           ctx, args, cancellation_manager=cancellation_manager))\n\u001b[0m\u001b[1;32m   1747\u001b[0m     forward_backward = self._select_forward_and_backward_functions(\n",
            "\u001b[0;32m/usr/local/lib/python3.6/dist-packages/tensorflow/python/eager/function.py\u001b[0m in \u001b[0;36mcall\u001b[0;34m(self, ctx, args, cancellation_manager)\u001b[0m\n\u001b[1;32m    597\u001b[0m               \u001b[0mattrs\u001b[0m\u001b[0;34m=\u001b[0m\u001b[0mattrs\u001b[0m\u001b[0;34m,\u001b[0m\u001b[0;34m\u001b[0m\u001b[0;34m\u001b[0m\u001b[0m\n\u001b[0;32m--> 598\u001b[0;31m               ctx=ctx)\n\u001b[0m\u001b[1;32m    599\u001b[0m         \u001b[0;32melse\u001b[0m\u001b[0;34m:\u001b[0m\u001b[0;34m\u001b[0m\u001b[0;34m\u001b[0m\u001b[0m\n",
            "\u001b[0;32m/usr/local/lib/python3.6/dist-packages/tensorflow/python/eager/execute.py\u001b[0m in \u001b[0;36mquick_execute\u001b[0;34m(op_name, num_outputs, inputs, attrs, ctx, name)\u001b[0m\n\u001b[1;32m     59\u001b[0m     tensors = pywrap_tfe.TFE_Py_Execute(ctx._handle, device_name, op_name,\n\u001b[0;32m---> 60\u001b[0;31m                                         inputs, attrs, num_outputs)\n\u001b[0m\u001b[1;32m     61\u001b[0m   \u001b[0;32mexcept\u001b[0m \u001b[0mcore\u001b[0m\u001b[0;34m.\u001b[0m\u001b[0m_NotOkStatusException\u001b[0m \u001b[0;32mas\u001b[0m \u001b[0me\u001b[0m\u001b[0;34m:\u001b[0m\u001b[0;34m\u001b[0m\u001b[0;34m\u001b[0m\u001b[0m\n",
            "\u001b[0;31mOutOfRangeError\u001b[0m: 2 root error(s) found.\n  (0) Out of range:  End of sequence\n\t [[node IteratorGetNext (defined at <ipython-input-32-740018d58a45>:26) ]]\n\t [[Adam/Adam/update/AssignSubVariableOp/_33]]\n  (1) Out of range:  End of sequence\n\t [[node IteratorGetNext (defined at <ipython-input-32-740018d58a45>:26) ]]\n0 successful operations.\n0 derived errors ignored. [Op:__inference_train_function_35460]\n\nFunction call stack:\ntrain_function -> train_function\n",
            "\nDuring handling of the above exception, another exception occurred:\n",
            "\u001b[0;31mTypeError\u001b[0m                                 Traceback (most recent call last)",
            "\u001b[0;32m<ipython-input-32-740018d58a45>\u001b[0m in \u001b[0;36m<module>\u001b[0;34m()\u001b[0m\n\u001b[1;32m     24\u001b[0m               metrics=['accuracy'])\n\u001b[1;32m     25\u001b[0m \u001b[0;34m\u001b[0m\u001b[0m\n\u001b[0;32m---> 26\u001b[0;31m \u001b[0mmodel\u001b[0m\u001b[0;34m.\u001b[0m\u001b[0mfit\u001b[0m\u001b[0;34m(\u001b[0m\u001b[0mtrain_data\u001b[0m\u001b[0;34m,\u001b[0m \u001b[0mepochs\u001b[0m\u001b[0;34m=\u001b[0m\u001b[0;36m3\u001b[0m\u001b[0;34m,\u001b[0m \u001b[0mvalidation_data\u001b[0m\u001b[0;34m=\u001b[0m\u001b[0mtest_data\u001b[0m\u001b[0;34m)\u001b[0m\u001b[0;34m\u001b[0m\u001b[0;34m\u001b[0m\u001b[0m\n\u001b[0m",
            "\u001b[0;32m/usr/local/lib/python3.6/dist-packages/tensorflow/python/keras/engine/training.py\u001b[0m in \u001b[0;36m_method_wrapper\u001b[0;34m(self, *args, **kwargs)\u001b[0m\n\u001b[1;32m     64\u001b[0m   \u001b[0;32mdef\u001b[0m \u001b[0m_method_wrapper\u001b[0m\u001b[0;34m(\u001b[0m\u001b[0mself\u001b[0m\u001b[0;34m,\u001b[0m \u001b[0;34m*\u001b[0m\u001b[0margs\u001b[0m\u001b[0;34m,\u001b[0m \u001b[0;34m**\u001b[0m\u001b[0mkwargs\u001b[0m\u001b[0;34m)\u001b[0m\u001b[0;34m:\u001b[0m\u001b[0;34m\u001b[0m\u001b[0;34m\u001b[0m\u001b[0m\n\u001b[1;32m     65\u001b[0m     \u001b[0;32mif\u001b[0m \u001b[0;32mnot\u001b[0m \u001b[0mself\u001b[0m\u001b[0;34m.\u001b[0m\u001b[0m_in_multi_worker_mode\u001b[0m\u001b[0;34m(\u001b[0m\u001b[0;34m)\u001b[0m\u001b[0;34m:\u001b[0m  \u001b[0;31m# pylint: disable=protected-access\u001b[0m\u001b[0;34m\u001b[0m\u001b[0;34m\u001b[0m\u001b[0m\n\u001b[0;32m---> 66\u001b[0;31m       \u001b[0;32mreturn\u001b[0m \u001b[0mmethod\u001b[0m\u001b[0;34m(\u001b[0m\u001b[0mself\u001b[0m\u001b[0;34m,\u001b[0m \u001b[0;34m*\u001b[0m\u001b[0margs\u001b[0m\u001b[0;34m,\u001b[0m \u001b[0;34m**\u001b[0m\u001b[0mkwargs\u001b[0m\u001b[0;34m)\u001b[0m\u001b[0;34m\u001b[0m\u001b[0;34m\u001b[0m\u001b[0m\n\u001b[0m\u001b[1;32m     67\u001b[0m \u001b[0;34m\u001b[0m\u001b[0m\n\u001b[1;32m     68\u001b[0m     \u001b[0;31m# Running inside `run_distribute_coordinator` already.\u001b[0m\u001b[0;34m\u001b[0m\u001b[0;34m\u001b[0m\u001b[0;34m\u001b[0m\u001b[0m\n",
            "\u001b[0;32m/usr/local/lib/python3.6/dist-packages/tensorflow/python/keras/engine/training.py\u001b[0m in \u001b[0;36mfit\u001b[0;34m(self, x, y, batch_size, epochs, verbose, callbacks, validation_split, validation_data, shuffle, class_weight, sample_weight, initial_epoch, steps_per_epoch, validation_steps, validation_batch_size, validation_freq, max_queue_size, workers, use_multiprocessing)\u001b[0m\n\u001b[1;32m    853\u001b[0m                 \u001b[0mcontext\u001b[0m\u001b[0;34m.\u001b[0m\u001b[0masync_wait\u001b[0m\u001b[0;34m(\u001b[0m\u001b[0;34m)\u001b[0m\u001b[0;34m\u001b[0m\u001b[0;34m\u001b[0m\u001b[0m\n\u001b[1;32m    854\u001b[0m               \u001b[0mlogs\u001b[0m \u001b[0;34m=\u001b[0m \u001b[0mtmp_logs\u001b[0m  \u001b[0;31m# No error, now safe to assign to logs.\u001b[0m\u001b[0;34m\u001b[0m\u001b[0;34m\u001b[0m\u001b[0m\n\u001b[0;32m--> 855\u001b[0;31m               \u001b[0mcallbacks\u001b[0m\u001b[0;34m.\u001b[0m\u001b[0mon_train_batch_end\u001b[0m\u001b[0;34m(\u001b[0m\u001b[0mstep\u001b[0m\u001b[0;34m,\u001b[0m \u001b[0mlogs\u001b[0m\u001b[0;34m)\u001b[0m\u001b[0;34m\u001b[0m\u001b[0;34m\u001b[0m\u001b[0m\n\u001b[0m\u001b[1;32m    856\u001b[0m         \u001b[0mepoch_logs\u001b[0m \u001b[0;34m=\u001b[0m \u001b[0mcopy\u001b[0m\u001b[0;34m.\u001b[0m\u001b[0mcopy\u001b[0m\u001b[0;34m(\u001b[0m\u001b[0mlogs\u001b[0m\u001b[0;34m)\u001b[0m\u001b[0;34m\u001b[0m\u001b[0;34m\u001b[0m\u001b[0m\n\u001b[1;32m    857\u001b[0m \u001b[0;34m\u001b[0m\u001b[0m\n",
            "\u001b[0;32m/usr/lib/python3.6/contextlib.py\u001b[0m in \u001b[0;36m__exit__\u001b[0;34m(self, type, value, traceback)\u001b[0m\n\u001b[1;32m     97\u001b[0m                 \u001b[0mvalue\u001b[0m \u001b[0;34m=\u001b[0m \u001b[0mtype\u001b[0m\u001b[0;34m(\u001b[0m\u001b[0;34m)\u001b[0m\u001b[0;34m\u001b[0m\u001b[0;34m\u001b[0m\u001b[0m\n\u001b[1;32m     98\u001b[0m             \u001b[0;32mtry\u001b[0m\u001b[0;34m:\u001b[0m\u001b[0;34m\u001b[0m\u001b[0;34m\u001b[0m\u001b[0m\n\u001b[0;32m---> 99\u001b[0;31m                 \u001b[0mself\u001b[0m\u001b[0;34m.\u001b[0m\u001b[0mgen\u001b[0m\u001b[0;34m.\u001b[0m\u001b[0mthrow\u001b[0m\u001b[0;34m(\u001b[0m\u001b[0mtype\u001b[0m\u001b[0;34m,\u001b[0m \u001b[0mvalue\u001b[0m\u001b[0;34m,\u001b[0m \u001b[0mtraceback\u001b[0m\u001b[0;34m)\u001b[0m\u001b[0;34m\u001b[0m\u001b[0;34m\u001b[0m\u001b[0m\n\u001b[0m\u001b[1;32m    100\u001b[0m             \u001b[0;32mexcept\u001b[0m \u001b[0mStopIteration\u001b[0m \u001b[0;32mas\u001b[0m \u001b[0mexc\u001b[0m\u001b[0;34m:\u001b[0m\u001b[0;34m\u001b[0m\u001b[0;34m\u001b[0m\u001b[0m\n\u001b[1;32m    101\u001b[0m                 \u001b[0;31m# Suppress StopIteration *unless* it's the same exception that\u001b[0m\u001b[0;34m\u001b[0m\u001b[0;34m\u001b[0m\u001b[0;34m\u001b[0m\u001b[0m\n",
            "\u001b[0;32m/usr/local/lib/python3.6/dist-packages/tensorflow/python/keras/engine/data_adapter.py\u001b[0m in \u001b[0;36mcatch_stop_iteration\u001b[0;34m(self)\u001b[0m\n\u001b[1;32m   1151\u001b[0m             \u001b[0;34m\"{} batches). You may need to use the repeat() function \"\u001b[0m\u001b[0;34m\u001b[0m\u001b[0;34m\u001b[0m\u001b[0m\n\u001b[1;32m   1152\u001b[0m             \"when building your dataset.\".format(total_epochs *\n\u001b[0;32m-> 1153\u001b[0;31m                                                  self._inferred_steps))\n\u001b[0m\u001b[1;32m   1154\u001b[0m \u001b[0;34m\u001b[0m\u001b[0m\n\u001b[1;32m   1155\u001b[0m   \u001b[0;32mdef\u001b[0m \u001b[0msteps\u001b[0m\u001b[0;34m(\u001b[0m\u001b[0mself\u001b[0m\u001b[0;34m)\u001b[0m\u001b[0;34m:\u001b[0m\u001b[0;34m\u001b[0m\u001b[0;34m\u001b[0m\u001b[0m\n",
            "\u001b[0;31mTypeError\u001b[0m: unsupported operand type(s) for *: 'int' and 'NoneType'"
          ]
        }
      ]
    },
    {
      "cell_type": "code",
      "metadata": {
        "id": "ixmN8Td6U_-i",
        "colab_type": "code",
        "colab": {}
      },
      "source": [
        "\n",
        "\n",
        "special_tokens_dict = {'cls_token': '[CLS]',\n",
        "                      'sep_token': '[SEP]',\n",
        "                      }\n",
        "\n",
        "\n",
        "num_added_toks = tokenizer.add_special_tokens(special_tokens_dict)\n",
        "print('Added new tokens: {}'.format(num_added_toks))\n",
        "model.resize_token_embeddings(len(tokenizer))\n",
        "\n",
        "train"
      ],
      "execution_count": null,
      "outputs": []
    },
    {
      "cell_type": "code",
      "metadata": {
        "id": "sJK7WEPEfZn8",
        "colab_type": "code",
        "colab": {}
      },
      "source": [
        "input_ids = torch.tensor(tokenizer.encode(\"Hello, my dog is cute\", add_special_tokens=True)).unsqueeze(0)  # Batch size 1\n",
        "outputs = model(input_ids)\n",
        "last_hidden_states, mems = outputs[:2]"
      ],
      "execution_count": null,
      "outputs": []
    }
  ]
}