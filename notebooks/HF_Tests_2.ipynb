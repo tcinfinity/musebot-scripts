{
  "nbformat": 4,
  "nbformat_minor": 0,
  "metadata": {
    "colab": {
      "name": "HF_Tests_2.ipynb",
      "provenance": [],
      "collapsed_sections": [
        "uHSfC8JGZA2P",
        "LdekFRmchjrU"
      ],
      "toc_visible": true
    },
    "kernelspec": {
      "name": "python3",
      "display_name": "Python 3"
    },
    "accelerator": "GPU",
    "widgets": {
      "application/vnd.jupyter.widget-state+json": {
        "f775823170454c609d586fa58a1fda01": {
          "model_module": "@jupyter-widgets/controls",
          "model_name": "HBoxModel",
          "state": {
            "_view_name": "HBoxView",
            "_dom_classes": [],
            "_model_name": "HBoxModel",
            "_view_module": "@jupyter-widgets/controls",
            "_model_module_version": "1.5.0",
            "_view_count": null,
            "_view_module_version": "1.5.0",
            "box_style": "",
            "layout": "IPY_MODEL_fa14e6d3b8c14104b24d6af52ae98386",
            "_model_module": "@jupyter-widgets/controls",
            "children": [
              "IPY_MODEL_d648982c3aee4bb38f6d0da7ae04f326",
              "IPY_MODEL_a4f50e4126c049cca70c19a0616c17f4"
            ]
          }
        },
        "fa14e6d3b8c14104b24d6af52ae98386": {
          "model_module": "@jupyter-widgets/base",
          "model_name": "LayoutModel",
          "state": {
            "_view_name": "LayoutView",
            "grid_template_rows": null,
            "right": null,
            "justify_content": null,
            "_view_module": "@jupyter-widgets/base",
            "overflow": null,
            "_model_module_version": "1.2.0",
            "_view_count": null,
            "flex_flow": null,
            "width": null,
            "min_width": null,
            "border": null,
            "align_items": null,
            "bottom": null,
            "_model_module": "@jupyter-widgets/base",
            "top": null,
            "grid_column": null,
            "overflow_y": null,
            "overflow_x": null,
            "grid_auto_flow": null,
            "grid_area": null,
            "grid_template_columns": null,
            "flex": null,
            "_model_name": "LayoutModel",
            "justify_items": null,
            "grid_row": null,
            "max_height": null,
            "align_content": null,
            "visibility": null,
            "align_self": null,
            "height": null,
            "min_height": null,
            "padding": null,
            "grid_auto_rows": null,
            "grid_gap": null,
            "max_width": null,
            "order": null,
            "_view_module_version": "1.2.0",
            "grid_template_areas": null,
            "object_position": null,
            "object_fit": null,
            "grid_auto_columns": null,
            "margin": null,
            "display": null,
            "left": null
          }
        },
        "d648982c3aee4bb38f6d0da7ae04f326": {
          "model_module": "@jupyter-widgets/controls",
          "model_name": "FloatProgressModel",
          "state": {
            "_view_name": "ProgressView",
            "style": "IPY_MODEL_802ef86e566c4812b436ef531b41ca99",
            "_dom_classes": [],
            "description": "Epoch:   0%",
            "_model_name": "FloatProgressModel",
            "bar_style": "danger",
            "max": 5,
            "_view_module": "@jupyter-widgets/controls",
            "_model_module_version": "1.5.0",
            "value": 0,
            "_view_count": null,
            "_view_module_version": "1.5.0",
            "orientation": "horizontal",
            "min": 0,
            "description_tooltip": null,
            "_model_module": "@jupyter-widgets/controls",
            "layout": "IPY_MODEL_bd39393ad1164f47be2aadbaa2ac5f20"
          }
        },
        "a4f50e4126c049cca70c19a0616c17f4": {
          "model_module": "@jupyter-widgets/controls",
          "model_name": "HTMLModel",
          "state": {
            "_view_name": "HTMLView",
            "style": "IPY_MODEL_445d5250d7c140e0a5ccc5d259c2b9b7",
            "_dom_classes": [],
            "description": "",
            "_model_name": "HTMLModel",
            "placeholder": "​",
            "_view_module": "@jupyter-widgets/controls",
            "_model_module_version": "1.5.0",
            "value": " 0/5 [00:00&lt;?, ?it/s]",
            "_view_count": null,
            "_view_module_version": "1.5.0",
            "description_tooltip": null,
            "_model_module": "@jupyter-widgets/controls",
            "layout": "IPY_MODEL_1a9e9fc7e5994f799762d7cdc0cfa0bf"
          }
        },
        "802ef86e566c4812b436ef531b41ca99": {
          "model_module": "@jupyter-widgets/controls",
          "model_name": "ProgressStyleModel",
          "state": {
            "_view_name": "StyleView",
            "_model_name": "ProgressStyleModel",
            "description_width": "initial",
            "_view_module": "@jupyter-widgets/base",
            "_model_module_version": "1.5.0",
            "_view_count": null,
            "_view_module_version": "1.2.0",
            "bar_color": null,
            "_model_module": "@jupyter-widgets/controls"
          }
        },
        "bd39393ad1164f47be2aadbaa2ac5f20": {
          "model_module": "@jupyter-widgets/base",
          "model_name": "LayoutModel",
          "state": {
            "_view_name": "LayoutView",
            "grid_template_rows": null,
            "right": null,
            "justify_content": null,
            "_view_module": "@jupyter-widgets/base",
            "overflow": null,
            "_model_module_version": "1.2.0",
            "_view_count": null,
            "flex_flow": null,
            "width": null,
            "min_width": null,
            "border": null,
            "align_items": null,
            "bottom": null,
            "_model_module": "@jupyter-widgets/base",
            "top": null,
            "grid_column": null,
            "overflow_y": null,
            "overflow_x": null,
            "grid_auto_flow": null,
            "grid_area": null,
            "grid_template_columns": null,
            "flex": null,
            "_model_name": "LayoutModel",
            "justify_items": null,
            "grid_row": null,
            "max_height": null,
            "align_content": null,
            "visibility": null,
            "align_self": null,
            "height": null,
            "min_height": null,
            "padding": null,
            "grid_auto_rows": null,
            "grid_gap": null,
            "max_width": null,
            "order": null,
            "_view_module_version": "1.2.0",
            "grid_template_areas": null,
            "object_position": null,
            "object_fit": null,
            "grid_auto_columns": null,
            "margin": null,
            "display": null,
            "left": null
          }
        },
        "445d5250d7c140e0a5ccc5d259c2b9b7": {
          "model_module": "@jupyter-widgets/controls",
          "model_name": "DescriptionStyleModel",
          "state": {
            "_view_name": "StyleView",
            "_model_name": "DescriptionStyleModel",
            "description_width": "",
            "_view_module": "@jupyter-widgets/base",
            "_model_module_version": "1.5.0",
            "_view_count": null,
            "_view_module_version": "1.2.0",
            "_model_module": "@jupyter-widgets/controls"
          }
        },
        "1a9e9fc7e5994f799762d7cdc0cfa0bf": {
          "model_module": "@jupyter-widgets/base",
          "model_name": "LayoutModel",
          "state": {
            "_view_name": "LayoutView",
            "grid_template_rows": null,
            "right": null,
            "justify_content": null,
            "_view_module": "@jupyter-widgets/base",
            "overflow": null,
            "_model_module_version": "1.2.0",
            "_view_count": null,
            "flex_flow": null,
            "width": null,
            "min_width": null,
            "border": null,
            "align_items": null,
            "bottom": null,
            "_model_module": "@jupyter-widgets/base",
            "top": null,
            "grid_column": null,
            "overflow_y": null,
            "overflow_x": null,
            "grid_auto_flow": null,
            "grid_area": null,
            "grid_template_columns": null,
            "flex": null,
            "_model_name": "LayoutModel",
            "justify_items": null,
            "grid_row": null,
            "max_height": null,
            "align_content": null,
            "visibility": null,
            "align_self": null,
            "height": null,
            "min_height": null,
            "padding": null,
            "grid_auto_rows": null,
            "grid_gap": null,
            "max_width": null,
            "order": null,
            "_view_module_version": "1.2.0",
            "grid_template_areas": null,
            "object_position": null,
            "object_fit": null,
            "grid_auto_columns": null,
            "margin": null,
            "display": null,
            "left": null
          }
        },
        "eb79271e67a24c408a93c555dfca2c69": {
          "model_module": "@jupyter-widgets/controls",
          "model_name": "HBoxModel",
          "state": {
            "_view_name": "HBoxView",
            "_dom_classes": [],
            "_model_name": "HBoxModel",
            "_view_module": "@jupyter-widgets/controls",
            "_model_module_version": "1.5.0",
            "_view_count": null,
            "_view_module_version": "1.5.0",
            "box_style": "",
            "layout": "IPY_MODEL_7bcff243aefc4d78830992a73602e7d7",
            "_model_module": "@jupyter-widgets/controls",
            "children": [
              "IPY_MODEL_103b8470b9e84770aac5bcff29ea9df1",
              "IPY_MODEL_7b5d1055f0904c9ea6c28d6091561dec"
            ]
          }
        },
        "7bcff243aefc4d78830992a73602e7d7": {
          "model_module": "@jupyter-widgets/base",
          "model_name": "LayoutModel",
          "state": {
            "_view_name": "LayoutView",
            "grid_template_rows": null,
            "right": null,
            "justify_content": null,
            "_view_module": "@jupyter-widgets/base",
            "overflow": null,
            "_model_module_version": "1.2.0",
            "_view_count": null,
            "flex_flow": null,
            "width": null,
            "min_width": null,
            "border": null,
            "align_items": null,
            "bottom": null,
            "_model_module": "@jupyter-widgets/base",
            "top": null,
            "grid_column": null,
            "overflow_y": null,
            "overflow_x": null,
            "grid_auto_flow": null,
            "grid_area": null,
            "grid_template_columns": null,
            "flex": null,
            "_model_name": "LayoutModel",
            "justify_items": null,
            "grid_row": null,
            "max_height": null,
            "align_content": null,
            "visibility": null,
            "align_self": null,
            "height": null,
            "min_height": null,
            "padding": null,
            "grid_auto_rows": null,
            "grid_gap": null,
            "max_width": null,
            "order": null,
            "_view_module_version": "1.2.0",
            "grid_template_areas": null,
            "object_position": null,
            "object_fit": null,
            "grid_auto_columns": null,
            "margin": null,
            "display": null,
            "left": null
          }
        },
        "103b8470b9e84770aac5bcff29ea9df1": {
          "model_module": "@jupyter-widgets/controls",
          "model_name": "FloatProgressModel",
          "state": {
            "_view_name": "ProgressView",
            "style": "IPY_MODEL_47c7d79875644471b95cf80e49f4d325",
            "_dom_classes": [],
            "description": "Iteration:   0%",
            "_model_name": "FloatProgressModel",
            "bar_style": "danger",
            "max": 6,
            "_view_module": "@jupyter-widgets/controls",
            "_model_module_version": "1.5.0",
            "value": 0,
            "_view_count": null,
            "_view_module_version": "1.5.0",
            "orientation": "horizontal",
            "min": 0,
            "description_tooltip": null,
            "_model_module": "@jupyter-widgets/controls",
            "layout": "IPY_MODEL_f524f0ecffae45768e5bd983b5624fe5"
          }
        },
        "7b5d1055f0904c9ea6c28d6091561dec": {
          "model_module": "@jupyter-widgets/controls",
          "model_name": "HTMLModel",
          "state": {
            "_view_name": "HTMLView",
            "style": "IPY_MODEL_d964bfbf0888440781779d98ad024939",
            "_dom_classes": [],
            "description": "",
            "_model_name": "HTMLModel",
            "placeholder": "​",
            "_view_module": "@jupyter-widgets/controls",
            "_model_module_version": "1.5.0",
            "value": " 0/6 [00:00&lt;?, ?it/s]",
            "_view_count": null,
            "_view_module_version": "1.5.0",
            "description_tooltip": null,
            "_model_module": "@jupyter-widgets/controls",
            "layout": "IPY_MODEL_a88c77e7dfe94091942eae24f2610529"
          }
        },
        "47c7d79875644471b95cf80e49f4d325": {
          "model_module": "@jupyter-widgets/controls",
          "model_name": "ProgressStyleModel",
          "state": {
            "_view_name": "StyleView",
            "_model_name": "ProgressStyleModel",
            "description_width": "initial",
            "_view_module": "@jupyter-widgets/base",
            "_model_module_version": "1.5.0",
            "_view_count": null,
            "_view_module_version": "1.2.0",
            "bar_color": null,
            "_model_module": "@jupyter-widgets/controls"
          }
        },
        "f524f0ecffae45768e5bd983b5624fe5": {
          "model_module": "@jupyter-widgets/base",
          "model_name": "LayoutModel",
          "state": {
            "_view_name": "LayoutView",
            "grid_template_rows": null,
            "right": null,
            "justify_content": null,
            "_view_module": "@jupyter-widgets/base",
            "overflow": null,
            "_model_module_version": "1.2.0",
            "_view_count": null,
            "flex_flow": null,
            "width": null,
            "min_width": null,
            "border": null,
            "align_items": null,
            "bottom": null,
            "_model_module": "@jupyter-widgets/base",
            "top": null,
            "grid_column": null,
            "overflow_y": null,
            "overflow_x": null,
            "grid_auto_flow": null,
            "grid_area": null,
            "grid_template_columns": null,
            "flex": null,
            "_model_name": "LayoutModel",
            "justify_items": null,
            "grid_row": null,
            "max_height": null,
            "align_content": null,
            "visibility": null,
            "align_self": null,
            "height": null,
            "min_height": null,
            "padding": null,
            "grid_auto_rows": null,
            "grid_gap": null,
            "max_width": null,
            "order": null,
            "_view_module_version": "1.2.0",
            "grid_template_areas": null,
            "object_position": null,
            "object_fit": null,
            "grid_auto_columns": null,
            "margin": null,
            "display": null,
            "left": null
          }
        },
        "d964bfbf0888440781779d98ad024939": {
          "model_module": "@jupyter-widgets/controls",
          "model_name": "DescriptionStyleModel",
          "state": {
            "_view_name": "StyleView",
            "_model_name": "DescriptionStyleModel",
            "description_width": "",
            "_view_module": "@jupyter-widgets/base",
            "_model_module_version": "1.5.0",
            "_view_count": null,
            "_view_module_version": "1.2.0",
            "_model_module": "@jupyter-widgets/controls"
          }
        },
        "a88c77e7dfe94091942eae24f2610529": {
          "model_module": "@jupyter-widgets/base",
          "model_name": "LayoutModel",
          "state": {
            "_view_name": "LayoutView",
            "grid_template_rows": null,
            "right": null,
            "justify_content": null,
            "_view_module": "@jupyter-widgets/base",
            "overflow": null,
            "_model_module_version": "1.2.0",
            "_view_count": null,
            "flex_flow": null,
            "width": null,
            "min_width": null,
            "border": null,
            "align_items": null,
            "bottom": null,
            "_model_module": "@jupyter-widgets/base",
            "top": null,
            "grid_column": null,
            "overflow_y": null,
            "overflow_x": null,
            "grid_auto_flow": null,
            "grid_area": null,
            "grid_template_columns": null,
            "flex": null,
            "_model_name": "LayoutModel",
            "justify_items": null,
            "grid_row": null,
            "max_height": null,
            "align_content": null,
            "visibility": null,
            "align_self": null,
            "height": null,
            "min_height": null,
            "padding": null,
            "grid_auto_rows": null,
            "grid_gap": null,
            "max_width": null,
            "order": null,
            "_view_module_version": "1.2.0",
            "grid_template_areas": null,
            "object_position": null,
            "object_fit": null,
            "grid_auto_columns": null,
            "margin": null,
            "display": null,
            "left": null
          }
        },
        "9ea3bf98a2e44c2fb7cadc8f567de23d": {
          "model_module": "@jupyter-widgets/controls",
          "model_name": "HBoxModel",
          "state": {
            "_view_name": "HBoxView",
            "_dom_classes": [],
            "_model_name": "HBoxModel",
            "_view_module": "@jupyter-widgets/controls",
            "_model_module_version": "1.5.0",
            "_view_count": null,
            "_view_module_version": "1.5.0",
            "box_style": "",
            "layout": "IPY_MODEL_40c0210ddc5d4366a8420aebb71c9ab1",
            "_model_module": "@jupyter-widgets/controls",
            "children": [
              "IPY_MODEL_af87edd59aaa417f899748e04116a66c",
              "IPY_MODEL_e54e91a88b0c4db293701caae8ddda99"
            ]
          }
        },
        "40c0210ddc5d4366a8420aebb71c9ab1": {
          "model_module": "@jupyter-widgets/base",
          "model_name": "LayoutModel",
          "state": {
            "_view_name": "LayoutView",
            "grid_template_rows": null,
            "right": null,
            "justify_content": null,
            "_view_module": "@jupyter-widgets/base",
            "overflow": null,
            "_model_module_version": "1.2.0",
            "_view_count": null,
            "flex_flow": null,
            "width": null,
            "min_width": null,
            "border": null,
            "align_items": null,
            "bottom": null,
            "_model_module": "@jupyter-widgets/base",
            "top": null,
            "grid_column": null,
            "overflow_y": null,
            "overflow_x": null,
            "grid_auto_flow": null,
            "grid_area": null,
            "grid_template_columns": null,
            "flex": null,
            "_model_name": "LayoutModel",
            "justify_items": null,
            "grid_row": null,
            "max_height": null,
            "align_content": null,
            "visibility": null,
            "align_self": null,
            "height": null,
            "min_height": null,
            "padding": null,
            "grid_auto_rows": null,
            "grid_gap": null,
            "max_width": null,
            "order": null,
            "_view_module_version": "1.2.0",
            "grid_template_areas": null,
            "object_position": null,
            "object_fit": null,
            "grid_auto_columns": null,
            "margin": null,
            "display": null,
            "left": null
          }
        },
        "af87edd59aaa417f899748e04116a66c": {
          "model_module": "@jupyter-widgets/controls",
          "model_name": "FloatProgressModel",
          "state": {
            "_view_name": "ProgressView",
            "style": "IPY_MODEL_ab166855cc1545a9afc67225de69d814",
            "_dom_classes": [],
            "description": "Downloading: 100%",
            "_model_name": "FloatProgressModel",
            "bar_style": "success",
            "max": 213450,
            "_view_module": "@jupyter-widgets/controls",
            "_model_module_version": "1.5.0",
            "value": 213450,
            "_view_count": null,
            "_view_module_version": "1.5.0",
            "orientation": "horizontal",
            "min": 0,
            "description_tooltip": null,
            "_model_module": "@jupyter-widgets/controls",
            "layout": "IPY_MODEL_f535552c6ede4d038910583e1b9f7d19"
          }
        },
        "e54e91a88b0c4db293701caae8ddda99": {
          "model_module": "@jupyter-widgets/controls",
          "model_name": "HTMLModel",
          "state": {
            "_view_name": "HTMLView",
            "style": "IPY_MODEL_cae7e534a51544f495fd0f87a18a2152",
            "_dom_classes": [],
            "description": "",
            "_model_name": "HTMLModel",
            "placeholder": "​",
            "_view_module": "@jupyter-widgets/controls",
            "_model_module_version": "1.5.0",
            "value": " 213k/213k [00:00&lt;00:00, 352kB/s]",
            "_view_count": null,
            "_view_module_version": "1.5.0",
            "description_tooltip": null,
            "_model_module": "@jupyter-widgets/controls",
            "layout": "IPY_MODEL_1567a2c6bd1a425a93e83d4f65d23dad"
          }
        },
        "ab166855cc1545a9afc67225de69d814": {
          "model_module": "@jupyter-widgets/controls",
          "model_name": "ProgressStyleModel",
          "state": {
            "_view_name": "StyleView",
            "_model_name": "ProgressStyleModel",
            "description_width": "initial",
            "_view_module": "@jupyter-widgets/base",
            "_model_module_version": "1.5.0",
            "_view_count": null,
            "_view_module_version": "1.2.0",
            "bar_color": null,
            "_model_module": "@jupyter-widgets/controls"
          }
        },
        "f535552c6ede4d038910583e1b9f7d19": {
          "model_module": "@jupyter-widgets/base",
          "model_name": "LayoutModel",
          "state": {
            "_view_name": "LayoutView",
            "grid_template_rows": null,
            "right": null,
            "justify_content": null,
            "_view_module": "@jupyter-widgets/base",
            "overflow": null,
            "_model_module_version": "1.2.0",
            "_view_count": null,
            "flex_flow": null,
            "width": null,
            "min_width": null,
            "border": null,
            "align_items": null,
            "bottom": null,
            "_model_module": "@jupyter-widgets/base",
            "top": null,
            "grid_column": null,
            "overflow_y": null,
            "overflow_x": null,
            "grid_auto_flow": null,
            "grid_area": null,
            "grid_template_columns": null,
            "flex": null,
            "_model_name": "LayoutModel",
            "justify_items": null,
            "grid_row": null,
            "max_height": null,
            "align_content": null,
            "visibility": null,
            "align_self": null,
            "height": null,
            "min_height": null,
            "padding": null,
            "grid_auto_rows": null,
            "grid_gap": null,
            "max_width": null,
            "order": null,
            "_view_module_version": "1.2.0",
            "grid_template_areas": null,
            "object_position": null,
            "object_fit": null,
            "grid_auto_columns": null,
            "margin": null,
            "display": null,
            "left": null
          }
        },
        "cae7e534a51544f495fd0f87a18a2152": {
          "model_module": "@jupyter-widgets/controls",
          "model_name": "DescriptionStyleModel",
          "state": {
            "_view_name": "StyleView",
            "_model_name": "DescriptionStyleModel",
            "description_width": "",
            "_view_module": "@jupyter-widgets/base",
            "_model_module_version": "1.5.0",
            "_view_count": null,
            "_view_module_version": "1.2.0",
            "_model_module": "@jupyter-widgets/controls"
          }
        },
        "1567a2c6bd1a425a93e83d4f65d23dad": {
          "model_module": "@jupyter-widgets/base",
          "model_name": "LayoutModel",
          "state": {
            "_view_name": "LayoutView",
            "grid_template_rows": null,
            "right": null,
            "justify_content": null,
            "_view_module": "@jupyter-widgets/base",
            "overflow": null,
            "_model_module_version": "1.2.0",
            "_view_count": null,
            "flex_flow": null,
            "width": null,
            "min_width": null,
            "border": null,
            "align_items": null,
            "bottom": null,
            "_model_module": "@jupyter-widgets/base",
            "top": null,
            "grid_column": null,
            "overflow_y": null,
            "overflow_x": null,
            "grid_auto_flow": null,
            "grid_area": null,
            "grid_template_columns": null,
            "flex": null,
            "_model_name": "LayoutModel",
            "justify_items": null,
            "grid_row": null,
            "max_height": null,
            "align_content": null,
            "visibility": null,
            "align_self": null,
            "height": null,
            "min_height": null,
            "padding": null,
            "grid_auto_rows": null,
            "grid_gap": null,
            "max_width": null,
            "order": null,
            "_view_module_version": "1.2.0",
            "grid_template_areas": null,
            "object_position": null,
            "object_fit": null,
            "grid_auto_columns": null,
            "margin": null,
            "display": null,
            "left": null
          }
        },
        "f98c1e49cf464a01a3504e55dc0a61b8": {
          "model_module": "@jupyter-widgets/controls",
          "model_name": "HBoxModel",
          "state": {
            "_view_name": "HBoxView",
            "_dom_classes": [],
            "_model_name": "HBoxModel",
            "_view_module": "@jupyter-widgets/controls",
            "_model_module_version": "1.5.0",
            "_view_count": null,
            "_view_module_version": "1.5.0",
            "box_style": "",
            "layout": "IPY_MODEL_96028d80051d449ba7865249c340dea2",
            "_model_module": "@jupyter-widgets/controls",
            "children": [
              "IPY_MODEL_554f818ffe9244cfb65cb1fa04406b7f",
              "IPY_MODEL_04fbd1c8d8bf47ffbf21197d76836b46"
            ]
          }
        },
        "96028d80051d449ba7865249c340dea2": {
          "model_module": "@jupyter-widgets/base",
          "model_name": "LayoutModel",
          "state": {
            "_view_name": "LayoutView",
            "grid_template_rows": null,
            "right": null,
            "justify_content": null,
            "_view_module": "@jupyter-widgets/base",
            "overflow": null,
            "_model_module_version": "1.2.0",
            "_view_count": null,
            "flex_flow": null,
            "width": null,
            "min_width": null,
            "border": null,
            "align_items": null,
            "bottom": null,
            "_model_module": "@jupyter-widgets/base",
            "top": null,
            "grid_column": null,
            "overflow_y": null,
            "overflow_x": null,
            "grid_auto_flow": null,
            "grid_area": null,
            "grid_template_columns": null,
            "flex": null,
            "_model_name": "LayoutModel",
            "justify_items": null,
            "grid_row": null,
            "max_height": null,
            "align_content": null,
            "visibility": null,
            "align_self": null,
            "height": null,
            "min_height": null,
            "padding": null,
            "grid_auto_rows": null,
            "grid_gap": null,
            "max_width": null,
            "order": null,
            "_view_module_version": "1.2.0",
            "grid_template_areas": null,
            "object_position": null,
            "object_fit": null,
            "grid_auto_columns": null,
            "margin": null,
            "display": null,
            "left": null
          }
        },
        "554f818ffe9244cfb65cb1fa04406b7f": {
          "model_module": "@jupyter-widgets/controls",
          "model_name": "FloatProgressModel",
          "state": {
            "_view_name": "ProgressView",
            "style": "IPY_MODEL_f3bf9ead0e7549099681dc0a2cc280f3",
            "_dom_classes": [],
            "description": "Downloading: 100%",
            "_model_name": "FloatProgressModel",
            "bar_style": "success",
            "max": 433,
            "_view_module": "@jupyter-widgets/controls",
            "_model_module_version": "1.5.0",
            "value": 433,
            "_view_count": null,
            "_view_module_version": "1.5.0",
            "orientation": "horizontal",
            "min": 0,
            "description_tooltip": null,
            "_model_module": "@jupyter-widgets/controls",
            "layout": "IPY_MODEL_8e02189030dd4f759bc762696f922ee1"
          }
        },
        "04fbd1c8d8bf47ffbf21197d76836b46": {
          "model_module": "@jupyter-widgets/controls",
          "model_name": "HTMLModel",
          "state": {
            "_view_name": "HTMLView",
            "style": "IPY_MODEL_bc848cc0ee764847878a5933d8c12af6",
            "_dom_classes": [],
            "description": "",
            "_model_name": "HTMLModel",
            "placeholder": "​",
            "_view_module": "@jupyter-widgets/controls",
            "_model_module_version": "1.5.0",
            "value": " 433/433 [00:11&lt;00:00, 39.0B/s]",
            "_view_count": null,
            "_view_module_version": "1.5.0",
            "description_tooltip": null,
            "_model_module": "@jupyter-widgets/controls",
            "layout": "IPY_MODEL_94036b27ec804f1bbb26baa8957961ff"
          }
        },
        "f3bf9ead0e7549099681dc0a2cc280f3": {
          "model_module": "@jupyter-widgets/controls",
          "model_name": "ProgressStyleModel",
          "state": {
            "_view_name": "StyleView",
            "_model_name": "ProgressStyleModel",
            "description_width": "initial",
            "_view_module": "@jupyter-widgets/base",
            "_model_module_version": "1.5.0",
            "_view_count": null,
            "_view_module_version": "1.2.0",
            "bar_color": null,
            "_model_module": "@jupyter-widgets/controls"
          }
        },
        "8e02189030dd4f759bc762696f922ee1": {
          "model_module": "@jupyter-widgets/base",
          "model_name": "LayoutModel",
          "state": {
            "_view_name": "LayoutView",
            "grid_template_rows": null,
            "right": null,
            "justify_content": null,
            "_view_module": "@jupyter-widgets/base",
            "overflow": null,
            "_model_module_version": "1.2.0",
            "_view_count": null,
            "flex_flow": null,
            "width": null,
            "min_width": null,
            "border": null,
            "align_items": null,
            "bottom": null,
            "_model_module": "@jupyter-widgets/base",
            "top": null,
            "grid_column": null,
            "overflow_y": null,
            "overflow_x": null,
            "grid_auto_flow": null,
            "grid_area": null,
            "grid_template_columns": null,
            "flex": null,
            "_model_name": "LayoutModel",
            "justify_items": null,
            "grid_row": null,
            "max_height": null,
            "align_content": null,
            "visibility": null,
            "align_self": null,
            "height": null,
            "min_height": null,
            "padding": null,
            "grid_auto_rows": null,
            "grid_gap": null,
            "max_width": null,
            "order": null,
            "_view_module_version": "1.2.0",
            "grid_template_areas": null,
            "object_position": null,
            "object_fit": null,
            "grid_auto_columns": null,
            "margin": null,
            "display": null,
            "left": null
          }
        },
        "bc848cc0ee764847878a5933d8c12af6": {
          "model_module": "@jupyter-widgets/controls",
          "model_name": "DescriptionStyleModel",
          "state": {
            "_view_name": "StyleView",
            "_model_name": "DescriptionStyleModel",
            "description_width": "",
            "_view_module": "@jupyter-widgets/base",
            "_model_module_version": "1.5.0",
            "_view_count": null,
            "_view_module_version": "1.2.0",
            "_model_module": "@jupyter-widgets/controls"
          }
        },
        "94036b27ec804f1bbb26baa8957961ff": {
          "model_module": "@jupyter-widgets/base",
          "model_name": "LayoutModel",
          "state": {
            "_view_name": "LayoutView",
            "grid_template_rows": null,
            "right": null,
            "justify_content": null,
            "_view_module": "@jupyter-widgets/base",
            "overflow": null,
            "_model_module_version": "1.2.0",
            "_view_count": null,
            "flex_flow": null,
            "width": null,
            "min_width": null,
            "border": null,
            "align_items": null,
            "bottom": null,
            "_model_module": "@jupyter-widgets/base",
            "top": null,
            "grid_column": null,
            "overflow_y": null,
            "overflow_x": null,
            "grid_auto_flow": null,
            "grid_area": null,
            "grid_template_columns": null,
            "flex": null,
            "_model_name": "LayoutModel",
            "justify_items": null,
            "grid_row": null,
            "max_height": null,
            "align_content": null,
            "visibility": null,
            "align_self": null,
            "height": null,
            "min_height": null,
            "padding": null,
            "grid_auto_rows": null,
            "grid_gap": null,
            "max_width": null,
            "order": null,
            "_view_module_version": "1.2.0",
            "grid_template_areas": null,
            "object_position": null,
            "object_fit": null,
            "grid_auto_columns": null,
            "margin": null,
            "display": null,
            "left": null
          }
        },
        "b0c85c88dd854d70bc18c472fd48da3f": {
          "model_module": "@jupyter-widgets/controls",
          "model_name": "HBoxModel",
          "state": {
            "_view_name": "HBoxView",
            "_dom_classes": [],
            "_model_name": "HBoxModel",
            "_view_module": "@jupyter-widgets/controls",
            "_model_module_version": "1.5.0",
            "_view_count": null,
            "_view_module_version": "1.5.0",
            "box_style": "",
            "layout": "IPY_MODEL_552fd0c45b604f268cb8bb0a10bc9f31",
            "_model_module": "@jupyter-widgets/controls",
            "children": [
              "IPY_MODEL_7b73a61a8421423f9e89deda200cab0f",
              "IPY_MODEL_393e1e5c67784ff3bebd52f95d662a41"
            ]
          }
        },
        "552fd0c45b604f268cb8bb0a10bc9f31": {
          "model_module": "@jupyter-widgets/base",
          "model_name": "LayoutModel",
          "state": {
            "_view_name": "LayoutView",
            "grid_template_rows": null,
            "right": null,
            "justify_content": null,
            "_view_module": "@jupyter-widgets/base",
            "overflow": null,
            "_model_module_version": "1.2.0",
            "_view_count": null,
            "flex_flow": null,
            "width": null,
            "min_width": null,
            "border": null,
            "align_items": null,
            "bottom": null,
            "_model_module": "@jupyter-widgets/base",
            "top": null,
            "grid_column": null,
            "overflow_y": null,
            "overflow_x": null,
            "grid_auto_flow": null,
            "grid_area": null,
            "grid_template_columns": null,
            "flex": null,
            "_model_name": "LayoutModel",
            "justify_items": null,
            "grid_row": null,
            "max_height": null,
            "align_content": null,
            "visibility": null,
            "align_self": null,
            "height": null,
            "min_height": null,
            "padding": null,
            "grid_auto_rows": null,
            "grid_gap": null,
            "max_width": null,
            "order": null,
            "_view_module_version": "1.2.0",
            "grid_template_areas": null,
            "object_position": null,
            "object_fit": null,
            "grid_auto_columns": null,
            "margin": null,
            "display": null,
            "left": null
          }
        },
        "7b73a61a8421423f9e89deda200cab0f": {
          "model_module": "@jupyter-widgets/controls",
          "model_name": "FloatProgressModel",
          "state": {
            "_view_name": "ProgressView",
            "style": "IPY_MODEL_52ec5e611b174a9a880c79a4725347a3",
            "_dom_classes": [],
            "description": "Downloading: 100%",
            "_model_name": "FloatProgressModel",
            "bar_style": "success",
            "max": 526681800,
            "_view_module": "@jupyter-widgets/controls",
            "_model_module_version": "1.5.0",
            "value": 526681800,
            "_view_count": null,
            "_view_module_version": "1.5.0",
            "orientation": "horizontal",
            "min": 0,
            "description_tooltip": null,
            "_model_module": "@jupyter-widgets/controls",
            "layout": "IPY_MODEL_3dd7e76a037c4ccea55dc1d5e2117958"
          }
        },
        "393e1e5c67784ff3bebd52f95d662a41": {
          "model_module": "@jupyter-widgets/controls",
          "model_name": "HTMLModel",
          "state": {
            "_view_name": "HTMLView",
            "style": "IPY_MODEL_04052a79b37d4dfb82b67fe2e121fdc9",
            "_dom_classes": [],
            "description": "",
            "_model_name": "HTMLModel",
            "placeholder": "​",
            "_view_module": "@jupyter-widgets/controls",
            "_model_module_version": "1.5.0",
            "value": " 527M/527M [00:10&lt;00:00, 49.2MB/s]",
            "_view_count": null,
            "_view_module_version": "1.5.0",
            "description_tooltip": null,
            "_model_module": "@jupyter-widgets/controls",
            "layout": "IPY_MODEL_64b36a8ed9da4f9984a6aa5f87b82ea4"
          }
        },
        "52ec5e611b174a9a880c79a4725347a3": {
          "model_module": "@jupyter-widgets/controls",
          "model_name": "ProgressStyleModel",
          "state": {
            "_view_name": "StyleView",
            "_model_name": "ProgressStyleModel",
            "description_width": "initial",
            "_view_module": "@jupyter-widgets/base",
            "_model_module_version": "1.5.0",
            "_view_count": null,
            "_view_module_version": "1.2.0",
            "bar_color": null,
            "_model_module": "@jupyter-widgets/controls"
          }
        },
        "3dd7e76a037c4ccea55dc1d5e2117958": {
          "model_module": "@jupyter-widgets/base",
          "model_name": "LayoutModel",
          "state": {
            "_view_name": "LayoutView",
            "grid_template_rows": null,
            "right": null,
            "justify_content": null,
            "_view_module": "@jupyter-widgets/base",
            "overflow": null,
            "_model_module_version": "1.2.0",
            "_view_count": null,
            "flex_flow": null,
            "width": null,
            "min_width": null,
            "border": null,
            "align_items": null,
            "bottom": null,
            "_model_module": "@jupyter-widgets/base",
            "top": null,
            "grid_column": null,
            "overflow_y": null,
            "overflow_x": null,
            "grid_auto_flow": null,
            "grid_area": null,
            "grid_template_columns": null,
            "flex": null,
            "_model_name": "LayoutModel",
            "justify_items": null,
            "grid_row": null,
            "max_height": null,
            "align_content": null,
            "visibility": null,
            "align_self": null,
            "height": null,
            "min_height": null,
            "padding": null,
            "grid_auto_rows": null,
            "grid_gap": null,
            "max_width": null,
            "order": null,
            "_view_module_version": "1.2.0",
            "grid_template_areas": null,
            "object_position": null,
            "object_fit": null,
            "grid_auto_columns": null,
            "margin": null,
            "display": null,
            "left": null
          }
        },
        "04052a79b37d4dfb82b67fe2e121fdc9": {
          "model_module": "@jupyter-widgets/controls",
          "model_name": "DescriptionStyleModel",
          "state": {
            "_view_name": "StyleView",
            "_model_name": "DescriptionStyleModel",
            "description_width": "",
            "_view_module": "@jupyter-widgets/base",
            "_model_module_version": "1.5.0",
            "_view_count": null,
            "_view_module_version": "1.2.0",
            "_model_module": "@jupyter-widgets/controls"
          }
        },
        "64b36a8ed9da4f9984a6aa5f87b82ea4": {
          "model_module": "@jupyter-widgets/base",
          "model_name": "LayoutModel",
          "state": {
            "_view_name": "LayoutView",
            "grid_template_rows": null,
            "right": null,
            "justify_content": null,
            "_view_module": "@jupyter-widgets/base",
            "overflow": null,
            "_model_module_version": "1.2.0",
            "_view_count": null,
            "flex_flow": null,
            "width": null,
            "min_width": null,
            "border": null,
            "align_items": null,
            "bottom": null,
            "_model_module": "@jupyter-widgets/base",
            "top": null,
            "grid_column": null,
            "overflow_y": null,
            "overflow_x": null,
            "grid_auto_flow": null,
            "grid_area": null,
            "grid_template_columns": null,
            "flex": null,
            "_model_name": "LayoutModel",
            "justify_items": null,
            "grid_row": null,
            "max_height": null,
            "align_content": null,
            "visibility": null,
            "align_self": null,
            "height": null,
            "min_height": null,
            "padding": null,
            "grid_auto_rows": null,
            "grid_gap": null,
            "max_width": null,
            "order": null,
            "_view_module_version": "1.2.0",
            "grid_template_areas": null,
            "object_position": null,
            "object_fit": null,
            "grid_auto_columns": null,
            "margin": null,
            "display": null,
            "left": null
          }
        },
        "06d50c94372a4875b89cf2f4ca76c41d": {
          "model_module": "@jupyter-widgets/controls",
          "model_name": "HBoxModel",
          "state": {
            "_view_name": "HBoxView",
            "_dom_classes": [],
            "_model_name": "HBoxModel",
            "_view_module": "@jupyter-widgets/controls",
            "_model_module_version": "1.5.0",
            "_view_count": null,
            "_view_module_version": "1.5.0",
            "box_style": "",
            "layout": "IPY_MODEL_af7a3ec26b164eb78cc7cc8f2f549ad4",
            "_model_module": "@jupyter-widgets/controls",
            "children": [
              "IPY_MODEL_1589cdb6478b46d4bdf86834071e43fd",
              "IPY_MODEL_1566f3eba3fd4c41917e7c285ec1ac62"
            ]
          }
        },
        "af7a3ec26b164eb78cc7cc8f2f549ad4": {
          "model_module": "@jupyter-widgets/base",
          "model_name": "LayoutModel",
          "state": {
            "_view_name": "LayoutView",
            "grid_template_rows": null,
            "right": null,
            "justify_content": null,
            "_view_module": "@jupyter-widgets/base",
            "overflow": null,
            "_model_module_version": "1.2.0",
            "_view_count": null,
            "flex_flow": null,
            "width": null,
            "min_width": null,
            "border": null,
            "align_items": null,
            "bottom": null,
            "_model_module": "@jupyter-widgets/base",
            "top": null,
            "grid_column": null,
            "overflow_y": null,
            "overflow_x": null,
            "grid_auto_flow": null,
            "grid_area": null,
            "grid_template_columns": null,
            "flex": null,
            "_model_name": "LayoutModel",
            "justify_items": null,
            "grid_row": null,
            "max_height": null,
            "align_content": null,
            "visibility": null,
            "align_self": null,
            "height": null,
            "min_height": null,
            "padding": null,
            "grid_auto_rows": null,
            "grid_gap": null,
            "max_width": null,
            "order": null,
            "_view_module_version": "1.2.0",
            "grid_template_areas": null,
            "object_position": null,
            "object_fit": null,
            "grid_auto_columns": null,
            "margin": null,
            "display": null,
            "left": null
          }
        },
        "1589cdb6478b46d4bdf86834071e43fd": {
          "model_module": "@jupyter-widgets/controls",
          "model_name": "FloatProgressModel",
          "state": {
            "_view_name": "ProgressView",
            "style": "IPY_MODEL_33d87267d2b84426842c67ba4a57695b",
            "_dom_classes": [],
            "description": "Dl Completed...: 100%",
            "_model_name": "FloatProgressModel",
            "bar_style": "success",
            "max": 1,
            "_view_module": "@jupyter-widgets/controls",
            "_model_module_version": "1.5.0",
            "value": 1,
            "_view_count": null,
            "_view_module_version": "1.5.0",
            "orientation": "horizontal",
            "min": 0,
            "description_tooltip": null,
            "_model_module": "@jupyter-widgets/controls",
            "layout": "IPY_MODEL_8b65599f07bb426aab17abd07d63e5e1"
          }
        },
        "1566f3eba3fd4c41917e7c285ec1ac62": {
          "model_module": "@jupyter-widgets/controls",
          "model_name": "HTMLModel",
          "state": {
            "_view_name": "HTMLView",
            "style": "IPY_MODEL_0a818daa1f394d5a94132fc391803629",
            "_dom_classes": [],
            "description": "",
            "_model_name": "HTMLModel",
            "placeholder": "​",
            "_view_module": "@jupyter-widgets/controls",
            "_model_module_version": "1.5.0",
            "value": " 3/3 [00:01&lt;00:00,  1.60 url/s]",
            "_view_count": null,
            "_view_module_version": "1.5.0",
            "description_tooltip": null,
            "_model_module": "@jupyter-widgets/controls",
            "layout": "IPY_MODEL_c032f5f398404b4db6a4f55b54eed3c3"
          }
        },
        "33d87267d2b84426842c67ba4a57695b": {
          "model_module": "@jupyter-widgets/controls",
          "model_name": "ProgressStyleModel",
          "state": {
            "_view_name": "StyleView",
            "_model_name": "ProgressStyleModel",
            "description_width": "initial",
            "_view_module": "@jupyter-widgets/base",
            "_model_module_version": "1.5.0",
            "_view_count": null,
            "_view_module_version": "1.2.0",
            "bar_color": null,
            "_model_module": "@jupyter-widgets/controls"
          }
        },
        "8b65599f07bb426aab17abd07d63e5e1": {
          "model_module": "@jupyter-widgets/base",
          "model_name": "LayoutModel",
          "state": {
            "_view_name": "LayoutView",
            "grid_template_rows": null,
            "right": null,
            "justify_content": null,
            "_view_module": "@jupyter-widgets/base",
            "overflow": null,
            "_model_module_version": "1.2.0",
            "_view_count": null,
            "flex_flow": null,
            "width": null,
            "min_width": null,
            "border": null,
            "align_items": null,
            "bottom": null,
            "_model_module": "@jupyter-widgets/base",
            "top": null,
            "grid_column": null,
            "overflow_y": null,
            "overflow_x": null,
            "grid_auto_flow": null,
            "grid_area": null,
            "grid_template_columns": null,
            "flex": null,
            "_model_name": "LayoutModel",
            "justify_items": null,
            "grid_row": null,
            "max_height": null,
            "align_content": null,
            "visibility": null,
            "align_self": null,
            "height": null,
            "min_height": null,
            "padding": null,
            "grid_auto_rows": null,
            "grid_gap": null,
            "max_width": null,
            "order": null,
            "_view_module_version": "1.2.0",
            "grid_template_areas": null,
            "object_position": null,
            "object_fit": null,
            "grid_auto_columns": null,
            "margin": null,
            "display": null,
            "left": null
          }
        },
        "0a818daa1f394d5a94132fc391803629": {
          "model_module": "@jupyter-widgets/controls",
          "model_name": "DescriptionStyleModel",
          "state": {
            "_view_name": "StyleView",
            "_model_name": "DescriptionStyleModel",
            "description_width": "",
            "_view_module": "@jupyter-widgets/base",
            "_model_module_version": "1.5.0",
            "_view_count": null,
            "_view_module_version": "1.2.0",
            "_model_module": "@jupyter-widgets/controls"
          }
        },
        "c032f5f398404b4db6a4f55b54eed3c3": {
          "model_module": "@jupyter-widgets/base",
          "model_name": "LayoutModel",
          "state": {
            "_view_name": "LayoutView",
            "grid_template_rows": null,
            "right": null,
            "justify_content": null,
            "_view_module": "@jupyter-widgets/base",
            "overflow": null,
            "_model_module_version": "1.2.0",
            "_view_count": null,
            "flex_flow": null,
            "width": null,
            "min_width": null,
            "border": null,
            "align_items": null,
            "bottom": null,
            "_model_module": "@jupyter-widgets/base",
            "top": null,
            "grid_column": null,
            "overflow_y": null,
            "overflow_x": null,
            "grid_auto_flow": null,
            "grid_area": null,
            "grid_template_columns": null,
            "flex": null,
            "_model_name": "LayoutModel",
            "justify_items": null,
            "grid_row": null,
            "max_height": null,
            "align_content": null,
            "visibility": null,
            "align_self": null,
            "height": null,
            "min_height": null,
            "padding": null,
            "grid_auto_rows": null,
            "grid_gap": null,
            "max_width": null,
            "order": null,
            "_view_module_version": "1.2.0",
            "grid_template_areas": null,
            "object_position": null,
            "object_fit": null,
            "grid_auto_columns": null,
            "margin": null,
            "display": null,
            "left": null
          }
        },
        "bbe95c215dbf47fead976b0d36aa8524": {
          "model_module": "@jupyter-widgets/controls",
          "model_name": "HBoxModel",
          "state": {
            "_view_name": "HBoxView",
            "_dom_classes": [],
            "_model_name": "HBoxModel",
            "_view_module": "@jupyter-widgets/controls",
            "_model_module_version": "1.5.0",
            "_view_count": null,
            "_view_module_version": "1.5.0",
            "box_style": "",
            "layout": "IPY_MODEL_3e36c1dcdb3242f5a324776480f39534",
            "_model_module": "@jupyter-widgets/controls",
            "children": [
              "IPY_MODEL_a1b6e796000e424cbdb6b22dbebffbe5",
              "IPY_MODEL_a3d137d1e4fe4ab4894e80b7d3e7b1bb"
            ]
          }
        },
        "3e36c1dcdb3242f5a324776480f39534": {
          "model_module": "@jupyter-widgets/base",
          "model_name": "LayoutModel",
          "state": {
            "_view_name": "LayoutView",
            "grid_template_rows": null,
            "right": null,
            "justify_content": null,
            "_view_module": "@jupyter-widgets/base",
            "overflow": null,
            "_model_module_version": "1.2.0",
            "_view_count": null,
            "flex_flow": null,
            "width": null,
            "min_width": null,
            "border": null,
            "align_items": null,
            "bottom": null,
            "_model_module": "@jupyter-widgets/base",
            "top": null,
            "grid_column": null,
            "overflow_y": null,
            "overflow_x": null,
            "grid_auto_flow": null,
            "grid_area": null,
            "grid_template_columns": null,
            "flex": null,
            "_model_name": "LayoutModel",
            "justify_items": null,
            "grid_row": null,
            "max_height": null,
            "align_content": null,
            "visibility": null,
            "align_self": null,
            "height": null,
            "min_height": null,
            "padding": null,
            "grid_auto_rows": null,
            "grid_gap": null,
            "max_width": null,
            "order": null,
            "_view_module_version": "1.2.0",
            "grid_template_areas": null,
            "object_position": null,
            "object_fit": null,
            "grid_auto_columns": null,
            "margin": null,
            "display": null,
            "left": null
          }
        },
        "a1b6e796000e424cbdb6b22dbebffbe5": {
          "model_module": "@jupyter-widgets/controls",
          "model_name": "FloatProgressModel",
          "state": {
            "_view_name": "ProgressView",
            "style": "IPY_MODEL_34c358862d784ea494776f4aaa3143eb",
            "_dom_classes": [],
            "description": "Dl Size...: ",
            "_model_name": "FloatProgressModel",
            "bar_style": "success",
            "max": 1,
            "_view_module": "@jupyter-widgets/controls",
            "_model_module_version": "1.5.0",
            "value": 0,
            "_view_count": null,
            "_view_module_version": "1.5.0",
            "orientation": "horizontal",
            "min": 0,
            "description_tooltip": null,
            "_model_module": "@jupyter-widgets/controls",
            "layout": "IPY_MODEL_a465c7370ead4a7f8b60e503d61582b2"
          }
        },
        "a3d137d1e4fe4ab4894e80b7d3e7b1bb": {
          "model_module": "@jupyter-widgets/controls",
          "model_name": "HTMLModel",
          "state": {
            "_view_name": "HTMLView",
            "style": "IPY_MODEL_cf51c1f03c9845888f471ebad4b816bc",
            "_dom_classes": [],
            "description": "",
            "_model_name": "HTMLModel",
            "placeholder": "​",
            "_view_module": "@jupyter-widgets/controls",
            "_model_module_version": "1.5.0",
            "value": " 0/0 [00:01&lt;?, ? MiB/s]",
            "_view_count": null,
            "_view_module_version": "1.5.0",
            "description_tooltip": null,
            "_model_module": "@jupyter-widgets/controls",
            "layout": "IPY_MODEL_be5a86dab5f5407fa7471e76fad6cb26"
          }
        },
        "34c358862d784ea494776f4aaa3143eb": {
          "model_module": "@jupyter-widgets/controls",
          "model_name": "ProgressStyleModel",
          "state": {
            "_view_name": "StyleView",
            "_model_name": "ProgressStyleModel",
            "description_width": "initial",
            "_view_module": "@jupyter-widgets/base",
            "_model_module_version": "1.5.0",
            "_view_count": null,
            "_view_module_version": "1.2.0",
            "bar_color": null,
            "_model_module": "@jupyter-widgets/controls"
          }
        },
        "a465c7370ead4a7f8b60e503d61582b2": {
          "model_module": "@jupyter-widgets/base",
          "model_name": "LayoutModel",
          "state": {
            "_view_name": "LayoutView",
            "grid_template_rows": null,
            "right": null,
            "justify_content": null,
            "_view_module": "@jupyter-widgets/base",
            "overflow": null,
            "_model_module_version": "1.2.0",
            "_view_count": null,
            "flex_flow": null,
            "width": null,
            "min_width": null,
            "border": null,
            "align_items": null,
            "bottom": null,
            "_model_module": "@jupyter-widgets/base",
            "top": null,
            "grid_column": null,
            "overflow_y": null,
            "overflow_x": null,
            "grid_auto_flow": null,
            "grid_area": null,
            "grid_template_columns": null,
            "flex": null,
            "_model_name": "LayoutModel",
            "justify_items": null,
            "grid_row": null,
            "max_height": null,
            "align_content": null,
            "visibility": null,
            "align_self": null,
            "height": null,
            "min_height": null,
            "padding": null,
            "grid_auto_rows": null,
            "grid_gap": null,
            "max_width": null,
            "order": null,
            "_view_module_version": "1.2.0",
            "grid_template_areas": null,
            "object_position": null,
            "object_fit": null,
            "grid_auto_columns": null,
            "margin": null,
            "display": null,
            "left": null
          }
        },
        "cf51c1f03c9845888f471ebad4b816bc": {
          "model_module": "@jupyter-widgets/controls",
          "model_name": "DescriptionStyleModel",
          "state": {
            "_view_name": "StyleView",
            "_model_name": "DescriptionStyleModel",
            "description_width": "",
            "_view_module": "@jupyter-widgets/base",
            "_model_module_version": "1.5.0",
            "_view_count": null,
            "_view_module_version": "1.2.0",
            "_model_module": "@jupyter-widgets/controls"
          }
        },
        "be5a86dab5f5407fa7471e76fad6cb26": {
          "model_module": "@jupyter-widgets/base",
          "model_name": "LayoutModel",
          "state": {
            "_view_name": "LayoutView",
            "grid_template_rows": null,
            "right": null,
            "justify_content": null,
            "_view_module": "@jupyter-widgets/base",
            "overflow": null,
            "_model_module_version": "1.2.0",
            "_view_count": null,
            "flex_flow": null,
            "width": null,
            "min_width": null,
            "border": null,
            "align_items": null,
            "bottom": null,
            "_model_module": "@jupyter-widgets/base",
            "top": null,
            "grid_column": null,
            "overflow_y": null,
            "overflow_x": null,
            "grid_auto_flow": null,
            "grid_area": null,
            "grid_template_columns": null,
            "flex": null,
            "_model_name": "LayoutModel",
            "justify_items": null,
            "grid_row": null,
            "max_height": null,
            "align_content": null,
            "visibility": null,
            "align_self": null,
            "height": null,
            "min_height": null,
            "padding": null,
            "grid_auto_rows": null,
            "grid_gap": null,
            "max_width": null,
            "order": null,
            "_view_module_version": "1.2.0",
            "grid_template_areas": null,
            "object_position": null,
            "object_fit": null,
            "grid_auto_columns": null,
            "margin": null,
            "display": null,
            "left": null
          }
        },
        "8824cd486a3946bf8b11afc9b9d8bca8": {
          "model_module": "@jupyter-widgets/controls",
          "model_name": "HBoxModel",
          "state": {
            "_view_name": "HBoxView",
            "_dom_classes": [],
            "_model_name": "HBoxModel",
            "_view_module": "@jupyter-widgets/controls",
            "_model_module_version": "1.5.0",
            "_view_count": null,
            "_view_module_version": "1.5.0",
            "box_style": "",
            "layout": "IPY_MODEL_e8888e58c12245d28dd1bdb60973bc9e",
            "_model_module": "@jupyter-widgets/controls",
            "children": [
              "IPY_MODEL_c26f36ba480f4169ac6354d3f3a3e633",
              "IPY_MODEL_a298cd12144c451d9f6c5f3cba9046ae"
            ]
          }
        },
        "e8888e58c12245d28dd1bdb60973bc9e": {
          "model_module": "@jupyter-widgets/base",
          "model_name": "LayoutModel",
          "state": {
            "_view_name": "LayoutView",
            "grid_template_rows": null,
            "right": null,
            "justify_content": null,
            "_view_module": "@jupyter-widgets/base",
            "overflow": null,
            "_model_module_version": "1.2.0",
            "_view_count": null,
            "flex_flow": null,
            "width": null,
            "min_width": null,
            "border": null,
            "align_items": null,
            "bottom": null,
            "_model_module": "@jupyter-widgets/base",
            "top": null,
            "grid_column": null,
            "overflow_y": null,
            "overflow_x": null,
            "grid_auto_flow": null,
            "grid_area": null,
            "grid_template_columns": null,
            "flex": null,
            "_model_name": "LayoutModel",
            "justify_items": null,
            "grid_row": null,
            "max_height": null,
            "align_content": null,
            "visibility": null,
            "align_self": null,
            "height": null,
            "min_height": null,
            "padding": null,
            "grid_auto_rows": null,
            "grid_gap": null,
            "max_width": null,
            "order": null,
            "_view_module_version": "1.2.0",
            "grid_template_areas": null,
            "object_position": null,
            "object_fit": null,
            "grid_auto_columns": null,
            "margin": null,
            "display": null,
            "left": null
          }
        },
        "c26f36ba480f4169ac6354d3f3a3e633": {
          "model_module": "@jupyter-widgets/controls",
          "model_name": "FloatProgressModel",
          "state": {
            "_view_name": "ProgressView",
            "style": "IPY_MODEL_c4ef4344b6cc459a8fe3b1d04e598b1c",
            "_dom_classes": [],
            "description": "",
            "_model_name": "FloatProgressModel",
            "bar_style": "info",
            "max": 1,
            "_view_module": "@jupyter-widgets/controls",
            "_model_module_version": "1.5.0",
            "value": 1,
            "_view_count": null,
            "_view_module_version": "1.5.0",
            "orientation": "horizontal",
            "min": 0,
            "description_tooltip": null,
            "_model_module": "@jupyter-widgets/controls",
            "layout": "IPY_MODEL_f84b1db2004648f0b4a4df5f8bbf1e0f"
          }
        },
        "a298cd12144c451d9f6c5f3cba9046ae": {
          "model_module": "@jupyter-widgets/controls",
          "model_name": "HTMLModel",
          "state": {
            "_view_name": "HTMLView",
            "style": "IPY_MODEL_92884406e2f94bb591fa12f92605cce5",
            "_dom_classes": [],
            "description": "",
            "_model_name": "HTMLModel",
            "placeholder": "​",
            "_view_module": "@jupyter-widgets/controls",
            "_model_module_version": "1.5.0",
            "value": " 3668/0 [00:02&lt;00:00, 1754.14 examples/s]",
            "_view_count": null,
            "_view_module_version": "1.5.0",
            "description_tooltip": null,
            "_model_module": "@jupyter-widgets/controls",
            "layout": "IPY_MODEL_8da9f4b8b8c5499f9d108539542da912"
          }
        },
        "c4ef4344b6cc459a8fe3b1d04e598b1c": {
          "model_module": "@jupyter-widgets/controls",
          "model_name": "ProgressStyleModel",
          "state": {
            "_view_name": "StyleView",
            "_model_name": "ProgressStyleModel",
            "description_width": "initial",
            "_view_module": "@jupyter-widgets/base",
            "_model_module_version": "1.5.0",
            "_view_count": null,
            "_view_module_version": "1.2.0",
            "bar_color": null,
            "_model_module": "@jupyter-widgets/controls"
          }
        },
        "f84b1db2004648f0b4a4df5f8bbf1e0f": {
          "model_module": "@jupyter-widgets/base",
          "model_name": "LayoutModel",
          "state": {
            "_view_name": "LayoutView",
            "grid_template_rows": null,
            "right": null,
            "justify_content": null,
            "_view_module": "@jupyter-widgets/base",
            "overflow": null,
            "_model_module_version": "1.2.0",
            "_view_count": null,
            "flex_flow": null,
            "width": null,
            "min_width": null,
            "border": null,
            "align_items": null,
            "bottom": null,
            "_model_module": "@jupyter-widgets/base",
            "top": null,
            "grid_column": null,
            "overflow_y": null,
            "overflow_x": null,
            "grid_auto_flow": null,
            "grid_area": null,
            "grid_template_columns": null,
            "flex": null,
            "_model_name": "LayoutModel",
            "justify_items": null,
            "grid_row": null,
            "max_height": null,
            "align_content": null,
            "visibility": null,
            "align_self": null,
            "height": null,
            "min_height": null,
            "padding": null,
            "grid_auto_rows": null,
            "grid_gap": null,
            "max_width": null,
            "order": null,
            "_view_module_version": "1.2.0",
            "grid_template_areas": null,
            "object_position": null,
            "object_fit": null,
            "grid_auto_columns": null,
            "margin": null,
            "display": null,
            "left": null
          }
        },
        "92884406e2f94bb591fa12f92605cce5": {
          "model_module": "@jupyter-widgets/controls",
          "model_name": "DescriptionStyleModel",
          "state": {
            "_view_name": "StyleView",
            "_model_name": "DescriptionStyleModel",
            "description_width": "",
            "_view_module": "@jupyter-widgets/base",
            "_model_module_version": "1.5.0",
            "_view_count": null,
            "_view_module_version": "1.2.0",
            "_model_module": "@jupyter-widgets/controls"
          }
        },
        "8da9f4b8b8c5499f9d108539542da912": {
          "model_module": "@jupyter-widgets/base",
          "model_name": "LayoutModel",
          "state": {
            "_view_name": "LayoutView",
            "grid_template_rows": null,
            "right": null,
            "justify_content": null,
            "_view_module": "@jupyter-widgets/base",
            "overflow": null,
            "_model_module_version": "1.2.0",
            "_view_count": null,
            "flex_flow": null,
            "width": null,
            "min_width": null,
            "border": null,
            "align_items": null,
            "bottom": null,
            "_model_module": "@jupyter-widgets/base",
            "top": null,
            "grid_column": null,
            "overflow_y": null,
            "overflow_x": null,
            "grid_auto_flow": null,
            "grid_area": null,
            "grid_template_columns": null,
            "flex": null,
            "_model_name": "LayoutModel",
            "justify_items": null,
            "grid_row": null,
            "max_height": null,
            "align_content": null,
            "visibility": null,
            "align_self": null,
            "height": null,
            "min_height": null,
            "padding": null,
            "grid_auto_rows": null,
            "grid_gap": null,
            "max_width": null,
            "order": null,
            "_view_module_version": "1.2.0",
            "grid_template_areas": null,
            "object_position": null,
            "object_fit": null,
            "grid_auto_columns": null,
            "margin": null,
            "display": null,
            "left": null
          }
        },
        "d94e49b4509341f7871c5c50207d7dd3": {
          "model_module": "@jupyter-widgets/controls",
          "model_name": "HBoxModel",
          "state": {
            "_view_name": "HBoxView",
            "_dom_classes": [],
            "_model_name": "HBoxModel",
            "_view_module": "@jupyter-widgets/controls",
            "_model_module_version": "1.5.0",
            "_view_count": null,
            "_view_module_version": "1.5.0",
            "box_style": "",
            "layout": "IPY_MODEL_d9e00f67100e4512905ddda4195d6362",
            "_model_module": "@jupyter-widgets/controls",
            "children": [
              "IPY_MODEL_8c1a85b8a42845c9ad70d8ef1651ae62",
              "IPY_MODEL_8800a1ee56ba416a9ca4d5da654e401b"
            ]
          }
        },
        "d9e00f67100e4512905ddda4195d6362": {
          "model_module": "@jupyter-widgets/base",
          "model_name": "LayoutModel",
          "state": {
            "_view_name": "LayoutView",
            "grid_template_rows": null,
            "right": null,
            "justify_content": null,
            "_view_module": "@jupyter-widgets/base",
            "overflow": null,
            "_model_module_version": "1.2.0",
            "_view_count": null,
            "flex_flow": null,
            "width": null,
            "min_width": null,
            "border": null,
            "align_items": null,
            "bottom": null,
            "_model_module": "@jupyter-widgets/base",
            "top": null,
            "grid_column": null,
            "overflow_y": null,
            "overflow_x": null,
            "grid_auto_flow": null,
            "grid_area": null,
            "grid_template_columns": null,
            "flex": null,
            "_model_name": "LayoutModel",
            "justify_items": null,
            "grid_row": null,
            "max_height": null,
            "align_content": null,
            "visibility": null,
            "align_self": null,
            "height": null,
            "min_height": null,
            "padding": null,
            "grid_auto_rows": null,
            "grid_gap": null,
            "max_width": null,
            "order": null,
            "_view_module_version": "1.2.0",
            "grid_template_areas": null,
            "object_position": null,
            "object_fit": null,
            "grid_auto_columns": null,
            "margin": null,
            "display": null,
            "left": null
          }
        },
        "8c1a85b8a42845c9ad70d8ef1651ae62": {
          "model_module": "@jupyter-widgets/controls",
          "model_name": "FloatProgressModel",
          "state": {
            "_view_name": "ProgressView",
            "style": "IPY_MODEL_5b27ab5f91be42aabe7ff897039f5816",
            "_dom_classes": [],
            "description": "  0%",
            "_model_name": "FloatProgressModel",
            "bar_style": "danger",
            "max": 3668,
            "_view_module": "@jupyter-widgets/controls",
            "_model_module_version": "1.5.0",
            "value": 0,
            "_view_count": null,
            "_view_module_version": "1.5.0",
            "orientation": "horizontal",
            "min": 0,
            "description_tooltip": null,
            "_model_module": "@jupyter-widgets/controls",
            "layout": "IPY_MODEL_f7da292a5f914c43befeeca291814f8b"
          }
        },
        "8800a1ee56ba416a9ca4d5da654e401b": {
          "model_module": "@jupyter-widgets/controls",
          "model_name": "HTMLModel",
          "state": {
            "_view_name": "HTMLView",
            "style": "IPY_MODEL_d569347ba2cf49cba3ad8b8178a5a743",
            "_dom_classes": [],
            "description": "",
            "_model_name": "HTMLModel",
            "placeholder": "​",
            "_view_module": "@jupyter-widgets/controls",
            "_model_module_version": "1.5.0",
            "value": " 0/3668 [00:00&lt;?, ? examples/s]",
            "_view_count": null,
            "_view_module_version": "1.5.0",
            "description_tooltip": null,
            "_model_module": "@jupyter-widgets/controls",
            "layout": "IPY_MODEL_40be0e7ddb3e4ef69baeb982e4c4d940"
          }
        },
        "5b27ab5f91be42aabe7ff897039f5816": {
          "model_module": "@jupyter-widgets/controls",
          "model_name": "ProgressStyleModel",
          "state": {
            "_view_name": "StyleView",
            "_model_name": "ProgressStyleModel",
            "description_width": "initial",
            "_view_module": "@jupyter-widgets/base",
            "_model_module_version": "1.5.0",
            "_view_count": null,
            "_view_module_version": "1.2.0",
            "bar_color": null,
            "_model_module": "@jupyter-widgets/controls"
          }
        },
        "f7da292a5f914c43befeeca291814f8b": {
          "model_module": "@jupyter-widgets/base",
          "model_name": "LayoutModel",
          "state": {
            "_view_name": "LayoutView",
            "grid_template_rows": null,
            "right": null,
            "justify_content": null,
            "_view_module": "@jupyter-widgets/base",
            "overflow": null,
            "_model_module_version": "1.2.0",
            "_view_count": null,
            "flex_flow": null,
            "width": null,
            "min_width": null,
            "border": null,
            "align_items": null,
            "bottom": null,
            "_model_module": "@jupyter-widgets/base",
            "top": null,
            "grid_column": null,
            "overflow_y": null,
            "overflow_x": null,
            "grid_auto_flow": null,
            "grid_area": null,
            "grid_template_columns": null,
            "flex": null,
            "_model_name": "LayoutModel",
            "justify_items": null,
            "grid_row": null,
            "max_height": null,
            "align_content": null,
            "visibility": null,
            "align_self": null,
            "height": null,
            "min_height": null,
            "padding": null,
            "grid_auto_rows": null,
            "grid_gap": null,
            "max_width": null,
            "order": null,
            "_view_module_version": "1.2.0",
            "grid_template_areas": null,
            "object_position": null,
            "object_fit": null,
            "grid_auto_columns": null,
            "margin": null,
            "display": null,
            "left": null
          }
        },
        "d569347ba2cf49cba3ad8b8178a5a743": {
          "model_module": "@jupyter-widgets/controls",
          "model_name": "DescriptionStyleModel",
          "state": {
            "_view_name": "StyleView",
            "_model_name": "DescriptionStyleModel",
            "description_width": "",
            "_view_module": "@jupyter-widgets/base",
            "_model_module_version": "1.5.0",
            "_view_count": null,
            "_view_module_version": "1.2.0",
            "_model_module": "@jupyter-widgets/controls"
          }
        },
        "40be0e7ddb3e4ef69baeb982e4c4d940": {
          "model_module": "@jupyter-widgets/base",
          "model_name": "LayoutModel",
          "state": {
            "_view_name": "LayoutView",
            "grid_template_rows": null,
            "right": null,
            "justify_content": null,
            "_view_module": "@jupyter-widgets/base",
            "overflow": null,
            "_model_module_version": "1.2.0",
            "_view_count": null,
            "flex_flow": null,
            "width": null,
            "min_width": null,
            "border": null,
            "align_items": null,
            "bottom": null,
            "_model_module": "@jupyter-widgets/base",
            "top": null,
            "grid_column": null,
            "overflow_y": null,
            "overflow_x": null,
            "grid_auto_flow": null,
            "grid_area": null,
            "grid_template_columns": null,
            "flex": null,
            "_model_name": "LayoutModel",
            "justify_items": null,
            "grid_row": null,
            "max_height": null,
            "align_content": null,
            "visibility": null,
            "align_self": null,
            "height": null,
            "min_height": null,
            "padding": null,
            "grid_auto_rows": null,
            "grid_gap": null,
            "max_width": null,
            "order": null,
            "_view_module_version": "1.2.0",
            "grid_template_areas": null,
            "object_position": null,
            "object_fit": null,
            "grid_auto_columns": null,
            "margin": null,
            "display": null,
            "left": null
          }
        },
        "a02fb3f1e0de4531800ea7a61a5e1d39": {
          "model_module": "@jupyter-widgets/controls",
          "model_name": "HBoxModel",
          "state": {
            "_view_name": "HBoxView",
            "_dom_classes": [],
            "_model_name": "HBoxModel",
            "_view_module": "@jupyter-widgets/controls",
            "_model_module_version": "1.5.0",
            "_view_count": null,
            "_view_module_version": "1.5.0",
            "box_style": "",
            "layout": "IPY_MODEL_86dbabb4346241949accb1daf95f0d85",
            "_model_module": "@jupyter-widgets/controls",
            "children": [
              "IPY_MODEL_710957d7dcc8409ca7cd9d700f175633",
              "IPY_MODEL_b32ef567957c4ebdb471e5305702a65a"
            ]
          }
        },
        "86dbabb4346241949accb1daf95f0d85": {
          "model_module": "@jupyter-widgets/base",
          "model_name": "LayoutModel",
          "state": {
            "_view_name": "LayoutView",
            "grid_template_rows": null,
            "right": null,
            "justify_content": null,
            "_view_module": "@jupyter-widgets/base",
            "overflow": null,
            "_model_module_version": "1.2.0",
            "_view_count": null,
            "flex_flow": null,
            "width": null,
            "min_width": null,
            "border": null,
            "align_items": null,
            "bottom": null,
            "_model_module": "@jupyter-widgets/base",
            "top": null,
            "grid_column": null,
            "overflow_y": null,
            "overflow_x": null,
            "grid_auto_flow": null,
            "grid_area": null,
            "grid_template_columns": null,
            "flex": null,
            "_model_name": "LayoutModel",
            "justify_items": null,
            "grid_row": null,
            "max_height": null,
            "align_content": null,
            "visibility": null,
            "align_self": null,
            "height": null,
            "min_height": null,
            "padding": null,
            "grid_auto_rows": null,
            "grid_gap": null,
            "max_width": null,
            "order": null,
            "_view_module_version": "1.2.0",
            "grid_template_areas": null,
            "object_position": null,
            "object_fit": null,
            "grid_auto_columns": null,
            "margin": null,
            "display": null,
            "left": null
          }
        },
        "710957d7dcc8409ca7cd9d700f175633": {
          "model_module": "@jupyter-widgets/controls",
          "model_name": "FloatProgressModel",
          "state": {
            "_view_name": "ProgressView",
            "style": "IPY_MODEL_6c04db40c8f940c5bb6f30ff75efc108",
            "_dom_classes": [],
            "description": "",
            "_model_name": "FloatProgressModel",
            "bar_style": "info",
            "max": 1,
            "_view_module": "@jupyter-widgets/controls",
            "_model_module_version": "1.5.0",
            "value": 1,
            "_view_count": null,
            "_view_module_version": "1.5.0",
            "orientation": "horizontal",
            "min": 0,
            "description_tooltip": null,
            "_model_module": "@jupyter-widgets/controls",
            "layout": "IPY_MODEL_218ea676713748889717d2c7b95d706c"
          }
        },
        "b32ef567957c4ebdb471e5305702a65a": {
          "model_module": "@jupyter-widgets/controls",
          "model_name": "HTMLModel",
          "state": {
            "_view_name": "HTMLView",
            "style": "IPY_MODEL_819e381c7f9243b2a275c4276545af15",
            "_dom_classes": [],
            "description": "",
            "_model_name": "HTMLModel",
            "placeholder": "​",
            "_view_module": "@jupyter-widgets/controls",
            "_model_module_version": "1.5.0",
            "value": " 408/0 [00:00&lt;00:00, 753.74 examples/s]",
            "_view_count": null,
            "_view_module_version": "1.5.0",
            "description_tooltip": null,
            "_model_module": "@jupyter-widgets/controls",
            "layout": "IPY_MODEL_89c58f468b18472289d2030480ac0a39"
          }
        },
        "6c04db40c8f940c5bb6f30ff75efc108": {
          "model_module": "@jupyter-widgets/controls",
          "model_name": "ProgressStyleModel",
          "state": {
            "_view_name": "StyleView",
            "_model_name": "ProgressStyleModel",
            "description_width": "initial",
            "_view_module": "@jupyter-widgets/base",
            "_model_module_version": "1.5.0",
            "_view_count": null,
            "_view_module_version": "1.2.0",
            "bar_color": null,
            "_model_module": "@jupyter-widgets/controls"
          }
        },
        "218ea676713748889717d2c7b95d706c": {
          "model_module": "@jupyter-widgets/base",
          "model_name": "LayoutModel",
          "state": {
            "_view_name": "LayoutView",
            "grid_template_rows": null,
            "right": null,
            "justify_content": null,
            "_view_module": "@jupyter-widgets/base",
            "overflow": null,
            "_model_module_version": "1.2.0",
            "_view_count": null,
            "flex_flow": null,
            "width": null,
            "min_width": null,
            "border": null,
            "align_items": null,
            "bottom": null,
            "_model_module": "@jupyter-widgets/base",
            "top": null,
            "grid_column": null,
            "overflow_y": null,
            "overflow_x": null,
            "grid_auto_flow": null,
            "grid_area": null,
            "grid_template_columns": null,
            "flex": null,
            "_model_name": "LayoutModel",
            "justify_items": null,
            "grid_row": null,
            "max_height": null,
            "align_content": null,
            "visibility": null,
            "align_self": null,
            "height": null,
            "min_height": null,
            "padding": null,
            "grid_auto_rows": null,
            "grid_gap": null,
            "max_width": null,
            "order": null,
            "_view_module_version": "1.2.0",
            "grid_template_areas": null,
            "object_position": null,
            "object_fit": null,
            "grid_auto_columns": null,
            "margin": null,
            "display": null,
            "left": null
          }
        },
        "819e381c7f9243b2a275c4276545af15": {
          "model_module": "@jupyter-widgets/controls",
          "model_name": "DescriptionStyleModel",
          "state": {
            "_view_name": "StyleView",
            "_model_name": "DescriptionStyleModel",
            "description_width": "",
            "_view_module": "@jupyter-widgets/base",
            "_model_module_version": "1.5.0",
            "_view_count": null,
            "_view_module_version": "1.2.0",
            "_model_module": "@jupyter-widgets/controls"
          }
        },
        "89c58f468b18472289d2030480ac0a39": {
          "model_module": "@jupyter-widgets/base",
          "model_name": "LayoutModel",
          "state": {
            "_view_name": "LayoutView",
            "grid_template_rows": null,
            "right": null,
            "justify_content": null,
            "_view_module": "@jupyter-widgets/base",
            "overflow": null,
            "_model_module_version": "1.2.0",
            "_view_count": null,
            "flex_flow": null,
            "width": null,
            "min_width": null,
            "border": null,
            "align_items": null,
            "bottom": null,
            "_model_module": "@jupyter-widgets/base",
            "top": null,
            "grid_column": null,
            "overflow_y": null,
            "overflow_x": null,
            "grid_auto_flow": null,
            "grid_area": null,
            "grid_template_columns": null,
            "flex": null,
            "_model_name": "LayoutModel",
            "justify_items": null,
            "grid_row": null,
            "max_height": null,
            "align_content": null,
            "visibility": null,
            "align_self": null,
            "height": null,
            "min_height": null,
            "padding": null,
            "grid_auto_rows": null,
            "grid_gap": null,
            "max_width": null,
            "order": null,
            "_view_module_version": "1.2.0",
            "grid_template_areas": null,
            "object_position": null,
            "object_fit": null,
            "grid_auto_columns": null,
            "margin": null,
            "display": null,
            "left": null
          }
        },
        "58629d1b7347429d8c91f7253645a53d": {
          "model_module": "@jupyter-widgets/controls",
          "model_name": "HBoxModel",
          "state": {
            "_view_name": "HBoxView",
            "_dom_classes": [],
            "_model_name": "HBoxModel",
            "_view_module": "@jupyter-widgets/controls",
            "_model_module_version": "1.5.0",
            "_view_count": null,
            "_view_module_version": "1.5.0",
            "box_style": "",
            "layout": "IPY_MODEL_e352803b6f5b4cbe8abac25c76aa855b",
            "_model_module": "@jupyter-widgets/controls",
            "children": [
              "IPY_MODEL_cf9c7b8c85f54f708c472feb6b8f5c99",
              "IPY_MODEL_4abc5ed79dd74f77a30caf3120aeec29"
            ]
          }
        },
        "e352803b6f5b4cbe8abac25c76aa855b": {
          "model_module": "@jupyter-widgets/base",
          "model_name": "LayoutModel",
          "state": {
            "_view_name": "LayoutView",
            "grid_template_rows": null,
            "right": null,
            "justify_content": null,
            "_view_module": "@jupyter-widgets/base",
            "overflow": null,
            "_model_module_version": "1.2.0",
            "_view_count": null,
            "flex_flow": null,
            "width": null,
            "min_width": null,
            "border": null,
            "align_items": null,
            "bottom": null,
            "_model_module": "@jupyter-widgets/base",
            "top": null,
            "grid_column": null,
            "overflow_y": null,
            "overflow_x": null,
            "grid_auto_flow": null,
            "grid_area": null,
            "grid_template_columns": null,
            "flex": null,
            "_model_name": "LayoutModel",
            "justify_items": null,
            "grid_row": null,
            "max_height": null,
            "align_content": null,
            "visibility": null,
            "align_self": null,
            "height": null,
            "min_height": null,
            "padding": null,
            "grid_auto_rows": null,
            "grid_gap": null,
            "max_width": null,
            "order": null,
            "_view_module_version": "1.2.0",
            "grid_template_areas": null,
            "object_position": null,
            "object_fit": null,
            "grid_auto_columns": null,
            "margin": null,
            "display": null,
            "left": null
          }
        },
        "cf9c7b8c85f54f708c472feb6b8f5c99": {
          "model_module": "@jupyter-widgets/controls",
          "model_name": "FloatProgressModel",
          "state": {
            "_view_name": "ProgressView",
            "style": "IPY_MODEL_f591aa760dea48958e4c61452f3706a4",
            "_dom_classes": [],
            "description": "  0%",
            "_model_name": "FloatProgressModel",
            "bar_style": "danger",
            "max": 408,
            "_view_module": "@jupyter-widgets/controls",
            "_model_module_version": "1.5.0",
            "value": 0,
            "_view_count": null,
            "_view_module_version": "1.5.0",
            "orientation": "horizontal",
            "min": 0,
            "description_tooltip": null,
            "_model_module": "@jupyter-widgets/controls",
            "layout": "IPY_MODEL_dd3d73dbc82247e7bce1a0c407c6f4e8"
          }
        },
        "4abc5ed79dd74f77a30caf3120aeec29": {
          "model_module": "@jupyter-widgets/controls",
          "model_name": "HTMLModel",
          "state": {
            "_view_name": "HTMLView",
            "style": "IPY_MODEL_a39e921717ce462890ab1666b4c0fc86",
            "_dom_classes": [],
            "description": "",
            "_model_name": "HTMLModel",
            "placeholder": "​",
            "_view_module": "@jupyter-widgets/controls",
            "_model_module_version": "1.5.0",
            "value": " 0/408 [00:00&lt;?, ? examples/s]",
            "_view_count": null,
            "_view_module_version": "1.5.0",
            "description_tooltip": null,
            "_model_module": "@jupyter-widgets/controls",
            "layout": "IPY_MODEL_2338ccd6e9664e088b772f2932e50b61"
          }
        },
        "f591aa760dea48958e4c61452f3706a4": {
          "model_module": "@jupyter-widgets/controls",
          "model_name": "ProgressStyleModel",
          "state": {
            "_view_name": "StyleView",
            "_model_name": "ProgressStyleModel",
            "description_width": "initial",
            "_view_module": "@jupyter-widgets/base",
            "_model_module_version": "1.5.0",
            "_view_count": null,
            "_view_module_version": "1.2.0",
            "bar_color": null,
            "_model_module": "@jupyter-widgets/controls"
          }
        },
        "dd3d73dbc82247e7bce1a0c407c6f4e8": {
          "model_module": "@jupyter-widgets/base",
          "model_name": "LayoutModel",
          "state": {
            "_view_name": "LayoutView",
            "grid_template_rows": null,
            "right": null,
            "justify_content": null,
            "_view_module": "@jupyter-widgets/base",
            "overflow": null,
            "_model_module_version": "1.2.0",
            "_view_count": null,
            "flex_flow": null,
            "width": null,
            "min_width": null,
            "border": null,
            "align_items": null,
            "bottom": null,
            "_model_module": "@jupyter-widgets/base",
            "top": null,
            "grid_column": null,
            "overflow_y": null,
            "overflow_x": null,
            "grid_auto_flow": null,
            "grid_area": null,
            "grid_template_columns": null,
            "flex": null,
            "_model_name": "LayoutModel",
            "justify_items": null,
            "grid_row": null,
            "max_height": null,
            "align_content": null,
            "visibility": null,
            "align_self": null,
            "height": null,
            "min_height": null,
            "padding": null,
            "grid_auto_rows": null,
            "grid_gap": null,
            "max_width": null,
            "order": null,
            "_view_module_version": "1.2.0",
            "grid_template_areas": null,
            "object_position": null,
            "object_fit": null,
            "grid_auto_columns": null,
            "margin": null,
            "display": null,
            "left": null
          }
        },
        "a39e921717ce462890ab1666b4c0fc86": {
          "model_module": "@jupyter-widgets/controls",
          "model_name": "DescriptionStyleModel",
          "state": {
            "_view_name": "StyleView",
            "_model_name": "DescriptionStyleModel",
            "description_width": "",
            "_view_module": "@jupyter-widgets/base",
            "_model_module_version": "1.5.0",
            "_view_count": null,
            "_view_module_version": "1.2.0",
            "_model_module": "@jupyter-widgets/controls"
          }
        },
        "2338ccd6e9664e088b772f2932e50b61": {
          "model_module": "@jupyter-widgets/base",
          "model_name": "LayoutModel",
          "state": {
            "_view_name": "LayoutView",
            "grid_template_rows": null,
            "right": null,
            "justify_content": null,
            "_view_module": "@jupyter-widgets/base",
            "overflow": null,
            "_model_module_version": "1.2.0",
            "_view_count": null,
            "flex_flow": null,
            "width": null,
            "min_width": null,
            "border": null,
            "align_items": null,
            "bottom": null,
            "_model_module": "@jupyter-widgets/base",
            "top": null,
            "grid_column": null,
            "overflow_y": null,
            "overflow_x": null,
            "grid_auto_flow": null,
            "grid_area": null,
            "grid_template_columns": null,
            "flex": null,
            "_model_name": "LayoutModel",
            "justify_items": null,
            "grid_row": null,
            "max_height": null,
            "align_content": null,
            "visibility": null,
            "align_self": null,
            "height": null,
            "min_height": null,
            "padding": null,
            "grid_auto_rows": null,
            "grid_gap": null,
            "max_width": null,
            "order": null,
            "_view_module_version": "1.2.0",
            "grid_template_areas": null,
            "object_position": null,
            "object_fit": null,
            "grid_auto_columns": null,
            "margin": null,
            "display": null,
            "left": null
          }
        },
        "b2fed9d37bbd4972ba884c104d303706": {
          "model_module": "@jupyter-widgets/controls",
          "model_name": "HBoxModel",
          "state": {
            "_view_name": "HBoxView",
            "_dom_classes": [],
            "_model_name": "HBoxModel",
            "_view_module": "@jupyter-widgets/controls",
            "_model_module_version": "1.5.0",
            "_view_count": null,
            "_view_module_version": "1.5.0",
            "box_style": "",
            "layout": "IPY_MODEL_92a3deec3c0c4e86a0cd40a944044446",
            "_model_module": "@jupyter-widgets/controls",
            "children": [
              "IPY_MODEL_09da071c37b34fcda91b519b02e34b30",
              "IPY_MODEL_8232d0eca76d4bd29e83fcee3b4b2a8a"
            ]
          }
        },
        "92a3deec3c0c4e86a0cd40a944044446": {
          "model_module": "@jupyter-widgets/base",
          "model_name": "LayoutModel",
          "state": {
            "_view_name": "LayoutView",
            "grid_template_rows": null,
            "right": null,
            "justify_content": null,
            "_view_module": "@jupyter-widgets/base",
            "overflow": null,
            "_model_module_version": "1.2.0",
            "_view_count": null,
            "flex_flow": null,
            "width": null,
            "min_width": null,
            "border": null,
            "align_items": null,
            "bottom": null,
            "_model_module": "@jupyter-widgets/base",
            "top": null,
            "grid_column": null,
            "overflow_y": null,
            "overflow_x": null,
            "grid_auto_flow": null,
            "grid_area": null,
            "grid_template_columns": null,
            "flex": null,
            "_model_name": "LayoutModel",
            "justify_items": null,
            "grid_row": null,
            "max_height": null,
            "align_content": null,
            "visibility": null,
            "align_self": null,
            "height": null,
            "min_height": null,
            "padding": null,
            "grid_auto_rows": null,
            "grid_gap": null,
            "max_width": null,
            "order": null,
            "_view_module_version": "1.2.0",
            "grid_template_areas": null,
            "object_position": null,
            "object_fit": null,
            "grid_auto_columns": null,
            "margin": null,
            "display": null,
            "left": null
          }
        },
        "09da071c37b34fcda91b519b02e34b30": {
          "model_module": "@jupyter-widgets/controls",
          "model_name": "FloatProgressModel",
          "state": {
            "_view_name": "ProgressView",
            "style": "IPY_MODEL_9c1d074fc94a406c925cefecf58eaf78",
            "_dom_classes": [],
            "description": "",
            "_model_name": "FloatProgressModel",
            "bar_style": "info",
            "max": 1,
            "_view_module": "@jupyter-widgets/controls",
            "_model_module_version": "1.5.0",
            "value": 1,
            "_view_count": null,
            "_view_module_version": "1.5.0",
            "orientation": "horizontal",
            "min": 0,
            "description_tooltip": null,
            "_model_module": "@jupyter-widgets/controls",
            "layout": "IPY_MODEL_d17261fd63a6468281bf112d660b2617"
          }
        },
        "8232d0eca76d4bd29e83fcee3b4b2a8a": {
          "model_module": "@jupyter-widgets/controls",
          "model_name": "HTMLModel",
          "state": {
            "_view_name": "HTMLView",
            "style": "IPY_MODEL_452273e5ccda4e3e99c6e86fc46ef72a",
            "_dom_classes": [],
            "description": "",
            "_model_name": "HTMLModel",
            "placeholder": "​",
            "_view_module": "@jupyter-widgets/controls",
            "_model_module_version": "1.5.0",
            "value": " 1725/0 [00:00&lt;00:00, 1670.71 examples/s]",
            "_view_count": null,
            "_view_module_version": "1.5.0",
            "description_tooltip": null,
            "_model_module": "@jupyter-widgets/controls",
            "layout": "IPY_MODEL_ccf6a10f09964f73bace3af661eafa15"
          }
        },
        "9c1d074fc94a406c925cefecf58eaf78": {
          "model_module": "@jupyter-widgets/controls",
          "model_name": "ProgressStyleModel",
          "state": {
            "_view_name": "StyleView",
            "_model_name": "ProgressStyleModel",
            "description_width": "initial",
            "_view_module": "@jupyter-widgets/base",
            "_model_module_version": "1.5.0",
            "_view_count": null,
            "_view_module_version": "1.2.0",
            "bar_color": null,
            "_model_module": "@jupyter-widgets/controls"
          }
        },
        "d17261fd63a6468281bf112d660b2617": {
          "model_module": "@jupyter-widgets/base",
          "model_name": "LayoutModel",
          "state": {
            "_view_name": "LayoutView",
            "grid_template_rows": null,
            "right": null,
            "justify_content": null,
            "_view_module": "@jupyter-widgets/base",
            "overflow": null,
            "_model_module_version": "1.2.0",
            "_view_count": null,
            "flex_flow": null,
            "width": null,
            "min_width": null,
            "border": null,
            "align_items": null,
            "bottom": null,
            "_model_module": "@jupyter-widgets/base",
            "top": null,
            "grid_column": null,
            "overflow_y": null,
            "overflow_x": null,
            "grid_auto_flow": null,
            "grid_area": null,
            "grid_template_columns": null,
            "flex": null,
            "_model_name": "LayoutModel",
            "justify_items": null,
            "grid_row": null,
            "max_height": null,
            "align_content": null,
            "visibility": null,
            "align_self": null,
            "height": null,
            "min_height": null,
            "padding": null,
            "grid_auto_rows": null,
            "grid_gap": null,
            "max_width": null,
            "order": null,
            "_view_module_version": "1.2.0",
            "grid_template_areas": null,
            "object_position": null,
            "object_fit": null,
            "grid_auto_columns": null,
            "margin": null,
            "display": null,
            "left": null
          }
        },
        "452273e5ccda4e3e99c6e86fc46ef72a": {
          "model_module": "@jupyter-widgets/controls",
          "model_name": "DescriptionStyleModel",
          "state": {
            "_view_name": "StyleView",
            "_model_name": "DescriptionStyleModel",
            "description_width": "",
            "_view_module": "@jupyter-widgets/base",
            "_model_module_version": "1.5.0",
            "_view_count": null,
            "_view_module_version": "1.2.0",
            "_model_module": "@jupyter-widgets/controls"
          }
        },
        "ccf6a10f09964f73bace3af661eafa15": {
          "model_module": "@jupyter-widgets/base",
          "model_name": "LayoutModel",
          "state": {
            "_view_name": "LayoutView",
            "grid_template_rows": null,
            "right": null,
            "justify_content": null,
            "_view_module": "@jupyter-widgets/base",
            "overflow": null,
            "_model_module_version": "1.2.0",
            "_view_count": null,
            "flex_flow": null,
            "width": null,
            "min_width": null,
            "border": null,
            "align_items": null,
            "bottom": null,
            "_model_module": "@jupyter-widgets/base",
            "top": null,
            "grid_column": null,
            "overflow_y": null,
            "overflow_x": null,
            "grid_auto_flow": null,
            "grid_area": null,
            "grid_template_columns": null,
            "flex": null,
            "_model_name": "LayoutModel",
            "justify_items": null,
            "grid_row": null,
            "max_height": null,
            "align_content": null,
            "visibility": null,
            "align_self": null,
            "height": null,
            "min_height": null,
            "padding": null,
            "grid_auto_rows": null,
            "grid_gap": null,
            "max_width": null,
            "order": null,
            "_view_module_version": "1.2.0",
            "grid_template_areas": null,
            "object_position": null,
            "object_fit": null,
            "grid_auto_columns": null,
            "margin": null,
            "display": null,
            "left": null
          }
        },
        "7c499697824745d3ae33b00859f2cb61": {
          "model_module": "@jupyter-widgets/controls",
          "model_name": "HBoxModel",
          "state": {
            "_view_name": "HBoxView",
            "_dom_classes": [],
            "_model_name": "HBoxModel",
            "_view_module": "@jupyter-widgets/controls",
            "_model_module_version": "1.5.0",
            "_view_count": null,
            "_view_module_version": "1.5.0",
            "box_style": "",
            "layout": "IPY_MODEL_7d5422b851094af6ac20ca812e38efb1",
            "_model_module": "@jupyter-widgets/controls",
            "children": [
              "IPY_MODEL_99892f51c4f64e2a9a33ac62761938db",
              "IPY_MODEL_aebd6ad390cb42f08736c9d58ca3566c"
            ]
          }
        },
        "7d5422b851094af6ac20ca812e38efb1": {
          "model_module": "@jupyter-widgets/base",
          "model_name": "LayoutModel",
          "state": {
            "_view_name": "LayoutView",
            "grid_template_rows": null,
            "right": null,
            "justify_content": null,
            "_view_module": "@jupyter-widgets/base",
            "overflow": null,
            "_model_module_version": "1.2.0",
            "_view_count": null,
            "flex_flow": null,
            "width": null,
            "min_width": null,
            "border": null,
            "align_items": null,
            "bottom": null,
            "_model_module": "@jupyter-widgets/base",
            "top": null,
            "grid_column": null,
            "overflow_y": null,
            "overflow_x": null,
            "grid_auto_flow": null,
            "grid_area": null,
            "grid_template_columns": null,
            "flex": null,
            "_model_name": "LayoutModel",
            "justify_items": null,
            "grid_row": null,
            "max_height": null,
            "align_content": null,
            "visibility": null,
            "align_self": null,
            "height": null,
            "min_height": null,
            "padding": null,
            "grid_auto_rows": null,
            "grid_gap": null,
            "max_width": null,
            "order": null,
            "_view_module_version": "1.2.0",
            "grid_template_areas": null,
            "object_position": null,
            "object_fit": null,
            "grid_auto_columns": null,
            "margin": null,
            "display": null,
            "left": null
          }
        },
        "99892f51c4f64e2a9a33ac62761938db": {
          "model_module": "@jupyter-widgets/controls",
          "model_name": "FloatProgressModel",
          "state": {
            "_view_name": "ProgressView",
            "style": "IPY_MODEL_46a0deeffa734651b645493e4af58f3d",
            "_dom_classes": [],
            "description": "  0%",
            "_model_name": "FloatProgressModel",
            "bar_style": "danger",
            "max": 1725,
            "_view_module": "@jupyter-widgets/controls",
            "_model_module_version": "1.5.0",
            "value": 0,
            "_view_count": null,
            "_view_module_version": "1.5.0",
            "orientation": "horizontal",
            "min": 0,
            "description_tooltip": null,
            "_model_module": "@jupyter-widgets/controls",
            "layout": "IPY_MODEL_80da5f3cc8a749fe920e6334f2bcf30e"
          }
        },
        "aebd6ad390cb42f08736c9d58ca3566c": {
          "model_module": "@jupyter-widgets/controls",
          "model_name": "HTMLModel",
          "state": {
            "_view_name": "HTMLView",
            "style": "IPY_MODEL_74f56030b186406f96691d023ccbbe86",
            "_dom_classes": [],
            "description": "",
            "_model_name": "HTMLModel",
            "placeholder": "​",
            "_view_module": "@jupyter-widgets/controls",
            "_model_module_version": "1.5.0",
            "value": " 0/1725 [00:00&lt;?, ? examples/s]",
            "_view_count": null,
            "_view_module_version": "1.5.0",
            "description_tooltip": null,
            "_model_module": "@jupyter-widgets/controls",
            "layout": "IPY_MODEL_4cc1e46a31704308884ee3870032ad64"
          }
        },
        "46a0deeffa734651b645493e4af58f3d": {
          "model_module": "@jupyter-widgets/controls",
          "model_name": "ProgressStyleModel",
          "state": {
            "_view_name": "StyleView",
            "_model_name": "ProgressStyleModel",
            "description_width": "initial",
            "_view_module": "@jupyter-widgets/base",
            "_model_module_version": "1.5.0",
            "_view_count": null,
            "_view_module_version": "1.2.0",
            "bar_color": null,
            "_model_module": "@jupyter-widgets/controls"
          }
        },
        "80da5f3cc8a749fe920e6334f2bcf30e": {
          "model_module": "@jupyter-widgets/base",
          "model_name": "LayoutModel",
          "state": {
            "_view_name": "LayoutView",
            "grid_template_rows": null,
            "right": null,
            "justify_content": null,
            "_view_module": "@jupyter-widgets/base",
            "overflow": null,
            "_model_module_version": "1.2.0",
            "_view_count": null,
            "flex_flow": null,
            "width": null,
            "min_width": null,
            "border": null,
            "align_items": null,
            "bottom": null,
            "_model_module": "@jupyter-widgets/base",
            "top": null,
            "grid_column": null,
            "overflow_y": null,
            "overflow_x": null,
            "grid_auto_flow": null,
            "grid_area": null,
            "grid_template_columns": null,
            "flex": null,
            "_model_name": "LayoutModel",
            "justify_items": null,
            "grid_row": null,
            "max_height": null,
            "align_content": null,
            "visibility": null,
            "align_self": null,
            "height": null,
            "min_height": null,
            "padding": null,
            "grid_auto_rows": null,
            "grid_gap": null,
            "max_width": null,
            "order": null,
            "_view_module_version": "1.2.0",
            "grid_template_areas": null,
            "object_position": null,
            "object_fit": null,
            "grid_auto_columns": null,
            "margin": null,
            "display": null,
            "left": null
          }
        },
        "74f56030b186406f96691d023ccbbe86": {
          "model_module": "@jupyter-widgets/controls",
          "model_name": "DescriptionStyleModel",
          "state": {
            "_view_name": "StyleView",
            "_model_name": "DescriptionStyleModel",
            "description_width": "",
            "_view_module": "@jupyter-widgets/base",
            "_model_module_version": "1.5.0",
            "_view_count": null,
            "_view_module_version": "1.2.0",
            "_model_module": "@jupyter-widgets/controls"
          }
        },
        "4cc1e46a31704308884ee3870032ad64": {
          "model_module": "@jupyter-widgets/base",
          "model_name": "LayoutModel",
          "state": {
            "_view_name": "LayoutView",
            "grid_template_rows": null,
            "right": null,
            "justify_content": null,
            "_view_module": "@jupyter-widgets/base",
            "overflow": null,
            "_model_module_version": "1.2.0",
            "_view_count": null,
            "flex_flow": null,
            "width": null,
            "min_width": null,
            "border": null,
            "align_items": null,
            "bottom": null,
            "_model_module": "@jupyter-widgets/base",
            "top": null,
            "grid_column": null,
            "overflow_y": null,
            "overflow_x": null,
            "grid_auto_flow": null,
            "grid_area": null,
            "grid_template_columns": null,
            "flex": null,
            "_model_name": "LayoutModel",
            "justify_items": null,
            "grid_row": null,
            "max_height": null,
            "align_content": null,
            "visibility": null,
            "align_self": null,
            "height": null,
            "min_height": null,
            "padding": null,
            "grid_auto_rows": null,
            "grid_gap": null,
            "max_width": null,
            "order": null,
            "_view_module_version": "1.2.0",
            "grid_template_areas": null,
            "object_position": null,
            "object_fit": null,
            "grid_auto_columns": null,
            "margin": null,
            "display": null,
            "left": null
          }
        },
        "2f588dd3dcce45989d5040a2551d45c2": {
          "model_module": "@jupyter-widgets/controls",
          "model_name": "HBoxModel",
          "state": {
            "_view_name": "HBoxView",
            "_dom_classes": [],
            "_model_name": "HBoxModel",
            "_view_module": "@jupyter-widgets/controls",
            "_model_module_version": "1.5.0",
            "_view_count": null,
            "_view_module_version": "1.5.0",
            "box_style": "",
            "layout": "IPY_MODEL_bc8d4bc32fa44442adfe62a53a0101c7",
            "_model_module": "@jupyter-widgets/controls",
            "children": [
              "IPY_MODEL_d9cfef4ff0ec4598986b488cc65e2142",
              "IPY_MODEL_c33add0554394d4fb3b63bec5a3470d7"
            ]
          }
        },
        "bc8d4bc32fa44442adfe62a53a0101c7": {
          "model_module": "@jupyter-widgets/base",
          "model_name": "LayoutModel",
          "state": {
            "_view_name": "LayoutView",
            "grid_template_rows": null,
            "right": null,
            "justify_content": null,
            "_view_module": "@jupyter-widgets/base",
            "overflow": null,
            "_model_module_version": "1.2.0",
            "_view_count": null,
            "flex_flow": null,
            "width": null,
            "min_width": null,
            "border": null,
            "align_items": null,
            "bottom": null,
            "_model_module": "@jupyter-widgets/base",
            "top": null,
            "grid_column": null,
            "overflow_y": null,
            "overflow_x": null,
            "grid_auto_flow": null,
            "grid_area": null,
            "grid_template_columns": null,
            "flex": null,
            "_model_name": "LayoutModel",
            "justify_items": null,
            "grid_row": null,
            "max_height": null,
            "align_content": null,
            "visibility": null,
            "align_self": null,
            "height": null,
            "min_height": null,
            "padding": null,
            "grid_auto_rows": null,
            "grid_gap": null,
            "max_width": null,
            "order": null,
            "_view_module_version": "1.2.0",
            "grid_template_areas": null,
            "object_position": null,
            "object_fit": null,
            "grid_auto_columns": null,
            "margin": null,
            "display": null,
            "left": null
          }
        },
        "d9cfef4ff0ec4598986b488cc65e2142": {
          "model_module": "@jupyter-widgets/controls",
          "model_name": "FloatProgressModel",
          "state": {
            "_view_name": "ProgressView",
            "style": "IPY_MODEL_a5b881e705314415a4616f467bfc2827",
            "_dom_classes": [],
            "description": "Downloading: 100%",
            "_model_name": "FloatProgressModel",
            "bar_style": "success",
            "max": 9143613,
            "_view_module": "@jupyter-widgets/controls",
            "_model_module_version": "1.5.0",
            "value": 9143613,
            "_view_count": null,
            "_view_module_version": "1.5.0",
            "orientation": "horizontal",
            "min": 0,
            "description_tooltip": null,
            "_model_module": "@jupyter-widgets/controls",
            "layout": "IPY_MODEL_b975a3e6931d482a9e20be93b1034399"
          }
        },
        "c33add0554394d4fb3b63bec5a3470d7": {
          "model_module": "@jupyter-widgets/controls",
          "model_name": "HTMLModel",
          "state": {
            "_view_name": "HTMLView",
            "style": "IPY_MODEL_75446cbdc13c4d88882f6f0975b87831",
            "_dom_classes": [],
            "description": "",
            "_model_name": "HTMLModel",
            "placeholder": "​",
            "_view_module": "@jupyter-widgets/controls",
            "_model_module_version": "1.5.0",
            "value": " 9.14M/9.14M [00:01&lt;00:00, 4.71MB/s]",
            "_view_count": null,
            "_view_module_version": "1.5.0",
            "description_tooltip": null,
            "_model_module": "@jupyter-widgets/controls",
            "layout": "IPY_MODEL_7db88f2ea89645c68ef8db1de867947c"
          }
        },
        "a5b881e705314415a4616f467bfc2827": {
          "model_module": "@jupyter-widgets/controls",
          "model_name": "ProgressStyleModel",
          "state": {
            "_view_name": "StyleView",
            "_model_name": "ProgressStyleModel",
            "description_width": "initial",
            "_view_module": "@jupyter-widgets/base",
            "_model_module_version": "1.5.0",
            "_view_count": null,
            "_view_module_version": "1.2.0",
            "bar_color": null,
            "_model_module": "@jupyter-widgets/controls"
          }
        },
        "b975a3e6931d482a9e20be93b1034399": {
          "model_module": "@jupyter-widgets/base",
          "model_name": "LayoutModel",
          "state": {
            "_view_name": "LayoutView",
            "grid_template_rows": null,
            "right": null,
            "justify_content": null,
            "_view_module": "@jupyter-widgets/base",
            "overflow": null,
            "_model_module_version": "1.2.0",
            "_view_count": null,
            "flex_flow": null,
            "width": null,
            "min_width": null,
            "border": null,
            "align_items": null,
            "bottom": null,
            "_model_module": "@jupyter-widgets/base",
            "top": null,
            "grid_column": null,
            "overflow_y": null,
            "overflow_x": null,
            "grid_auto_flow": null,
            "grid_area": null,
            "grid_template_columns": null,
            "flex": null,
            "_model_name": "LayoutModel",
            "justify_items": null,
            "grid_row": null,
            "max_height": null,
            "align_content": null,
            "visibility": null,
            "align_self": null,
            "height": null,
            "min_height": null,
            "padding": null,
            "grid_auto_rows": null,
            "grid_gap": null,
            "max_width": null,
            "order": null,
            "_view_module_version": "1.2.0",
            "grid_template_areas": null,
            "object_position": null,
            "object_fit": null,
            "grid_auto_columns": null,
            "margin": null,
            "display": null,
            "left": null
          }
        },
        "75446cbdc13c4d88882f6f0975b87831": {
          "model_module": "@jupyter-widgets/controls",
          "model_name": "DescriptionStyleModel",
          "state": {
            "_view_name": "StyleView",
            "_model_name": "DescriptionStyleModel",
            "description_width": "",
            "_view_module": "@jupyter-widgets/base",
            "_model_module_version": "1.5.0",
            "_view_count": null,
            "_view_module_version": "1.2.0",
            "_model_module": "@jupyter-widgets/controls"
          }
        },
        "7db88f2ea89645c68ef8db1de867947c": {
          "model_module": "@jupyter-widgets/base",
          "model_name": "LayoutModel",
          "state": {
            "_view_name": "LayoutView",
            "grid_template_rows": null,
            "right": null,
            "justify_content": null,
            "_view_module": "@jupyter-widgets/base",
            "overflow": null,
            "_model_module_version": "1.2.0",
            "_view_count": null,
            "flex_flow": null,
            "width": null,
            "min_width": null,
            "border": null,
            "align_items": null,
            "bottom": null,
            "_model_module": "@jupyter-widgets/base",
            "top": null,
            "grid_column": null,
            "overflow_y": null,
            "overflow_x": null,
            "grid_auto_flow": null,
            "grid_area": null,
            "grid_template_columns": null,
            "flex": null,
            "_model_name": "LayoutModel",
            "justify_items": null,
            "grid_row": null,
            "max_height": null,
            "align_content": null,
            "visibility": null,
            "align_self": null,
            "height": null,
            "min_height": null,
            "padding": null,
            "grid_auto_rows": null,
            "grid_gap": null,
            "max_width": null,
            "order": null,
            "_view_module_version": "1.2.0",
            "grid_template_areas": null,
            "object_position": null,
            "object_fit": null,
            "grid_auto_columns": null,
            "margin": null,
            "display": null,
            "left": null
          }
        },
        "2d865b87ca3d4ff68f140a81cf6a2821": {
          "model_module": "@jupyter-widgets/controls",
          "model_name": "HBoxModel",
          "state": {
            "_view_name": "HBoxView",
            "_dom_classes": [],
            "_model_name": "HBoxModel",
            "_view_module": "@jupyter-widgets/controls",
            "_model_module_version": "1.5.0",
            "_view_count": null,
            "_view_module_version": "1.5.0",
            "box_style": "",
            "layout": "IPY_MODEL_36efb3ab67cb4c0492e6dc2b257c83a3",
            "_model_module": "@jupyter-widgets/controls",
            "children": [
              "IPY_MODEL_e4bd85907bec4ba982542c371753ee31",
              "IPY_MODEL_9e7fd009d581488d893fc8b921d0cfd3"
            ]
          }
        },
        "36efb3ab67cb4c0492e6dc2b257c83a3": {
          "model_module": "@jupyter-widgets/base",
          "model_name": "LayoutModel",
          "state": {
            "_view_name": "LayoutView",
            "grid_template_rows": null,
            "right": null,
            "justify_content": null,
            "_view_module": "@jupyter-widgets/base",
            "overflow": null,
            "_model_module_version": "1.2.0",
            "_view_count": null,
            "flex_flow": null,
            "width": null,
            "min_width": null,
            "border": null,
            "align_items": null,
            "bottom": null,
            "_model_module": "@jupyter-widgets/base",
            "top": null,
            "grid_column": null,
            "overflow_y": null,
            "overflow_x": null,
            "grid_auto_flow": null,
            "grid_area": null,
            "grid_template_columns": null,
            "flex": null,
            "_model_name": "LayoutModel",
            "justify_items": null,
            "grid_row": null,
            "max_height": null,
            "align_content": null,
            "visibility": null,
            "align_self": null,
            "height": null,
            "min_height": null,
            "padding": null,
            "grid_auto_rows": null,
            "grid_gap": null,
            "max_width": null,
            "order": null,
            "_view_module_version": "1.2.0",
            "grid_template_areas": null,
            "object_position": null,
            "object_fit": null,
            "grid_auto_columns": null,
            "margin": null,
            "display": null,
            "left": null
          }
        },
        "e4bd85907bec4ba982542c371753ee31": {
          "model_module": "@jupyter-widgets/controls",
          "model_name": "FloatProgressModel",
          "state": {
            "_view_name": "ProgressView",
            "style": "IPY_MODEL_88d3cb11bbe64cfe8512f2ff1828a430",
            "_dom_classes": [],
            "description": "Downloading: 100%",
            "_model_name": "FloatProgressModel",
            "bar_style": "success",
            "max": 856,
            "_view_module": "@jupyter-widgets/controls",
            "_model_module_version": "1.5.0",
            "value": 856,
            "_view_count": null,
            "_view_module_version": "1.5.0",
            "orientation": "horizontal",
            "min": 0,
            "description_tooltip": null,
            "_model_module": "@jupyter-widgets/controls",
            "layout": "IPY_MODEL_d2a3a34f689e4036ae37ce1a597e9585"
          }
        },
        "9e7fd009d581488d893fc8b921d0cfd3": {
          "model_module": "@jupyter-widgets/controls",
          "model_name": "HTMLModel",
          "state": {
            "_view_name": "HTMLView",
            "style": "IPY_MODEL_b3ca4f6d30064057a06a5105abf8ffa1",
            "_dom_classes": [],
            "description": "",
            "_model_name": "HTMLModel",
            "placeholder": "​",
            "_view_module": "@jupyter-widgets/controls",
            "_model_module_version": "1.5.0",
            "value": " 856/856 [00:29&lt;00:00, 28.9B/s]",
            "_view_count": null,
            "_view_module_version": "1.5.0",
            "description_tooltip": null,
            "_model_module": "@jupyter-widgets/controls",
            "layout": "IPY_MODEL_f1b8340440634c068711b83e2e372f41"
          }
        },
        "88d3cb11bbe64cfe8512f2ff1828a430": {
          "model_module": "@jupyter-widgets/controls",
          "model_name": "ProgressStyleModel",
          "state": {
            "_view_name": "StyleView",
            "_model_name": "ProgressStyleModel",
            "description_width": "initial",
            "_view_module": "@jupyter-widgets/base",
            "_model_module_version": "1.5.0",
            "_view_count": null,
            "_view_module_version": "1.2.0",
            "bar_color": null,
            "_model_module": "@jupyter-widgets/controls"
          }
        },
        "d2a3a34f689e4036ae37ce1a597e9585": {
          "model_module": "@jupyter-widgets/base",
          "model_name": "LayoutModel",
          "state": {
            "_view_name": "LayoutView",
            "grid_template_rows": null,
            "right": null,
            "justify_content": null,
            "_view_module": "@jupyter-widgets/base",
            "overflow": null,
            "_model_module_version": "1.2.0",
            "_view_count": null,
            "flex_flow": null,
            "width": null,
            "min_width": null,
            "border": null,
            "align_items": null,
            "bottom": null,
            "_model_module": "@jupyter-widgets/base",
            "top": null,
            "grid_column": null,
            "overflow_y": null,
            "overflow_x": null,
            "grid_auto_flow": null,
            "grid_area": null,
            "grid_template_columns": null,
            "flex": null,
            "_model_name": "LayoutModel",
            "justify_items": null,
            "grid_row": null,
            "max_height": null,
            "align_content": null,
            "visibility": null,
            "align_self": null,
            "height": null,
            "min_height": null,
            "padding": null,
            "grid_auto_rows": null,
            "grid_gap": null,
            "max_width": null,
            "order": null,
            "_view_module_version": "1.2.0",
            "grid_template_areas": null,
            "object_position": null,
            "object_fit": null,
            "grid_auto_columns": null,
            "margin": null,
            "display": null,
            "left": null
          }
        },
        "b3ca4f6d30064057a06a5105abf8ffa1": {
          "model_module": "@jupyter-widgets/controls",
          "model_name": "DescriptionStyleModel",
          "state": {
            "_view_name": "StyleView",
            "_model_name": "DescriptionStyleModel",
            "description_width": "",
            "_view_module": "@jupyter-widgets/base",
            "_model_module_version": "1.5.0",
            "_view_count": null,
            "_view_module_version": "1.2.0",
            "_model_module": "@jupyter-widgets/controls"
          }
        },
        "f1b8340440634c068711b83e2e372f41": {
          "model_module": "@jupyter-widgets/base",
          "model_name": "LayoutModel",
          "state": {
            "_view_name": "LayoutView",
            "grid_template_rows": null,
            "right": null,
            "justify_content": null,
            "_view_module": "@jupyter-widgets/base",
            "overflow": null,
            "_model_module_version": "1.2.0",
            "_view_count": null,
            "flex_flow": null,
            "width": null,
            "min_width": null,
            "border": null,
            "align_items": null,
            "bottom": null,
            "_model_module": "@jupyter-widgets/base",
            "top": null,
            "grid_column": null,
            "overflow_y": null,
            "overflow_x": null,
            "grid_auto_flow": null,
            "grid_area": null,
            "grid_template_columns": null,
            "flex": null,
            "_model_name": "LayoutModel",
            "justify_items": null,
            "grid_row": null,
            "max_height": null,
            "align_content": null,
            "visibility": null,
            "align_self": null,
            "height": null,
            "min_height": null,
            "padding": null,
            "grid_auto_rows": null,
            "grid_gap": null,
            "max_width": null,
            "order": null,
            "_view_module_version": "1.2.0",
            "grid_template_areas": null,
            "object_position": null,
            "object_fit": null,
            "grid_auto_columns": null,
            "margin": null,
            "display": null,
            "left": null
          }
        },
        "fe818277c51f4da186afc9e3a42e41f5": {
          "model_module": "@jupyter-widgets/controls",
          "model_name": "HBoxModel",
          "state": {
            "_view_name": "HBoxView",
            "_dom_classes": [],
            "_model_name": "HBoxModel",
            "_view_module": "@jupyter-widgets/controls",
            "_model_module_version": "1.5.0",
            "_view_count": null,
            "_view_module_version": "1.5.0",
            "box_style": "",
            "layout": "IPY_MODEL_8414154c104446d0b5ae47c497f1a701",
            "_model_module": "@jupyter-widgets/controls",
            "children": [
              "IPY_MODEL_c4aff07b6b2c441a95b1ff9a229f26e5",
              "IPY_MODEL_712d6a65ca1c4e1f885bfaa57854b985"
            ]
          }
        },
        "8414154c104446d0b5ae47c497f1a701": {
          "model_module": "@jupyter-widgets/base",
          "model_name": "LayoutModel",
          "state": {
            "_view_name": "LayoutView",
            "grid_template_rows": null,
            "right": null,
            "justify_content": null,
            "_view_module": "@jupyter-widgets/base",
            "overflow": null,
            "_model_module_version": "1.2.0",
            "_view_count": null,
            "flex_flow": null,
            "width": null,
            "min_width": null,
            "border": null,
            "align_items": null,
            "bottom": null,
            "_model_module": "@jupyter-widgets/base",
            "top": null,
            "grid_column": null,
            "overflow_y": null,
            "overflow_x": null,
            "grid_auto_flow": null,
            "grid_area": null,
            "grid_template_columns": null,
            "flex": null,
            "_model_name": "LayoutModel",
            "justify_items": null,
            "grid_row": null,
            "max_height": null,
            "align_content": null,
            "visibility": null,
            "align_self": null,
            "height": null,
            "min_height": null,
            "padding": null,
            "grid_auto_rows": null,
            "grid_gap": null,
            "max_width": null,
            "order": null,
            "_view_module_version": "1.2.0",
            "grid_template_areas": null,
            "object_position": null,
            "object_fit": null,
            "grid_auto_columns": null,
            "margin": null,
            "display": null,
            "left": null
          }
        },
        "c4aff07b6b2c441a95b1ff9a229f26e5": {
          "model_module": "@jupyter-widgets/controls",
          "model_name": "FloatProgressModel",
          "state": {
            "_view_name": "ProgressView",
            "style": "IPY_MODEL_e659096c327e4a67b20118eff8f05539",
            "_dom_classes": [],
            "description": "Downloading: 100%",
            "_model_name": "FloatProgressModel",
            "bar_style": "success",
            "max": 1290191976,
            "_view_module": "@jupyter-widgets/controls",
            "_model_module_version": "1.5.0",
            "value": 1290191976,
            "_view_count": null,
            "_view_module_version": "1.5.0",
            "orientation": "horizontal",
            "min": 0,
            "description_tooltip": null,
            "_model_module": "@jupyter-widgets/controls",
            "layout": "IPY_MODEL_ef6d56f331ec412e8894f483f71b0ee1"
          }
        },
        "712d6a65ca1c4e1f885bfaa57854b985": {
          "model_module": "@jupyter-widgets/controls",
          "model_name": "HTMLModel",
          "state": {
            "_view_name": "HTMLView",
            "style": "IPY_MODEL_9c39c97f22e14458b4b8a4a972853e9d",
            "_dom_classes": [],
            "description": "",
            "_model_name": "HTMLModel",
            "placeholder": "​",
            "_view_module": "@jupyter-widgets/controls",
            "_model_module_version": "1.5.0",
            "value": " 1.29G/1.29G [00:28&lt;00:00, 44.8MB/s]",
            "_view_count": null,
            "_view_module_version": "1.5.0",
            "description_tooltip": null,
            "_model_module": "@jupyter-widgets/controls",
            "layout": "IPY_MODEL_7f27a8011ce749dd9c31cbeecb09f9d2"
          }
        },
        "e659096c327e4a67b20118eff8f05539": {
          "model_module": "@jupyter-widgets/controls",
          "model_name": "ProgressStyleModel",
          "state": {
            "_view_name": "StyleView",
            "_model_name": "ProgressStyleModel",
            "description_width": "initial",
            "_view_module": "@jupyter-widgets/base",
            "_model_module_version": "1.5.0",
            "_view_count": null,
            "_view_module_version": "1.2.0",
            "bar_color": null,
            "_model_module": "@jupyter-widgets/controls"
          }
        },
        "ef6d56f331ec412e8894f483f71b0ee1": {
          "model_module": "@jupyter-widgets/base",
          "model_name": "LayoutModel",
          "state": {
            "_view_name": "LayoutView",
            "grid_template_rows": null,
            "right": null,
            "justify_content": null,
            "_view_module": "@jupyter-widgets/base",
            "overflow": null,
            "_model_module_version": "1.2.0",
            "_view_count": null,
            "flex_flow": null,
            "width": null,
            "min_width": null,
            "border": null,
            "align_items": null,
            "bottom": null,
            "_model_module": "@jupyter-widgets/base",
            "top": null,
            "grid_column": null,
            "overflow_y": null,
            "overflow_x": null,
            "grid_auto_flow": null,
            "grid_area": null,
            "grid_template_columns": null,
            "flex": null,
            "_model_name": "LayoutModel",
            "justify_items": null,
            "grid_row": null,
            "max_height": null,
            "align_content": null,
            "visibility": null,
            "align_self": null,
            "height": null,
            "min_height": null,
            "padding": null,
            "grid_auto_rows": null,
            "grid_gap": null,
            "max_width": null,
            "order": null,
            "_view_module_version": "1.2.0",
            "grid_template_areas": null,
            "object_position": null,
            "object_fit": null,
            "grid_auto_columns": null,
            "margin": null,
            "display": null,
            "left": null
          }
        },
        "9c39c97f22e14458b4b8a4a972853e9d": {
          "model_module": "@jupyter-widgets/controls",
          "model_name": "DescriptionStyleModel",
          "state": {
            "_view_name": "StyleView",
            "_model_name": "DescriptionStyleModel",
            "description_width": "",
            "_view_module": "@jupyter-widgets/base",
            "_model_module_version": "1.5.0",
            "_view_count": null,
            "_view_module_version": "1.2.0",
            "_model_module": "@jupyter-widgets/controls"
          }
        },
        "7f27a8011ce749dd9c31cbeecb09f9d2": {
          "model_module": "@jupyter-widgets/base",
          "model_name": "LayoutModel",
          "state": {
            "_view_name": "LayoutView",
            "grid_template_rows": null,
            "right": null,
            "justify_content": null,
            "_view_module": "@jupyter-widgets/base",
            "overflow": null,
            "_model_module_version": "1.2.0",
            "_view_count": null,
            "flex_flow": null,
            "width": null,
            "min_width": null,
            "border": null,
            "align_items": null,
            "bottom": null,
            "_model_module": "@jupyter-widgets/base",
            "top": null,
            "grid_column": null,
            "overflow_y": null,
            "overflow_x": null,
            "grid_auto_flow": null,
            "grid_area": null,
            "grid_template_columns": null,
            "flex": null,
            "_model_name": "LayoutModel",
            "justify_items": null,
            "grid_row": null,
            "max_height": null,
            "align_content": null,
            "visibility": null,
            "align_self": null,
            "height": null,
            "min_height": null,
            "padding": null,
            "grid_auto_rows": null,
            "grid_gap": null,
            "max_width": null,
            "order": null,
            "_view_module_version": "1.2.0",
            "grid_template_areas": null,
            "object_position": null,
            "object_fit": null,
            "grid_auto_columns": null,
            "margin": null,
            "display": null,
            "left": null
          }
        }
      }
    }
  },
  "cells": [
    {
      "cell_type": "markdown",
      "metadata": {
        "id": "KMBwyni7ZGMM",
        "colab_type": "text"
      },
      "source": [
        "##### Installation"
      ]
    },
    {
      "cell_type": "code",
      "metadata": {
        "id": "RRKZg1tJ-Y0D",
        "colab_type": "code",
        "colab": {
          "base_uri": "https://localhost:8080/",
          "height": 972
        },
        "outputId": "28be5014-f566-4c7f-d597-b947326be45d"
      },
      "source": [
        "!pip install torch\n",
        "#!pip install tensorflow\n",
        "#!pip install tensorflow-datasets\n",
        "!pip install transformers\n",
        "\n",
        "# for tracking and visualising training in web browser\n",
        "!pip install wandb\n",
        "!wandb login 20983d37439737ea3e750cd826d32f9ed826c1dc"
      ],
      "execution_count": null,
      "outputs": [
        {
          "output_type": "stream",
          "text": [
            "Requirement already satisfied: torch in /usr/local/lib/python3.6/dist-packages (1.5.1+cu101)\n",
            "Requirement already satisfied: numpy in /usr/local/lib/python3.6/dist-packages (from torch) (1.18.5)\n",
            "Requirement already satisfied: future in /usr/local/lib/python3.6/dist-packages (from torch) (0.16.0)\n",
            "Requirement already satisfied: transformers in /usr/local/lib/python3.6/dist-packages (2.11.0)\n",
            "Collecting tokenizers==0.7.0\n",
            "  Using cached https://files.pythonhosted.org/packages/14/e5/a26eb4716523808bb0a799fcfdceb6ebf77a18169d9591b2f46a9adb87d9/tokenizers-0.7.0-cp36-cp36m-manylinux1_x86_64.whl\n",
            "Requirement already satisfied: regex!=2019.12.17 in /usr/local/lib/python3.6/dist-packages (from transformers) (2019.12.20)\n",
            "Requirement already satisfied: sacremoses in /usr/local/lib/python3.6/dist-packages (from transformers) (0.0.43)\n",
            "Requirement already satisfied: tqdm>=4.27 in /usr/local/lib/python3.6/dist-packages (from transformers) (4.41.1)\n",
            "Requirement already satisfied: numpy in /usr/local/lib/python3.6/dist-packages (from transformers) (1.18.5)\n",
            "Requirement already satisfied: packaging in /usr/local/lib/python3.6/dist-packages (from transformers) (20.4)\n",
            "Requirement already satisfied: requests in /usr/local/lib/python3.6/dist-packages (from transformers) (2.23.0)\n",
            "Requirement already satisfied: sentencepiece in /usr/local/lib/python3.6/dist-packages (from transformers) (0.1.91)\n",
            "Requirement already satisfied: filelock in /usr/local/lib/python3.6/dist-packages (from transformers) (3.0.12)\n",
            "Requirement already satisfied: dataclasses; python_version < \"3.7\" in /usr/local/lib/python3.6/dist-packages (from transformers) (0.7)\n",
            "Requirement already satisfied: six in /usr/local/lib/python3.6/dist-packages (from sacremoses->transformers) (1.12.0)\n",
            "Requirement already satisfied: joblib in /usr/local/lib/python3.6/dist-packages (from sacremoses->transformers) (0.15.1)\n",
            "Requirement already satisfied: click in /usr/local/lib/python3.6/dist-packages (from sacremoses->transformers) (7.1.2)\n",
            "Requirement already satisfied: pyparsing>=2.0.2 in /usr/local/lib/python3.6/dist-packages (from packaging->transformers) (2.4.7)\n",
            "Requirement already satisfied: idna<3,>=2.5 in /usr/local/lib/python3.6/dist-packages (from requests->transformers) (2.9)\n",
            "Requirement already satisfied: urllib3!=1.25.0,!=1.25.1,<1.26,>=1.21.1 in /usr/local/lib/python3.6/dist-packages (from requests->transformers) (1.24.3)\n",
            "Requirement already satisfied: chardet<4,>=3.0.2 in /usr/local/lib/python3.6/dist-packages (from requests->transformers) (3.0.4)\n",
            "Requirement already satisfied: certifi>=2017.4.17 in /usr/local/lib/python3.6/dist-packages (from requests->transformers) (2020.6.20)\n",
            "Installing collected packages: tokenizers\n",
            "  Found existing installation: tokenizers 0.8.0rc3\n",
            "    Uninstalling tokenizers-0.8.0rc3:\n",
            "      Successfully uninstalled tokenizers-0.8.0rc3\n",
            "Successfully installed tokenizers-0.7.0\n",
            "Requirement already satisfied: wandb in /usr/local/lib/python3.6/dist-packages (0.9.1)\n",
            "Requirement already satisfied: PyYAML>=3.10 in /usr/local/lib/python3.6/dist-packages (from wandb) (3.13)\n",
            "Requirement already satisfied: GitPython>=1.0.0 in /usr/local/lib/python3.6/dist-packages (from wandb) (3.1.3)\n",
            "Requirement already satisfied: sentry-sdk>=0.4.0 in /usr/local/lib/python3.6/dist-packages (from wandb) (0.15.1)\n",
            "Requirement already satisfied: watchdog>=0.8.3 in /usr/local/lib/python3.6/dist-packages (from wandb) (0.10.3)\n",
            "Requirement already satisfied: subprocess32>=3.5.3 in /usr/local/lib/python3.6/dist-packages (from wandb) (3.5.4)\n",
            "Requirement already satisfied: configparser>=3.8.1 in /usr/local/lib/python3.6/dist-packages (from wandb) (5.0.0)\n",
            "Requirement already satisfied: shortuuid>=0.5.0 in /usr/local/lib/python3.6/dist-packages (from wandb) (1.0.1)\n",
            "Requirement already satisfied: Click>=7.0 in /usr/local/lib/python3.6/dist-packages (from wandb) (7.1.2)\n",
            "Requirement already satisfied: gql==0.2.0 in /usr/local/lib/python3.6/dist-packages (from wandb) (0.2.0)\n",
            "Requirement already satisfied: six>=1.10.0 in /usr/local/lib/python3.6/dist-packages (from wandb) (1.12.0)\n",
            "Requirement already satisfied: nvidia-ml-py3>=7.352.0 in /usr/local/lib/python3.6/dist-packages (from wandb) (7.352.0)\n",
            "Requirement already satisfied: docker-pycreds>=0.4.0 in /usr/local/lib/python3.6/dist-packages (from wandb) (0.4.0)\n",
            "Requirement already satisfied: python-dateutil>=2.6.1 in /usr/local/lib/python3.6/dist-packages (from wandb) (2.8.1)\n",
            "Requirement already satisfied: requests>=2.0.0 in /usr/local/lib/python3.6/dist-packages (from wandb) (2.23.0)\n",
            "Requirement already satisfied: psutil>=5.0.0 in /usr/local/lib/python3.6/dist-packages (from wandb) (5.4.8)\n",
            "Requirement already satisfied: gitdb<5,>=4.0.1 in /usr/local/lib/python3.6/dist-packages (from GitPython>=1.0.0->wandb) (4.0.5)\n",
            "Requirement already satisfied: certifi in /usr/local/lib/python3.6/dist-packages (from sentry-sdk>=0.4.0->wandb) (2020.6.20)\n",
            "Requirement already satisfied: urllib3>=1.10.0 in /usr/local/lib/python3.6/dist-packages (from sentry-sdk>=0.4.0->wandb) (1.24.3)\n",
            "Requirement already satisfied: pathtools>=0.1.1 in /usr/local/lib/python3.6/dist-packages (from watchdog>=0.8.3->wandb) (0.1.2)\n",
            "Requirement already satisfied: graphql-core<2,>=0.5.0 in /usr/local/lib/python3.6/dist-packages (from gql==0.2.0->wandb) (1.1)\n",
            "Requirement already satisfied: promise<3,>=2.0 in /usr/local/lib/python3.6/dist-packages (from gql==0.2.0->wandb) (2.3)\n",
            "Requirement already satisfied: chardet<4,>=3.0.2 in /usr/local/lib/python3.6/dist-packages (from requests>=2.0.0->wandb) (3.0.4)\n",
            "Requirement already satisfied: idna<3,>=2.5 in /usr/local/lib/python3.6/dist-packages (from requests>=2.0.0->wandb) (2.9)\n",
            "Requirement already satisfied: smmap<4,>=3.0.1 in /usr/local/lib/python3.6/dist-packages (from gitdb<5,>=4.0.1->GitPython>=1.0.0->wandb) (3.0.4)\n",
            "\u001b[34m\u001b[1mwandb\u001b[0m: Appending key for api.wandb.ai to your netrc file: /root/.netrc\n",
            "\u001b[32mSuccessfully logged in to Weights & Biases!\u001b[0m\n"
          ],
          "name": "stdout"
        }
      ]
    },
    {
      "cell_type": "code",
      "metadata": {
        "id": "ng8HiXlgY1uZ",
        "colab_type": "code",
        "colab": {}
      },
      "source": [
        "%tensorflow_version 2.x\n",
        "from datetime import datetime\n",
        "from google.colab import files"
      ],
      "execution_count": null,
      "outputs": []
    },
    {
      "cell_type": "code",
      "metadata": {
        "id": "k9sEKFu2Y2t7",
        "colab_type": "code",
        "colab": {
          "base_uri": "https://localhost:8080/",
          "height": 54
        },
        "outputId": "93f70631-4c04-4238-9fa1-6622a7145ec5"
      },
      "source": [
        "from google.colab import drive\n",
        "drive.mount('/gdrive')"
      ],
      "execution_count": null,
      "outputs": [
        {
          "output_type": "stream",
          "text": [
            "Drive already mounted at /gdrive; to attempt to forcibly remount, call drive.mount(\"/gdrive\", force_remount=True).\n"
          ],
          "name": "stdout"
        }
      ]
    },
    {
      "cell_type": "code",
      "metadata": {
        "id": "4PueSBbkiqlU",
        "colab_type": "code",
        "colab": {}
      },
      "source": [
        "data_file_name = \"data_split_original.txt\""
      ],
      "execution_count": null,
      "outputs": []
    },
    {
      "cell_type": "code",
      "metadata": {
        "id": "klP9K_m4Y58f",
        "colab_type": "code",
        "colab": {
          "base_uri": "https://localhost:8080/",
          "height": 51
        },
        "outputId": "88aad372-5797-40cf-99b0-1ad2a2dee5e2"
      },
      "source": [
        "%mkdir /content/data\n",
        "%cp -av /gdrive/My\\ Drive/data/$data_file_name /content/data/"
      ],
      "execution_count": null,
      "outputs": [
        {
          "output_type": "stream",
          "text": [
            "mkdir: cannot create directory ‘/content/data’: File exists\n",
            "'/gdrive/My Drive/data/data_split_original.txt' -> '/content/data/data_split_original.txt'\n"
          ],
          "name": "stdout"
        }
      ]
    },
    {
      "cell_type": "code",
      "metadata": {
        "id": "DLLeDxqUY70U",
        "colab_type": "code",
        "colab": {
          "base_uri": "https://localhost:8080/",
          "height": 34
        },
        "outputId": "c6eb4f77-3e81-41a2-8333-da08cf084b11"
      },
      "source": [
        "!ls"
      ],
      "execution_count": null,
      "outputs": [
        {
          "output_type": "stream",
          "text": [
            "data  runs  sample_data  train\twandb\n"
          ],
          "name": "stdout"
        }
      ]
    },
    {
      "cell_type": "code",
      "metadata": {
        "id": "8UZrNRC5Y-el",
        "colab_type": "code",
        "colab": {
          "base_uri": "https://localhost:8080/",
          "height": 357
        },
        "outputId": "bccc7bc7-6710-45c9-ef9e-2f4fb3f93abb"
      },
      "source": [
        "!nvidia-smi"
      ],
      "execution_count": null,
      "outputs": [
        {
          "output_type": "stream",
          "text": [
            "Sat Jun 27 11:07:24 2020       \n",
            "+-----------------------------------------------------------------------------+\n",
            "| NVIDIA-SMI 450.36.06    Driver Version: 418.67       CUDA Version: 10.1     |\n",
            "|-------------------------------+----------------------+----------------------+\n",
            "| GPU  Name        Persistence-M| Bus-Id        Disp.A | Volatile Uncorr. ECC |\n",
            "| Fan  Temp  Perf  Pwr:Usage/Cap|         Memory-Usage | GPU-Util  Compute M. |\n",
            "|                               |                      |               MIG M. |\n",
            "|===============================+======================+======================|\n",
            "|   0  Tesla K80           Off  | 00000000:00:04.0 Off |                    0 |\n",
            "| N/A   60C    P8    32W / 149W |      0MiB / 11441MiB |      0%      Default |\n",
            "|                               |                      |                 ERR! |\n",
            "+-------------------------------+----------------------+----------------------+\n",
            "                                                                               \n",
            "+-----------------------------------------------------------------------------+\n",
            "| Processes:                                                                  |\n",
            "|  GPU   GI   CI        PID   Type   Process name                  GPU Memory |\n",
            "|        ID   ID                                                   Usage      |\n",
            "|=============================================================================|\n",
            "|  No running processes found                                                 |\n",
            "+-----------------------------------------------------------------------------+\n"
          ],
          "name": "stdout"
        }
      ]
    },
    {
      "cell_type": "markdown",
      "metadata": {
        "id": "15Ck_TmZtyVk",
        "colab_type": "text"
      },
      "source": [
        "###### Tokenizer"
      ]
    },
    {
      "cell_type": "code",
      "metadata": {
        "id": "ZprF5HuDuyIG",
        "colab_type": "code",
        "colab": {
          "base_uri": "https://localhost:8080/",
          "height": 530
        },
        "outputId": "5d9fedc5-246f-4634-dba1-f3d30972a3d3"
      },
      "source": [
        "# Install `transformers` from master\n",
        "!pip install git+https://github.com/huggingface/transformers\n",
        "!pip list | grep -E 'transformers|tokenizers'\n",
        "# transformers version at notebook update --- 2.11.0\n",
        "# tokenizers version at notebook update --- 0.8.0rc1"
      ],
      "execution_count": null,
      "outputs": [
        {
          "output_type": "stream",
          "text": [
            "Collecting git+https://github.com/huggingface/transformers\n",
            "  Cloning https://github.com/huggingface/transformers to /tmp/pip-req-build-shh116a8\n",
            "  Running command git clone -q https://github.com/huggingface/transformers /tmp/pip-req-build-shh116a8\n",
            "Requirement already satisfied (use --upgrade to upgrade): transformers==2.11.0 from git+https://github.com/huggingface/transformers in /usr/local/lib/python3.6/dist-packages\n",
            "Requirement already satisfied: numpy in /usr/local/lib/python3.6/dist-packages (from transformers==2.11.0) (1.18.5)\n",
            "Requirement already satisfied: tokenizers==0.8.0-rc3 in /usr/local/lib/python3.6/dist-packages (from transformers==2.11.0) (0.8.0rc3)\n",
            "Requirement already satisfied: packaging in /usr/local/lib/python3.6/dist-packages (from transformers==2.11.0) (20.4)\n",
            "Requirement already satisfied: filelock in /usr/local/lib/python3.6/dist-packages (from transformers==2.11.0) (3.0.12)\n",
            "Requirement already satisfied: requests in /usr/local/lib/python3.6/dist-packages (from transformers==2.11.0) (2.23.0)\n",
            "Requirement already satisfied: tqdm>=4.27 in /usr/local/lib/python3.6/dist-packages (from transformers==2.11.0) (4.41.1)\n",
            "Requirement already satisfied: regex!=2019.12.17 in /usr/local/lib/python3.6/dist-packages (from transformers==2.11.0) (2019.12.20)\n",
            "Requirement already satisfied: sentencepiece in /usr/local/lib/python3.6/dist-packages (from transformers==2.11.0) (0.1.91)\n",
            "Requirement already satisfied: sacremoses in /usr/local/lib/python3.6/dist-packages (from transformers==2.11.0) (0.0.43)\n",
            "Requirement already satisfied: dataclasses in /usr/local/lib/python3.6/dist-packages (from transformers==2.11.0) (0.7)\n",
            "Requirement already satisfied: six in /usr/local/lib/python3.6/dist-packages (from packaging->transformers==2.11.0) (1.12.0)\n",
            "Requirement already satisfied: pyparsing>=2.0.2 in /usr/local/lib/python3.6/dist-packages (from packaging->transformers==2.11.0) (2.4.7)\n",
            "Requirement already satisfied: idna<3,>=2.5 in /usr/local/lib/python3.6/dist-packages (from requests->transformers==2.11.0) (2.9)\n",
            "Requirement already satisfied: urllib3!=1.25.0,!=1.25.1,<1.26,>=1.21.1 in /usr/local/lib/python3.6/dist-packages (from requests->transformers==2.11.0) (1.24.3)\n",
            "Requirement already satisfied: certifi>=2017.4.17 in /usr/local/lib/python3.6/dist-packages (from requests->transformers==2.11.0) (2020.6.20)\n",
            "Requirement already satisfied: chardet<4,>=3.0.2 in /usr/local/lib/python3.6/dist-packages (from requests->transformers==2.11.0) (3.0.4)\n",
            "Requirement already satisfied: joblib in /usr/local/lib/python3.6/dist-packages (from sacremoses->transformers==2.11.0) (0.15.1)\n",
            "Requirement already satisfied: click in /usr/local/lib/python3.6/dist-packages (from sacremoses->transformers==2.11.0) (7.1.2)\n",
            "Building wheels for collected packages: transformers\n",
            "  Building wheel for transformers (setup.py) ... \u001b[?25l\u001b[?25hdone\n",
            "  Created wheel for transformers: filename=transformers-2.11.0-cp36-none-any.whl size=743047 sha256=b7b020c2a1f0c07b0ae0d059e4e197dbf58e65ade815afa017ec9bc90d45708c\n",
            "  Stored in directory: /tmp/pip-ephem-wheel-cache-0ea3s3im/wheels/70/d3/52/b3fa4f8b8ef04167ac62e5bb2accb62ae764db2a378247490e\n",
            "Successfully built transformers\n",
            "tokenizers               0.8.0rc3       \n",
            "transformers             2.11.0         \n"
          ],
          "name": "stdout"
        }
      ]
    },
    {
      "cell_type": "code",
      "metadata": {
        "id": "wXcQGt6oAevu",
        "colab_type": "code",
        "colab": {
          "base_uri": "https://localhost:8080/",
          "height": 34
        },
        "outputId": "bc69c6a9-3889-4ae3-c273-6c967535a2dc"
      },
      "source": [
        "from pathlib import Path\n",
        "\n",
        "from tokenizers import BertWordPieceTokenizer\n",
        "\n",
        "paths = [str(x) for x in Path(\".\").glob(\"**/data/data_condense_original.txt\")]\n",
        "print(paths)\n",
        "\n",
        "# Initialize a tokenizer\n",
        "tokenizer = BertWordPieceTokenizer()\n",
        "\n",
        "# Customize training\n",
        "tokenizer.train(files=paths, vocab_size=10000, min_frequency=2, special_tokens=[\n",
        "    \"[CLS]\",\n",
        "    \"[SEP]\",\n",
        "    \"[UNK]\",\n",
        "    \"[PAD]\"\n",
        "])"
      ],
      "execution_count": null,
      "outputs": [
        {
          "output_type": "stream",
          "text": [
            "[]\n"
          ],
          "name": "stdout"
        }
      ]
    },
    {
      "cell_type": "code",
      "metadata": {
        "id": "HXzIcq58udxu",
        "colab_type": "code",
        "colab": {
          "base_uri": "https://localhost:8080/",
          "height": 51
        },
        "outputId": "60d26c43-12e8-4bbe-8244-dd93e2c2272c"
      },
      "source": [
        "!mkdir train\n",
        "tokenizer.save_model(\"train\")"
      ],
      "execution_count": null,
      "outputs": [
        {
          "output_type": "stream",
          "text": [
            "mkdir: cannot create directory ‘train’: File exists\n"
          ],
          "name": "stdout"
        },
        {
          "output_type": "execute_result",
          "data": {
            "text/plain": [
              "['train/vocab.txt']"
            ]
          },
          "metadata": {
            "tags": []
          },
          "execution_count": 4
        }
      ]
    },
    {
      "cell_type": "code",
      "metadata": {
        "id": "q5XSzZjVv2yF",
        "colab_type": "code",
        "colab": {
          "base_uri": "https://localhost:8080/",
          "height": 17
        },
        "outputId": "c163d603-ecad-4bb1-e903-af0adbbacf55"
      },
      "source": [
        "from google.colab import files\n",
        "files.download('./train/vocab.txt')"
      ],
      "execution_count": null,
      "outputs": [
        {
          "output_type": "display_data",
          "data": {
            "application/javascript": [
              "\n",
              "    async function download(id, filename, size) {\n",
              "      if (!google.colab.kernel.accessAllowed) {\n",
              "        return;\n",
              "      }\n",
              "      const div = document.createElement('div');\n",
              "      const label = document.createElement('label');\n",
              "      label.textContent = `Downloading \"${filename}\": `;\n",
              "      div.appendChild(label);\n",
              "      const progress = document.createElement('progress');\n",
              "      progress.max = size;\n",
              "      div.appendChild(progress);\n",
              "      document.body.appendChild(div);\n",
              "\n",
              "      const buffers = [];\n",
              "      let downloaded = 0;\n",
              "\n",
              "      const channel = await google.colab.kernel.comms.open(id);\n",
              "      // Send a message to notify the kernel that we're ready.\n",
              "      channel.send({})\n",
              "\n",
              "      for await (const message of channel.messages) {\n",
              "        // Send a message to notify the kernel that we're ready.\n",
              "        channel.send({})\n",
              "        if (message.buffers) {\n",
              "          for (const buffer of message.buffers) {\n",
              "            buffers.push(buffer);\n",
              "            downloaded += buffer.byteLength;\n",
              "            progress.value = downloaded;\n",
              "          }\n",
              "        }\n",
              "      }\n",
              "      const blob = new Blob(buffers, {type: 'application/binary'});\n",
              "      const a = document.createElement('a');\n",
              "      a.href = window.URL.createObjectURL(blob);\n",
              "      a.download = filename;\n",
              "      div.appendChild(a);\n",
              "      a.click();\n",
              "      div.remove();\n",
              "    }\n",
              "  "
            ],
            "text/plain": [
              "<IPython.core.display.Javascript object>"
            ]
          },
          "metadata": {
            "tags": []
          }
        },
        {
          "output_type": "display_data",
          "data": {
            "application/javascript": [
              "download(\"download_a5e7c7c1-7155-4819-89e6-6a084501fbe9\", \"vocab.txt\", 24)"
            ],
            "text/plain": [
              "<IPython.core.display.Javascript object>"
            ]
          },
          "metadata": {
            "tags": []
          }
        }
      ]
    },
    {
      "cell_type": "markdown",
      "metadata": {
        "id": "wEAiBZA3wTVy",
        "colab_type": "text"
      },
      "source": [
        "###### Encode"
      ]
    },
    {
      "cell_type": "code",
      "metadata": {
        "id": "pbvGioYQDqj9",
        "colab_type": "code",
        "colab": {
          "base_uri": "https://localhost:8080/",
          "height": 51
        },
        "outputId": "5959cc2a-0a43-46cf-ede8-86e2acca54c8"
      },
      "source": [
        "from transformers import TransfoXLTokenizerFast\n",
        "\n",
        "tokenizer = TransfoXLTokenizerFast.from_pretrained('transfo-xl-wt103')\n",
        "special_tokens_dict = {'cls_token':'[CLS]', 'sep_token':'[SEP]', 'unk_token':'[UNK]', 'pad_token':'[PAD]'}\n",
        "num_added_toks = tokenizer.add_special_tokens(special_tokens_dict)\n",
        "\n",
        "\n",
        "print(tokenizer.encode(\"start tempo120 melody v80 A4 wait:40\"))\n",
        "print(tokenizer.tokenize(\"start tempo120 melody v80 A4 wait:40\"))"
      ],
      "execution_count": null,
      "outputs": [
        {
          "output_type": "stream",
          "text": [
            "[675, 24, 4934, 24, 28937, 24]\n",
            "['start', 'tempo120', 'melody', 'v80', 'A4', 'wait:40']\n"
          ],
          "name": "stdout"
        }
      ]
    },
    {
      "cell_type": "code",
      "metadata": {
        "id": "3naWt8bg2GcO",
        "colab_type": "code",
        "colab": {
          "base_uri": "https://localhost:8080/",
          "height": 51
        },
        "outputId": "72d4fe02-7dd9-4709-9410-8cff38f4127d"
      },
      "source": [
        "%mkdir train\n",
        "%cp -av /gdrive/My\\ Drive/data/vocab.json /content/train/"
      ],
      "execution_count": null,
      "outputs": [
        {
          "output_type": "stream",
          "text": [
            "mkdir: cannot create directory ‘train’: File exists\n",
            "'/gdrive/My Drive/data/vocab.json' -> '/content/train/vocab.json'\n"
          ],
          "name": "stdout"
        }
      ]
    },
    {
      "cell_type": "code",
      "metadata": {
        "id": "M6K7EMQEwShH",
        "colab_type": "code",
        "colab": {}
      },
      "source": [
        "from tokenizers.implementations import BertWordPieceTokenizer\n",
        "from tokenizers.processors import BertProcessing\n",
        "from transformers import TransfoXLTokenizerFast\n",
        "\n",
        "tokenizer = TransfoXLTokenizerFast.from_pretrained(\n",
        "    \"./train\",\n",
        "    # \"./train/merges.txt\",\n",
        "    unk_token=\"[UNK]\", sep_token=\"[SEP]\", cls_token=\"[CLS]\", pad_token=\"[PAD]\",\n",
        "    additional_special_tokens=[\"[SEP]\",\"[CLS]\",\"[PAD]\"]\n",
        ")"
      ],
      "execution_count": null,
      "outputs": []
    },
    {
      "cell_type": "code",
      "metadata": {
        "id": "w9_aQ_OxwaRc",
        "colab_type": "code",
        "colab": {
          "base_uri": "https://localhost:8080/",
          "height": 34
        },
        "outputId": "ae9df0e0-0bf2-434f-fe7a-ec97e1c55270"
      },
      "source": [
        "tokenizer.tokenize(\"start tempo120 melody v80 A4 wait:40\")"
      ],
      "execution_count": null,
      "outputs": [
        {
          "output_type": "execute_result",
          "data": {
            "text/plain": [
              "['start', 'tempo120', 'melody', 'v80', 'A4', 'wait:40']"
            ]
          },
          "metadata": {
            "tags": []
          },
          "execution_count": 11
        }
      ]
    },
    {
      "cell_type": "code",
      "metadata": {
        "id": "_EXTd1Xswlm_",
        "colab_type": "code",
        "colab": {
          "base_uri": "https://localhost:8080/",
          "height": 34
        },
        "outputId": "0bf1c1df-8d66-4cf6-c71b-df256d1c6dbc"
      },
      "source": [
        "tokenizer.encode(\"start tempo120 melody v80 A4 wait:40\")"
      ],
      "execution_count": null,
      "outputs": [
        {
          "output_type": "execute_result",
          "data": {
            "text/plain": [
              "[4, 137, 6, 298, 427, 558]"
            ]
          },
          "metadata": {
            "tags": []
          },
          "execution_count": 12
        }
      ]
    },
    {
      "cell_type": "markdown",
      "metadata": {
        "id": "FuhUQOR_xZXA",
        "colab_type": "text"
      },
      "source": [
        "###### Model"
      ]
    },
    {
      "cell_type": "code",
      "metadata": {
        "id": "yjyDFEq7wz6C",
        "colab_type": "code",
        "colab": {}
      },
      "source": [
        "from transformers import TransfoXLConfig\n",
        "# TransfoXLConfig\n",
        "config = TransfoXLConfig(\n",
        "    vocab_size=200000,\n",
        "    #max_position_embeddings=514, # maximum generation ever\n",
        "    n_head=12,\n",
        "    n_layer=6,\n",
        "    type_vocab_size=1,\n",
        "    unk_token='[UNK]',\n",
        "    cls_token='[CLS]',\n",
        "    sep_token='[SEP]',\n",
        "    pad_token='[PAD]',\n",
        "    #vocab_size=50_000,\n",
        "    #layer_norm_epsilon=int(1e-12),\n",
        ")"
      ],
      "execution_count": null,
      "outputs": []
    },
    {
      "cell_type": "code",
      "metadata": {
        "id": "zvFfjzi22x_l",
        "colab_type": "code",
        "colab": {}
      },
      "source": [
        "from transformers import TransfoXLTokenizerFast\n",
        "\n",
        "tokenizer = TransfoXLTokenizerFast.from_pretrained(\n",
        "    \"./train\",\n",
        "    unk_token=\"[UNK]\", sep_token=\"[SEP]\", cls_token=\"[CLS]\", pad_token=\"[PAD]\",\n",
        "    additional_special_tokens=[\"[SEP]\",\"[CLS]\",\"[PAD]\"]\n",
        ")"
      ],
      "execution_count": null,
      "outputs": []
    },
    {
      "cell_type": "code",
      "metadata": {
        "id": "HAtgGt8Ww2lf",
        "colab_type": "code",
        "colab": {}
      },
      "source": [
        "# # using Roberta (BERT) for Byte-level BPE since TransfoXLTokenizerFast is word-level\n",
        "\n",
        "# from transformers import RobertaTokenizerFast, BertTokenizerFast\n",
        "# # TransfoXLTokenizerFast, RobertaTokenizerFast\n",
        "# tokenizer = BertTokenizerFast.from_pretrained(\"./train\") #max_len=512"
      ],
      "execution_count": null,
      "outputs": []
    },
    {
      "cell_type": "code",
      "metadata": {
        "id": "4lwqzIlYw5Xv",
        "colab_type": "code",
        "colab": {}
      },
      "source": [
        "from transformers import TransfoXLLMHeadModel\n",
        "\n",
        "# initialise from config, not pretrained model\n",
        "model = TransfoXLLMHeadModel(config=config)"
      ],
      "execution_count": null,
      "outputs": []
    },
    {
      "cell_type": "code",
      "metadata": {
        "id": "Cwi5fXRa_dQk",
        "colab_type": "code",
        "colab": {}
      },
      "source": [
        "from transformers import TransfoXLModel\n",
        "\n",
        "# initialise from config, not pretrained model\n",
        "model = TransfoXLModel(config=config)"
      ],
      "execution_count": null,
      "outputs": []
    },
    {
      "cell_type": "code",
      "metadata": {
        "id": "GaeCy6yS5fxj",
        "colab_type": "code",
        "colab": {
          "base_uri": "https://localhost:8080/",
          "height": 34
        },
        "outputId": "507b929b-97c6-4e40-9d72-d51ee4d53046"
      },
      "source": [
        "model.config.vocab_size"
      ],
      "execution_count": null,
      "outputs": [
        {
          "output_type": "execute_result",
          "data": {
            "text/plain": [
              "200000"
            ]
          },
          "metadata": {
            "tags": []
          },
          "execution_count": 43
        }
      ]
    },
    {
      "cell_type": "code",
      "metadata": {
        "id": "GNC6_D_9xDJI",
        "colab_type": "code",
        "colab": {
          "base_uri": "https://localhost:8080/",
          "height": 34
        },
        "outputId": "bdc7ae76-d612-4f17-90b0-3906951d9825"
      },
      "source": [
        "model.num_parameters()\n",
        "# => 113.6 # 84 million parameters"
      ],
      "execution_count": null,
      "outputs": [
        {
          "output_type": "execute_result",
          "data": {
            "text/plain": [
              "112473411"
            ]
          },
          "metadata": {
            "tags": []
          },
          "execution_count": 44
        }
      ]
    },
    {
      "cell_type": "code",
      "metadata": {
        "id": "D6s9qyhP8EFT",
        "colab_type": "code",
        "colab": {
          "base_uri": "https://localhost:8080/",
          "height": 51
        },
        "outputId": "74aadd27-d1a8-4744-aa52-a222a26e1d42"
      },
      "source": [
        "%%time\n",
        "from transformers import LineByLineTextDataset\n",
        "\n",
        "dataset = LineByLineTextDataset(\n",
        "    tokenizer=tokenizer,\n",
        "    file_path=\"./data/data_split_original.txt\",\n",
        "    block_size=128,\n",
        ")\n",
        "\n",
        "# block_size\n",
        "# 64: 19min 10s\n",
        "# 32: 19min 27s\n",
        "# 16: 19min 3s"
      ],
      "execution_count": null,
      "outputs": [
        {
          "output_type": "stream",
          "text": [
            "CPU times: user 36min 25s, sys: 6.07 s, total: 36min 31s\n",
            "Wall time: 19min 3s\n"
          ],
          "name": "stdout"
        }
      ]
    },
    {
      "cell_type": "code",
      "metadata": {
        "id": "cni5PX1UxiJs",
        "colab_type": "code",
        "colab": {
          "base_uri": "https://localhost:8080/",
          "height": 119
        },
        "outputId": "61619b9e-06b6-4492-e874-9708c3974ae9"
      },
      "source": [
        "dataset[0]"
      ],
      "execution_count": null,
      "outputs": [
        {
          "output_type": "execute_result",
          "data": {
            "text/plain": [
              "tensor([5628,  145, 5646,    6,  309,  415,    6,  309,  408,    6,  309,  421,\n",
              "           7,  310,  379,  614,    6,  218,  415,    6,  218,  408,    6,  218,\n",
              "         421,    7,  218,  379,    7,  310,  361,  614,    6,  309,  421,    6,\n",
              "         309,  415,    6,  309,  408,    7,  218,  361,  566,    6,  218,  408,\n",
              "           6,  218,  421,    6,  218,  415,    6,  309,  415,    6,  309,  408,\n",
              "           6,  309,  424,  566])"
            ]
          },
          "metadata": {
            "tags": []
          },
          "execution_count": 17
        }
      ]
    },
    {
      "cell_type": "code",
      "metadata": {
        "id": "aatPxIKIxR33",
        "colab_type": "code",
        "colab": {}
      },
      "source": [
        "from transformers import DataCollatorForLanguageModeling\n",
        "\n",
        "data_collator = DataCollatorForLanguageModeling(\n",
        "    tokenizer=tokenizer, mlm=False, mlm_probability=0\n",
        ")"
      ],
      "execution_count": null,
      "outputs": []
    },
    {
      "cell_type": "code",
      "metadata": {
        "id": "ThkvIc6ABF5e",
        "colab_type": "code",
        "colab": {
          "base_uri": "https://localhost:8080/",
          "height": 816
        },
        "outputId": "28d0fa73-e0b6-40f0-f525-af9fcf2a3a89"
      },
      "source": [
        "print(model.config)"
      ],
      "execution_count": null,
      "outputs": [
        {
          "output_type": "stream",
          "text": [
            "TransfoXLConfig {\n",
            "  \"adaptive\": true,\n",
            "  \"attn_type\": 0,\n",
            "  \"clamp_len\": 1000,\n",
            "  \"cls_token\": \"[CLS]\",\n",
            "  \"cutoffs\": [\n",
            "    20000,\n",
            "    40000,\n",
            "    200000\n",
            "  ],\n",
            "  \"d_embed\": 1024,\n",
            "  \"d_head\": 64,\n",
            "  \"d_inner\": 4096,\n",
            "  \"d_model\": 1024,\n",
            "  \"div_val\": 4,\n",
            "  \"dropatt\": 0.0,\n",
            "  \"dropout\": 0.1,\n",
            "  \"eos_token_id\": 0,\n",
            "  \"ext_len\": 0,\n",
            "  \"init\": \"normal\",\n",
            "  \"init_range\": 0.01,\n",
            "  \"init_std\": 0.02,\n",
            "  \"layer_norm_epsilon\": 1e-05,\n",
            "  \"mem_len\": 1600,\n",
            "  \"model_type\": \"transfo-xl\",\n",
            "  \"n_head\": 12,\n",
            "  \"n_layer\": 6,\n",
            "  \"pad_token\": \"[PAD]\",\n",
            "  \"pre_lnorm\": false,\n",
            "  \"proj_init_std\": 0.01,\n",
            "  \"same_length\": true,\n",
            "  \"sample_softmax\": -1,\n",
            "  \"sep_token\": \"[SEP]\",\n",
            "  \"tgt_len\": 128,\n",
            "  \"tie_projs\": [\n",
            "    false,\n",
            "    true,\n",
            "    true,\n",
            "    true\n",
            "  ],\n",
            "  \"tie_weight\": true,\n",
            "  \"type_vocab_size\": 1,\n",
            "  \"unk_token\": \"[UNK]\",\n",
            "  \"untie_r\": true,\n",
            "  \"vocab_size\": 267735\n",
            "}\n",
            "\n"
          ],
          "name": "stdout"
        }
      ]
    },
    {
      "cell_type": "code",
      "metadata": {
        "id": "aXDZfgeMxUYS",
        "colab_type": "code",
        "colab": {
          "base_uri": "https://localhost:8080/",
          "height": 395
        },
        "outputId": "0cd178cc-6c81-4b9a-897c-9c7511046bd2"
      },
      "source": [
        "%%time\n",
        "from transformers import Trainer, TrainingArguments\n",
        "import torch\n",
        "\n",
        "with torch.no_grad():\n",
        "  training_args = TrainingArguments(\n",
        "      output_dir=\"./train\",\n",
        "      overwrite_output_dir=True,\n",
        "      num_train_epochs=1,\n",
        "      per_gpu_train_batch_size=8,\n",
        "      save_steps=10_000,\n",
        "      save_total_limit=2,\n",
        "  )\n",
        "\n",
        "  trainer = Trainer(\n",
        "      model=model,\n",
        "      args=training_args,\n",
        "      data_collator=data_collator,\n",
        "      train_dataset=dataset,\n",
        "      prediction_loss_only=True,\n",
        "  )"
      ],
      "execution_count": null,
      "outputs": [
        {
          "output_type": "error",
          "ename": "RuntimeError",
          "evalue": "ignored",
          "traceback": [
            "\u001b[0;31m---------------------------------------------------------------------------\u001b[0m",
            "\u001b[0;31mRuntimeError\u001b[0m                              Traceback (most recent call last)",
            "\u001b[0;32m<ipython-input-45-ef0737689a68>\u001b[0m in \u001b[0;36m<module>\u001b[0;34m()\u001b[0m\n\u001b[0;32m----> 1\u001b[0;31m \u001b[0mget_ipython\u001b[0m\u001b[0;34m(\u001b[0m\u001b[0;34m)\u001b[0m\u001b[0;34m.\u001b[0m\u001b[0mrun_cell_magic\u001b[0m\u001b[0;34m(\u001b[0m\u001b[0;34m'time'\u001b[0m\u001b[0;34m,\u001b[0m \u001b[0;34m''\u001b[0m\u001b[0;34m,\u001b[0m \u001b[0;34m'from transformers import Trainer, TrainingArguments\\nimport torch\\n\\nwith torch.no_grad():\\n  training_args = TrainingArguments(\\n      output_dir=\"./train\",\\n      overwrite_output_dir=True,\\n      num_train_epochs=1,\\n      per_gpu_train_batch_size=8,\\n      save_steps=10_000,\\n      save_total_limit=2,\\n  )\\n\\n  trainer = Trainer(\\n      model=model,\\n      args=training_args,\\n      data_collator=data_collator,\\n      train_dataset=dataset,\\n      prediction_loss_only=True,\\n  )'\u001b[0m\u001b[0;34m)\u001b[0m\u001b[0;34m\u001b[0m\u001b[0;34m\u001b[0m\u001b[0m\n\u001b[0m",
            "\u001b[0;32m/usr/local/lib/python3.6/dist-packages/IPython/core/interactiveshell.py\u001b[0m in \u001b[0;36mrun_cell_magic\u001b[0;34m(self, magic_name, line, cell)\u001b[0m\n\u001b[1;32m   2115\u001b[0m             \u001b[0mmagic_arg_s\u001b[0m \u001b[0;34m=\u001b[0m \u001b[0mself\u001b[0m\u001b[0;34m.\u001b[0m\u001b[0mvar_expand\u001b[0m\u001b[0;34m(\u001b[0m\u001b[0mline\u001b[0m\u001b[0;34m,\u001b[0m \u001b[0mstack_depth\u001b[0m\u001b[0;34m)\u001b[0m\u001b[0;34m\u001b[0m\u001b[0;34m\u001b[0m\u001b[0m\n\u001b[1;32m   2116\u001b[0m             \u001b[0;32mwith\u001b[0m \u001b[0mself\u001b[0m\u001b[0;34m.\u001b[0m\u001b[0mbuiltin_trap\u001b[0m\u001b[0;34m:\u001b[0m\u001b[0;34m\u001b[0m\u001b[0;34m\u001b[0m\u001b[0m\n\u001b[0;32m-> 2117\u001b[0;31m                 \u001b[0mresult\u001b[0m \u001b[0;34m=\u001b[0m \u001b[0mfn\u001b[0m\u001b[0;34m(\u001b[0m\u001b[0mmagic_arg_s\u001b[0m\u001b[0;34m,\u001b[0m \u001b[0mcell\u001b[0m\u001b[0;34m)\u001b[0m\u001b[0;34m\u001b[0m\u001b[0;34m\u001b[0m\u001b[0m\n\u001b[0m\u001b[1;32m   2118\u001b[0m             \u001b[0;32mreturn\u001b[0m \u001b[0mresult\u001b[0m\u001b[0;34m\u001b[0m\u001b[0;34m\u001b[0m\u001b[0m\n\u001b[1;32m   2119\u001b[0m \u001b[0;34m\u001b[0m\u001b[0m\n",
            "\u001b[0;32m<decorator-gen-60>\u001b[0m in \u001b[0;36mtime\u001b[0;34m(self, line, cell, local_ns)\u001b[0m\n",
            "\u001b[0;32m/usr/local/lib/python3.6/dist-packages/IPython/core/magic.py\u001b[0m in \u001b[0;36m<lambda>\u001b[0;34m(f, *a, **k)\u001b[0m\n\u001b[1;32m    186\u001b[0m     \u001b[0;31m# but it's overkill for just that one bit of state.\u001b[0m\u001b[0;34m\u001b[0m\u001b[0;34m\u001b[0m\u001b[0;34m\u001b[0m\u001b[0m\n\u001b[1;32m    187\u001b[0m     \u001b[0;32mdef\u001b[0m \u001b[0mmagic_deco\u001b[0m\u001b[0;34m(\u001b[0m\u001b[0marg\u001b[0m\u001b[0;34m)\u001b[0m\u001b[0;34m:\u001b[0m\u001b[0;34m\u001b[0m\u001b[0;34m\u001b[0m\u001b[0m\n\u001b[0;32m--> 188\u001b[0;31m         \u001b[0mcall\u001b[0m \u001b[0;34m=\u001b[0m \u001b[0;32mlambda\u001b[0m \u001b[0mf\u001b[0m\u001b[0;34m,\u001b[0m \u001b[0;34m*\u001b[0m\u001b[0ma\u001b[0m\u001b[0;34m,\u001b[0m \u001b[0;34m**\u001b[0m\u001b[0mk\u001b[0m\u001b[0;34m:\u001b[0m \u001b[0mf\u001b[0m\u001b[0;34m(\u001b[0m\u001b[0;34m*\u001b[0m\u001b[0ma\u001b[0m\u001b[0;34m,\u001b[0m \u001b[0;34m**\u001b[0m\u001b[0mk\u001b[0m\u001b[0;34m)\u001b[0m\u001b[0;34m\u001b[0m\u001b[0;34m\u001b[0m\u001b[0m\n\u001b[0m\u001b[1;32m    189\u001b[0m \u001b[0;34m\u001b[0m\u001b[0m\n\u001b[1;32m    190\u001b[0m         \u001b[0;32mif\u001b[0m \u001b[0mcallable\u001b[0m\u001b[0;34m(\u001b[0m\u001b[0marg\u001b[0m\u001b[0;34m)\u001b[0m\u001b[0;34m:\u001b[0m\u001b[0;34m\u001b[0m\u001b[0;34m\u001b[0m\u001b[0m\n",
            "\u001b[0;32m/usr/local/lib/python3.6/dist-packages/IPython/core/magics/execution.py\u001b[0m in \u001b[0;36mtime\u001b[0;34m(self, line, cell, local_ns)\u001b[0m\n\u001b[1;32m   1191\u001b[0m         \u001b[0;32melse\u001b[0m\u001b[0;34m:\u001b[0m\u001b[0;34m\u001b[0m\u001b[0;34m\u001b[0m\u001b[0m\n\u001b[1;32m   1192\u001b[0m             \u001b[0mst\u001b[0m \u001b[0;34m=\u001b[0m \u001b[0mclock2\u001b[0m\u001b[0;34m(\u001b[0m\u001b[0;34m)\u001b[0m\u001b[0;34m\u001b[0m\u001b[0;34m\u001b[0m\u001b[0m\n\u001b[0;32m-> 1193\u001b[0;31m             \u001b[0mexec\u001b[0m\u001b[0;34m(\u001b[0m\u001b[0mcode\u001b[0m\u001b[0;34m,\u001b[0m \u001b[0mglob\u001b[0m\u001b[0;34m,\u001b[0m \u001b[0mlocal_ns\u001b[0m\u001b[0;34m)\u001b[0m\u001b[0;34m\u001b[0m\u001b[0;34m\u001b[0m\u001b[0m\n\u001b[0m\u001b[1;32m   1194\u001b[0m             \u001b[0mend\u001b[0m \u001b[0;34m=\u001b[0m \u001b[0mclock2\u001b[0m\u001b[0;34m(\u001b[0m\u001b[0;34m)\u001b[0m\u001b[0;34m\u001b[0m\u001b[0;34m\u001b[0m\u001b[0m\n\u001b[1;32m   1195\u001b[0m             \u001b[0mout\u001b[0m \u001b[0;34m=\u001b[0m \u001b[0;32mNone\u001b[0m\u001b[0;34m\u001b[0m\u001b[0;34m\u001b[0m\u001b[0m\n",
            "\u001b[0;32m<timed exec>\u001b[0m in \u001b[0;36m<module>\u001b[0;34m()\u001b[0m\n",
            "\u001b[0;32m/usr/local/lib/python3.6/dist-packages/transformers/trainer.py\u001b[0m in \u001b[0;36m__init__\u001b[0;34m(self, model, args, data_collator, train_dataset, eval_dataset, compute_metrics, prediction_loss_only, tb_writer, optimizers)\u001b[0m\n\u001b[1;32m    189\u001b[0m                 \u001b[0;34m(\u001b[0m\u001b[0mOptional\u001b[0m\u001b[0;34m)\u001b[0m \u001b[0;32min\u001b[0m \u001b[0mevaluation\u001b[0m \u001b[0;32mand\u001b[0m \u001b[0mprediction\u001b[0m\u001b[0;34m,\u001b[0m \u001b[0monly\u001b[0m \u001b[0;32mreturn\u001b[0m \u001b[0mthe\u001b[0m \u001b[0mloss\u001b[0m\u001b[0;34m\u001b[0m\u001b[0;34m\u001b[0m\u001b[0m\n\u001b[1;32m    190\u001b[0m         \"\"\"\n\u001b[0;32m--> 191\u001b[0;31m         \u001b[0mself\u001b[0m\u001b[0;34m.\u001b[0m\u001b[0mmodel\u001b[0m \u001b[0;34m=\u001b[0m \u001b[0mmodel\u001b[0m\u001b[0;34m.\u001b[0m\u001b[0mto\u001b[0m\u001b[0;34m(\u001b[0m\u001b[0margs\u001b[0m\u001b[0;34m.\u001b[0m\u001b[0mdevice\u001b[0m\u001b[0;34m)\u001b[0m\u001b[0;34m\u001b[0m\u001b[0;34m\u001b[0m\u001b[0m\n\u001b[0m\u001b[1;32m    192\u001b[0m         \u001b[0mself\u001b[0m\u001b[0;34m.\u001b[0m\u001b[0margs\u001b[0m \u001b[0;34m=\u001b[0m \u001b[0margs\u001b[0m\u001b[0;34m\u001b[0m\u001b[0;34m\u001b[0m\u001b[0m\n\u001b[1;32m    193\u001b[0m         \u001b[0;32mif\u001b[0m \u001b[0mdata_collator\u001b[0m \u001b[0;32mis\u001b[0m \u001b[0;32mnot\u001b[0m \u001b[0;32mNone\u001b[0m\u001b[0;34m:\u001b[0m\u001b[0;34m\u001b[0m\u001b[0;34m\u001b[0m\u001b[0m\n",
            "\u001b[0;32m/usr/local/lib/python3.6/dist-packages/torch/nn/modules/module.py\u001b[0m in \u001b[0;36mto\u001b[0;34m(self, *args, **kwargs)\u001b[0m\n\u001b[1;32m    441\u001b[0m             \u001b[0;32mreturn\u001b[0m \u001b[0mt\u001b[0m\u001b[0;34m.\u001b[0m\u001b[0mto\u001b[0m\u001b[0;34m(\u001b[0m\u001b[0mdevice\u001b[0m\u001b[0;34m,\u001b[0m \u001b[0mdtype\u001b[0m \u001b[0;32mif\u001b[0m \u001b[0mt\u001b[0m\u001b[0;34m.\u001b[0m\u001b[0mis_floating_point\u001b[0m\u001b[0;34m(\u001b[0m\u001b[0;34m)\u001b[0m \u001b[0;32melse\u001b[0m \u001b[0;32mNone\u001b[0m\u001b[0;34m,\u001b[0m \u001b[0mnon_blocking\u001b[0m\u001b[0;34m)\u001b[0m\u001b[0;34m\u001b[0m\u001b[0;34m\u001b[0m\u001b[0m\n\u001b[1;32m    442\u001b[0m \u001b[0;34m\u001b[0m\u001b[0m\n\u001b[0;32m--> 443\u001b[0;31m         \u001b[0;32mreturn\u001b[0m \u001b[0mself\u001b[0m\u001b[0;34m.\u001b[0m\u001b[0m_apply\u001b[0m\u001b[0;34m(\u001b[0m\u001b[0mconvert\u001b[0m\u001b[0;34m)\u001b[0m\u001b[0;34m\u001b[0m\u001b[0;34m\u001b[0m\u001b[0m\n\u001b[0m\u001b[1;32m    444\u001b[0m \u001b[0;34m\u001b[0m\u001b[0m\n\u001b[1;32m    445\u001b[0m     \u001b[0;32mdef\u001b[0m \u001b[0mregister_backward_hook\u001b[0m\u001b[0;34m(\u001b[0m\u001b[0mself\u001b[0m\u001b[0;34m,\u001b[0m \u001b[0mhook\u001b[0m\u001b[0;34m)\u001b[0m\u001b[0;34m:\u001b[0m\u001b[0;34m\u001b[0m\u001b[0;34m\u001b[0m\u001b[0m\n",
            "\u001b[0;32m/usr/local/lib/python3.6/dist-packages/torch/nn/modules/module.py\u001b[0m in \u001b[0;36m_apply\u001b[0;34m(self, fn)\u001b[0m\n\u001b[1;32m    201\u001b[0m     \u001b[0;32mdef\u001b[0m \u001b[0m_apply\u001b[0m\u001b[0;34m(\u001b[0m\u001b[0mself\u001b[0m\u001b[0;34m,\u001b[0m \u001b[0mfn\u001b[0m\u001b[0;34m)\u001b[0m\u001b[0;34m:\u001b[0m\u001b[0;34m\u001b[0m\u001b[0;34m\u001b[0m\u001b[0m\n\u001b[1;32m    202\u001b[0m         \u001b[0;32mfor\u001b[0m \u001b[0mmodule\u001b[0m \u001b[0;32min\u001b[0m \u001b[0mself\u001b[0m\u001b[0;34m.\u001b[0m\u001b[0mchildren\u001b[0m\u001b[0;34m(\u001b[0m\u001b[0;34m)\u001b[0m\u001b[0;34m:\u001b[0m\u001b[0;34m\u001b[0m\u001b[0;34m\u001b[0m\u001b[0m\n\u001b[0;32m--> 203\u001b[0;31m             \u001b[0mmodule\u001b[0m\u001b[0;34m.\u001b[0m\u001b[0m_apply\u001b[0m\u001b[0;34m(\u001b[0m\u001b[0mfn\u001b[0m\u001b[0;34m)\u001b[0m\u001b[0;34m\u001b[0m\u001b[0;34m\u001b[0m\u001b[0m\n\u001b[0m\u001b[1;32m    204\u001b[0m \u001b[0;34m\u001b[0m\u001b[0m\n\u001b[1;32m    205\u001b[0m         \u001b[0;32mdef\u001b[0m \u001b[0mcompute_should_use_set_data\u001b[0m\u001b[0;34m(\u001b[0m\u001b[0mtensor\u001b[0m\u001b[0;34m,\u001b[0m \u001b[0mtensor_applied\u001b[0m\u001b[0;34m)\u001b[0m\u001b[0;34m:\u001b[0m\u001b[0;34m\u001b[0m\u001b[0;34m\u001b[0m\u001b[0m\n",
            "\u001b[0;32m/usr/local/lib/python3.6/dist-packages/torch/nn/modules/module.py\u001b[0m in \u001b[0;36m_apply\u001b[0;34m(self, fn)\u001b[0m\n\u001b[1;32m    201\u001b[0m     \u001b[0;32mdef\u001b[0m \u001b[0m_apply\u001b[0m\u001b[0;34m(\u001b[0m\u001b[0mself\u001b[0m\u001b[0;34m,\u001b[0m \u001b[0mfn\u001b[0m\u001b[0;34m)\u001b[0m\u001b[0;34m:\u001b[0m\u001b[0;34m\u001b[0m\u001b[0;34m\u001b[0m\u001b[0m\n\u001b[1;32m    202\u001b[0m         \u001b[0;32mfor\u001b[0m \u001b[0mmodule\u001b[0m \u001b[0;32min\u001b[0m \u001b[0mself\u001b[0m\u001b[0;34m.\u001b[0m\u001b[0mchildren\u001b[0m\u001b[0;34m(\u001b[0m\u001b[0;34m)\u001b[0m\u001b[0;34m:\u001b[0m\u001b[0;34m\u001b[0m\u001b[0;34m\u001b[0m\u001b[0m\n\u001b[0;32m--> 203\u001b[0;31m             \u001b[0mmodule\u001b[0m\u001b[0;34m.\u001b[0m\u001b[0m_apply\u001b[0m\u001b[0;34m(\u001b[0m\u001b[0mfn\u001b[0m\u001b[0;34m)\u001b[0m\u001b[0;34m\u001b[0m\u001b[0;34m\u001b[0m\u001b[0m\n\u001b[0m\u001b[1;32m    204\u001b[0m \u001b[0;34m\u001b[0m\u001b[0m\n\u001b[1;32m    205\u001b[0m         \u001b[0;32mdef\u001b[0m \u001b[0mcompute_should_use_set_data\u001b[0m\u001b[0;34m(\u001b[0m\u001b[0mtensor\u001b[0m\u001b[0;34m,\u001b[0m \u001b[0mtensor_applied\u001b[0m\u001b[0;34m)\u001b[0m\u001b[0;34m:\u001b[0m\u001b[0;34m\u001b[0m\u001b[0;34m\u001b[0m\u001b[0m\n",
            "\u001b[0;32m/usr/local/lib/python3.6/dist-packages/torch/nn/modules/module.py\u001b[0m in \u001b[0;36m_apply\u001b[0;34m(self, fn)\u001b[0m\n\u001b[1;32m    201\u001b[0m     \u001b[0;32mdef\u001b[0m \u001b[0m_apply\u001b[0m\u001b[0;34m(\u001b[0m\u001b[0mself\u001b[0m\u001b[0;34m,\u001b[0m \u001b[0mfn\u001b[0m\u001b[0;34m)\u001b[0m\u001b[0;34m:\u001b[0m\u001b[0;34m\u001b[0m\u001b[0;34m\u001b[0m\u001b[0m\n\u001b[1;32m    202\u001b[0m         \u001b[0;32mfor\u001b[0m \u001b[0mmodule\u001b[0m \u001b[0;32min\u001b[0m \u001b[0mself\u001b[0m\u001b[0;34m.\u001b[0m\u001b[0mchildren\u001b[0m\u001b[0;34m(\u001b[0m\u001b[0;34m)\u001b[0m\u001b[0;34m:\u001b[0m\u001b[0;34m\u001b[0m\u001b[0;34m\u001b[0m\u001b[0m\n\u001b[0;32m--> 203\u001b[0;31m             \u001b[0mmodule\u001b[0m\u001b[0;34m.\u001b[0m\u001b[0m_apply\u001b[0m\u001b[0;34m(\u001b[0m\u001b[0mfn\u001b[0m\u001b[0;34m)\u001b[0m\u001b[0;34m\u001b[0m\u001b[0;34m\u001b[0m\u001b[0m\n\u001b[0m\u001b[1;32m    204\u001b[0m \u001b[0;34m\u001b[0m\u001b[0m\n\u001b[1;32m    205\u001b[0m         \u001b[0;32mdef\u001b[0m \u001b[0mcompute_should_use_set_data\u001b[0m\u001b[0;34m(\u001b[0m\u001b[0mtensor\u001b[0m\u001b[0;34m,\u001b[0m \u001b[0mtensor_applied\u001b[0m\u001b[0;34m)\u001b[0m\u001b[0;34m:\u001b[0m\u001b[0;34m\u001b[0m\u001b[0;34m\u001b[0m\u001b[0m\n",
            "\u001b[0;32m/usr/local/lib/python3.6/dist-packages/torch/nn/modules/module.py\u001b[0m in \u001b[0;36m_apply\u001b[0;34m(self, fn)\u001b[0m\n\u001b[1;32m    201\u001b[0m     \u001b[0;32mdef\u001b[0m \u001b[0m_apply\u001b[0m\u001b[0;34m(\u001b[0m\u001b[0mself\u001b[0m\u001b[0;34m,\u001b[0m \u001b[0mfn\u001b[0m\u001b[0;34m)\u001b[0m\u001b[0;34m:\u001b[0m\u001b[0;34m\u001b[0m\u001b[0;34m\u001b[0m\u001b[0m\n\u001b[1;32m    202\u001b[0m         \u001b[0;32mfor\u001b[0m \u001b[0mmodule\u001b[0m \u001b[0;32min\u001b[0m \u001b[0mself\u001b[0m\u001b[0;34m.\u001b[0m\u001b[0mchildren\u001b[0m\u001b[0;34m(\u001b[0m\u001b[0;34m)\u001b[0m\u001b[0;34m:\u001b[0m\u001b[0;34m\u001b[0m\u001b[0;34m\u001b[0m\u001b[0m\n\u001b[0;32m--> 203\u001b[0;31m             \u001b[0mmodule\u001b[0m\u001b[0;34m.\u001b[0m\u001b[0m_apply\u001b[0m\u001b[0;34m(\u001b[0m\u001b[0mfn\u001b[0m\u001b[0;34m)\u001b[0m\u001b[0;34m\u001b[0m\u001b[0;34m\u001b[0m\u001b[0m\n\u001b[0m\u001b[1;32m    204\u001b[0m \u001b[0;34m\u001b[0m\u001b[0m\n\u001b[1;32m    205\u001b[0m         \u001b[0;32mdef\u001b[0m \u001b[0mcompute_should_use_set_data\u001b[0m\u001b[0;34m(\u001b[0m\u001b[0mtensor\u001b[0m\u001b[0;34m,\u001b[0m \u001b[0mtensor_applied\u001b[0m\u001b[0;34m)\u001b[0m\u001b[0;34m:\u001b[0m\u001b[0;34m\u001b[0m\u001b[0;34m\u001b[0m\u001b[0m\n",
            "\u001b[0;32m/usr/local/lib/python3.6/dist-packages/torch/nn/modules/module.py\u001b[0m in \u001b[0;36m_apply\u001b[0;34m(self, fn)\u001b[0m\n\u001b[1;32m    223\u001b[0m                 \u001b[0;31m# `with torch.no_grad():`\u001b[0m\u001b[0;34m\u001b[0m\u001b[0;34m\u001b[0m\u001b[0;34m\u001b[0m\u001b[0m\n\u001b[1;32m    224\u001b[0m                 \u001b[0;32mwith\u001b[0m \u001b[0mtorch\u001b[0m\u001b[0;34m.\u001b[0m\u001b[0mno_grad\u001b[0m\u001b[0;34m(\u001b[0m\u001b[0;34m)\u001b[0m\u001b[0;34m:\u001b[0m\u001b[0;34m\u001b[0m\u001b[0;34m\u001b[0m\u001b[0m\n\u001b[0;32m--> 225\u001b[0;31m                     \u001b[0mparam_applied\u001b[0m \u001b[0;34m=\u001b[0m \u001b[0mfn\u001b[0m\u001b[0;34m(\u001b[0m\u001b[0mparam\u001b[0m\u001b[0;34m)\u001b[0m\u001b[0;34m\u001b[0m\u001b[0;34m\u001b[0m\u001b[0m\n\u001b[0m\u001b[1;32m    226\u001b[0m                 \u001b[0mshould_use_set_data\u001b[0m \u001b[0;34m=\u001b[0m \u001b[0mcompute_should_use_set_data\u001b[0m\u001b[0;34m(\u001b[0m\u001b[0mparam\u001b[0m\u001b[0;34m,\u001b[0m \u001b[0mparam_applied\u001b[0m\u001b[0;34m)\u001b[0m\u001b[0;34m\u001b[0m\u001b[0;34m\u001b[0m\u001b[0m\n\u001b[1;32m    227\u001b[0m                 \u001b[0;32mif\u001b[0m \u001b[0mshould_use_set_data\u001b[0m\u001b[0;34m:\u001b[0m\u001b[0;34m\u001b[0m\u001b[0;34m\u001b[0m\u001b[0m\n",
            "\u001b[0;32m/usr/local/lib/python3.6/dist-packages/torch/nn/modules/module.py\u001b[0m in \u001b[0;36mconvert\u001b[0;34m(t)\u001b[0m\n\u001b[1;32m    439\u001b[0m             \u001b[0;32mif\u001b[0m \u001b[0mconvert_to_format\u001b[0m \u001b[0;32mis\u001b[0m \u001b[0;32mnot\u001b[0m \u001b[0;32mNone\u001b[0m \u001b[0;32mand\u001b[0m \u001b[0mt\u001b[0m\u001b[0;34m.\u001b[0m\u001b[0mdim\u001b[0m\u001b[0;34m(\u001b[0m\u001b[0;34m)\u001b[0m \u001b[0;34m==\u001b[0m \u001b[0;36m4\u001b[0m\u001b[0;34m:\u001b[0m\u001b[0;34m\u001b[0m\u001b[0;34m\u001b[0m\u001b[0m\n\u001b[1;32m    440\u001b[0m                 \u001b[0;32mreturn\u001b[0m \u001b[0mt\u001b[0m\u001b[0;34m.\u001b[0m\u001b[0mto\u001b[0m\u001b[0;34m(\u001b[0m\u001b[0mdevice\u001b[0m\u001b[0;34m,\u001b[0m \u001b[0mdtype\u001b[0m \u001b[0;32mif\u001b[0m \u001b[0mt\u001b[0m\u001b[0;34m.\u001b[0m\u001b[0mis_floating_point\u001b[0m\u001b[0;34m(\u001b[0m\u001b[0;34m)\u001b[0m \u001b[0;32melse\u001b[0m \u001b[0;32mNone\u001b[0m\u001b[0;34m,\u001b[0m \u001b[0mnon_blocking\u001b[0m\u001b[0;34m,\u001b[0m \u001b[0mmemory_format\u001b[0m\u001b[0;34m=\u001b[0m\u001b[0mconvert_to_format\u001b[0m\u001b[0;34m)\u001b[0m\u001b[0;34m\u001b[0m\u001b[0;34m\u001b[0m\u001b[0m\n\u001b[0;32m--> 441\u001b[0;31m             \u001b[0;32mreturn\u001b[0m \u001b[0mt\u001b[0m\u001b[0;34m.\u001b[0m\u001b[0mto\u001b[0m\u001b[0;34m(\u001b[0m\u001b[0mdevice\u001b[0m\u001b[0;34m,\u001b[0m \u001b[0mdtype\u001b[0m \u001b[0;32mif\u001b[0m \u001b[0mt\u001b[0m\u001b[0;34m.\u001b[0m\u001b[0mis_floating_point\u001b[0m\u001b[0;34m(\u001b[0m\u001b[0;34m)\u001b[0m \u001b[0;32melse\u001b[0m \u001b[0;32mNone\u001b[0m\u001b[0;34m,\u001b[0m \u001b[0mnon_blocking\u001b[0m\u001b[0;34m)\u001b[0m\u001b[0;34m\u001b[0m\u001b[0;34m\u001b[0m\u001b[0m\n\u001b[0m\u001b[1;32m    442\u001b[0m \u001b[0;34m\u001b[0m\u001b[0m\n\u001b[1;32m    443\u001b[0m         \u001b[0;32mreturn\u001b[0m \u001b[0mself\u001b[0m\u001b[0;34m.\u001b[0m\u001b[0m_apply\u001b[0m\u001b[0;34m(\u001b[0m\u001b[0mconvert\u001b[0m\u001b[0;34m)\u001b[0m\u001b[0;34m\u001b[0m\u001b[0;34m\u001b[0m\u001b[0m\n",
            "\u001b[0;31mRuntimeError\u001b[0m: CUDA out of memory. Tried to allocate 80.00 MiB (GPU 0; 11.17 GiB total capacity; 10.74 GiB already allocated; 31.81 MiB free; 10.77 GiB reserved in total by PyTorch)"
          ]
        }
      ]
    },
    {
      "cell_type": "code",
      "metadata": {
        "id": "OL1Yv9YI9hTc",
        "colab_type": "code",
        "colab": {}
      },
      "source": [
        "import torch\n",
        "torch.cuda.empty_cache()\n"
      ],
      "execution_count": null,
      "outputs": []
    },
    {
      "cell_type": "code",
      "metadata": {
        "id": "6Vahv9RgxXDl",
        "colab_type": "code",
        "colab": {
          "base_uri": "https://localhost:8080/",
          "height": 493,
          "referenced_widgets": [
            "f775823170454c609d586fa58a1fda01",
            "fa14e6d3b8c14104b24d6af52ae98386",
            "d648982c3aee4bb38f6d0da7ae04f326",
            "a4f50e4126c049cca70c19a0616c17f4",
            "802ef86e566c4812b436ef531b41ca99",
            "bd39393ad1164f47be2aadbaa2ac5f20",
            "445d5250d7c140e0a5ccc5d259c2b9b7",
            "1a9e9fc7e5994f799762d7cdc0cfa0bf",
            "eb79271e67a24c408a93c555dfca2c69",
            "7bcff243aefc4d78830992a73602e7d7",
            "103b8470b9e84770aac5bcff29ea9df1",
            "7b5d1055f0904c9ea6c28d6091561dec",
            "47c7d79875644471b95cf80e49f4d325",
            "f524f0ecffae45768e5bd983b5624fe5",
            "d964bfbf0888440781779d98ad024939",
            "a88c77e7dfe94091942eae24f2610529"
          ]
        },
        "outputId": "864990b6-aa1b-4c24-b613-55f32f1a63bf"
      },
      "source": [
        "%%time\n",
        "trainer.train()"
      ],
      "execution_count": null,
      "outputs": [
        {
          "output_type": "stream",
          "text": [
            "Using deprecated `--per_gpu_train_batch_size` argument which will be removed in a future version. Using `--per_device_train_batch_size` is preferred.\n",
            "Using deprecated `--per_gpu_train_batch_size` argument which will be removed in a future version. Using `--per_device_train_batch_size` is preferred.\n"
          ],
          "name": "stderr"
        },
        {
          "output_type": "display_data",
          "data": {
            "application/vnd.jupyter.widget-view+json": {
              "model_id": "f775823170454c609d586fa58a1fda01",
              "version_minor": 0,
              "version_major": 2
            },
            "text/plain": [
              "HBox(children=(FloatProgress(value=0.0, description='Epoch', max=5.0, style=ProgressStyle(description_width='i…"
            ]
          },
          "metadata": {
            "tags": []
          }
        },
        {
          "output_type": "display_data",
          "data": {
            "application/vnd.jupyter.widget-view+json": {
              "model_id": "eb79271e67a24c408a93c555dfca2c69",
              "version_minor": 0,
              "version_major": 2
            },
            "text/plain": [
              "HBox(children=(FloatProgress(value=0.0, description='Iteration', max=6.0, style=ProgressStyle(description_widt…"
            ]
          },
          "metadata": {
            "tags": []
          }
        },
        {
          "output_type": "error",
          "ename": "RuntimeError",
          "evalue": "ignored",
          "traceback": [
            "\u001b[0;31m---------------------------------------------------------------------------\u001b[0m",
            "\u001b[0;31mRuntimeError\u001b[0m                              Traceback (most recent call last)",
            "\u001b[0;32m<ipython-input-27-0c647bc3a8b8>\u001b[0m in \u001b[0;36m<module>\u001b[0;34m()\u001b[0m\n\u001b[0;32m----> 1\u001b[0;31m \u001b[0mget_ipython\u001b[0m\u001b[0;34m(\u001b[0m\u001b[0;34m)\u001b[0m\u001b[0;34m.\u001b[0m\u001b[0mrun_cell_magic\u001b[0m\u001b[0;34m(\u001b[0m\u001b[0;34m'time'\u001b[0m\u001b[0;34m,\u001b[0m \u001b[0;34m''\u001b[0m\u001b[0;34m,\u001b[0m \u001b[0;34m'trainer.train()'\u001b[0m\u001b[0;34m)\u001b[0m\u001b[0;34m\u001b[0m\u001b[0;34m\u001b[0m\u001b[0m\n\u001b[0m",
            "\u001b[0;32m/usr/local/lib/python3.6/dist-packages/IPython/core/interactiveshell.py\u001b[0m in \u001b[0;36mrun_cell_magic\u001b[0;34m(self, magic_name, line, cell)\u001b[0m\n\u001b[1;32m   2115\u001b[0m             \u001b[0mmagic_arg_s\u001b[0m \u001b[0;34m=\u001b[0m \u001b[0mself\u001b[0m\u001b[0;34m.\u001b[0m\u001b[0mvar_expand\u001b[0m\u001b[0;34m(\u001b[0m\u001b[0mline\u001b[0m\u001b[0;34m,\u001b[0m \u001b[0mstack_depth\u001b[0m\u001b[0;34m)\u001b[0m\u001b[0;34m\u001b[0m\u001b[0;34m\u001b[0m\u001b[0m\n\u001b[1;32m   2116\u001b[0m             \u001b[0;32mwith\u001b[0m \u001b[0mself\u001b[0m\u001b[0;34m.\u001b[0m\u001b[0mbuiltin_trap\u001b[0m\u001b[0;34m:\u001b[0m\u001b[0;34m\u001b[0m\u001b[0;34m\u001b[0m\u001b[0m\n\u001b[0;32m-> 2117\u001b[0;31m                 \u001b[0mresult\u001b[0m \u001b[0;34m=\u001b[0m \u001b[0mfn\u001b[0m\u001b[0;34m(\u001b[0m\u001b[0mmagic_arg_s\u001b[0m\u001b[0;34m,\u001b[0m \u001b[0mcell\u001b[0m\u001b[0;34m)\u001b[0m\u001b[0;34m\u001b[0m\u001b[0;34m\u001b[0m\u001b[0m\n\u001b[0m\u001b[1;32m   2118\u001b[0m             \u001b[0;32mreturn\u001b[0m \u001b[0mresult\u001b[0m\u001b[0;34m\u001b[0m\u001b[0;34m\u001b[0m\u001b[0m\n\u001b[1;32m   2119\u001b[0m \u001b[0;34m\u001b[0m\u001b[0m\n",
            "\u001b[0;32m<decorator-gen-60>\u001b[0m in \u001b[0;36mtime\u001b[0;34m(self, line, cell, local_ns)\u001b[0m\n",
            "\u001b[0;32m/usr/local/lib/python3.6/dist-packages/IPython/core/magic.py\u001b[0m in \u001b[0;36m<lambda>\u001b[0;34m(f, *a, **k)\u001b[0m\n\u001b[1;32m    186\u001b[0m     \u001b[0;31m# but it's overkill for just that one bit of state.\u001b[0m\u001b[0;34m\u001b[0m\u001b[0;34m\u001b[0m\u001b[0;34m\u001b[0m\u001b[0m\n\u001b[1;32m    187\u001b[0m     \u001b[0;32mdef\u001b[0m \u001b[0mmagic_deco\u001b[0m\u001b[0;34m(\u001b[0m\u001b[0marg\u001b[0m\u001b[0;34m)\u001b[0m\u001b[0;34m:\u001b[0m\u001b[0;34m\u001b[0m\u001b[0;34m\u001b[0m\u001b[0m\n\u001b[0;32m--> 188\u001b[0;31m         \u001b[0mcall\u001b[0m \u001b[0;34m=\u001b[0m \u001b[0;32mlambda\u001b[0m \u001b[0mf\u001b[0m\u001b[0;34m,\u001b[0m \u001b[0;34m*\u001b[0m\u001b[0ma\u001b[0m\u001b[0;34m,\u001b[0m \u001b[0;34m**\u001b[0m\u001b[0mk\u001b[0m\u001b[0;34m:\u001b[0m \u001b[0mf\u001b[0m\u001b[0;34m(\u001b[0m\u001b[0;34m*\u001b[0m\u001b[0ma\u001b[0m\u001b[0;34m,\u001b[0m \u001b[0;34m**\u001b[0m\u001b[0mk\u001b[0m\u001b[0;34m)\u001b[0m\u001b[0;34m\u001b[0m\u001b[0;34m\u001b[0m\u001b[0m\n\u001b[0m\u001b[1;32m    189\u001b[0m \u001b[0;34m\u001b[0m\u001b[0m\n\u001b[1;32m    190\u001b[0m         \u001b[0;32mif\u001b[0m \u001b[0mcallable\u001b[0m\u001b[0;34m(\u001b[0m\u001b[0marg\u001b[0m\u001b[0;34m)\u001b[0m\u001b[0;34m:\u001b[0m\u001b[0;34m\u001b[0m\u001b[0;34m\u001b[0m\u001b[0m\n",
            "\u001b[0;32m/usr/local/lib/python3.6/dist-packages/IPython/core/magics/execution.py\u001b[0m in \u001b[0;36mtime\u001b[0;34m(self, line, cell, local_ns)\u001b[0m\n\u001b[1;32m   1187\u001b[0m         \u001b[0;32mif\u001b[0m \u001b[0mmode\u001b[0m\u001b[0;34m==\u001b[0m\u001b[0;34m'eval'\u001b[0m\u001b[0;34m:\u001b[0m\u001b[0;34m\u001b[0m\u001b[0;34m\u001b[0m\u001b[0m\n\u001b[1;32m   1188\u001b[0m             \u001b[0mst\u001b[0m \u001b[0;34m=\u001b[0m \u001b[0mclock2\u001b[0m\u001b[0;34m(\u001b[0m\u001b[0;34m)\u001b[0m\u001b[0;34m\u001b[0m\u001b[0;34m\u001b[0m\u001b[0m\n\u001b[0;32m-> 1189\u001b[0;31m             \u001b[0mout\u001b[0m \u001b[0;34m=\u001b[0m \u001b[0meval\u001b[0m\u001b[0;34m(\u001b[0m\u001b[0mcode\u001b[0m\u001b[0;34m,\u001b[0m \u001b[0mglob\u001b[0m\u001b[0;34m,\u001b[0m \u001b[0mlocal_ns\u001b[0m\u001b[0;34m)\u001b[0m\u001b[0;34m\u001b[0m\u001b[0;34m\u001b[0m\u001b[0m\n\u001b[0m\u001b[1;32m   1190\u001b[0m             \u001b[0mend\u001b[0m \u001b[0;34m=\u001b[0m \u001b[0mclock2\u001b[0m\u001b[0;34m(\u001b[0m\u001b[0;34m)\u001b[0m\u001b[0;34m\u001b[0m\u001b[0;34m\u001b[0m\u001b[0m\n\u001b[1;32m   1191\u001b[0m         \u001b[0;32melse\u001b[0m\u001b[0;34m:\u001b[0m\u001b[0;34m\u001b[0m\u001b[0;34m\u001b[0m\u001b[0m\n",
            "\u001b[0;32m<timed eval>\u001b[0m in \u001b[0;36m<module>\u001b[0;34m()\u001b[0m\n",
            "\u001b[0;32m/usr/local/lib/python3.6/dist-packages/transformers/trainer.py\u001b[0m in \u001b[0;36mtrain\u001b[0;34m(self, model_path)\u001b[0m\n\u001b[1;32m    469\u001b[0m                     \u001b[0;32mcontinue\u001b[0m\u001b[0;34m\u001b[0m\u001b[0;34m\u001b[0m\u001b[0m\n\u001b[1;32m    470\u001b[0m \u001b[0;34m\u001b[0m\u001b[0m\n\u001b[0;32m--> 471\u001b[0;31m                 \u001b[0mtr_loss\u001b[0m \u001b[0;34m+=\u001b[0m \u001b[0mself\u001b[0m\u001b[0;34m.\u001b[0m\u001b[0m_training_step\u001b[0m\u001b[0;34m(\u001b[0m\u001b[0mmodel\u001b[0m\u001b[0;34m,\u001b[0m \u001b[0minputs\u001b[0m\u001b[0;34m,\u001b[0m \u001b[0moptimizer\u001b[0m\u001b[0;34m)\u001b[0m\u001b[0;34m\u001b[0m\u001b[0;34m\u001b[0m\u001b[0m\n\u001b[0m\u001b[1;32m    472\u001b[0m \u001b[0;34m\u001b[0m\u001b[0m\n\u001b[1;32m    473\u001b[0m                 if (step + 1) % self.args.gradient_accumulation_steps == 0 or (\n",
            "\u001b[0;32m/usr/local/lib/python3.6/dist-packages/transformers/trainer.py\u001b[0m in \u001b[0;36m_training_step\u001b[0;34m(self, model, inputs, optimizer)\u001b[0m\n\u001b[1;32m    569\u001b[0m             \u001b[0minputs\u001b[0m\u001b[0;34m[\u001b[0m\u001b[0mk\u001b[0m\u001b[0;34m]\u001b[0m \u001b[0;34m=\u001b[0m \u001b[0mv\u001b[0m\u001b[0;34m.\u001b[0m\u001b[0mto\u001b[0m\u001b[0;34m(\u001b[0m\u001b[0mself\u001b[0m\u001b[0;34m.\u001b[0m\u001b[0margs\u001b[0m\u001b[0;34m.\u001b[0m\u001b[0mdevice\u001b[0m\u001b[0;34m)\u001b[0m\u001b[0;34m\u001b[0m\u001b[0;34m\u001b[0m\u001b[0m\n\u001b[1;32m    570\u001b[0m \u001b[0;34m\u001b[0m\u001b[0m\n\u001b[0;32m--> 571\u001b[0;31m         \u001b[0moutputs\u001b[0m \u001b[0;34m=\u001b[0m \u001b[0mmodel\u001b[0m\u001b[0;34m(\u001b[0m\u001b[0;34m**\u001b[0m\u001b[0minputs\u001b[0m\u001b[0;34m)\u001b[0m\u001b[0;34m\u001b[0m\u001b[0;34m\u001b[0m\u001b[0m\n\u001b[0m\u001b[1;32m    572\u001b[0m         \u001b[0mloss\u001b[0m \u001b[0;34m=\u001b[0m \u001b[0moutputs\u001b[0m\u001b[0;34m[\u001b[0m\u001b[0;36m0\u001b[0m\u001b[0;34m]\u001b[0m  \u001b[0;31m# model outputs are always tuple in transformers (see doc)\u001b[0m\u001b[0;34m\u001b[0m\u001b[0;34m\u001b[0m\u001b[0m\n\u001b[1;32m    573\u001b[0m \u001b[0;34m\u001b[0m\u001b[0m\n",
            "\u001b[0;32m/usr/local/lib/python3.6/dist-packages/torch/nn/modules/module.py\u001b[0m in \u001b[0;36m__call__\u001b[0;34m(self, *input, **kwargs)\u001b[0m\n\u001b[1;32m    548\u001b[0m             \u001b[0mresult\u001b[0m \u001b[0;34m=\u001b[0m \u001b[0mself\u001b[0m\u001b[0;34m.\u001b[0m\u001b[0m_slow_forward\u001b[0m\u001b[0;34m(\u001b[0m\u001b[0;34m*\u001b[0m\u001b[0minput\u001b[0m\u001b[0;34m,\u001b[0m \u001b[0;34m**\u001b[0m\u001b[0mkwargs\u001b[0m\u001b[0;34m)\u001b[0m\u001b[0;34m\u001b[0m\u001b[0;34m\u001b[0m\u001b[0m\n\u001b[1;32m    549\u001b[0m         \u001b[0;32melse\u001b[0m\u001b[0;34m:\u001b[0m\u001b[0;34m\u001b[0m\u001b[0;34m\u001b[0m\u001b[0m\n\u001b[0;32m--> 550\u001b[0;31m             \u001b[0mresult\u001b[0m \u001b[0;34m=\u001b[0m \u001b[0mself\u001b[0m\u001b[0;34m.\u001b[0m\u001b[0mforward\u001b[0m\u001b[0;34m(\u001b[0m\u001b[0;34m*\u001b[0m\u001b[0minput\u001b[0m\u001b[0;34m,\u001b[0m \u001b[0;34m**\u001b[0m\u001b[0mkwargs\u001b[0m\u001b[0;34m)\u001b[0m\u001b[0;34m\u001b[0m\u001b[0;34m\u001b[0m\u001b[0m\n\u001b[0m\u001b[1;32m    551\u001b[0m         \u001b[0;32mfor\u001b[0m \u001b[0mhook\u001b[0m \u001b[0;32min\u001b[0m \u001b[0mself\u001b[0m\u001b[0;34m.\u001b[0m\u001b[0m_forward_hooks\u001b[0m\u001b[0;34m.\u001b[0m\u001b[0mvalues\u001b[0m\u001b[0;34m(\u001b[0m\u001b[0;34m)\u001b[0m\u001b[0;34m:\u001b[0m\u001b[0;34m\u001b[0m\u001b[0;34m\u001b[0m\u001b[0m\n\u001b[1;32m    552\u001b[0m             \u001b[0mhook_result\u001b[0m \u001b[0;34m=\u001b[0m \u001b[0mhook\u001b[0m\u001b[0;34m(\u001b[0m\u001b[0mself\u001b[0m\u001b[0;34m,\u001b[0m \u001b[0minput\u001b[0m\u001b[0;34m,\u001b[0m \u001b[0mresult\u001b[0m\u001b[0;34m)\u001b[0m\u001b[0;34m\u001b[0m\u001b[0;34m\u001b[0m\u001b[0m\n",
            "\u001b[0;32m/usr/local/lib/python3.6/dist-packages/transformers/modeling_transfo_xl.py\u001b[0m in \u001b[0;36mforward\u001b[0;34m(self, input_ids, mems, head_mask, inputs_embeds, labels)\u001b[0m\n\u001b[1;32m    899\u001b[0m             \u001b[0;32mraise\u001b[0m \u001b[0mValueError\u001b[0m\u001b[0;34m(\u001b[0m\u001b[0;34m\"You have to specify either input_ids or inputs_embeds\"\u001b[0m\u001b[0;34m)\u001b[0m\u001b[0;34m\u001b[0m\u001b[0;34m\u001b[0m\u001b[0m\n\u001b[1;32m    900\u001b[0m \u001b[0;34m\u001b[0m\u001b[0m\n\u001b[0;32m--> 901\u001b[0;31m         \u001b[0mtransformer_outputs\u001b[0m \u001b[0;34m=\u001b[0m \u001b[0mself\u001b[0m\u001b[0;34m.\u001b[0m\u001b[0mtransformer\u001b[0m\u001b[0;34m(\u001b[0m\u001b[0minput_ids\u001b[0m\u001b[0;34m,\u001b[0m \u001b[0mmems\u001b[0m\u001b[0;34m=\u001b[0m\u001b[0mmems\u001b[0m\u001b[0;34m,\u001b[0m \u001b[0mhead_mask\u001b[0m\u001b[0;34m=\u001b[0m\u001b[0mhead_mask\u001b[0m\u001b[0;34m,\u001b[0m \u001b[0minputs_embeds\u001b[0m\u001b[0;34m=\u001b[0m\u001b[0minputs_embeds\u001b[0m\u001b[0;34m)\u001b[0m\u001b[0;34m\u001b[0m\u001b[0;34m\u001b[0m\u001b[0m\n\u001b[0m\u001b[1;32m    902\u001b[0m \u001b[0;34m\u001b[0m\u001b[0m\n\u001b[1;32m    903\u001b[0m         \u001b[0mlast_hidden\u001b[0m \u001b[0;34m=\u001b[0m \u001b[0mtransformer_outputs\u001b[0m\u001b[0;34m[\u001b[0m\u001b[0;36m0\u001b[0m\u001b[0;34m]\u001b[0m\u001b[0;34m\u001b[0m\u001b[0;34m\u001b[0m\u001b[0m\n",
            "\u001b[0;32m/usr/local/lib/python3.6/dist-packages/torch/nn/modules/module.py\u001b[0m in \u001b[0;36m__call__\u001b[0;34m(self, *input, **kwargs)\u001b[0m\n\u001b[1;32m    548\u001b[0m             \u001b[0mresult\u001b[0m \u001b[0;34m=\u001b[0m \u001b[0mself\u001b[0m\u001b[0;34m.\u001b[0m\u001b[0m_slow_forward\u001b[0m\u001b[0;34m(\u001b[0m\u001b[0;34m*\u001b[0m\u001b[0minput\u001b[0m\u001b[0;34m,\u001b[0m \u001b[0;34m**\u001b[0m\u001b[0mkwargs\u001b[0m\u001b[0;34m)\u001b[0m\u001b[0;34m\u001b[0m\u001b[0;34m\u001b[0m\u001b[0m\n\u001b[1;32m    549\u001b[0m         \u001b[0;32melse\u001b[0m\u001b[0;34m:\u001b[0m\u001b[0;34m\u001b[0m\u001b[0;34m\u001b[0m\u001b[0m\n\u001b[0;32m--> 550\u001b[0;31m             \u001b[0mresult\u001b[0m \u001b[0;34m=\u001b[0m \u001b[0mself\u001b[0m\u001b[0;34m.\u001b[0m\u001b[0mforward\u001b[0m\u001b[0;34m(\u001b[0m\u001b[0;34m*\u001b[0m\u001b[0minput\u001b[0m\u001b[0;34m,\u001b[0m \u001b[0;34m**\u001b[0m\u001b[0mkwargs\u001b[0m\u001b[0;34m)\u001b[0m\u001b[0;34m\u001b[0m\u001b[0;34m\u001b[0m\u001b[0m\n\u001b[0m\u001b[1;32m    551\u001b[0m         \u001b[0;32mfor\u001b[0m \u001b[0mhook\u001b[0m \u001b[0;32min\u001b[0m \u001b[0mself\u001b[0m\u001b[0;34m.\u001b[0m\u001b[0m_forward_hooks\u001b[0m\u001b[0;34m.\u001b[0m\u001b[0mvalues\u001b[0m\u001b[0;34m(\u001b[0m\u001b[0;34m)\u001b[0m\u001b[0;34m:\u001b[0m\u001b[0;34m\u001b[0m\u001b[0;34m\u001b[0m\u001b[0m\n\u001b[1;32m    552\u001b[0m             \u001b[0mhook_result\u001b[0m \u001b[0;34m=\u001b[0m \u001b[0mhook\u001b[0m\u001b[0;34m(\u001b[0m\u001b[0mself\u001b[0m\u001b[0;34m,\u001b[0m \u001b[0minput\u001b[0m\u001b[0;34m,\u001b[0m \u001b[0mresult\u001b[0m\u001b[0;34m)\u001b[0m\u001b[0;34m\u001b[0m\u001b[0;34m\u001b[0m\u001b[0m\n",
            "\u001b[0;32m/usr/local/lib/python3.6/dist-packages/transformers/modeling_transfo_xl.py\u001b[0m in \u001b[0;36mforward\u001b[0;34m(self, input_ids, mems, head_mask, inputs_embeds)\u001b[0m\n\u001b[1;32m    719\u001b[0m \u001b[0;34m\u001b[0m\u001b[0m\n\u001b[1;32m    720\u001b[0m         \u001b[0;32mif\u001b[0m \u001b[0mmems\u001b[0m \u001b[0;32mis\u001b[0m \u001b[0;32mNone\u001b[0m\u001b[0;34m:\u001b[0m\u001b[0;34m\u001b[0m\u001b[0;34m\u001b[0m\u001b[0m\n\u001b[0;32m--> 721\u001b[0;31m             \u001b[0mmems\u001b[0m \u001b[0;34m=\u001b[0m \u001b[0mself\u001b[0m\u001b[0;34m.\u001b[0m\u001b[0minit_mems\u001b[0m\u001b[0;34m(\u001b[0m\u001b[0mbsz\u001b[0m\u001b[0;34m)\u001b[0m\u001b[0;34m\u001b[0m\u001b[0;34m\u001b[0m\u001b[0m\n\u001b[0m\u001b[1;32m    722\u001b[0m \u001b[0;34m\u001b[0m\u001b[0m\n\u001b[1;32m    723\u001b[0m         \u001b[0;31m# Prepare head mask if needed\u001b[0m\u001b[0;34m\u001b[0m\u001b[0;34m\u001b[0m\u001b[0;34m\u001b[0m\u001b[0m\n",
            "\u001b[0;32m/usr/local/lib/python3.6/dist-packages/transformers/modeling_transfo_xl.py\u001b[0m in \u001b[0;36minit_mems\u001b[0;34m(self, bsz)\u001b[0m\n\u001b[1;32m    639\u001b[0m             \u001b[0mparam\u001b[0m \u001b[0;34m=\u001b[0m \u001b[0mnext\u001b[0m\u001b[0;34m(\u001b[0m\u001b[0mself\u001b[0m\u001b[0;34m.\u001b[0m\u001b[0mparameters\u001b[0m\u001b[0;34m(\u001b[0m\u001b[0;34m)\u001b[0m\u001b[0;34m)\u001b[0m\u001b[0;34m\u001b[0m\u001b[0;34m\u001b[0m\u001b[0m\n\u001b[1;32m    640\u001b[0m             \u001b[0;32mfor\u001b[0m \u001b[0mi\u001b[0m \u001b[0;32min\u001b[0m \u001b[0mrange\u001b[0m\u001b[0;34m(\u001b[0m\u001b[0mself\u001b[0m\u001b[0;34m.\u001b[0m\u001b[0mn_layer\u001b[0m\u001b[0;34m)\u001b[0m\u001b[0;34m:\u001b[0m\u001b[0;34m\u001b[0m\u001b[0;34m\u001b[0m\u001b[0m\n\u001b[0;32m--> 641\u001b[0;31m                 \u001b[0mempty\u001b[0m \u001b[0;34m=\u001b[0m \u001b[0mtorch\u001b[0m\u001b[0;34m.\u001b[0m\u001b[0mzeros\u001b[0m\u001b[0;34m(\u001b[0m\u001b[0mself\u001b[0m\u001b[0;34m.\u001b[0m\u001b[0mmem_len\u001b[0m\u001b[0;34m,\u001b[0m \u001b[0mbsz\u001b[0m\u001b[0;34m,\u001b[0m \u001b[0mself\u001b[0m\u001b[0;34m.\u001b[0m\u001b[0mconfig\u001b[0m\u001b[0;34m.\u001b[0m\u001b[0md_model\u001b[0m\u001b[0;34m,\u001b[0m \u001b[0mdtype\u001b[0m\u001b[0;34m=\u001b[0m\u001b[0mparam\u001b[0m\u001b[0;34m.\u001b[0m\u001b[0mdtype\u001b[0m\u001b[0;34m,\u001b[0m \u001b[0mdevice\u001b[0m\u001b[0;34m=\u001b[0m\u001b[0mparam\u001b[0m\u001b[0;34m.\u001b[0m\u001b[0mdevice\u001b[0m\u001b[0;34m)\u001b[0m\u001b[0;34m\u001b[0m\u001b[0;34m\u001b[0m\u001b[0m\n\u001b[0m\u001b[1;32m    642\u001b[0m                 \u001b[0mmems\u001b[0m\u001b[0;34m.\u001b[0m\u001b[0mappend\u001b[0m\u001b[0;34m(\u001b[0m\u001b[0mempty\u001b[0m\u001b[0;34m)\u001b[0m\u001b[0;34m\u001b[0m\u001b[0;34m\u001b[0m\u001b[0m\n\u001b[1;32m    643\u001b[0m \u001b[0;34m\u001b[0m\u001b[0m\n",
            "\u001b[0;31mRuntimeError\u001b[0m: CUDA out of memory. Tried to allocate 200.00 MiB (GPU 0; 11.17 GiB total capacity; 10.64 GiB already allocated; 131.81 MiB free; 10.68 GiB reserved in total by PyTorch)"
          ]
        }
      ]
    },
    {
      "cell_type": "code",
      "metadata": {
        "id": "KosA4xCpyaAm",
        "colab_type": "code",
        "colab": {}
      },
      "source": [
        "trainer.save_model('./train')"
      ],
      "execution_count": null,
      "outputs": []
    },
    {
      "cell_type": "markdown",
      "metadata": {
        "id": "p12aYwi0ShnH",
        "colab_type": "text"
      },
      "source": [
        "###### TF Train\n"
      ]
    },
    {
      "cell_type": "code",
      "metadata": {
        "id": "hHG2CcwVSlBT",
        "colab_type": "code",
        "colab": {}
      },
      "source": [
        "# Prepare training: Compile tf.keras model with optimizer, loss and learning rate schedule\n",
        "optimizer = tf.keras.optimizers.Adam(learning_rate=3e-5, epsilon=1e-08, clipnorm=1.0)\n",
        "loss = tf.keras.losses.SparseCategoricalCrossentropy(from_logits=True)\n",
        "metric = tf.keras.metrics.SparseCategoricalAccuracy('accuracy')\n",
        "model.compile(optimizer=optimizer, loss=loss, metrics=[metric])"
      ],
      "execution_count": null,
      "outputs": []
    },
    {
      "cell_type": "code",
      "metadata": {
        "id": "H2nEa4lBSm4Y",
        "colab_type": "code",
        "colab": {}
      },
      "source": [
        "# Fix to TypeError: \n",
        "# You are attempting to use Python control flow in a layer that was not declared to be dynamic. Pass `dynamic=True` to the class constructor\n",
        "model.run_eagerly = True"
      ],
      "execution_count": null,
      "outputs": []
    },
    {
      "cell_type": "code",
      "metadata": {
        "id": "YycjrqZFSolS",
        "colab_type": "code",
        "colab": {}
      },
      "source": [
        "history = model.run(train_data, epoch=2, )"
      ],
      "execution_count": null,
      "outputs": []
    },
    {
      "cell_type": "markdown",
      "metadata": {
        "id": "XsUFyky5x271",
        "colab_type": "text"
      },
      "source": [
        "###### Generation (Pipeline)"
      ]
    },
    {
      "cell_type": "code",
      "metadata": {
        "id": "1GAKaIwrx0PE",
        "colab_type": "code",
        "colab": {
          "base_uri": "https://localhost:8080/",
          "height": 411
        },
        "outputId": "705a40c8-1f4b-4d29-e6bf-2e3da154ea1b"
      },
      "source": [
        "from transformers import pipeline\n",
        "\n",
        "fill_mask = pipeline(\n",
        "    \"fill-mask\",\n",
        "    model=\"./train\",\n",
        "    tokenizer=\"./train\"\n",
        ")\n",
        "\n",
        "fill_mask(\"start tempo120 <mask>\")"
      ],
      "execution_count": null,
      "outputs": [
        {
          "output_type": "stream",
          "text": [
            "/usr/local/lib/python3.6/dist-packages/transformers/modeling_auto.py:791: FutureWarning: The class `AutoModelWithLMHead` is deprecated and will be removed in a future version. Please use `AutoModelForCausalLM` for causal language models, `AutoModelForMaskedLM` for masked language models and `AutoModelForSeq2SeqLM` for encoder-decoder models.\n",
            "  FutureWarning,\n"
          ],
          "name": "stderr"
        },
        {
          "output_type": "execute_result",
          "data": {
            "text/plain": [
              "[{'score': 0.10992492735385895,\n",
              "  'sequence': '<s>start tempo120:</s>',\n",
              "  'token': 30,\n",
              "  'token_str': ':'},\n",
              " {'score': 0.00857906136661768,\n",
              "  'sequence': '<s>start tempo120v</s>',\n",
              "  'token': 90,\n",
              "  'token_str': 'v'},\n",
              " {'score': 0.0022426971700042486,\n",
              "  'sequence': '<s>start tempo1200</s>',\n",
              "  'token': 20,\n",
              "  'token_str': '0'},\n",
              " {'score': 0.0019350973889231682,\n",
              "  'sequence': '<s>start tempo120 melody</s>',\n",
              "  'token': 266,\n",
              "  'token_str': 'Ġmelody'},\n",
              " {'score': 0.0008917800732888281,\n",
              "  'sequence': '<s>start tempo120100</s>',\n",
              "  'token': 274,\n",
              "  'token_str': '100'}]"
            ]
          },
          "metadata": {
            "tags": []
          },
          "execution_count": 34
        }
      ]
    },
    {
      "cell_type": "code",
      "metadata": {
        "id": "K6maHaupy8r-",
        "colab_type": "code",
        "colab": {
          "base_uri": "https://localhost:8080/",
          "height": 371
        },
        "outputId": "4281983b-4be3-438d-aa37-086d4e574478"
      },
      "source": [
        "from transformers import pipeline\n",
        "\n",
        "text_generator = pipeline(\n",
        "    \"text-generation\",\n",
        "    model=\"./train\",\n",
        "    tokenizer=\"./train\"\n",
        ")\n",
        "\n",
        "text_generator(\"start tempo120\", max_length=1000)"
      ],
      "execution_count": null,
      "outputs": [
        {
          "output_type": "stream",
          "text": [
            "/usr/local/lib/python3.6/dist-packages/transformers/modeling_auto.py:791: FutureWarning: The class `AutoModelWithLMHead` is deprecated and will be removed in a future version. Please use `AutoModelForCausalLM` for causal language models, `AutoModelForMaskedLM` for masked language models and `AutoModelForSeq2SeqLM` for encoder-decoder models.\n",
            "  FutureWarning,\n"
          ],
          "name": "stderr"
        },
        {
          "output_type": "error",
          "ename": "NotImplementedError",
          "evalue": "ignored",
          "traceback": [
            "\u001b[0;31m---------------------------------------------------------------------------\u001b[0m",
            "\u001b[0;31mNotImplementedError\u001b[0m                       Traceback (most recent call last)",
            "\u001b[0;32m<ipython-input-35-b37dffd11996>\u001b[0m in \u001b[0;36m<module>\u001b[0;34m()\u001b[0m\n\u001b[1;32m      7\u001b[0m )\n\u001b[1;32m      8\u001b[0m \u001b[0;34m\u001b[0m\u001b[0m\n\u001b[0;32m----> 9\u001b[0;31m \u001b[0mtext_generator\u001b[0m\u001b[0;34m(\u001b[0m\u001b[0;34m\"start tempo120\"\u001b[0m\u001b[0;34m,\u001b[0m \u001b[0mmax_length\u001b[0m\u001b[0;34m=\u001b[0m\u001b[0;36m1000\u001b[0m\u001b[0;34m)\u001b[0m\u001b[0;34m\u001b[0m\u001b[0;34m\u001b[0m\u001b[0m\n\u001b[0m",
            "\u001b[0;32m/usr/local/lib/python3.6/dist-packages/transformers/pipelines.py\u001b[0m in \u001b[0;36m__call__\u001b[0;34m(self, return_tensors, return_text, clean_up_tokenization_spaces, *args, **generate_kwargs)\u001b[0m\n\u001b[1;32m    609\u001b[0m             raise NotImplementedError(\n\u001b[1;32m    610\u001b[0m                 \"Generation is currently not supported for {}. Please select a model from {} for generation.\".format(\n\u001b[0;32m--> 611\u001b[0;31m                     \u001b[0mself\u001b[0m\u001b[0;34m.\u001b[0m\u001b[0mmodel\u001b[0m\u001b[0;34m.\u001b[0m\u001b[0m__class__\u001b[0m\u001b[0;34m.\u001b[0m\u001b[0m__name__\u001b[0m\u001b[0;34m,\u001b[0m \u001b[0mself\u001b[0m\u001b[0;34m.\u001b[0m\u001b[0mALLOWED_MODELS\u001b[0m\u001b[0;34m\u001b[0m\u001b[0;34m\u001b[0m\u001b[0m\n\u001b[0m\u001b[1;32m    612\u001b[0m                 )\n\u001b[1;32m    613\u001b[0m             )\n",
            "\u001b[0;31mNotImplementedError\u001b[0m: Generation is currently not supported for RobertaForMaskedLM. Please select a model from ['XLNetLMHeadModel', 'TransfoXLLMHeadModel', 'ReformerModelWithLMHead', 'GPT2LMHeadModel', 'OpenAIGPTLMHeadModel', 'CTRLLMHeadModel', 'TFXLNetLMHeadModel', 'TFTransfoXLLMHeadModel', 'TFGPT2LMHeadModel', 'TFOpenAIGPTLMHeadModel', 'TFCTRLLMHeadModel'] for generation."
          ]
        }
      ]
    },
    {
      "cell_type": "code",
      "metadata": {
        "id": "bEbH3KFqxdcN",
        "colab_type": "code",
        "colab": {}
      },
      "source": [
        ""
      ],
      "execution_count": null,
      "outputs": []
    },
    {
      "cell_type": "markdown",
      "metadata": {
        "id": "uHSfC8JGZA2P",
        "colab_type": "text"
      },
      "source": [
        "##### Training\n"
      ]
    },
    {
      "cell_type": "code",
      "metadata": {
        "id": "OuATfpWybbJP",
        "colab_type": "code",
        "colab": {
          "base_uri": "https://localhost:8080/",
          "height": 973,
          "referenced_widgets": [
            "9ea3bf98a2e44c2fb7cadc8f567de23d",
            "40c0210ddc5d4366a8420aebb71c9ab1",
            "af87edd59aaa417f899748e04116a66c",
            "e54e91a88b0c4db293701caae8ddda99",
            "ab166855cc1545a9afc67225de69d814",
            "f535552c6ede4d038910583e1b9f7d19",
            "cae7e534a51544f495fd0f87a18a2152",
            "1567a2c6bd1a425a93e83d4f65d23dad",
            "f98c1e49cf464a01a3504e55dc0a61b8",
            "96028d80051d449ba7865249c340dea2",
            "554f818ffe9244cfb65cb1fa04406b7f",
            "04fbd1c8d8bf47ffbf21197d76836b46",
            "f3bf9ead0e7549099681dc0a2cc280f3",
            "8e02189030dd4f759bc762696f922ee1",
            "bc848cc0ee764847878a5933d8c12af6",
            "94036b27ec804f1bbb26baa8957961ff",
            "b0c85c88dd854d70bc18c472fd48da3f",
            "552fd0c45b604f268cb8bb0a10bc9f31",
            "7b73a61a8421423f9e89deda200cab0f",
            "393e1e5c67784ff3bebd52f95d662a41",
            "52ec5e611b174a9a880c79a4725347a3",
            "3dd7e76a037c4ccea55dc1d5e2117958",
            "04052a79b37d4dfb82b67fe2e121fdc9",
            "64b36a8ed9da4f9984a6aa5f87b82ea4",
            "06d50c94372a4875b89cf2f4ca76c41d",
            "af7a3ec26b164eb78cc7cc8f2f549ad4",
            "1589cdb6478b46d4bdf86834071e43fd",
            "1566f3eba3fd4c41917e7c285ec1ac62",
            "33d87267d2b84426842c67ba4a57695b",
            "8b65599f07bb426aab17abd07d63e5e1",
            "0a818daa1f394d5a94132fc391803629",
            "c032f5f398404b4db6a4f55b54eed3c3",
            "bbe95c215dbf47fead976b0d36aa8524",
            "3e36c1dcdb3242f5a324776480f39534",
            "a1b6e796000e424cbdb6b22dbebffbe5",
            "a3d137d1e4fe4ab4894e80b7d3e7b1bb",
            "34c358862d784ea494776f4aaa3143eb",
            "a465c7370ead4a7f8b60e503d61582b2",
            "cf51c1f03c9845888f471ebad4b816bc",
            "be5a86dab5f5407fa7471e76fad6cb26",
            "8824cd486a3946bf8b11afc9b9d8bca8",
            "e8888e58c12245d28dd1bdb60973bc9e",
            "c26f36ba480f4169ac6354d3f3a3e633",
            "a298cd12144c451d9f6c5f3cba9046ae",
            "c4ef4344b6cc459a8fe3b1d04e598b1c",
            "f84b1db2004648f0b4a4df5f8bbf1e0f",
            "92884406e2f94bb591fa12f92605cce5",
            "8da9f4b8b8c5499f9d108539542da912",
            "d94e49b4509341f7871c5c50207d7dd3",
            "d9e00f67100e4512905ddda4195d6362",
            "8c1a85b8a42845c9ad70d8ef1651ae62",
            "8800a1ee56ba416a9ca4d5da654e401b",
            "5b27ab5f91be42aabe7ff897039f5816",
            "f7da292a5f914c43befeeca291814f8b",
            "d569347ba2cf49cba3ad8b8178a5a743",
            "40be0e7ddb3e4ef69baeb982e4c4d940",
            "a02fb3f1e0de4531800ea7a61a5e1d39",
            "86dbabb4346241949accb1daf95f0d85",
            "710957d7dcc8409ca7cd9d700f175633",
            "b32ef567957c4ebdb471e5305702a65a",
            "6c04db40c8f940c5bb6f30ff75efc108",
            "218ea676713748889717d2c7b95d706c",
            "819e381c7f9243b2a275c4276545af15",
            "89c58f468b18472289d2030480ac0a39",
            "58629d1b7347429d8c91f7253645a53d",
            "e352803b6f5b4cbe8abac25c76aa855b",
            "cf9c7b8c85f54f708c472feb6b8f5c99",
            "4abc5ed79dd74f77a30caf3120aeec29",
            "f591aa760dea48958e4c61452f3706a4",
            "dd3d73dbc82247e7bce1a0c407c6f4e8",
            "a39e921717ce462890ab1666b4c0fc86",
            "2338ccd6e9664e088b772f2932e50b61",
            "b2fed9d37bbd4972ba884c104d303706",
            "92a3deec3c0c4e86a0cd40a944044446",
            "09da071c37b34fcda91b519b02e34b30",
            "8232d0eca76d4bd29e83fcee3b4b2a8a",
            "9c1d074fc94a406c925cefecf58eaf78",
            "d17261fd63a6468281bf112d660b2617",
            "452273e5ccda4e3e99c6e86fc46ef72a",
            "ccf6a10f09964f73bace3af661eafa15",
            "7c499697824745d3ae33b00859f2cb61",
            "7d5422b851094af6ac20ca812e38efb1",
            "99892f51c4f64e2a9a33ac62761938db",
            "aebd6ad390cb42f08736c9d58ca3566c",
            "46a0deeffa734651b645493e4af58f3d",
            "80da5f3cc8a749fe920e6334f2bcf30e",
            "74f56030b186406f96691d023ccbbe86",
            "4cc1e46a31704308884ee3870032ad64"
          ]
        },
        "outputId": "add42b9c-f378-446a-d652-41cbdf82b843"
      },
      "source": [
        "import tensorflow as tf\n",
        "import tensorflow_datasets\n",
        "from transformers import *\n",
        "\n",
        "# Load dataset, tokenizer, model from pretrained model/vocabulary\n",
        "tokenizer = BertTokenizer.from_pretrained('bert-base-cased')\n",
        "model = TFBertForSequenceClassification.from_pretrained('bert-base-cased')\n",
        "data = tensorflow_datasets.load('glue/mrpc')\n",
        "\n",
        "# Prepare dataset for GLUE as a tf.data.Dataset instance\n",
        "train_dataset = glue_convert_examples_to_features(data['train'], tokenizer, max_length=128, task='mrpc')\n",
        "valid_dataset = glue_convert_examples_to_features(data['validation'], tokenizer, max_length=128, task='mrpc')\n",
        "train_dataset = train_dataset.shuffle(100).batch(32).repeat(2)\n",
        "valid_dataset = valid_dataset.batch(64)\n",
        "\n",
        "# Prepare training: Compile tf.keras model with optimizer, loss and learning rate schedule\n",
        "optimizer = tf.keras.optimizers.Adam(learning_rate=3e-5, epsilon=1e-08, clipnorm=1.0)\n",
        "loss = tf.keras.losses.SparseCategoricalCrossentropy(from_logits=True)\n",
        "metric = tf.keras.metrics.SparseCategoricalAccuracy('accuracy')\n",
        "model.compile(optimizer=optimizer, loss=loss, metrics=[metric])\n",
        "\n",
        "# Train and evaluate using tf.keras.Model.fit()\n",
        "history = model.fit(train_dataset, epochs=2, steps_per_epoch=115,\n",
        "                    validation_data=valid_dataset, validation_steps=7)\n",
        "\n",
        "# Load the TensorFlow model in PyTorch for inspection\n",
        "model.save_pretrained('./data/')\n",
        "pytorch_model = BertForSequenceClassification.from_pretrained('./data/', from_tf=True)\n",
        "\n",
        "# Quickly test a few predictions - MRPC is a paraphrasing task, let's see if our model learned the task\n",
        "sentence_0 = \"This research was consistent with his findings.\"\n",
        "sentence_1 = \"His findings were compatible with this research.\"\n",
        "sentence_2 = \"His findings were not compatible with this research.\"\n",
        "inputs_1 = tokenizer.encode_plus(sentence_0, sentence_1, add_special_tokens=True, return_tensors='pt')\n",
        "inputs_2 = tokenizer.encode_plus(sentence_0, sentence_2, add_special_tokens=True, return_tensors='pt')\n",
        "\n",
        "pred_1 = pytorch_model(inputs_1['input_ids'], token_type_ids=inputs_1['token_type_ids'])[0].argmax().item()\n",
        "pred_2 = pytorch_model(inputs_2['input_ids'], token_type_ids=inputs_2['token_type_ids'])[0].argmax().item()\n",
        "\n",
        "print(\"sentence_1 is\", \"a paraphrase\" if pred_1 else \"not a paraphrase\", \"of sentence_0\")\n",
        "print(\"sentence_2 is\", \"a paraphrase\" if pred_2 else \"not a paraphrase\", \"of sentence_0\")"
      ],
      "execution_count": null,
      "outputs": [
        {
          "output_type": "display_data",
          "data": {
            "application/vnd.jupyter.widget-view+json": {
              "model_id": "9ea3bf98a2e44c2fb7cadc8f567de23d",
              "version_minor": 0,
              "version_major": 2
            },
            "text/plain": [
              "HBox(children=(FloatProgress(value=0.0, description='Downloading', max=213450.0, style=ProgressStyle(descripti…"
            ]
          },
          "metadata": {
            "tags": []
          }
        },
        {
          "output_type": "stream",
          "text": [
            "\n"
          ],
          "name": "stdout"
        },
        {
          "output_type": "display_data",
          "data": {
            "application/vnd.jupyter.widget-view+json": {
              "model_id": "f98c1e49cf464a01a3504e55dc0a61b8",
              "version_minor": 0,
              "version_major": 2
            },
            "text/plain": [
              "HBox(children=(FloatProgress(value=0.0, description='Downloading', max=433.0, style=ProgressStyle(description_…"
            ]
          },
          "metadata": {
            "tags": []
          }
        },
        {
          "output_type": "stream",
          "text": [
            "\n"
          ],
          "name": "stdout"
        },
        {
          "output_type": "display_data",
          "data": {
            "application/vnd.jupyter.widget-view+json": {
              "model_id": "b0c85c88dd854d70bc18c472fd48da3f",
              "version_minor": 0,
              "version_major": 2
            },
            "text/plain": [
              "HBox(children=(FloatProgress(value=0.0, description='Downloading', max=526681800.0, style=ProgressStyle(descri…"
            ]
          },
          "metadata": {
            "tags": []
          }
        },
        {
          "output_type": "stream",
          "text": [
            "\n"
          ],
          "name": "stdout"
        },
        {
          "output_type": "stream",
          "text": [
            "INFO:absl:Load pre-computed datasetinfo (eg: splits) from bucket.\n",
            "INFO:absl:Loading info from GCS for glue/mrpc/1.0.0\n",
            "INFO:absl:Field info.description from disk and from code do not match. Keeping the one from code.\n",
            "INFO:absl:Field info.location from disk and from code do not match. Keeping the one from code.\n",
            "INFO:absl:Generating dataset glue (/root/tensorflow_datasets/glue/mrpc/1.0.0)\n"
          ],
          "name": "stderr"
        },
        {
          "output_type": "stream",
          "text": [
            "\u001b[1mDownloading and preparing dataset glue/mrpc/1.0.0 (download: 1.43 MiB, generated: Unknown size, total: 1.43 MiB) to /root/tensorflow_datasets/glue/mrpc/1.0.0...\u001b[0m\n"
          ],
          "name": "stdout"
        },
        {
          "output_type": "display_data",
          "data": {
            "application/vnd.jupyter.widget-view+json": {
              "model_id": "06d50c94372a4875b89cf2f4ca76c41d",
              "version_minor": 0,
              "version_major": 2
            },
            "text/plain": [
              "HBox(children=(FloatProgress(value=1.0, bar_style='info', description='Dl Completed...', max=1.0, style=Progre…"
            ]
          },
          "metadata": {
            "tags": []
          }
        },
        {
          "output_type": "display_data",
          "data": {
            "application/vnd.jupyter.widget-view+json": {
              "model_id": "bbe95c215dbf47fead976b0d36aa8524",
              "version_minor": 0,
              "version_major": 2
            },
            "text/plain": [
              "HBox(children=(FloatProgress(value=1.0, bar_style='info', description='Dl Size...', max=1.0, style=ProgressSty…"
            ]
          },
          "metadata": {
            "tags": []
          }
        },
        {
          "output_type": "stream",
          "text": [
            "INFO:absl:Downloading https://firebasestorage.googleapis.com/v0/b/mtl-sentence-representations.appspot.com/o/data%2Fmrpc_dev_ids.tsv?alt=media&token=ec5c0836-31d5-48f4-b431-7480817f1adc into /root/tensorflow_datasets/downloads/fire.goog.com_v0_b_mtl-sent-repr.apps.com_o_2FjSIMlCiqs1QSmIykr4IRPnEHjPuGwAz5i40v8K9U0Z8.tsvalt=media&token=ec5c0836-31d5-48f4-b431-7480817f1adc.tmp.1e955c75eca444c7801f9ffbb7d945c8...\n",
            "INFO:absl:Downloading https://dl.fbaipublicfiles.com/senteval/senteval_data/msr_paraphrase_train.txt into /root/tensorflow_datasets/downloads/dl.fbaip.com_sente_sente_msr_parap_trainfGxPZuQWGBti4Tbd1YNOwQr-OqxPejJ7gcp0Al6mlSk.txt.tmp.4b3a795fb50d40c0a2149a450a36301d...\n",
            "INFO:absl:Downloading https://dl.fbaipublicfiles.com/senteval/senteval_data/msr_paraphrase_test.txt into /root/tensorflow_datasets/downloads/dl.fbaip.com_sente_sente_msr_parap_test0PdekMcyqYR-w4Rx_d7OTryq0J3RlYRn4rAMajy9Mak.txt.tmp.5608fc42a1e542cdbc4b51715f845c3f...\n",
            "/usr/local/lib/python3.6/dist-packages/urllib3/connectionpool.py:847: InsecureRequestWarning: Unverified HTTPS request is being made. Adding certificate verification is strongly advised. See: https://urllib3.readthedocs.io/en/latest/advanced-usage.html#ssl-warnings\n",
            "  InsecureRequestWarning)\n",
            "/usr/local/lib/python3.6/dist-packages/urllib3/connectionpool.py:847: InsecureRequestWarning: Unverified HTTPS request is being made. Adding certificate verification is strongly advised. See: https://urllib3.readthedocs.io/en/latest/advanced-usage.html#ssl-warnings\n",
            "  InsecureRequestWarning)\n",
            "/usr/local/lib/python3.6/dist-packages/urllib3/connectionpool.py:847: InsecureRequestWarning: Unverified HTTPS request is being made. Adding certificate verification is strongly advised. See: https://urllib3.readthedocs.io/en/latest/advanced-usage.html#ssl-warnings\n",
            "  InsecureRequestWarning)\n",
            "INFO:absl:Generating split train\n"
          ],
          "name": "stderr"
        },
        {
          "output_type": "stream",
          "text": [
            "\n",
            "\n",
            "\n",
            "\n"
          ],
          "name": "stdout"
        },
        {
          "output_type": "display_data",
          "data": {
            "application/vnd.jupyter.widget-view+json": {
              "model_id": "8824cd486a3946bf8b11afc9b9d8bca8",
              "version_minor": 0,
              "version_major": 2
            },
            "text/plain": [
              "HBox(children=(FloatProgress(value=1.0, bar_style='info', max=1.0), HTML(value='')))"
            ]
          },
          "metadata": {
            "tags": []
          }
        },
        {
          "output_type": "stream",
          "text": [
            "\rShuffling and writing examples to /root/tensorflow_datasets/glue/mrpc/1.0.0.incompleteJTKUVU/glue-train.tfrecord\n"
          ],
          "name": "stdout"
        },
        {
          "output_type": "display_data",
          "data": {
            "application/vnd.jupyter.widget-view+json": {
              "model_id": "d94e49b4509341f7871c5c50207d7dd3",
              "version_minor": 0,
              "version_major": 2
            },
            "text/plain": [
              "HBox(children=(FloatProgress(value=0.0, max=3668.0), HTML(value='')))"
            ]
          },
          "metadata": {
            "tags": []
          }
        },
        {
          "output_type": "stream",
          "text": [
            "INFO:absl:Done writing /root/tensorflow_datasets/glue/mrpc/1.0.0.incompleteJTKUVU/glue-train.tfrecord. Shard lengths: [3668]\n",
            "INFO:absl:Generating split validation\n"
          ],
          "name": "stderr"
        },
        {
          "output_type": "stream",
          "text": [
            "\r"
          ],
          "name": "stdout"
        },
        {
          "output_type": "display_data",
          "data": {
            "application/vnd.jupyter.widget-view+json": {
              "model_id": "a02fb3f1e0de4531800ea7a61a5e1d39",
              "version_minor": 0,
              "version_major": 2
            },
            "text/plain": [
              "HBox(children=(FloatProgress(value=1.0, bar_style='info', max=1.0), HTML(value='')))"
            ]
          },
          "metadata": {
            "tags": []
          }
        },
        {
          "output_type": "stream",
          "text": [
            "\rShuffling and writing examples to /root/tensorflow_datasets/glue/mrpc/1.0.0.incompleteJTKUVU/glue-validation.tfrecord\n"
          ],
          "name": "stdout"
        },
        {
          "output_type": "display_data",
          "data": {
            "application/vnd.jupyter.widget-view+json": {
              "model_id": "58629d1b7347429d8c91f7253645a53d",
              "version_minor": 0,
              "version_major": 2
            },
            "text/plain": [
              "HBox(children=(FloatProgress(value=0.0, max=408.0), HTML(value='')))"
            ]
          },
          "metadata": {
            "tags": []
          }
        },
        {
          "output_type": "stream",
          "text": [
            "INFO:absl:Done writing /root/tensorflow_datasets/glue/mrpc/1.0.0.incompleteJTKUVU/glue-validation.tfrecord. Shard lengths: [408]\n",
            "INFO:absl:Generating split test\n"
          ],
          "name": "stderr"
        },
        {
          "output_type": "stream",
          "text": [
            "\r"
          ],
          "name": "stdout"
        },
        {
          "output_type": "display_data",
          "data": {
            "application/vnd.jupyter.widget-view+json": {
              "model_id": "b2fed9d37bbd4972ba884c104d303706",
              "version_minor": 0,
              "version_major": 2
            },
            "text/plain": [
              "HBox(children=(FloatProgress(value=1.0, bar_style='info', max=1.0), HTML(value='')))"
            ]
          },
          "metadata": {
            "tags": []
          }
        },
        {
          "output_type": "stream",
          "text": [
            "\rShuffling and writing examples to /root/tensorflow_datasets/glue/mrpc/1.0.0.incompleteJTKUVU/glue-test.tfrecord\n"
          ],
          "name": "stdout"
        },
        {
          "output_type": "display_data",
          "data": {
            "application/vnd.jupyter.widget-view+json": {
              "model_id": "7c499697824745d3ae33b00859f2cb61",
              "version_minor": 0,
              "version_major": 2
            },
            "text/plain": [
              "HBox(children=(FloatProgress(value=0.0, max=1725.0), HTML(value='')))"
            ]
          },
          "metadata": {
            "tags": []
          }
        },
        {
          "output_type": "stream",
          "text": [
            "INFO:absl:Done writing /root/tensorflow_datasets/glue/mrpc/1.0.0.incompleteJTKUVU/glue-test.tfrecord. Shard lengths: [1725]\n",
            "INFO:absl:Skipping computing stats for mode ComputeStatsMode.AUTO.\n",
            "INFO:absl:Constructing tf.data.Dataset for split None, from /root/tensorflow_datasets/glue/mrpc/1.0.0\n"
          ],
          "name": "stderr"
        },
        {
          "output_type": "stream",
          "text": [
            "\u001b[1mDataset glue downloaded and prepared to /root/tensorflow_datasets/glue/mrpc/1.0.0. Subsequent calls will reuse this data.\u001b[0m\n",
            "Epoch 1/2\n",
            "115/115 [==============================] - 61s 534ms/step - loss: 0.5476 - accuracy: 0.7331 - val_loss: 0.4119 - val_accuracy: 0.8162\n",
            "Epoch 2/2\n",
            "115/115 [==============================] - 59s 509ms/step - loss: 0.2754 - accuracy: 0.8918 - val_loss: 0.4856 - val_accuracy: 0.8235\n",
            "sentence_1 is a paraphrase of sentence_0\n",
            "sentence_2 is a paraphrase of sentence_0\n"
          ],
          "name": "stdout"
        }
      ]
    },
    {
      "cell_type": "code",
      "metadata": {
        "id": "xauozHcYkSjS",
        "colab_type": "code",
        "colab": {}
      },
      "source": [
        "!mkdir train"
      ],
      "execution_count": null,
      "outputs": []
    },
    {
      "cell_type": "code",
      "metadata": {
        "id": "f8LjWQHer_H1",
        "colab_type": "code",
        "colab": {}
      },
      "source": [
        "from transformers import TransfoXLTokenizer, TFTransfoXLModel\n",
        "import torch\n",
        "import tensorflow as tf\n",
        "import tensorflow_datasets as tfds\n",
        "\n",
        "import os"
      ],
      "execution_count": null,
      "outputs": []
    },
    {
      "cell_type": "code",
      "metadata": {
        "id": "HVeDH2APsF88",
        "colab_type": "code",
        "colab": {}
      },
      "source": [
        ""
      ],
      "execution_count": null,
      "outputs": []
    },
    {
      "cell_type": "code",
      "metadata": {
        "id": "gJQna1n4gIHa",
        "colab_type": "code",
        "colab": {}
      },
      "source": [
        "from transformers import TransfoXLTokenizer, TFTransfoXLModel\n",
        "import torch\n",
        "import tensorflow as tf\n",
        "import tensorflow_datasets as tfds\n",
        "\n",
        "import os"
      ],
      "execution_count": null,
      "outputs": []
    },
    {
      "cell_type": "markdown",
      "metadata": {
        "id": "LdekFRmchjrU",
        "colab_type": "text"
      },
      "source": [
        "###### Convert .txt file to tf.data.Dataset"
      ]
    },
    {
      "cell_type": "code",
      "metadata": {
        "id": "Wo-f1Xg3hURY",
        "colab_type": "code",
        "colab": {}
      },
      "source": [
        "file_name = 'data/data_express_original.txt'"
      ],
      "execution_count": null,
      "outputs": []
    },
    {
      "cell_type": "code",
      "metadata": {
        "id": "PxZuO2L6vtFc",
        "colab_type": "code",
        "colab": {
          "base_uri": "https://localhost:8080/",
          "height": 164,
          "referenced_widgets": [
            "2f588dd3dcce45989d5040a2551d45c2",
            "bc8d4bc32fa44442adfe62a53a0101c7",
            "d9cfef4ff0ec4598986b488cc65e2142",
            "c33add0554394d4fb3b63bec5a3470d7",
            "a5b881e705314415a4616f467bfc2827",
            "b975a3e6931d482a9e20be93b1034399",
            "75446cbdc13c4d88882f6f0975b87831",
            "7db88f2ea89645c68ef8db1de867947c",
            "2d865b87ca3d4ff68f140a81cf6a2821",
            "36efb3ab67cb4c0492e6dc2b257c83a3",
            "e4bd85907bec4ba982542c371753ee31",
            "9e7fd009d581488d893fc8b921d0cfd3",
            "88d3cb11bbe64cfe8512f2ff1828a430",
            "d2a3a34f689e4036ae37ce1a597e9585",
            "b3ca4f6d30064057a06a5105abf8ffa1",
            "f1b8340440634c068711b83e2e372f41",
            "fe818277c51f4da186afc9e3a42e41f5",
            "8414154c104446d0b5ae47c497f1a701",
            "c4aff07b6b2c441a95b1ff9a229f26e5",
            "712d6a65ca1c4e1f885bfaa57854b985",
            "e659096c327e4a67b20118eff8f05539",
            "ef6d56f331ec412e8894f483f71b0ee1",
            "9c39c97f22e14458b4b8a4a972853e9d",
            "7f27a8011ce749dd9c31cbeecb09f9d2"
          ]
        },
        "outputId": "b24bad70-dfcc-4f1c-c8ea-5fbe59c2bd58"
      },
      "source": [
        "pretrained_weight = 'transfo-xl-wt103'\n",
        "tokenizer = TransfoXLTokenizer.from_pretrained(pretrained_weight)\n",
        "model = TFTransfoXLModel.from_pretrained(pretrained_weight)"
      ],
      "execution_count": null,
      "outputs": [
        {
          "output_type": "display_data",
          "data": {
            "application/vnd.jupyter.widget-view+json": {
              "model_id": "2f588dd3dcce45989d5040a2551d45c2",
              "version_minor": 0,
              "version_major": 2
            },
            "text/plain": [
              "HBox(children=(FloatProgress(value=0.0, description='Downloading', max=9143613.0, style=ProgressStyle(descript…"
            ]
          },
          "metadata": {
            "tags": []
          }
        },
        {
          "output_type": "stream",
          "text": [
            "\n"
          ],
          "name": "stdout"
        },
        {
          "output_type": "display_data",
          "data": {
            "application/vnd.jupyter.widget-view+json": {
              "model_id": "2d865b87ca3d4ff68f140a81cf6a2821",
              "version_minor": 0,
              "version_major": 2
            },
            "text/plain": [
              "HBox(children=(FloatProgress(value=0.0, description='Downloading', max=856.0, style=ProgressStyle(description_…"
            ]
          },
          "metadata": {
            "tags": []
          }
        },
        {
          "output_type": "stream",
          "text": [
            "\n"
          ],
          "name": "stdout"
        },
        {
          "output_type": "display_data",
          "data": {
            "application/vnd.jupyter.widget-view+json": {
              "model_id": "fe818277c51f4da186afc9e3a42e41f5",
              "version_minor": 0,
              "version_major": 2
            },
            "text/plain": [
              "HBox(children=(FloatProgress(value=0.0, description='Downloading', max=1290191976.0, style=ProgressStyle(descr…"
            ]
          },
          "metadata": {
            "tags": []
          }
        },
        {
          "output_type": "stream",
          "text": [
            "\n"
          ],
          "name": "stdout"
        }
      ]
    },
    {
      "cell_type": "code",
      "metadata": {
        "id": "Bj5QZxJrjxRl",
        "colab_type": "code",
        "colab": {
          "base_uri": "https://localhost:8080/",
          "height": 215
        },
        "outputId": "b277f708-6a3c-456c-f151-d285f4ee71bc"
      },
      "source": [
        "from pathlib import Path\n",
        "\n",
        "paths = [str(x) for x in Path(\".\").glob(\"data/data_express_transpose_original.txt\")] #glob(\"data/*.txt\")\n",
        "print(paths)\n",
        "\n",
        "tokenizer.train(files=paths)"
      ],
      "execution_count": null,
      "outputs": [
        {
          "output_type": "stream",
          "text": [
            "[]\n"
          ],
          "name": "stdout"
        },
        {
          "output_type": "error",
          "ename": "TypeError",
          "evalue": "ignored",
          "traceback": [
            "\u001b[0;31m---------------------------------------------------------------------------\u001b[0m",
            "\u001b[0;31mTypeError\u001b[0m                                 Traceback (most recent call last)",
            "\u001b[0;32m<ipython-input-19-ebe93b804882>\u001b[0m in \u001b[0;36m<module>\u001b[0;34m()\u001b[0m\n\u001b[1;32m      4\u001b[0m \u001b[0mprint\u001b[0m\u001b[0;34m(\u001b[0m\u001b[0mpaths\u001b[0m\u001b[0;34m)\u001b[0m\u001b[0;34m\u001b[0m\u001b[0;34m\u001b[0m\u001b[0m\n\u001b[1;32m      5\u001b[0m \u001b[0;34m\u001b[0m\u001b[0m\n\u001b[0;32m----> 6\u001b[0;31m \u001b[0mtokenizer\u001b[0m\u001b[0;34m.\u001b[0m\u001b[0mtrain\u001b[0m\u001b[0;34m(\u001b[0m\u001b[0mfiles\u001b[0m\u001b[0;34m=\u001b[0m\u001b[0mpaths\u001b[0m\u001b[0;34m)\u001b[0m\u001b[0;34m\u001b[0m\u001b[0;34m\u001b[0m\u001b[0m\n\u001b[0m",
            "\u001b[0;31mTypeError\u001b[0m: Tokenizer.train() missing required positional argument: trainer"
          ]
        }
      ]
    },
    {
      "cell_type": "code",
      "metadata": {
        "id": "cvLdRJeMjXof",
        "colab_type": "code",
        "colab": {
          "base_uri": "https://localhost:8080/",
          "height": 34
        },
        "outputId": "27bb5224-91d8-4836-bc34-0f0aaa880633"
      },
      "source": [
        "from tokenizers import Tokenizer\n",
        "from tokenizers.decoders import ByteLevel as ByteLevelDecoder\n",
        "from tokenizers.models import BPE\n",
        "from tokenizers.normalizers import Lowercase, NFKC, Sequence\n",
        "from tokenizers.pre_tokenizers import ByteLevel\n",
        "\n",
        "# First we create an empty Byte-Pair Encoding model (i.e. not trained model)\n",
        "tokenizer = Tokenizer(BPE())\n",
        "\n",
        "# Then we enable lower-casing and unicode-normalization\n",
        "# The Sequence normalizer allows us to combine multiple Normalizer that will be\n",
        "# executed in order.\n",
        "tokenizer.normalizer = Sequence([\n",
        "    NFKC(),\n",
        "    Lowercase()\n",
        "])\n",
        "\n",
        "# Our tokenizer also needs a pre-tokenizer responsible for converting the input to a ByteLevel representation.\n",
        "tokenizer.pre_tokenizer = ByteLevel()\n",
        "\n",
        "# And finally, let's plug a decoder so we can recover from a tokenized input to the original one\n",
        "tokenizer.decoder = ByteLevelDecoder()\n",
        "\n",
        "\n",
        "from tokenizers.trainers import BpeTrainer\n",
        "\n",
        "# We initialize our trainer, giving him the details about the vocabulary we want to generate\n",
        "trainer = BpeTrainer(vocab_size=25000, show_progress=True, initial_alphabet=ByteLevel.alphabet())\n",
        "tokenizer.train(trainer, [\"./data/data_express_original.txt\"])\n",
        "\n",
        "print(\"Trained vocab size: {}\".format(tokenizer.get_vocab_size()))"
      ],
      "execution_count": null,
      "outputs": [
        {
          "output_type": "stream",
          "text": [
            "Trained vocab size: 521\n"
          ],
          "name": "stdout"
        }
      ]
    },
    {
      "cell_type": "code",
      "metadata": {
        "id": "INvAgrDVkM27",
        "colab_type": "code",
        "colab": {
          "base_uri": "https://localhost:8080/",
          "height": 34
        },
        "outputId": "6f110466-2389-4f5d-bfe6-f80994c929a0"
      },
      "source": [
        "# You will see the generated files in the output.\n",
        "tokenizer.model.save('./train/')"
      ],
      "execution_count": null,
      "outputs": [
        {
          "output_type": "execute_result",
          "data": {
            "text/plain": [
              "['./train/vocab.json', './train/merges.txt']"
            ]
          },
          "metadata": {
            "tags": []
          },
          "execution_count": 22
        }
      ]
    },
    {
      "cell_type": "code",
      "metadata": {
        "id": "iiR-XVzolTAZ",
        "colab_type": "code",
        "colab": {
          "base_uri": "https://localhost:8080/",
          "height": 51
        },
        "outputId": "43e9fc94-8f51-43b8-db43-3c8368ce651b"
      },
      "source": [
        "# Let's tokenizer a simple input\n",
        "tokenizer.model = BPE('./train/vocab.json', './train/merges.txt')\n",
        "encoding = tokenizer.encode(\"[CLS] start tempo120 melody:v100:A4 wait:12\")\n",
        "\n",
        "print(\"Encoded string: {}\".format(encoding.tokens))\n",
        "\n",
        "decoded = tokenizer.decode(encoding.ids)\n",
        "print(\"Decoded string: {}\".format(decoded))"
      ],
      "execution_count": null,
      "outputs": [
        {
          "output_type": "stream",
          "text": [
            "Encoded string: ['Ġ[', 'cls', ']', 'Ġ', 's', 't', 'a', 'r', 't', 'Ġtempo', '120', 'Ġmelody', ':', 'v', '100', ':', 'a', '4', 'Ġwait', ':', '12']\n",
            "Decoded string:  [cls] start tempo120 melody:v100:a4 wait:12\n"
          ],
          "name": "stdout"
        }
      ]
    },
    {
      "cell_type": "code",
      "metadata": {
        "id": "vDOx--2-gLyE",
        "colab_type": "code",
        "colab": {}
      },
      "source": [
        "def labeler(example, index):\n",
        "  return example, tf.cast(index, tf.int64)  \n",
        "\n",
        "labeled_data_sets = []\n",
        "\n",
        "lines_dataset = tf.data.TextLineDataset(file_name)\n",
        "labeled_dataset = lines_dataset.map(lambda ex: labeler(ex, 0))\n",
        "labeled_data_sets.append(labeled_dataset)\n",
        "\n",
        "# for i, file_name in enumerate(FILE_NAMES):\n",
        "#   lines_dataset = tf.data.TextLineDataset(os.path.join(parent_dir, file_name))\n",
        "#   labeled_dataset = lines_dataset.map(lambda ex: labeler(ex, i))\n",
        "#   labeled_data_sets.append(labeled_dataset)"
      ],
      "execution_count": null,
      "outputs": []
    },
    {
      "cell_type": "code",
      "metadata": {
        "id": "5gLvm6eThqlN",
        "colab_type": "code",
        "colab": {}
      },
      "source": [
        "BUFFER_SIZE = 50000\n",
        "BATCH_SIZE = 64\n",
        "TAKE_SIZE = 5000\n",
        "\n",
        "all_labeled_data = labeled_data_sets[0]\n",
        "\n",
        "# all_labeled_data = labeled_data_sets[0]\n",
        "# for labeled_dataset in labeled_data_sets[1:]:\n",
        "#   all_labeled_data = all_labeled_data.concatenate(labeled_dataset)\n",
        "  \n",
        "shuffled_labeled_data = all_labeled_data.shuffle(BUFFER_SIZE, reshuffle_each_iteration=False)"
      ],
      "execution_count": null,
      "outputs": []
    },
    {
      "cell_type": "code",
      "metadata": {
        "id": "Lyg2Np4hirNN",
        "colab_type": "code",
        "colab": {}
      },
      "source": [
        "# example\n",
        "for ex in all_labeled_data.take(5):\n",
        "  print(ex)"
      ],
      "execution_count": null,
      "outputs": []
    },
    {
      "cell_type": "code",
      "metadata": {
        "id": "KNKwMfvMtbvU",
        "colab_type": "code",
        "colab": {
          "base_uri": "https://localhost:8080/",
          "height": 54
        },
        "outputId": "66ec00cb-9950-47e1-81d5-8ffb4f47ef5b"
      },
      "source": [
        "tokenizer = tfds.features.text.Tokenizer()\n",
        "\n",
        "vocabulary_set = set()\n",
        "for text_tensor, _ in all_labeled_data:\n",
        "  some_tokens = tokenizer.tokenize(text_tensor.numpy())\n",
        "  vocabulary_set.update(some_tokens)\n",
        "\n",
        "vocab_size = len(vocabulary_set)\n",
        "\n",
        "vocab_size\n",
        "\n",
        "print(vocabulary_set)"
      ],
      "execution_count": null,
      "outputs": [
        {
          "output_type": "stream",
          "text": [
            "{'55', '135', '12', 'v78', 'accomp10', '111', '139', '38', 'F2', '1504', 'v48', '120', '21', 'v65', '79', 'v83', '110', 'v99', '96', '209', '125', 'v59', 'tempo91', '87', 'G4', '39', '767', 'v75', 'v89', '948', '411', '26', 'tempo126', '76', 'v63', 'v91', '11', 'v66', '100', '46', 'tempo86', '3875', '16', '205', '105', '13', 'tempo170', '455', 'v77', 'v7', 'tempo60', '41', 'v25', 'v71', '20', '298', 'melody', 'v97', '440', 'C3', 'tempo147', 'F4', '113', 'C5', '314', '102', '186', 'G3', 'v8', '45', '70', '960', '121', 'B4', 'D7', 'v53', '3632', '122', 'v32', 'v30', '104', '37', '71', 'E6', '1', 'tempo115', 'tempo175', 'C4', 'accomp6', '89', 'B', '815', '40', '95', '50', '577', '67', 'v88', 'v54', '181', '42', '151', 'v33', '74', '3647', 'v100', '996', 'v47', 'tempo87', 'tempo148', '303', 'v69', '866', '86', '191', '144', '22', '19', 'v18', '24', '383', 'tempo150', 'v60', 'tempo107', '69', 'v74', 'tempo104', 'tempo109', '10898', 'accomp1', 'C7', 'v119', '896', '345', '118', '864', '30', 'E1', 'v122', 'A6', 'v50', 'tempo125', 'SEP', '480', 'accomp2', '10', '47', 'tempo103', '759', 'v73', '167', 'v3', 'F1', '201', 'v96', 'tempo96', '329', '432', '563', '64', 'v81', '116', 'C', 'v39', '193', '576', 'v76', '143', 'v86', '1823', 'v103', '423', '115', 'C1', '44', 'tempo97', 'v13', 'accomp3', 'v110', 'v29', 'v114', '68', '63', '264', 'v24', '31', '72', '0', '241', '29', 'v95', 'CLS', '607', '103', 'tempo102', 'v85', 'tempo137', '190', 'F7', 'B6', 'tempo80', '2720', '575', 'v57', '8', 'v79', 'v70', '59', '216', 'v44', 'v92', '312', '895', '32', 'A7', '384', 'v127', 'v38', '903', '36', 'v51', '136', 'tempo112', 'B5', 'A5', '255', '377', 'v94', 'F5', '407', '81', 'F', '192', 'v5', 'v105', 'tempo128', 'v90', 'tempo73', '360', 'v26', 'v17', '155', 'G7', '162', '4', '431', 'v107', 'v111', 'v45', 'v43', 'v9', '287', 'D2', '112', 'tempo93', 'v87', '359', 'D3', '77', '66', '61', 'accomp5', 'A4', 'v6', '92', 'v49', 'accomp8', '797', '90', '108', '117', '847', 'C2', '792', '720', '93', 'E2', 'G6', '7', 'tempo83', 'C6', '73', 'v27', 'v82', '54', 'wait', '101', '127', '210', 'B1', '82', '124', '109', '203', 'v106', 'E3', '1059', '17', '145', '653', 'v84', '75', '240', 'v16', 'v104', 'accomp0', '114', 'tempo123', 'A2', '223', 'tempo94', 'v67', 'v46', '408', 'v11', '84', '107', 'tempo130', 'v21', '5', '188', '78', '816', '2', '51', '140', 'accomp9', 'D1', 'v56', '97', '53', 'tempo120', '752', '91', 'v109', 'A1', 'v102', '320', 'v34', 'A3', '35', '15', '88', 'v42', '768', 'v101', 'tempo145', '28', '34', '640', 'G', '57', 'tempo89', '881', '43', 'B2', 'tempo135', 'v0', '83', 'v41', '65', '123', '905', 'D6', '48', 'D5', '425', '911', '58', '672', '62', 'E', 'G1', 'G2', '489', '119', 'v62', 'G5', 'tempo100', 'v37', '60', 'v58', '168', '98', '80', '9', '1215', 'v52', 'v55', '3', '528', 'B3', '49', 'tempo200', 'v31', '1856', '23', '85', '326', '106', '1345', 'v80', '33', '635', '285', 'accomp7', 'v64', 'E5', 'tempo85', 'v20', '6', '99', '25', 'F6', 'v35', '94', 'E7', '179', '239', '2735', '134', '288', 'tempo140', 'v93', '52', 'E4', '336', '169', 'v61', 'v28', '126', '14', 'v108', 'v40', '791', '426', 'F3', '405', '349', '721', 'v98', 'v68', 'v36', '27', 'D4', 'v112', '56', '18', 'accomp4'}\n"
          ],
          "name": "stdout"
        }
      ]
    },
    {
      "cell_type": "code",
      "metadata": {
        "id": "Te6cebUSuYQJ",
        "colab_type": "code",
        "colab": {}
      },
      "source": [
        "encoder = tfds.features.text.TokenTextEncoder(vocabulary_set)"
      ],
      "execution_count": null,
      "outputs": []
    },
    {
      "cell_type": "code",
      "metadata": {
        "id": "sEzvylFAueZ_",
        "colab_type": "code",
        "colab": {
          "base_uri": "https://localhost:8080/",
          "height": 54
        },
        "outputId": "578065ec-9a57-4a48-bb40-4be183e1b65d"
      },
      "source": [
        "# example\n",
        "example_text = next(iter(all_labeled_data))[0].numpy()\n",
        "print(example_text)"
      ],
      "execution_count": null,
      "outputs": [
        {
          "output_type": "stream",
          "text": [
            "b'[CLS] tempo128 [127] melody:v91:D4 melody:v91:B-3 melody:v91:F4 accomp0:v92:F2 wait:96 melody:v0:D4 melody:v0:B-3 melody:v0:F4 accomp0:v0:F2 accomp0:v92:G1 wait:96 melody:v91:F4 melody:v91:D4 melody:v91:B-3 accomp0:v0:G1 wait:48 melody:v0:B-3 melody:v0:F4 melody:v0:D4 melody:v91:D4 melody:v91:B-3 melody:v91:G4 wait:48 melody:v0:G4 melody:v0:B-3 melody:v0:D4 wait:24 melody:v91:D4 melody:v91:B-3 melody:v91:G4 wait:48 melody:v0:D4 melody:v0:B-3 melody:v0:G4 wait:24 melody:v91:B-3 melody:v91:D4 melody:v91:F4 accomp0:v92:F2 wait:96 [126] melody:v0:B-3 melody:v0:D4 melody:v0:F4 accomp0:v0:F2 accomp0:v92:G1 wait:96 melody:v91:F4 melody:v91:B-3 melody:v91:D4 accomp0:v0:G1 wait:48 melody:v0:D4 melody:v0:F4 melody:v0:B-3 melody:v91:D4 melody:v91:B-3 melody:v91:G4 wait:48 melody:v0:G4 melody:v0:B-3 melody:v0:D4 wait:24 melody:v91:D4 melody:v91:B-3 melody:v91:G4 wait:48 melody:v0:D4 melody:v0:B-3 melody:v0:G4 wait:24 melody:v91:B-3 melody:v91:D4 melody:v91:F4 accomp0:v92:F2 wait:96 melody:v0:B-3 melody:v0:D4 melody:v0:F4 accomp0:v0:F2 accomp0:v92:G1 wait:96 [125] melody:v91:D4 melody:v91:B-3 melody:v91:F4 accomp0:v0:G1 wait:48 melody:v0:F4 melody:v0:D4 melody:v0:B-3 melody:v91:D4 melody:v91:B-3 melody:v91:G4 wait:48 melody:v0:G4 melody:v0:B-3 melody:v0:D4 wait:24 melody:v91:D4 melody:v91:B-3 melody:v91:G4 wait:48 melody:v0:D4 melody:v0:B-3 melody:v0:G4 wait:24 melody:v91:D4 melody:v91:B-3 melody:v91:F4 accomp0:v92:F2 wait:96 melody:v0:D4 melody:v0:B-3 melody:v0:F4 accomp0:v0:F2 accomp0:v92:G1 wait:96 melody:v91:F4 melody:v91:B-3 melody:v91:D4 accomp0:v0:G1 wait:48 [124] melody:v0:D4 melody:v0:F4 melody:v0:B-3 melody:v91:D4 melody:v91:B-3 melody:v91:G4 wait:48 melody:v0:G4 melody:v0:B-3 melody:v0:D4 wait:24 melody:v91:G4 melody:v91:B-3 melody:v91:D4 wait:48 melody:v0:G4 melody:v0:B-3 melody:v0:D4 wait:24 melody:v91:D4 melody:v91:B-3 melody:v91:F4 accomp0:v92:F2 wait:96 melody:v0:D4 melody:v0:B-3 melody:v0:F4 accomp0:v0:F2 accomp0:v92:G1 wait:96 melody:v91:F4 melody:v91:D4 melody:v91:B-3 accomp0:v0:G1 wait:48 melody:v0:B-3 melody:v0:F4 melody:v0:D4 melody:v91:D4 melody:v91:B-3 melody:v91:G4 wait:48 melody:v0:G4 melody:v0:B-3 melody:v0:D4 wait:24 [123] melody:v91:D4 melody:v91:B-3 melody:v91:G4 wait:48 melody:v0:D4 melody:v0:B-3 melody:v0:G4 wait:24 melody:v91:B-3 melody:v91:D4 melody:v91:F4 accomp0:v92:F2 wait:96 melody:v0:B-3 melody:v0:D4 melody:v0:F4 accomp0:v0:F2 accomp0:v92:G1 wait:96 melody:v91:F4 melody:v91:B-3 melody:v91:D4 accomp0:v0:G1 wait:48 melody:v0:D4 melody:v0:F4 melody:v0:B-3 melody:v91:D4 melody:v91:B-3 melody:v91:G4 wait:48 melody:v0:G4 melody:v0:B-3 melody:v0:D4 wait:24 melody:v91:D4 melody:v91:B-3 melody:v91:G4 wait:48 melody:v0:D4 melody:v0:B-3 melody:v0:G4 wait:24 [122] melody:v91:B-3 melody:v91:D4 melody:v91:F4 accomp0:v92:F2 wait:96 melody:v0:B-3 melody:v0:D4 melody:v0:F4 accomp0:v0:F2 accomp0:v92:G1 wait:96 melody:v91:D4 melody:v91:B-3 melody:v91:F4 accomp0:v0:G1 wait:48 melody:v0:F4 melody:v0:D4 melody:v0:B-3 melody:v91:D4 melody:v91:B-3 melody:v91:G4 wait:48 melody:v0:G4 melody:v0:B-3 melody:v0:D4 wait:24 melody:v91:D4 melody:v91:B-3 melody:v91:G4 wait:48 melody:v0:D4 melody:v0:B-3 melody:v0:G4 wait:24 melody:v91:D4 melody:v91:B-3 melody:v91:F4 accomp0:v92:F2 wait:96 [121] melody:v0:D4 melody:v0:B-3 melody:v0:F4 accomp0:v0:F2 accomp0:v92:G1 wait:96 melody:v91:F4 melody:v91:B-3 melody:v91:D4 accomp0:v0:G1 wait:48 melody:v0:D4 melody:v0:F4 melody:v0:B-3 melody:v91:D4 melody:v91:B-3 melody:v91:G4 wait:48 melody:v0:G4 melody:v0:B-3 melody:v0:D4 wait:24 melody:v91:G4 melody:v91:B-3 melody:v91:D4 wait:48 melody:v0:G4 melody:v0:B-3 melody:v0:D4 wait:24 melody:v98:D4 melody:v98:F4 melody:v91:B-4 accomp0:v100:G2 wait:96 melody:v0:D4 melody:v0:F4 melody:v0:B-4 accomp0:v0:G2 accomp0:v100:G1 wait:96 [120] melody:v100:B-4 melody:v98:F4 melody:v98:D4 accomp0:v0:G1 accomp0:v100:G1 wait:48 melody:v0:B-4 melody:v0:F4 melody:v0:D4 melody:v98:B-4 melody:v98:G4 melody:v98:D4 wait:48 melody:v0:D4 melody:v0:G4 melody:v0:B-4 accomp0:v0:G1 accomp0:v100:G1 wait:24 melody:v98:B-4 melody:v98:G4 melody:v98:D4 wait:48 melody:v0:B-4 melody:v0:G4 melody:v0:D4 wait:24 melody:v98:C4 melody:v98:F4 melody:v98:A4 accomp0:v0:G1 accomp0:v100:F2 wait:96 melody:v0:C4 melody:v0:F4 melody:v0:A4 accomp0:v0:F2 accomp0:v100:F1 wait:96 melody:v98:D5 melody:v98:F4 melody:v98:C4 accomp0:v0:F1 accomp0:v100:F1 wait:48 [119] melody:v0:D5 melody:v0:F4 melody:v0:C4 melody:v98:C5 melody:v98:F4 melody:v98:C4 wait:48 melody:v0:C4 melody:v0:F4 melody:v0:C5 accomp0:v0:F1 accomp0:v100:F1 wait:24 melody:v98:C5 melody:v98:F4 melody:v98:C4 wait:48 melody:v0:C5 melody:v0:F4 melody:v0:C4 wait:24 melody:v97:A4 melody:v97:F4 melody:v97:D4 accomp0:v0:F1 accomp0:v100:D3 wait:96 melody:v0:D4 melody:v0:A4 melody:v0:F4 accomp0:v0:D3 accomp0:v100:D2 wait:96 melody:v97:D4 melody:v97:F4 melody:v97:A4 accomp0:v0:D2 accomp0:v100:D2 wait:48 melody:v0:D4 melody:v0:F4 melody:v0:A4 melody:v96:F4 melody:v96:D4 melody:v96:A4 wait:48 [118] melody:v0:A4 melody:v0:D4 melody:v0:F4 accomp0:v0:D2 accomp0:v100:D2 wait:24 melody:v96:A4 melody:v96:F4 melody:v96:D4 wait:48 melody:v0:A4 melody:v0:F4 melody:v0:D4 wait:24 melody:v96:D5 melody:v96:G4 melody:v96:E4 accomp0:v0:D2 accomp0:v100:C3 wait:96 melody:v0:E4 melody:v0:D5 melody:v0:G4 accomp0:v0:C3 accomp0:v100:C2 wait:96 melody:v96:D5 melody:v96:E4 melody:v96:G4 accomp0:v0:C2 accomp0:v100:C2 wait:48 melody:v0:D5 melody:v0:E4 melody:v0:G4 melody:v96:G4 melody:v96:E4 melody:v96:C5 wait:48 melody:v0:C5 melody:v0:E4 melody:v0:G4 accomp0:v0:C2 accomp0:v100:C2 wait:24 melody:v96:E4 melody:v96:G4 melody:v96:A4 wait:48 [117] melody:v0:E4 melody:v0:G4 melody:v0:A4 wait:24 melody:v98:D4 melody:v98:F4 melody:v91:B-4 accomp0:v0:C2 accomp0:v100:G2 wait:96 melody:v0:D4 melody:v0:F4 melody:v0:B-4 accomp0:v0:G2 accomp0:v100:G1 wait:96 melody:v100:B-4 melody:v98:F4 melody:v98:D4 accomp0:v0:G1 accomp0:v100:G1 wait:48 melody:v0:B-4 melody:v0:F4 melody:v0:D4 melody:v98:B-4 melody:v98:G4 melody:v98:D4 wait:48 melody:v0:D4 melody:v0:G4 melody:v0:B-4 accomp0:v0:G1 accomp0:v100:G1 wait:24 melody:v98:B-4 melody:v98:G4 melody:v98:D4 wait:48 melody:v0:B-4 melody:v0:G4 melody:v0:D4 wait:24 melody:v98:C4 melody:v98:F4 melody:v98:A4 accomp0:v0:G1 accomp0:v100:F2 wait:96 [116] melody:v0:C4 melody:v0:F4 melody:v0:A4 accomp0:v0:F2 accomp0:v100:F1 wait:96 melody:v98:D5 melody:v98:F4 melody:v98:C4 accomp0:v0:F1 accomp0:v100:F1 wait:48 melody:v0:D5 melody:v0:F4 melody:v0:C4 melody:v98:C5 melody:v98:F4 melody:v98:C4 wait:48 melody:v0:C4 melody:v0:F4 melody:v0:C5 accomp0:v0:F1 accomp0:v100:F1 wait:24 melody:v98:C5 melody:v98:F4 melody:v98:C4 wait:48 melody:v0:C5 melody:v0:F4 melody:v0:C4 wait:24 melody:v97:A4 melody:v97:F4 melody:v97:D4 accomp0:v0:F1 accomp0:v100:D3 wait:96 melody:v0:D4 melody:v0:A4 melody:v0:F4 accomp0:v0:D3 accomp0:v100:D2 wait:96 [115] melody:v97:D4 melody:v97:F4 melody:v97:A4 accomp0:v0:D2 accomp0:v100:D2 wait:48 melody:v0:D4 melody:v0:F4 melody:v0:A4 melody:v96:F4 melody:v96:D4 melody:v96:A4 wait:48 melody:v0:A4 melody:v0:D4 melody:v0:F4 accomp0:v0:D2 accomp0:v100:D2 wait:24 melody:v96:A4 melody:v96:F4 melody:v96:D4 wait:48 melody:v0:A4 melody:v0:F4 melody:v0:D4 wait:24 melody:v96:D5 melody:v96:G4 melody:v96:E4 accomp0:v0:D2 accomp0:v100:C3 wait:96 melody:v0:E4 melody:v0:D5 melody:v0:G4 accomp0:v0:C3 accomp0:v100:C2 wait:96 [114] melody:v96:D5 melody:v96:E4 melody:v96:G4 accomp0:v0:C2 accomp0:v100:C2 wait:48 melody:v0:D5 melody:v0:E4 melody:v0:G4 melody:v96:G4 melody:v96:E4 melody:v96:C5 wait:48 melody:v0:C5 melody:v0:E4 melody:v0:G4 accomp0:v0:C2 accomp0:v100:C2 wait:24 melody:v96:E4 melody:v96:G4 melody:v96:A4 wait:48 melody:v0:E4 melody:v0:G4 melody:v0:A4 wait:24 accomp0:v0:C2 accomp0:v100:G2 wait:336 [113] accomp0:v0:G2 accomp0:v100:B-2 wait:432 [112] accomp0:v0:B-2 accomp0:v100:D3 wait:336 accomp0:v0:D3 accomp0:v100:C3 wait:432 [111] accomp0:v0:C3 accomp0:v100:G2 wait:48 melody:v100:F5 wait:48 [110] melody:v0:F5 wait:48 melody:v100:F5 wait:48 melody:v0:F5 wait:48 melody:v100:F5 wait:48 melody:v0:F5 wait:48 melody:v100:F5 accomp0:v0:G2 accomp0:v100:B-2 wait:48 melody:v0:F5 wait:48 melody:v100:F5 wait:48 melody:v0:F5 wait:48 melody:v100:F5 wait:48 [109] melody:v0:F5 wait:48 melody:v100:F5 wait:48 melody:v0:F5 wait:48 melody:v100:F5 wait:48 melody:v0:F5 accomp0:v0:B-2 accomp0:v100:D2 wait:48 melody:v100:F5 wait:48 melody:v0:F5 wait:48 melody:v100:F5 wait:48 melody:v0:F5 accomp0:v0:D2 accomp0:v100:F2 wait:48 [108] melody:v100:F5 wait:48 melody:v0:F5 wait:48 melody:v100:F5 accomp0:v0:F2 accomp0:v100:C3 wait:48 melody:v0:F5 wait:48 melody:v100:F5 wait:48 melody:v0:F5 wait:48 melody:v100:F5 wait:48 melody:v0:F5 wait:48 melody:v100:E5 wait:48 melody:v0:E5 wait:48 [107] melody:v100:C5 wait:48 melody:v0:C5 accomp0:v0:C3 accomp0:v100:G4 accomp0:v100:B-3 accomp0:v100:D4 wait:48 melody:v100:F5 wait:48 melody:v0:F5 wait:48 melody:v100:F5 wait:48 melody:v0:F5 wait:48 melody:v100:F5 wait:48 melody:v0:F5 wait:48 melody:v100:F5 wait:48 [106] melody:v0:F5 accomp0:v0:D4 accomp0:v0:B-3 accomp0:v0:G4 accomp0:v100:F4 accomp0:v100:B-3 accomp0:v100:D4 wait:48 melody:v100:F5 wait:48 melody:v0:F5 wait:48 melody:v100:F5 wait:48 melody:v0:F5 wait:48 melody:v100:F5 wait:48 melody:v0:F5 wait:48 melody:v100:C6 wait:48 melody:v0:C6 accomp0:v0:D4 accomp0:v0:B-3 accomp0:v0:F4 accomp0:v100:F4 accomp0:v100:A3 accomp0:v100:D4 wait:48 melody:v100:F5 wait:48 [105] melody:v0:F5 wait:48 melody:v100:F5 wait:48 melody:v0:F5 wait:48 melody:v100:F5 wait:48 melody:v0:F5 wait:48 melody:v100:F5 wait:48 melody:v0:F5 accomp0:v0:D4 accomp0:v0:A3 accomp0:v0:F4 accomp0:v100:E4 accomp0:v100:G3 accomp0:v100:C4 wait:48 melody:v100:F5 wait:48 melody:v0:F5 wait:48 [104] melody:v100:F5 wait:48 melody:v0:F5 wait:48 melody:v100:F5 wait:4 melody:v100:G5 wait:8 melody:v0:F5 wait:40 melody:v0:G5 wait:44 melody:v100:F5 wait:48 melody:v0:F5 accomp0:v0:C4 accomp0:v0:G3 accomp0:v0:E4 accomp0:v100:D4 accomp0:v100:B-3 accomp0:v100:G4 wait:48 melody:v100:F5 wait:48 melody:v0:F5 wait:48 melody:v100:F5 wait:48 melody:v0:F5 wait:48 [103] melody:v100:F5 wait:48 melody:v0:F5 wait:48 melody:v100:F5 wait:48 melody:v0:F5 accomp0:v0:G4 accomp0:v0:B-3 accomp0:v0:D4 accomp0:v100:B-3 accomp0:v100:F4 accomp0:v100:D4 wait:48 melody:v100:F5 wait:48 melody:v0:F5 wait:48 melody:v100:F5 wait:48 melody:v0:F5 wait:48 melody:v100:C5 wait:48 melody:v0:C5 wait:48 [102] melody:v100:F5 wait:48 melody:v0:F5 accomp0:v0:D4 accomp0:v0:F4 accomp0:v0:B-3 accomp0:v100:F3 accomp0:v100:D4 accomp0:v100:A3 wait:48 melody:v100:F5 wait:48 melody:v0:F5 wait:48 melody:v100:F5 wait:48 melody:v0:F5 accomp0:v0:A3 accomp0:v0:D4 accomp0:v0:F3 accomp0:v100:F4 accomp0:v100:A3 accomp0:v100:C4 wait:48 melody:v100:F5 wait:48 melody:v0:F5 wait:48 melody:v100:F5 wait:48 [101] melody:v0:F5 accomp0:v0:C4 accomp0:v0:A3 accomp0:v0:F4 accomp0:v100:E4 accomp0:v100:G3 accomp0:v100:C4 wait:48 melody:v100:F5 wait:48 melody:v0:F5 wait:48 melody:v100:F5 wait:48 melody:v0:F5 wait:48 melody:v100:E6 wait:48 melody:v0:E6 wait:48 melody:v100:C6 wait:48 melody:v0:C6 melody:v100:C6 accomp0:v0:C4 accomp0:v0:G3 accomp0:v0:E4 accomp0:v100:G4 accomp0:v100:B-3 accomp0:v100:D4 wait:240 [100] melody:v0:C6 melody:v100:C5 wait:96 melody:v0:C5 melody:v100:B-5 wait:48 accomp0:v0:D4 accomp0:v0:B-3 accomp0:v0:G4 accomp0:v100:F4 accomp0:v100:B-3 accomp0:v100:D4 wait:240 [99] melody:v0:B-5 melody:v100:B-4 wait:96 melody:v0:B-4 melody:v100:C6 wait:48 accomp0:v0:D4 accomp0:v0:B-3 accomp0:v0:F4 accomp0:v100:F4 accomp0:v100:A3 accomp0:v100:D4 wait:48 melody:v0:C6 melody:v100:A5 wait:48 melody:v0:A5 wait:48 melody:v100:A5 wait:96 [98] melody:v0:A5 melody:v100:C5 wait:96 melody:v0:C5 melody:v100:F5 wait:48 accomp0:v0:F4 accomp0:v0:D4 accomp0:v0:A3 accomp0:v100:E4 accomp0:v100:G3 accomp0:v100:C4 wait:384 [97] melody:v0:F5 melody:v100:C6 accomp0:v0:C4 accomp0:v0:G3 accomp0:v0:E4 accomp0:v100:D4 accomp0:v100:B-3 accomp0:v100:G4 wait:240 melody:v0:C6 melody:v100:C5 wait:96 melody:v0:C5 melody:v100:B-5 wait:48 [96] accomp0:v0:G4 accomp0:v0:B-3 accomp0:v0:D4 accomp0:v100:B-3 accomp0:v100:F4 accomp0:v100:D4 wait:240 melody:v0:B-5 melody:v100:B-4 wait:96 melody:v0:B-4 melody:v100:C6 wait:48 accomp0:v0:D4 accomp0:v0:F4 accomp0:v0:B-3 accomp0:v100:F4 accomp0:v100:A3 accomp0:v100:D4 wait:48 [95] melody:v0:C6 melody:v100:A5 wait:48 melody:v0:A5 wait:48 melody:v100:A5 wait:48 accomp0:v0:F4 accomp0:v0:D4 accomp0:v0:A3 accomp0:v100:A3 accomp0:v100:C4 accomp0:v100:F4 wait:48 melody:v0:A5 melody:v100:C5 wait:96 melody:v0:C5 melody:v100:F5 wait:48 accomp0:v0:F4 accomp0:v0:C4 accomp0:v0:A3 accomp0:v100:E4 accomp0:v100:G3 accomp0:v100:C4 wait:384 [94] melody:v0:F5 accomp0:v0:C4 accomp0:v0:G3 accomp0:v0:E4 wait:144 melody:v100:G5 wait:48 [93] melody:v0:G5 melody:v100:G5 wait:48 melody:v0:G5 melody:v100:A5 wait:24 melody:v0:A5 melody:v100:G5 wait:48 melody:v0:G5 wait:24 melody:v100:F5 wait:48 melody:v0:F5 accomp0:v100:G4 accomp0:v100:B-3 accomp0:v100:D4 wait:48 melody:v100:F5 wait:48 melody:v0:F5 melody:v100:G5 wait:48 melody:v0:G5 melody:v100:F5 wait:48 melody:v0:F5 melody:v100:G5 wait:48 melody:v0:G5 melody:v100:F5 wait:24 [92] melody:v0:F5 melody:v100:G5 wait:48 melody:v0:G5 wait:24 melody:v100:A5 accomp0:v0:D4 accomp0:v0:G4 accomp0:v0:B-3 accomp0:v100:B-4 accomp0:v100:F4 accomp0:v100:D4 wait:48 melody:v0:A5 wait:48 melody:v100:A5 wait:48 melody:v0:A5 melody:v100:A5 wait:48 melody:v0:A5 melody:v100:C5 wait:48 melody:v0:C5 wait:48 melody:v100:C5 wait:48 melody:v0:C5 melody:v100:F5 wait:48 [91] melody:v0:F5 melody:v100:G5 wait:48 melody:v0:G5 accomp0:v0:D4 accomp0:v0:F4 accomp0:v0:B-4 accomp0:v100:A4 accomp0:v100:F4 accomp0:v100:D4 wait:48 melody:v100:F5 wait:48 melody:v0:F5 melody:v100:G5 wait:48 melody:v0:G5 melody:v100:F5 wait:48 melody:v0:F5 melody:v100:G5 wait:48 melody:v0:G5 melody:v100:F5 wait:24 melody:v0:F5 melody:v100:G5 wait:72 melody:v0:G5 melody:v100:A5 accomp0:v0:D4 accomp0:v0:F4 accomp0:v0:A4 accomp0:v100:G4 accomp0:v100:E4 accomp0:v100:C4 wait:48 melody:v0:A5 wait:48 [90] melody:v100:C6 wait:48 melody:v0:C6 wait:48 melody:v100:C6 wait:48 melody:v0:C6 melody:v97:D6 wait:48 melody:v0:D6 melody:v100:C6 wait:24 melody:v0:C6 melody:v100:A5 wait:48 melody:v0:A5 wait:24 melody:v100:C6 wait:48 melody:v0:C6 accomp0:v0:C4 accomp0:v0:E4 accomp0:v0:G4 accomp0:v100:D4 accomp0:v100:B-3 accomp0:v100:G4 wait:48 melody:v100:F5 wait:48 [89] melody:v0:F5 melody:v100:G5 wait:48 melody:v0:G5 melody:v100:F5 wait:48 melody:v0:F5 melody:v100:G5 wait:48 melody:v0:G5 melody:v100:F5 wait:24 melody:v0:F5 melody:v100:G5 wait:48 melody:v0:G5 wait:24 melody:v100:A5 accomp0:v0:G4 accomp0:v0:B-3 accomp0:v0:D4 accomp0:v100:B-4 accomp0:v100:F4 accomp0:v100:D4 wait:48 melody:v0:A5 wait:48 melody:v100:A5 wait:48 melody:v0:A5 melody:v100:A5 wait:48 melody:v0:A5 melody:v100:C5 wait:48 [88] melody:v0:C5 wait:48 melody:v100:C5 wait:48 melody:v0:C5 melody:v100:F5 wait:48 melody:v0:F5 melody:v100:G5 wait:48 melody:v0:G5 accomp0:v0:D4 accomp0:v0:F4 accomp0:v0:B-4 accomp0:v100:F4 accomp0:v100:A3 accomp0:v100:D4 wait:48 melody:v100:C6 wait:48 melody:v0:C6 melody:v100:C6 wait:48 melody:v0:C6 melody:v100:F5 wait:48 melody:v0:F5 melody:v100:G5 accomp0:v0:D4 accomp0:v0:A3 accomp0:v0:F4 accomp0:v100:A4 accomp0:v100:C4 accomp0:v100:F4 wait:48 [87] melody:v0:G5 melody:v100:A5 wait:24 melody:v0:A5 melody:v100:G5 wait:48 melody:v0:G5 wait:24 melody:v100:G5 wait:48 melody:v0:G5 melody:v100:G5 accomp0:v0:F4 accomp0:v0:C4 accomp0:v0:A4 accomp0:v100:C4 accomp0:v100:E4 accomp0:v100:G4 wait:48 melody:v0:G5 melody:v100:A5 wait:24 melody:v0:A5 melody:v100:G5 wait:48 melody:v0:G5 wait:24 melody:v100:G5 wait:48 melody:v0:G5 melody:v100:G5 accomp0:v0:C4 accomp0:v0:G4 accomp0:v0:E4 wait:48 melody:v0:G5 melody:v100:A5 wait:24 melody:v0:A5 melody:v100:G5 wait:48 [86] melody:v0:G5 wait:24 melody:v100:F5 wait:48 melody:v0:F5 accomp0:v100:G2 accomp0:v100:G3 accomp0:v100:D3 wait:48 melody:v100:F4 melody:v100:F5 accomp0:v0:D3 accomp0:v0:G2 accomp0:v0:G3 wait:48 melody:v0:F5 melody:v0:F4 melody:v100:G4 melody:v100:G5 accomp0:v100:D3 accomp0:v100:G3 accomp0:v100:G2 wait:48 melody:v0:G4 melody:v0:G5 melody:v100:F4 melody:v100:F5 accomp0:v0:G2 accomp0:v0:G3 accomp0:v0:D3 accomp0:v100:G2 accomp0:v100:G3 accomp0:v100:D3 wait:48 melody:v0:F5 melody:v0:F4 melody:v100:G4 melody:v100:G5 accomp0:v0:D3 accomp0:v0:G3 accomp0:v0:G2 accomp0:v100:G2 accomp0:v100:G3 accomp0:v100:D3 wait:48 melody:v0:G5 melody:v0:G4 melody:v100:F4 melody:v100:F5 accomp0:v0:D3 accomp0:v0:G3 accomp0:v0:G2 accomp0:v100:G2 accomp0:v100:G3 accomp0:v100:D3 wait:24 melody:v0:F5 melody:v0:F4 melody:v100:G4 melody:v100:G5 wait:24 accomp0:v0:D3 accomp0:v0:G3 accomp0:v0:G2 accomp0:v100:G2 accomp0:v100:G3 accomp0:v100:D3 wait:24 melody:v0:G5 melody:v0:G4 wait:24 melody:v100:A4 melody:v100:A5 accomp0:v0:D3 accomp0:v0:G3 accomp0:v0:G2 accomp0:v100:B-2 accomp0:v100:B-3 accomp0:v100:F3 wait:48 [85] melody:v0:A4 melody:v0:A5 accomp0:v0:F3 accomp0:v0:B-3 accomp0:v0:B-2 wait:48 melody:v100:A4 melody:v100:A5 accomp0:v100:B-2 accomp0:v100:B-3 accomp0:v100:F3 wait:48 melody:v0:A4 melody:v0:A5 melody:v100:A4 melody:v100:A5 accomp0:v0:B-2 accomp0:v0:B-3 accomp0:v0:F3 wait:48 melody:v0:A5 melody:v0:A4 melody:v100:C4 melody:v100:C5 accomp0:v100:F3 accomp0:v100:B-3 accomp0:v100:B-2 wait:48 melody:v0:C4 melody:v0:C5 accomp0:v0:B-2 accomp0:v0:B-3 accomp0:v0:F3 wait:48 melody:v100:C4 melody:v100:C5 accomp0:v100:B-2 accomp0:v100:B-3 accomp0:v100:F3 wait:48 melody:v0:C4 melody:v0:C5 melody:v100:F4 melody:v100:F5 accomp0:v0:B-2 accomp0:v0:B-3 accomp0:v0:F3 wait:48 melody:v0:F5 melody:v0:F4 melody:v100:G4 melody:v100:G5 accomp0:v100:F3 accomp0:v100:B-3 accomp0:v100:B-2 wait:48 melody:v0:G4 melody:v0:G5 accomp0:v0:B-2 accomp0:v0:B-3 accomp0:v0:F3 accomp0:v100:A3 accomp0:v100:D4 accomp0:v100:D3 wait:48 melody:v100:F4 melody:v100:F5 accomp0:v0:D3 accomp0:v0:D4 accomp0:v0:A3 wait:48 [84] melody:v0:F5 melody:v0:F4 melody:v100:G4 melody:v100:G5 accomp0:v100:D3 accomp0:v100:D4 accomp0:v100:A3 wait:48 melody:v0:G4 melody:v0:G5 melody:v100:F4 melody:v100:F5 accomp0:v0:A3 accomp0:v0:D4 accomp0:v0:D3 accomp0:v100:A3 accomp0:v100:D4 accomp0:v100:D3 wait:48 melody:v0:F5 melody:v0:F4 melody:v100:G4 melody:v100:G5 accomp0:v0:D3 accomp0:v0:D4 accomp0:v0:A3 accomp0:v100:D3 accomp0:v100:D4 accomp0:v100:A3 wait:48 melody:v0:G5 melody:v0:G4 melody:v100:F4 melody:v100:F5 accomp0:v0:A3 accomp0:v0:D4 accomp0:v0:D3 accomp0:v100:D3 accomp0:v100:D4 accomp0:v100:A3 wait:24 melody:v0:F5 melody:v0:F4 melody:v100:G4 melody:v100:G5 wait:24 accomp0:v0:A3 accomp0:v0:D4 accomp0:v0:D3 accomp0:v100:A3 accomp0:v100:D4 accomp0:v100:D3 wait:48 melody:v0:G5 melody:v0:G4 melody:v100:A4 melody:v100:A5 accomp0:v0:D3 accomp0:v0:D4 accomp0:v0:A3 accomp0:v100:G3 accomp0:v100:C4 accomp0:v100:C3 wait:48 melody:v0:A5 melody:v0:A4 accomp0:v0:C3 accomp0:v0:C4 accomp0:v0:G3 wait:48 melody:v100:C5 melody:v100:C6 accomp0:v100:G3 accomp0:v100:C4 accomp0:v100:C3 wait:48 melody:v0:C5 melody:v0:C6 accomp0:v0:G3 accomp0:v0:C4 accomp0:v0:C3 wait:48 [83] melody:v100:C5 melody:v100:C6 accomp0:v100:C3 accomp0:v100:C4 accomp0:v100:G3 wait:48 melody:v0:C5 melody:v0:C6 melody:v100:D5 melody:v100:D6 accomp0:v0:C3 accomp0:v0:C4 accomp0:v0:G3 wait:48 melody:v0:D6 melody:v0:D5 melody:v100:C5 melody:v100:C6 accomp0:v100:C3 accomp0:v100:C4 accomp0:v100:G3 wait:24 melody:v0:C5 melody:v0:C6 melody:v100:A4 melody:v100:A5 wait:24 accomp0:v0:G3 accomp0:v0:C4 accomp0:v0:C3 wait:24 melody:v0:A4 melody:v0:A5 wait:24 melody:v100:C5 melody:v100:C6 accomp0:v100:C4 accomp0:v100:G3 accomp0:v100:C3 wait:48 melody:v0:C5 melody:v0:C6 accomp0:v0:C4 accomp0:v0:G3 accomp0:v0:C3 accomp0:v100:D3 accomp0:v100:G3 accomp0:v100:G2 wait:48 melody:v100:F4 melody:v100:F5 accomp0:v0:G2 accomp0:v0:G3 accomp0:v0:D3 wait:48 melody:v0:F5 melody:v0:F4 melody:v100:G4 melody:v100:G5 accomp0:v100:G2 accomp0:v100:G3 accomp0:v100:D3 wait:48 melody:v0:G4 melody:v0:G5 melody:v100:F4 melody:v100:F5 accomp0:v0:D3 accomp0:v0:G3 accomp0:v0:G2 accomp0:v100:G2 accomp0:v100:G3 accomp0:v100:D3 wait:48 melody:v0:F5 melody:v0:F4 melody:v100:G4 melody:v100:G5 accomp0:v0:D3 accomp0:v0:G3 accomp0:v0:G2 accomp0:v100:G2 accomp0:v100:G3 accomp0:v100:D3 wait:48 [82] melody:v0:G5 melody:v0:G4 melody:v100:F4 melody:v100:F5 accomp0:v0:D3 accomp0:v0:G3 accomp0:v0:G2 accomp0:v100:D3 accomp0:v100:G3 accomp0:v100:G2 wait:24 melody:v0:F5 melody:v0:F4 melody:v100:G4 melody:v100:G5 wait:24 accomp0:v0:G2 accomp0:v0:G3 accomp0:v0:D3 accomp0:v100:D3 accomp0:v100:G3 accomp0:v100:G2 wait:24 melody:v0:G5 melody:v0:G4 wait:24 melody:v100:A4 melody:v100:A5 accomp0:v0:G2 accomp0:v0:G3 accomp0:v0:D3 accomp0:v100:B-2 accomp0:v100:B-3 accomp0:v100:F3 wait:48 melody:v0:A4 melody:v0:A5 accomp0:v0:F3 accomp0:v0:B-3 accomp0:v0:B-2 wait:48 melody:v100:A4 melody:v100:A5 accomp0:v100:B-2 accomp0:v100:B-3 accomp0:v100:F3 wait:48 melody:v0:A4 melody:v0:A5 melody:v100:A4 melody:v100:A5 accomp0:v0:B-2 accomp0:v0:B-3 accomp0:v0:F3 wait:48 melody:v0:A5 melody:v0:A4 melody:v100:C4 melody:v100:C5 accomp0:v100:B-2 accomp0:v100:B-3 accomp0:v100:F3 wait:48 melody:v0:C4 melody:v0:C5 accomp0:v0:F3 accomp0:v0:B-3 accomp0:v0:B-2 wait:48 melody:v100:C4 melody:v100:C5 accomp0:v100:B-2 accomp0:v100:B-3 accomp0:v100:F3 wait:48 [81] melody:v0:C4 melody:v0:C5 melody:v100:F4 melody:v100:F5 accomp0:v0:B-2 accomp0:v0:B-3 accomp0:v0:F3 wait:48 melody:v0:F5 melody:v0:F4 melody:v100:G4 melody:v100:G5 accomp0:v100:B-2 accomp0:v100:B-3 accomp0:v100:F3 wait:48 melody:v0:G4 melody:v0:G5 accomp0:v0:F3 accomp0:v0:B-3 accomp0:v0:B-2 accomp0:v100:D2 accomp0:v100:D3 accomp0:v100:A2 wait:48 melody:v100:C5 melody:v100:C6 accomp0:v0:A2 accomp0:v0:D3 accomp0:v0:D2 wait:48 melody:v0:C6 melody:v0:C5 melody:v100:C5 melody:v100:C6 accomp0:v100:D2 accomp0:v100:D3 accomp0:v100:A2 wait:48 melody:v0:C5 melody:v0:C6 melody:v100:F4 melody:v100:F5 accomp0:v0:A2 accomp0:v0:D3 accomp0:v0:D2 accomp0:v100:F2 accomp0:v100:F3 accomp0:v100:C3 wait:48 melody:v0:F5 melody:v0:F4 melody:v100:G4 melody:v100:G5 wait:48 melody:v0:G5 melody:v0:G4 melody:v100:A4 melody:v100:A5 accomp0:v0:C3 accomp0:v0:F3 accomp0:v0:F2 accomp0:v100:F2 accomp0:v100:F3 accomp0:v100:C3 wait:24 melody:v0:A5 melody:v0:A4 melody:v100:G4 melody:v100:G5 wait:48 melody:v0:G5 melody:v0:G4 wait:24 melody:v100:G4 melody:v100:G5 accomp0:v0:C3 accomp0:v0:F3 accomp0:v0:F2 accomp0:v100:F2 accomp0:v100:F3 accomp0:v100:C3 wait:48 [80] melody:v0:G4 melody:v0:G5 melody:v100:G4 melody:v100:G5 accomp0:v0:C3 accomp0:v0:F3 accomp0:v0:F2 accomp0:v100:C3 accomp0:v100:C4 accomp0:v100:G3 wait:48 melody:v0:G5 melody:v0:G4 melody:v100:A4 melody:v100:A5 wait:24 melody:v0:A5 melody:v0:A4 melody:v100:G4 melody:v100:G5 wait:24 accomp0:v0:G3 accomp0:v0:C4 accomp0:v0:C3 accomp0:v100:C3 accomp0:v100:C4 accomp0:v100:G3 wait:24 melody:v0:G5 melody:v0:G4 wait:24 melody:v100:G4 melody:v100:G5 wait:48 melody:v0:G4 melody:v0:G5 melody:v100:G4 melody:v100:G5 accomp0:v0:G3 accomp0:v0:C4 accomp0:v0:C3 accomp0:v100:C3 accomp0:v100:C4 accomp0:v100:G3 wait:48 melody:v0:G5 melody:v0:G4 melody:v100:A4 melody:v100:A5 wait:24 melody:v0:A5 melody:v0:A4 melody:v100:G4 melody:v100:G5 wait:24 accomp0:v0:G3 accomp0:v0:C4 accomp0:v0:C3 accomp0:v100:G3 accomp0:v100:C4 accomp0:v100:C3 wait:24 melody:v0:G5 melody:v0:G4 wait:24 melody:v100:F5 melody:v100:F4 wait:48 melody:v0:F5 melody:v0:F4 accomp0:v0:C3 accomp0:v0:C4 accomp0:v0:G3 accomp0:v100:G2 accomp0:v100:G3 accomp0:v100:D3 wait:48 melody:v100:F4 melody:v100:F5 accomp0:v0:D3 accomp0:v0:G3 accomp0:v0:G2 wait:48 [79] melody:v0:F5 melody:v0:F4 melody:v100:G4 melody:v100:G5 accomp0:v100:D3 accomp0:v100:G3 accomp0:v100:G2 wait:48 melody:v0:G4 melody:v0:G5 melody:v100:F4 melody:v100:F5 accomp0:v0:G2 accomp0:v0:G3 accomp0:v0:D3 accomp0:v100:G2 accomp0:v100:G3 accomp0:v100:D3 wait:48 melody:v0:F5 melody:v0:F4 melody:v100:G4 melody:v100:G5 accomp0:v0:D3 accomp0:v0:G3 accomp0:v0:G2 accomp0:v100:G2 accomp0:v100:G3 accomp0:v100:D3 wait:48 melody:v0:G5 melody:v0:G4 melody:v100:F4 melody:v100:F5 accomp0:v0:D3 accomp0:v0:G3 accomp0:v0:G2 accomp0:v100:G2 accomp0:v100:G3 accomp0:v100:D3 wait:24 melody:v0:F5 melody:v0:F4 melody:v100:G4 melody:v100:G5 wait:24 accomp0:v0:D3 accomp0:v0:G3 accomp0:v0:G2 accomp0:v100:G2 accomp0:v100:G3 accomp0:v100:D3 wait:24 melody:v0:G5 melody:v0:G4 wait:24 melody:v100:A4 melody:v100:A5 accomp0:v0:D3 accomp0:v0:G3 accomp0:v0:G2 accomp0:v100:B-2 accomp0:v100:B-3 accomp0:v100:F3 wait:48 melody:v0:A4 melody:v0:A5 accomp0:v0:F3 accomp0:v0:B-3 accomp0:v0:B-2 wait:48 melody:v100:A4 melody:v100:A5 accomp0:v100:B-2 accomp0:v100:B-3 accomp0:v100:F3 wait:48 melody:v0:A4 melody:v0:A5 melody:v100:A4 melody:v100:A5 accomp0:v0:B-2 accomp0:v0:B-3 accomp0:v0:F3 wait:48 [78] melody:v0:A5 melody:v0:A4 melody:v100:C4 melody:v100:C5 accomp0:v100:F3 accomp0:v100:B-3 accomp0:v100:B-2 wait:48 melody:v0:C4 melody:v0:C5 accomp0:v0:B-2 accomp0:v0:B-3 accomp0:v0:F3 wait:48 melody:v100:C4 melody:v100:C5 accomp0:v100:B-2 accomp0:v100:B-3 accomp0:v100:F3 wait:48 melody:v0:C4 melody:v0:C5 melody:v100:F4 melody:v100:F5 accomp0:v0:B-2 accomp0:v0:B-3 accomp0:v0:F3 wait:48 melody:v0:F5 melody:v0:F4 melody:v100:G4 melody:v100:G5 accomp0:v100:F3 accomp0:v100:B-3 accomp0:v100:B-2 wait:48 melody:v0:G4 melody:v0:G5 accomp0:v0:B-2 accomp0:v0:B-3 accomp0:v0:F3 accomp0:v100:A3 accomp0:v100:D4 accomp0:v100:D3 wait:48 melody:v100:F4 melody:v100:F5 accomp0:v0:D3 accomp0:v0:D4 accomp0:v0:A3 wait:48 melody:v0:F5 melody:v0:F4 melody:v100:G4 melody:v100:G5 accomp0:v100:D3 accomp0:v100:D4 accomp0:v100:A3 wait:48 melody:v0:G4 melody:v0:G5 melody:v100:F4 melody:v100:F5 accomp0:v0:A3 accomp0:v0:D4 accomp0:v0:D3 accomp0:v100:A3 accomp0:v100:D4 accomp0:v100:D3 wait:48 melody:v0:F5 melody:v0:F4 melody:v100:G4 melody:v100:G5 accomp0:v0:D3 accomp0:v0:D4 accomp0:v0:A3 accomp0:v100:D3 accomp0:v100:D4 accomp0:v100:A3 wait:48 [77] melody:v0:G5 melody:v0:G4 melody:v100:F4 melody:v100:F5 accomp0:v0:A3 accomp0:v0:D4 accomp0:v0:D3 accomp0:v100:D3 accomp0:v100:D4 accomp0:v100:A3 wait:24 melody:v0:F5 melody:v0:F4 melody:v100:G4 melody:v100:G5 wait:24 accomp0:v0:A3 accomp0:v0:D4 accomp0:v0:D3 accomp0:v100:A3 accomp0:v100:D4 accomp0:v100:D3 wait:48 melody:v0:G5 melody:v0:G4 melody:v100:A4 melody:v100:A5 accomp0:v0:D3 accomp0:v0:D4 accomp0:v0:A3 accomp0:v100:G3 accomp0:v100:C4 accomp0:v100:C3 wait:48 melody:v0:A5 melody:v0:A4 accomp0:v0:C3 accomp0:v0:C4 accomp0:v0:G3 wait:48 melody:v100:C5 melody:v100:C6 accomp0:v100:G3 accomp0:v100:C4 accomp0:v100:C3 wait:48 melody:v0:C5 melody:v0:C6 accomp0:v0:G3 accomp0:v0:C4 accomp0:v0:C3 wait:48 melody:v100:C5 melody:v100:C6 accomp0:v100:C3 accomp0:v100:C4 accomp0:v100:G3 wait:48 melody:v0:C5 melody:v0:C6 melody:v100:D5 melody:v100:D6 accomp0:v0:C3 accomp0:v0:C4 accomp0:v0:G3 wait:48 melody:v0:D6 melody:v0:D5 melody:v100:C5 melody:v100:C6 accomp0:v100:C3 accomp0:v100:C4 accomp0:v100:G3 wait:24 melody:v0:C5 melody:v0:C6 melody:v100:A4 melody:v100:A5 wait:24 [76] accomp0:v0:G3 accomp0:v0:C4 accomp0:v0:C3 wait:24 melody:v0:A4 melody:v0:A5 wait:24 melody:v100:C5 melody:v100:C6 accomp0:v100:C4 accomp0:v100:G3 accomp0:v100:C3 wait:48 melody:v0:C5 melody:v0:C6 accomp0:v0:C4 accomp0:v0:G3 accomp0:v0:C3 accomp0:v100:D3 accomp0:v100:G3 accomp0:v100:G2 wait:48 melody:v100:F4 melody:v100:F5 accomp0:v0:G2 accomp0:v0:G3 accomp0:v0:D3 wait:48 melody:v0:F5 melody:v0:F4 melody:v100:G4 melody:v100:G5 accomp0:v100:G2 accomp0:v100:G3 accomp0:v100:D3 wait:48 melody:v0:G4 melody:v0:G5 melody:v100:F4 melody:v100:F5 accomp0:v0:D3 accomp0:v0:G3 accomp0:v0:G2 accomp0:v100:G2 accomp0:v100:G3 accomp0:v100:D3 wait:48 melody:v0:F5 melody:v0:F4 melody:v100:G4 melody:v100:G5 accomp0:v0:D3 accomp0:v0:G3 accomp0:v0:G2 accomp0:v100:G2 accomp0:v100:G3 accomp0:v100:D3 wait:48 melody:v0:G5 melody:v0:G4 melody:v100:F4 melody:v100:F5 accomp0:v0:D3 accomp0:v0:G3 accomp0:v0:G2 accomp0:v100:D3 accomp0:v100:G3 accomp0:v100:G2 wait:24 melody:v0:F5 melody:v0:F4 melody:v100:G4 melody:v100:G5 wait:24 accomp0:v0:G2 accomp0:v0:G3 accomp0:v0:D3 accomp0:v100:D3 accomp0:v100:G3 accomp0:v100:G2 wait:24 melody:v0:G5 melody:v0:G4 wait:24 melody:v100:A4 melody:v100:A5 accomp0:v0:G2 accomp0:v0:G3 accomp0:v0:D3 accomp0:v100:B-2 accomp0:v100:B-3 accomp0:v100:F3 wait:48 [75] melody:v0:A4 melody:v0:A5 accomp0:v0:F3 accomp0:v0:B-3 accomp0:v0:B-2 wait:48 melody:v100:A4 melody:v100:A5 accomp0:v100:B-2 accomp0:v100:B-3 accomp0:v100:F3 wait:48 melody:v0:A4 melody:v0:A5 melody:v100:A4 melody:v100:A5 accomp0:v0:B-2 accomp0:v0:B-3 accomp0:v0:F3 wait:48 melody:v0:A5 melody:v0:A4 melody:v100:C4 melody:v100:C5 accomp0:v100:B-2 accomp0:v100:B-3 accomp0:v100:F3 wait:48 melody:v0:C4 melody:v0:C5 accomp0:v0:F3 accomp0:v0:B-3 accomp0:v0:B-2 wait:48 melody:v100:C4 melody:v100:C5 accomp0:v100:B-2 accomp0:v100:B-3 accomp0:v100:F3 wait:48 melody:v0:C4 melody:v0:C5 melody:v100:F4 melody:v100:F5 accomp0:v0:B-2 accomp0:v0:B-3 accomp0:v0:F3 wait:48 melody:v0:F5 melody:v0:F4 melody:v100:G4 melody:v100:G5 accomp0:v100:B-2 accomp0:v100:B-3 accomp0:v100:F3 wait:48 melody:v0:G4 melody:v0:G5 accomp0:v0:F3 accomp0:v0:B-3 accomp0:v0:B-2 accomp0:v100:D2 accomp0:v100:D3 accomp0:v100:A2 wait:48 [74] melody:v100:C5 melody:v100:C6 accomp0:v0:A2 accomp0:v0:D3 accomp0:v0:D2 wait:48 melody:v0:C6 melody:v0:C5 melody:v100:C5 melody:v100:C6 accomp0:v100:D2 accomp0:v100:D3 accomp0:v100:A2 wait:48 melody:v0:C5 melody:v0:C6 melody:v100:F4 melody:v100:F5 accomp0:v0:A2 accomp0:v0:D3 accomp0:v0:D2 accomp0:v100:F2 accomp0:v100:F3 accomp0:v100:C3 wait:48 melody:v0:F5 melody:v0:F4 melody:v100:G4 melody:v100:G5 wait:48 melody:v0:G5 melody:v0:G4 melody:v100:A4 melody:v100:A5 accomp0:v0:C3 accomp0:v0:F3 accomp0:v0:F2 accomp0:v100:F2 accomp0:v100:F3 accomp0:v100:C3 wait:24 melody:v0:A5 melody:v0:A4 melody:v100:G4 melody:v100:G5 wait:48 melody:v0:G5 melody:v0:G4 wait:24 melody:v100:G4 melody:v100:G5 accomp0:v0:C3 accomp0:v0:F3 accomp0:v0:F2 accomp0:v100:F2 accomp0:v100:F3 accomp0:v100:C3 wait:48 melody:v0:G4 melody:v0:G5 melody:v100:G4 melody:v100:G5 accomp0:v0:C3 accomp0:v0:F3 accomp0:v0:F2 accomp0:v100:C3 accomp0:v100:C4 accomp0:v100:G3 wait:48 melody:v0:G5 melody:v0:G4 melody:v100:A4 melody:v100:A5 wait:24 melody:v0:A5 melody:v0:A4 melody:v100:G4 melody:v100:G5 wait:24 accomp0:v0:G3 accomp0:v0:C4 accomp0:v0:C3 accomp0:v100:C3 accomp0:v100:C4 accomp0:v100:G3 wait:24 [73] melody:v0:G5 melody:v0:G4 wait:24 melody:v100:G4 melody:v100:G5 wait:48 melody:v0:G4 melody:v0:G5 melody:v100:G4 melody:v100:G5 accomp0:v0:G3 accomp0:v0:C4 accomp0:v0:C3 accomp0:v100:C3 accomp0:v100:C4 accomp0:v100:G3 wait:48 melody:v0:G5 melody:v0:G4 melody:v100:A4 melody:v100:A5 wait:24 melody:v0:A5 melody:v0:A4 melody:v100:G4 melody:v100:G5 wait:24 accomp0:v0:G3 accomp0:v0:C4 accomp0:v0:C3 accomp0:v100:G3 accomp0:v100:C4 accomp0:v100:C3 wait:24 melody:v0:G5 melody:v0:G4 wait:24 melody:v100:F5 melody:v100:F4 wait:48 melody:v0:F5 melody:v0:F4 melody:v98:C5 accomp0:v0:C3 accomp0:v0:C4 accomp0:v0:G3 accomp0:v100:G2 accomp0:v100:G3 accomp0:v100:D3 wait:48 melody:v0:C5 melody:v98:F5 accomp0:v0:D3 accomp0:v0:G3 accomp0:v0:G2 wait:48 melody:v0:F5 melody:v98:F5 accomp0:v100:G2 accomp0:v100:G3 accomp0:v100:D3 wait:48 melody:v0:F5 melody:v98:D5 accomp0:v0:D3 accomp0:v0:G2 accomp0:v0:G3 accomp0:v100:G2 accomp0:v100:G3 accomp0:v100:D3 wait:48 [72] melody:v0:D5 melody:v98:F5 accomp0:v0:D3 accomp0:v0:G3 accomp0:v0:G2 accomp0:v100:G2 accomp0:v100:G3 accomp0:v100:D3 wait:48 melody:v0:F5 melody:v98:F5 accomp0:v0:D3 accomp0:v0:G3 accomp0:v0:G2 accomp0:v100:G2 accomp0:v100:G3 accomp0:v100:D3 wait:48 melody:v0:F5 melody:v98:D5 accomp0:v0:D3 accomp0:v0:G3 accomp0:v0:G2 accomp0:v100:D3 accomp0:v100:G3 accomp0:v100:G2 wait:48 melody:v0:D5 melody:v98:F5 accomp0:v0:G2 accomp0:v0:G3 accomp0:v0:D3 accomp0:v100:F3 accomp0:v100:B-3 accomp0:v100:B-2 wait:48 melody:v0:F5 accomp0:v0:B-2 accomp0:v0:B-3 accomp0:v0:F3 wait:48 melody:v98:F5 accomp0:v100:B-2 accomp0:v100:B-3 accomp0:v100:F3 wait:48 melody:v0:F5 melody:v98:F5 accomp0:v0:B-2 accomp0:v0:B-3 accomp0:v0:F3 wait:48 melody:v0:F5 melody:v98:D5 accomp0:v100:B-2 accomp0:v100:B-3 accomp0:v100:F3 wait:48 melody:v0:D5 melody:v98:F5 accomp0:v0:F3 accomp0:v0:B-2 accomp0:v0:B-3 wait:48 melody:v0:F5 melody:v98:F5 accomp0:v100:B-2 accomp0:v100:B-3 accomp0:v100:F3 wait:48 [71] melody:v0:F5 melody:v98:D5 accomp0:v0:F3 accomp0:v0:B-2 accomp0:v0:B-3 wait:48 melody:v0:D5 melody:v98:F5 accomp0:v100:F3 accomp0:v100:B-3 accomp0:v100:B-2 wait:48 melody:v0:F5 accomp0:v0:B-2 accomp0:v0:F3 accomp0:v0:B-3 accomp0:v100:A3 accomp0:v100:D4 accomp0:v100:D3 wait:48 melody:v98:F5 accomp0:v0:D3 accomp0:v0:D4 accomp0:v0:A3 wait:48 melody:v0:F5 melody:v98:F5 accomp0:v100:A3 accomp0:v100:D4 accomp0:v100:D3 wait:48 melody:v0:F5 melody:v98:D5 accomp0:v0:D3 accomp0:v0:A3 accomp0:v0:D4 accomp0:v100:A3 accomp0:v100:D4 accomp0:v100:D3 wait:48 melody:v0:D5 melody:v98:F5 accomp0:v0:D3 accomp0:v0:D4 accomp0:v0:A3 accomp0:v100:D3 accomp0:v100:D4 accomp0:v100:A3 wait:48 melody:v0:F5 melody:v98:F5 accomp0:v0:A3 accomp0:v0:D4 accomp0:v0:D3 accomp0:v100:A3 accomp0:v100:D4 accomp0:v100:D3 wait:48 melody:v0:F5 melody:v98:D5 accomp0:v0:D3 accomp0:v0:D4 accomp0:v0:A3 accomp0:v100:D3 accomp0:v100:D4 accomp0:v100:A3 wait:48 [70] melody:v0:D5 melody:v98:C5 accomp0:v0:A3 accomp0:v0:D4 accomp0:v0:D3 accomp0:v100:C3 accomp0:v100:C4 accomp0:v100:G3 wait:48 melody:v0:C5 accomp0:v0:G3 accomp0:v0:C4 accomp0:v0:C3 wait:48 melody:v98:F5 accomp0:v100:G3 accomp0:v100:C4 accomp0:v100:C3 wait:48 melody:v0:F5 melody:v98:F5 accomp0:v0:G3 accomp0:v0:C4 accomp0:v0:C3 wait:48 melody:v0:F5 melody:v98:F5 accomp0:v100:G3 accomp0:v100:C4 accomp0:v100:C3 wait:48 melody:v0:F5 melody:v98:F5 accomp0:v0:C3 accomp0:v0:G3 accomp0:v0:C4 wait:48 melody:v0:F5 melody:v98:C5 accomp0:v100:G3 accomp0:v100:C4 accomp0:v100:C3 wait:48 melody:v0:C5 melody:v98:G4 accomp0:v0:C3 accomp0:v0:G3 accomp0:v0:C4 wait:48 melody:v0:G4 melody:v98:A4 accomp0:v100:C4 accomp0:v100:G3 accomp0:v100:C3 wait:48 melody:v0:A4 melody:v98:C5 accomp0:v0:C3 accomp0:v0:C4 accomp0:v0:G3 accomp0:v100:G2 accomp0:v100:G3 accomp0:v100:D3 wait:48 [69] melody:v0:C5 melody:v98:F5 accomp0:v0:D3 accomp0:v0:G3 accomp0:v0:G2 wait:48 melody:v0:F5 melody:v98:F5 accomp0:v100:G2 accomp0:v100:G3 accomp0:v100:D3 wait:48 melody:v0:F5 melody:v98:D5 accomp0:v0:D3 accomp0:v0:G2 accomp0:v0:G3 accomp0:v100:D3 accomp0:v100:G3 accomp0:v100:G2 wait:48 melody:v0:D5 melody:v98:F5 accomp0:v0:G2 accomp0:v0:G3 accomp0:v0:D3 accomp0:v100:G2 accomp0:v100:G3 accomp0:v100:D3 wait:48 melody:v0:F5 melody:v98:F5 accomp0:v0:D3 accomp0:v0:G3 accomp0:v0:G2 accomp0:v100:G2 accomp0:v100:G3 accomp0:v100:D3 wait:48 melody:v0:F5 melody:v98:D5 accomp0:v0:D3 accomp0:v0:G3 accomp0:v0:G2 accomp0:v100:G2 accomp0:v100:G3 accomp0:v100:D3 wait:48 melody:v0:D5 melody:v98:F5 accomp0:v0:D3 accomp0:v0:G3 accomp0:v0:G2 accomp0:v100:F3 accomp0:v100:B-3 accomp0:v100:B-2 wait:48 melody:v0:F5 accomp0:v0:B-2 accomp0:v0:B-3 accomp0:v0:F3 wait:48 melody:v98:F5 accomp0:v100:B-2 accomp0:v100:B-3 accomp0:v100:F3 wait:48 [68] melody:v0:F5 melody:v98:F5 accomp0:v0:B-2 accomp0:v0:B-3 accomp0:v0:F3 wait:48 melody:v0:F5 melody:v98:D5 accomp0:v100:F3 accomp0:v100:B-3 accomp0:v100:B-2 wait:48 melody:v0:D5 melody:v98:F5 accomp0:v0:B-2 accomp0:v0:F3 accomp0:v0:B-3 wait:48 melody:v0:F5 melody:v98:A4 accomp0:v100:B-2 accomp0:v100:B-3 accomp0:v100:F3 wait:48 melody:v0:A4 melody:v98:D5 accomp0:v0:F3 accomp0:v0:B-2 accomp0:v0:B-3 wait:48 melody:v0:D5 melody:v98:F5 accomp0:v100:F3 accomp0:v100:B-3 accomp0:v100:B-2 wait:48 melody:v0:F5 accomp0:v0:B-2 accomp0:v0:F3 accomp0:v0:B-3 accomp0:v100:A2 accomp0:v100:D3 accomp0:v100:D2 wait:48 melody:v98:F5 accomp0:v0:D2 accomp0:v0:D3 accomp0:v0:A2 wait:48 melody:v0:F5 melody:v98:F5 accomp0:v100:A2 accomp0:v100:D3 accomp0:v100:D2 wait:48 melody:v0:F5 melody:v98:D5 accomp0:v0:D2 accomp0:v0:A2 accomp0:v0:D3 accomp0:v100:F2 accomp0:v100:F3 accomp0:v100:C3 wait:48 [67] melody:v0:D5 melody:v98:G5 wait:48 melody:v0:G5 melody:v98:G5 accomp0:v0:C3 accomp0:v0:F3 accomp0:v0:F2 accomp0:v100:F2 accomp0:v100:F3 accomp0:v100:C3 wait:48 melody:v0:G5 melody:v98:F5 wait:48 melody:v0:F5 melody:v98:G5 accomp0:v0:C3 accomp0:v0:F3 accomp0:v0:F2 accomp0:v100:C3 accomp0:v100:F3 accomp0:v100:F2 wait:48 melody:v0:G5 accomp0:v0:F2 accomp0:v0:F3 accomp0:v0:C3 accomp0:v100:C3 accomp0:v100:C4 accomp0:v100:G3 wait:48 melody:v98:G5 wait:48 melody:v0:G5 accomp0:v0:G3 accomp0:v0:C4 accomp0:v0:C3 accomp0:v100:G3 accomp0:v100:C4 accomp0:v100:C3 wait:48 melody:v98:G5 wait:24 melody:v0:G5 melody:v98:A5 wait:24 accomp0:v0:C3 accomp0:v0:C4 accomp0:v0:G3 accomp0:v100:C3 accomp0:v100:C4 accomp0:v100:G3 wait:24 melody:v0:A5 wait:24 [66] melody:v98:A5 wait:48 melody:v0:A5 melody:v98:F5 accomp0:v0:G3 accomp0:v0:C4 accomp0:v0:C3 accomp0:v100:C3 accomp0:v100:C4 accomp0:v100:G3 wait:48 melody:v0:F5 melody:v98:D5 wait:48 melody:v0:D5 accomp0:v0:G3 accomp0:v0:C4 accomp0:v0:C3 accomp0:v100:G2 wait:336 [65] accomp0:v0:G2 accomp0:v100:B-2 wait:432 [64] accomp0:v0:B-2 accomp0:v100:D3 wait:336 accomp0:v0:D3 accomp0:v100:C3 wait:432 [63] accomp0:v0:C3 accomp0:v100:G4 accomp0:v100:B-3 accomp0:v100:D4 wait:48 melody:v100:F5 wait:48 melody:v0:F5 wait:48 [62] melody:v100:F5 wait:48 melody:v0:F5 wait:48 melody:v100:F5 wait:48 melody:v0:F5 wait:48 melody:v100:F5 wait:48 melody:v0:F5 accomp0:v0:D4 accomp0:v0:G4 accomp0:v0:B-3 accomp0:v100:F4 accomp0:v100:B-3 accomp0:v100:D4 wait:48 melody:v100:F5 wait:48 melody:v0:F5 wait:48 melody:v100:F5 wait:48 melody:v0:F5 wait:48 [61] melody:v100:F5 wait:48 melody:v0:F5 wait:48 melody:v100:C6 wait:48 melody:v0:C6 accomp0:v0:D4 accomp0:v0:B-3 accomp0:v0:F4 accomp0:v100:F4 accomp0:v100:A3 accomp0:v100:D4 wait:48 melody:v100:F5 wait:48 melody:v0:F5 wait:48 melody:v100:F5 wait:48 melody:v0:F5 wait:48 melody:v100:F5 wait:48 [60] melody:v0:F5 wait:48 melody:v100:F5 wait:48 melody:v0:F5 accomp0:v0:D4 accomp0:v0:A3 accomp0:v0:F4 accomp0:v100:E4 accomp0:v100:G3 accomp0:v100:C4 wait:48 melody:v100:F5 wait:48 melody:v0:F5 wait:48 melody:v100:F5 wait:48 melody:v0:F5 wait:48 melody:v100:F5 wait:4 melody:v100:G5 wait:8 melody:v0:F5 wait:40 melody:v0:G5 wait:44 melody:v100:F5 wait:48 [59] melody:v0:F5 accomp0:v0:C4 accomp0:v0:G3 accomp0:v0:E4 accomp0:v100:D4 accomp0:v100:B-3 accomp0:v100:G4 wait:48 melody:v100:F5 wait:48 melody:v0:F5 wait:48 melody:v100:F5 wait:48 melody:v0:F5 wait:48 melody:v100:F5 wait:48 melody:v0:F5 wait:48 melody:v100:F5 wait:48 melody:v0:F5 accomp0:v0:G4 accomp0:v0:B-3 accomp0:v0:D4 accomp0:v100:B-3 accomp0:v100:F4 accomp0:v100:D4 wait:48 [58] melody:v100:F5 wait:48 melody:v0:F5 wait:48 melody:v100:F5 wait:48 melody:v0:F5 wait:48 melody:v100:C5 wait:48 melody:v0:C5 wait:48 melody:v100:F5 wait:48 melody:v0:F5 accomp0:v0:D4 accomp0:v0:F4 accomp0:v0:B-3 accomp0:v100:F3 accomp0:v100:D4 accomp0:v100:A3 wait:48 melody:v100:F5 wait:48 melody:v0:F5 wait:48 [57] melody:v100:F5 wait:48 melody:v0:F5 accomp0:v0:A3 accomp0:v0:D4 accomp0:v0:F3 accomp0:v100:F4 accomp0:v100:A3 accomp0:v100:C4 wait:48 melody:v100:F5 wait:48 melody:v0:F5 wait:48 melody:v100:F5 wait:48 melody:v0:F5 accomp0:v0:C4 accomp0:v0:A3 accomp0:v0:F4 accomp0:v100:E4 accomp0:v100:G3 accomp0:v100:C4 wait:48 melody:v100:F5 wait:48 melody:v0:F5 wait:48 melody:v100:F5 wait:48 [56] melody:v0:F5 wait:48 melody:v100:E6 wait:48 melody:v0:E6 wait:48 melody:v100:C6 wait:48 melody:v0:C6 melody:v100:C6 accomp0:v0:C4 accomp0:v0:G3 accomp0:v0:E4 accomp0:v100:G4 accomp0:v100:B-3 accomp0:v100:D4 wait:240 melody:v0:C6 melody:v100:C5 wait:96 [55] melody:v0:C5 melody:v100:B-5 wait:48 accomp0:v0:D4 accomp0:v0:B-3 accomp0:v0:G4 accomp0:v100:F4 accomp0:v100:B-3 accomp0:v100:D4 wait:240 melody:v0:B-5 melody:v100:B-4 wait:96 melody:v0:B-4 melody:v100:C6 wait:48 [54] accomp0:v0:D4 accomp0:v0:B-3 accomp0:v0:F4 accomp0:v100:F4 accomp0:v100:A3 accomp0:v100:D4 wait:48 melody:v0:C6 melody:v100:A5 wait:48 melody:v0:A5 wait:48 melody:v100:A5 wait:96 melody:v0:A5 melody:v100:C5 wait:96 melody:v0:C5 melody:v100:F5 wait:48 accomp0:v0:F4 accomp0:v0:D4 accomp0:v0:A3 accomp0:v100:E4 accomp0:v100:G3 accomp0:v100:C4 wait:384 [53] melody:v0:F5 melody:v100:C6 accomp0:v0:C4 accomp0:v0:G3 accomp0:v0:E4 accomp0:v100:D4 accomp0:v100:B-3 accomp0:v100:G4 wait:240 [52] melody:v0:C6 melody:v100:C5 wait:96 melody:v0:C5 melody:v100:B-5 wait:48 accomp0:v0:G4 accomp0:v0:B-3 accomp0:v0:D4 accomp0:v100:B-3 accomp0:v100:F4 accomp0:v100:D4 wait:240 [51] melody:v0:B-5 melody:v100:B-4 wait:96 melody:v0:B-4 melody:v100:C6 wait:48 accomp0:v0:D4 accomp0:v0:F4 accomp0:v0:B-3 accomp0:v100:F4 accomp0:v100:A3 accomp0:v100:D4 wait:48 melody:v0:C6 melody:v100:A5 wait:48 melody:v0:A5 wait:48 melody:v100:A5 wait:48 accomp0:v0:F4 accomp0:v0:D4 accomp0:v0:A3 accomp0:v100:A3 accomp0:v100:C4 accomp0:v100:F4 wait:48 melody:v0:A5 melody:v100:C5 wait:96 [50] melody:v0:C5 melody:v100:F5 wait:48 accomp0:v0:F4 accomp0:v0:C4 accomp0:v0:A3 accomp0:v100:E4 accomp0:v100:G3 accomp0:v100:C4 wait:384 [49] melody:v0:F5 accomp0:v0:C4 accomp0:v0:G3 accomp0:v0:E4 accomp0:v100:G4 accomp0:v100:B-3 accomp0:v100:D4 wait:48 melody:v100:F5 wait:48 melody:v0:F5 melody:v100:G5 wait:48 melody:v0:G5 melody:v100:F5 wait:48 melody:v0:F5 melody:v100:G5 wait:48 melody:v0:G5 melody:v100:F5 wait:24 melody:v0:F5 melody:v100:G5 wait:48 melody:v0:G5 wait:24 melody:v100:A5 accomp0:v0:D4 accomp0:v0:B-3 accomp0:v0:G4 accomp0:v100:B-4 accomp0:v100:F4 accomp0:v100:D4 wait:48 melody:v0:A5 wait:48 [48] melody:v100:A5 wait:48 melody:v0:A5 melody:v100:A5 wait:48 melody:v0:A5 melody:v100:C5 wait:48 melody:v0:C5 wait:48 melody:v100:C5 wait:48 melody:v0:C5 melody:v100:F5 wait:48 melody:v0:F5 melody:v100:G5 wait:48 melody:v0:G5 accomp0:v0:D4 accomp0:v0:F4 accomp0:v0:B-4 accomp0:v100:A4 accomp0:v100:F4 accomp0:v100:D4 wait:48 melody:v100:F5 wait:48 [47] melody:v0:F5 melody:v100:G5 wait:48 melody:v0:G5 melody:v100:F5 wait:48 melody:v0:F5 melody:v100:G5 wait:48 melody:v0:G5 melody:v100:F5 wait:24 melody:v0:F5 melody:v100:G5 wait:72 melody:v0:G5 melody:v100:A5 accomp0:v0:D4 accomp0:v0:F4 accomp0:v0:A4 accomp0:v100:G4 accomp0:v100:E4 accomp0:v100:C4 wait:48 melody:v0:A5 wait:48 melody:v100:C6 wait:48 melody:v0:C6 wait:48 melody:v100:C6 wait:48 [46] melody:v0:C6 melody:v100:D6 wait:48 melody:v0:D6 melody:v100:C6 wait:24 melody:v0:C6 melody:v100:A5 wait:48 melody:v0:A5 wait:24 melody:v100:C6 wait:48 melody:v0:C6 accomp0:v0:C4 accomp0:v0:E4 accomp0:v0:G4 accomp0:v100:D4 accomp0:v100:B-3 accomp0:v100:G4 wait:48 melody:v100:F5 wait:48 melody:v0:F5 melody:v100:G5 wait:48 melody:v0:G5 melody:v100:F5 wait:48 melody:v0:F5 melody:v100:G5 wait:48 [45] melody:v0:G5 melody:v100:F5 wait:24 melody:v0:F5 melody:v100:G5 wait:48 melody:v0:G5 wait:24 melody:v100:A5 accomp0:v0:G4 accomp0:v0:B-3 accomp0:v0:D4 accomp0:v100:B-4 accomp0:v100:F4 accomp0:v100:D4 wait:48 melody:v0:A5 wait:48 melody:v100:A5 wait:48 melody:v0:A5 melody:v100:A5 wait:48 melody:v0:A5 melody:v100:C5 wait:48 melody:v0:C5 wait:48 melody:v100:C5 wait:48 melody:v0:C5 melody:v100:F5 wait:48 [44] melody:v0:F5 melody:v100:G5 wait:48 melody:v0:G5 accomp0:v0:D4 accomp0:v0:F4 accomp0:v0:B-4 accomp0:v100:F4 accomp0:v100:A3 accomp0:v100:D4 wait:48 melody:v100:C6 wait:48 melody:v0:C6 melody:v100:C6 wait:48 melody:v0:C6 melody:v100:F5 wait:48 melody:v0:F5 melody:v100:G5 accomp0:v0:D4 accomp0:v0:A3 accomp0:v0:F4 accomp0:v100:A4 accomp0:v100:C4 accomp0:v100:F4 wait:48 melody:v0:G5 melody:v100:A5 wait:24 melody:v0:A5 melody:v100:G5 wait:48 melody:v0:G5 wait:24 melody:v100:G5 wait:48 [43] melody:v0:G5 melody:v100:G5 accomp0:v0:F4 accomp0:v0:C4 accomp0:v0:A4 accomp0:v100:G4 accomp0:v100:E4 accomp0:v100:C4 wait:48 melody:v0:G5 melody:v100:A5 wait:24 melody:v0:A5 melody:v100:G5 wait:48 melody:v0:G5 wait:24 melody:v100:G5 wait:48 melody:v0:G5 melody:v100:G5 wait:48 melody:v0:G5 melody:v100:A5 wait:24 melody:v0:A5 melody:v100:G5 wait:48 melody:v0:G5 wait:24 melody:v100:F5 wait:48 melody:v0:F5 accomp0:v0:C4 accomp0:v0:E4 accomp0:v0:G4 accomp0:v100:G4 accomp0:v100:B-3 accomp0:v100:D4 wait:48 melody:v100:F5 wait:48 [42] melody:v0:F5 melody:v100:G5 wait:48 melody:v0:G5 melody:v100:F5 wait:48 melody:v0:F5 melody:v100:G5 wait:48 melody:v0:G5 melody:v100:F5 wait:24 melody:v0:F5 melody:v100:G5 wait:48 melody:v0:G5 wait:24 melody:v100:A5 accomp0:v0:D4 accomp0:v0:B-3 accomp0:v0:G4 accomp0:v100:B-4 accomp0:v100:F4 accomp0:v100:D4 wait:48 melody:v0:A5 wait:48 melody:v100:A5 wait:48 melody:v0:A5 melody:v100:A5 wait:48 [41] melody:v0:A5 melody:v100:C5 wait:48 melody:v0:C5 wait:48 melody:v100:C5 wait:48 melody:v0:C5 melody:v100:F5 wait:48 melody:v0:F5 melody:v100:G5 wait:48 melody:v0:G5 accomp0:v0:D4 accomp0:v0:F4 accomp0:v0:B-4 accomp0:v100:A4 accomp0:v100:F4 accomp0:v100:D4 wait:48 melody:v100:F5 wait:48 melody:v0:F5 melody:v100:G5 wait:48 melody:v0:G5 melody:v100:F5 wait:48 melody:v0:F5 melody:v100:G5 wait:48 [40] melody:v0:G5 melody:v100:F5 wait:24 melody:v0:F5 melody:v100:G5 wait:72 melody:v0:G5 melody:v100:A5 accomp0:v0:D4 accomp0:v0:F4 accomp0:v0:A4 accomp0:v100:G4 accomp0:v100:E4 accomp0:v100:C4 wait:48 melody:v0:A5 wait:48 melody:v100:C6 wait:48 melody:v0:C6 wait:48 melody:v100:C6 wait:48 melody:v0:C6 melody:v97:D6 wait:48 melody:v0:D6 melody:v100:C6 wait:24 melody:v0:C6 melody:v100:A5 wait:48 [39] melody:v0:A5 wait:24 melody:v100:C6 wait:48 melody:v0:C6 accomp0:v0:C4 accomp0:v0:E4 accomp0:v0:G4 accomp0:v100:D4 accomp0:v100:B-3 accomp0:v100:G4 wait:48 melody:v100:F5 wait:48 melody:v0:F5 melody:v100:G5 wait:48 melody:v0:G5 melody:v100:F5 wait:48 melody:v0:F5 melody:v100:G5 wait:48 melody:v0:G5 melody:v100:F5 wait:24 melody:v0:F5 melody:v100:G5 wait:48 melody:v0:G5 wait:24 melody:v100:A5 accomp0:v0:G4 accomp0:v0:B-3 accomp0:v0:D4 accomp0:v100:B-4 accomp0:v100:F4 accomp0:v100:D4 wait:48 [38] melody:v0:A5 wait:48 melody:v100:A5 wait:48 melody:v0:A5 melody:v100:A5 wait:48 melody:v0:A5 melody:v100:C5 wait:48 melody:v0:C5 wait:48 melody:v100:C5 wait:48 melody:v0:C5 melody:v100:F5 wait:48 melody:v0:F5 melody:v100:G5 wait:48 melody:v0:G5 accomp0:v0:D4 accomp0:v0:F4 accomp0:v0:B-4 accomp0:v100:F4 accomp0:v100:A3 accomp0:v100:D4 wait:48 [37] melody:v100:C6 wait:48 melody:v0:C6 melody:v100:C6 wait:48 melody:v0:C6 melody:v100:F5 wait:48 melody:v0:F5 melody:v100:G5 accomp0:v0:D4 accomp0:v0:A3 accomp0:v0:F4 accomp0:v100:A4 accomp0:v100:C4 accomp0:v100:F4 wait:48 melody:v0:G5 melody:v100:A5 wait:24 melody:v0:A5 melody:v100:G5 wait:48 melody:v0:G5 wait:24 melody:v100:G5 wait:48 melody:v0:G5 melody:v100:G5 accomp0:v0:F4 accomp0:v0:C4 accomp0:v0:A4 accomp0:v100:C4 accomp0:v100:E4 accomp0:v100:G4 wait:48 melody:v0:G5 melody:v100:A5 wait:24 melody:v0:A5 melody:v100:G5 wait:48 [36] melody:v0:G5 wait:24 melody:v100:G5 wait:48 melody:v0:G5 melody:v100:G5 accomp0:v0:C4 accomp0:v0:G4 accomp0:v0:E4 wait:48 melody:v0:G5 melody:v100:A5 wait:24 melody:v0:A5 melody:v100:G5 wait:48 melody:v0:G5 wait:24 melody:v100:F5 wait:48 melody:v0:F5 accomp0:v100:G2 accomp0:v100:G3 accomp0:v100:D3 wait:48 melody:v100:F4 melody:v100:F5 accomp0:v0:D3 accomp0:v0:G2 accomp0:v0:G3 wait:48 melody:v0:F5 melody:v0:F4 melody:v100:G4 melody:v100:G5 accomp0:v100:D3 accomp0:v100:G3 accomp0:v100:G2 wait:48 melody:v0:G4 melody:v0:G5 melody:v100:F4 melody:v100:F5 accomp0:v0:G2 accomp0:v0:G3 accomp0:v0:D3 accomp0:v100:G2 accomp0:v100:G3 accomp0:v100:D3 wait:48 [35] melody:v0:F5 melody:v0:F4 melody:v100:G4 melody:v100:G5 accomp0:v0:D3 accomp0:v0:G3 accomp0:v0:G2 accomp0:v100:G2 accomp0:v100:G3 accomp0:v100:D3 wait:48 melody:v0:G5 melody:v0:G4 melody:v100:F4 melody:v100:F5 accomp0:v0:D3 accomp0:v0:G3 accomp0:v0:G2 accomp0:v100:G2 accomp0:v100:G3 accomp0:v100:D3 wait:24 melody:v0:F5 melody:v0:F4 melody:v100:G4 melody:v100:G5 wait:24 accomp0:v0:D3 accomp0:v0:G3 accomp0:v0:G2 accomp0:v100:G2 accomp0:v100:G3 accomp0:v100:D3 wait:24 melody:v0:G5 melody:v0:G4 wait:24 melody:v100:A4 melody:v100:A5 accomp0:v0:D3 accomp0:v0:G3 accomp0:v0:G2 accomp0:v100:B-2 accomp0:v100:B-3 accomp0:v100:F3 wait:48 melody:v0:A4 melody:v0:A5 accomp0:v0:F3 accomp0:v0:B-3 accomp0:v0:B-2 wait:48 melody:v100:A4 melody:v100:A5 accomp0:v100:B-2 accomp0:v100:B-3 accomp0:v100:F3 wait:48 melody:v0:A4 melody:v0:A5 melody:v100:A4 melody:v100:A5 accomp0:v0:B-2 accomp0:v0:B-3 accomp0:v0:F3 wait:48 melody:v0:A5 melody:v0:A4 melody:v100:C4 melody:v100:C5 accomp0:v100:F3 accomp0:v100:B-3 accomp0:v100:B-2 wait:48 melody:v0:C4 melody:v0:C5 accomp0:v0:B-2 accomp0:v0:B-3 accomp0:v0:F3 wait:48 melody:v100:C4 melody:v100:C5 accomp0:v100:B-2 accomp0:v100:B-3 accomp0:v100:F3 wait:48 [34] melody:v0:C4 melody:v0:C5 melody:v100:F4 melody:v100:F5 accomp0:v0:B-2 accomp0:v0:B-3 accomp0:v0:F3 wait:48 melody:v0:F5 melody:v0:F4 melody:v100:G4 melody:v100:G5 accomp0:v100:F3 accomp0:v100:B-3 accomp0:v100:B-2 wait:48 melody:v0:G4 melody:v0:G5 accomp0:v0:B-2 accomp0:v0:B-3 accomp0:v0:F3 accomp0:v100:A3 accomp0:v100:D4 accomp0:v100:D3 wait:48 melody:v100:F4 melody:v100:F5 accomp0:v0:D3 accomp0:v0:D4 accomp0:v0:A3 wait:48 melody:v0:F5 melody:v0:F4 melody:v100:G4 melody:v100:G5 accomp0:v100:D3 accomp0:v100:D4 accomp0:v100:A3 wait:48 melody:v0:G4 melody:v0:G5 melody:v100:F4 melody:v100:F5 accomp0:v0:A3 accomp0:v0:D4 accomp0:v0:D3 accomp0:v100:A3 accomp0:v100:D4 accomp0:v100:D3 wait:48 melody:v0:F5 melody:v0:F4 melody:v100:G4 melody:v100:G5 accomp0:v0:D3 accomp0:v0:D4 accomp0:v0:A3 accomp0:v100:D3 accomp0:v100:D4 accomp0:v100:A3 wait:48 melody:v0:G5 melody:v0:G4 melody:v100:F4 melody:v100:F5 accomp0:v0:A3 accomp0:v0:D4 accomp0:v0:D3 accomp0:v100:D3 accomp0:v100:D4 accomp0:v100:A3 wait:24 melody:v0:F5 melody:v0:F4 melody:v100:G4 melody:v100:G5 wait:24 accomp0:v0:A3 accomp0:v0:D4 accomp0:v0:D3 accomp0:v100:A3 accomp0:v100:D4 accomp0:v100:D3 wait:48 [33] melody:v0:G5 melody:v0:G4 melody:v100:A4 melody:v100:A5 accomp0:v0:D3 accomp0:v0:D4 accomp0:v0:A3 accomp0:v100:G3 accomp0:v100:C4 accomp0:v100:C3 wait:48 melody:v0:A5 melody:v0:A4 accomp0:v0:C3 accomp0:v0:C4 accomp0:v0:G3 wait:48 melody:v100:C5 melody:v100:C6 accomp0:v100:G3 accomp0:v100:C4 accomp0:v100:C3 wait:48 melody:v0:C5 melody:v0:C6 accomp0:v0:G3 accomp0:v0:C4 accomp0:v0:C3 wait:48 melody:v100:C5 melody:v100:C6 accomp0:v100:C3 accomp0:v100:C4 accomp0:v100:G3 wait:48 melody:v0:C5 melody:v0:C6 melody:v100:D5 melody:v100:D6 accomp0:v0:C3 accomp0:v0:C4 accomp0:v0:G3 wait:48 melody:v0:D6 melody:v0:D5 melody:v100:C5 melody:v100:C6 accomp0:v100:C3 accomp0:v100:C4 accomp0:v100:G3 wait:24 melody:v0:C5 melody:v0:C6 melody:v100:A4 melody:v100:A5 wait:24 accomp0:v0:G3 accomp0:v0:C4 accomp0:v0:C3 wait:24 melody:v0:A4 melody:v0:A5 wait:24 melody:v100:C5 melody:v100:C6 accomp0:v100:C4 accomp0:v100:G3 accomp0:v100:C3 wait:48 melody:v0:C5 melody:v0:C6 accomp0:v0:C4 accomp0:v0:G3 accomp0:v0:C3 accomp0:v100:D3 accomp0:v100:G3 accomp0:v100:G2 wait:48 [32] melody:v100:F4 melody:v100:F5 accomp0:v0:G2 accomp0:v0:G3 accomp0:v0:D3 wait:48 melody:v0:F5 melody:v0:F4 melody:v100:G4 melody:v100:G5 accomp0:v100:G2 accomp0:v100:G3 accomp0:v100:D3 wait:48 melody:v0:G4 melody:v0:G5 melody:v100:F4 melody:v100:F5 accomp0:v0:D3 accomp0:v0:G3 accomp0:v0:G2 accomp0:v100:G2 accomp0:v100:G3 accomp0:v100:D3 wait:48 melody:v0:F5 melody:v0:F4 melody:v100:G4 melody:v100:G5 accomp0:v0:D3 accomp0:v0:G3 accomp0:v0:G2 accomp0:v100:G2 accomp0:v100:G3 accomp0:v100:D3 wait:48 melody:v0:G5 melody:v0:G4 melody:v100:F4 melody:v100:F5 accomp0:v0:D3 accomp0:v0:G3 accomp0:v0:G2 accomp0:v100:D3 accomp0:v100:G3 accomp0:v100:G2 wait:24 melody:v0:F5 melody:v0:F4 melody:v100:G4 melody:v100:G5 wait:24 accomp0:v0:G2 accomp0:v0:G3 accomp0:v0:D3 accomp0:v100:D3 accomp0:v100:G3 accomp0:v100:G2 wait:24 melody:v0:G5 melody:v0:G4 wait:24 melody:v100:A4 melody:v100:A5 accomp0:v0:G2 accomp0:v0:G3 accomp0:v0:D3 accomp0:v100:B-2 accomp0:v100:B-3 accomp0:v100:F3 wait:48 melody:v0:A4 melody:v0:A5 accomp0:v0:F3 accomp0:v0:B-3 accomp0:v0:B-2 wait:48 melody:v100:A4 melody:v100:A5 accomp0:v100:B-2 accomp0:v100:B-3 accomp0:v100:F3 wait:48 melody:v0:A4 melody:v0:A5 melody:v100:A4 melody:v100:A5 accomp0:v0:B-2 accomp0:v0:B-3 accomp0:v0:F3 wait:48 [31] melody:v0:A5 melody:v0:A4 melody:v100:C4 melody:v100:C5 accomp0:v100:B-2 accomp0:v100:B-3 accomp0:v100:F3 wait:48 melody:v0:C4 melody:v0:C5 accomp0:v0:F3 accomp0:v0:B-3 accomp0:v0:B-2 wait:48 melody:v100:C4 melody:v100:C5 accomp0:v100:B-2 accomp0:v100:B-3 accomp0:v100:F3 wait:48 melody:v0:C4 melody:v0:C5 melody:v100:F4 melody:v100:F5 accomp0:v0:B-2 accomp0:v0:B-3 accomp0:v0:F3 wait:48 melody:v0:F5 melody:v0:F4 melody:v100:G4 melody:v100:G5 accomp0:v100:B-2 accomp0:v100:B-3 accomp0:v100:F3 wait:48 melody:v0:G4 melody:v0:G5 accomp0:v0:F3 accomp0:v0:B-3 accomp0:v0:B-2 accomp0:v100:D2 accomp0:v100:D3 accomp0:v100:A2 wait:48 melody:v100:C5 melody:v100:C6 accomp0:v0:A2 accomp0:v0:D3 accomp0:v0:D2 wait:48 melody:v0:C6 melody:v0:C5 melody:v100:C5 melody:v100:C6 accomp0:v100:D2 accomp0:v100:D3 accomp0:v100:A2 wait:48 melody:v0:C5 melody:v0:C6 melody:v100:F4 melody:v100:F5 accomp0:v0:A2 accomp0:v0:D3 accomp0:v0:D2 accomp0:v100:F2 accomp0:v100:F3 accomp0:v100:C3 wait:48 [30] melody:v0:F5 melody:v0:F4 melody:v100:G4 melody:v100:G5 wait:48 melody:v0:G5 melody:v0:G4 melody:v100:A4 melody:v100:A5 accomp0:v0:C3 accomp0:v0:F3 accomp0:v0:F2 accomp0:v100:F2 accomp0:v100:F3 accomp0:v100:C3 wait:24 melody:v0:A5 melody:v0:A4 melody:v100:G4 melody:v100:G5 wait:48 melody:v0:G5 melody:v0:G4 wait:24 melody:v100:G4 melody:v100:G5 accomp0:v0:C3 accomp0:v0:F3 accomp0:v0:F2 accomp0:v100:F2 accomp0:v100:F3 accomp0:v100:C3 wait:48 melody:v0:G4 melody:v0:G5 melody:v100:G4 melody:v100:G5 accomp0:v0:C3 accomp0:v0:F3 accomp0:v0:F2 accomp0:v100:C3 accomp0:v100:C4 accomp0:v100:G3 wait:48 melody:v0:G5 melody:v0:G4 melody:v100:A4 melody:v100:A5 wait:24 melody:v0:A5 melody:v0:A4 melody:v100:G4 melody:v100:G5 wait:24 accomp0:v0:G3 accomp0:v0:C4 accomp0:v0:C3 accomp0:v100:C3 accomp0:v100:C4 accomp0:v100:G3 wait:24 melody:v0:G5 melody:v0:G4 wait:24 melody:v100:G4 melody:v100:G5 wait:48 melody:v0:G4 melody:v0:G5 melody:v100:G4 melody:v100:G5 accomp0:v0:G3 accomp0:v0:C4 accomp0:v0:C3 accomp0:v100:C3 accomp0:v100:C4 accomp0:v100:G3 wait:48 melody:v0:G5 melody:v0:G4 melody:v100:A4 melody:v100:A5 wait:24 [29] melody:v0:A5 melody:v0:A4 melody:v100:G4 melody:v100:G5 wait:24 accomp0:v0:G3 accomp0:v0:C4 accomp0:v0:C3 accomp0:v100:G3 accomp0:v100:C4 accomp0:v100:C3 wait:24 melody:v0:G5 melody:v0:G4 wait:24 melody:v100:F5 melody:v100:F4 wait:48 melody:v0:F5 melody:v0:F4 accomp0:v0:C3 accomp0:v0:C4 accomp0:v0:G3 accomp0:v100:G2 accomp0:v100:G3 accomp0:v100:D3 wait:48 melody:v100:F4 melody:v100:F5 accomp0:v0:D3 accomp0:v0:G3 accomp0:v0:G2 wait:48 melody:v0:F5 melody:v0:F4 melody:v100:G4 melody:v100:G5 accomp0:v100:D3 accomp0:v100:G3 accomp0:v100:G2 wait:48 melody:v0:G4 melody:v0:G5 melody:v100:F4 melody:v100:F5 accomp0:v0:G2 accomp0:v0:G3 accomp0:v0:D3 accomp0:v100:G2 accomp0:v100:G3 accomp0:v100:D3 wait:48 melody:v0:F5 melody:v0:F4 melody:v100:G4 melody:v100:G5 accomp0:v0:D3 accomp0:v0:G3 accomp0:v0:G2 accomp0:v100:G2 accomp0:v100:G3 accomp0:v100:D3 wait:48 melody:v0:G5 melody:v0:G4 melody:v100:F4 melody:v100:F5 accomp0:v0:D3 accomp0:v0:G3 accomp0:v0:G2 accomp0:v100:G2 accomp0:v100:G3 accomp0:v100:D3 wait:24 melody:v0:F5 melody:v0:F4 melody:v100:G4 melody:v100:G5 wait:24 accomp0:v0:D3 accomp0:v0:G3 accomp0:v0:G2 accomp0:v100:G2 accomp0:v100:G3 accomp0:v100:D3 wait:24 melody:v0:G5 melody:v0:G4 wait:24 [28] melody:v100:A4 melody:v100:A5 accomp0:v0:D3 accomp0:v0:G3 accomp0:v0:G2 accomp0:v100:B-2 accomp0:v100:B-3 accomp0:v100:F3 wait:48 melody:v0:A4 melody:v0:A5 accomp0:v0:F3 accomp0:v0:B-3 accomp0:v0:B-2 wait:48 melody:v100:A4 melody:v100:A5 accomp0:v100:B-2 accomp0:v100:B-3 accomp0:v100:F3 wait:48 melody:v0:A4 melody:v0:A5 melody:v100:A4 melody:v100:A5 accomp0:v0:B-2 accomp0:v0:B-3 accomp0:v0:F3 wait:48 melody:v0:A5 melody:v0:A4 melody:v100:C4 melody:v100:C5 accomp0:v100:F3 accomp0:v100:B-3 accomp0:v100:B-2 wait:48 melody:v0:C4 melody:v0:C5 accomp0:v0:B-2 accomp0:v0:B-3 accomp0:v0:F3 wait:48 melody:v100:C4 melody:v100:C5 accomp0:v100:B-2 accomp0:v100:B-3 accomp0:v100:F3 wait:48 melody:v0:C4 melody:v0:C5 melody:v100:F4 melody:v100:F5 accomp0:v0:B-2 accomp0:v0:B-3 accomp0:v0:F3 wait:48 melody:v0:F5 melody:v0:F4 melody:v100:G4 melody:v100:G5 accomp0:v100:F3 accomp0:v100:B-3 accomp0:v100:B-2 wait:48 melody:v0:G4 melody:v0:G5 accomp0:v0:B-2 accomp0:v0:B-3 accomp0:v0:F3 accomp0:v100:A3 accomp0:v100:D4 accomp0:v100:D3 wait:48 [27] melody:v100:F4 melody:v100:F5 accomp0:v0:D3 accomp0:v0:D4 accomp0:v0:A3 wait:48 melody:v0:F5 melody:v0:F4 melody:v100:G4 melody:v100:G5 accomp0:v100:D3 accomp0:v100:D4 accomp0:v100:A3 wait:48 melody:v0:G4 melody:v0:G5 melody:v100:F4 melody:v100:F5 accomp0:v0:A3 accomp0:v0:D4 accomp0:v0:D3 accomp0:v100:A3 accomp0:v100:D4 accomp0:v100:D3 wait:48 melody:v0:F5 melody:v0:F4 melody:v100:G4 melody:v100:G5 accomp0:v0:D3 accomp0:v0:D4 accomp0:v0:A3 accomp0:v100:D3 accomp0:v100:D4 accomp0:v100:A3 wait:48 melody:v0:G5 melody:v0:G4 melody:v100:F4 melody:v100:F5 accomp0:v0:A3 accomp0:v0:D4 accomp0:v0:D3 accomp0:v100:D3 accomp0:v100:D4 accomp0:v100:A3 wait:24 melody:v0:F5 melody:v0:F4 melody:v100:G4 melody:v100:G5 wait:24 accomp0:v0:A3 accomp0:v0:D4 accomp0:v0:D3 accomp0:v100:A3 accomp0:v100:D4 accomp0:v100:D3 wait:48 melody:v0:G5 melody:v0:G4 melody:v100:A4 melody:v100:A5 accomp0:v0:D3 accomp0:v0:D4 accomp0:v0:A3 accomp0:v100:G3 accomp0:v100:C4 accomp0:v100:C3 wait:48 melody:v0:A5 melody:v0:A4 accomp0:v0:C3 accomp0:v0:C4 accomp0:v0:G3 wait:48 melody:v100:C5 melody:v100:C6 accomp0:v100:G3 accomp0:v100:C4 accomp0:v100:C3 wait:48 [26] melody:v0:C5 melody:v0:C6 accomp0:v0:G3 accomp0:v0:C4 accomp0:v0:C3 wait:48 melody:v100:C5 melody:v100:C6 accomp0:v100:C3 accomp0:v100:C4 accomp0:v100:G3 wait:48 melody:v0:C5 melody:v0:C6 melody:v100:D5 melody:v100:D6 accomp0:v0:C3 accomp0:v0:C4 accomp0:v0:G3 wait:48 melody:v0:D6 melody:v0:D5 melody:v100:C5 melody:v100:C6 accomp0:v100:C3 accomp0:v100:C4 accomp0:v100:G3 wait:24 melody:v0:C5 melody:v0:C6 melody:v100:A4 melody:v100:A5 wait:24 accomp0:v0:G3 accomp0:v0:C4 accomp0:v0:C3 wait:24 melody:v0:A4 melody:v0:A5 wait:24 melody:v100:C5 melody:v100:C6 accomp0:v100:C4 accomp0:v100:G3 accomp0:v100:C3 wait:48 melody:v0:C5 melody:v0:C6 accomp0:v0:C4 accomp0:v0:G3 accomp0:v0:C3 accomp0:v100:D3 accomp0:v100:G3 accomp0:v100:G2 wait:48 melody:v100:F4 melody:v100:F5 accomp0:v0:G2 accomp0:v0:G3 accomp0:v0:D3 wait:48 melody:v0:F5 melody:v0:F4 melody:v100:G4 melody:v100:G5 accomp0:v100:G2 accomp0:v100:G3 accomp0:v100:D3 wait:48 melody:v0:G4 melody:v0:G5 melody:v100:F4 melody:v100:F5 accomp0:v0:D3 accomp0:v0:G3 accomp0:v0:G2 accomp0:v100:G2 accomp0:v100:G3 accomp0:v100:D3 wait:48 [25] melody:v0:F5 melody:v0:F4 melody:v100:G4 melody:v100:G5 accomp0:v0:D3 accomp0:v0:G3 accomp0:v0:G2 accomp0:v100:G2 accomp0:v100:G3 accomp0:v100:D3 wait:48 melody:v0:G5 melody:v0:G4 melody:v100:F4 melody:v100:F5 accomp0:v0:D3 accomp0:v0:G3 accomp0:v0:G2 accomp0:v100:D3 accomp0:v100:G3 accomp0:v100:G2 wait:24 melody:v0:F5 melody:v0:F4 melody:v100:G4 melody:v100:G5 wait:24 accomp0:v0:G2 accomp0:v0:G3 accomp0:v0:D3 accomp0:v100:D3 accomp0:v100:G3 accomp0:v100:G2 wait:24 melody:v0:G5 melody:v0:G4 wait:24 melody:v100:A4 melody:v100:A5 accomp0:v0:G2 accomp0:v0:G3 accomp0:v0:D3 accomp0:v100:B-2 accomp0:v100:B-3 accomp0:v100:F3 wait:48 melody:v0:A4 melody:v0:A5 accomp0:v0:F3 accomp0:v0:B-3 accomp0:v0:B-2 wait:48 melody:v100:A4 melody:v100:A5 accomp0:v100:B-2 accomp0:v100:B-3 accomp0:v100:F3 wait:48 melody:v0:A4 melody:v0:A5 melody:v100:A4 melody:v100:A5 accomp0:v0:B-2 accomp0:v0:B-3 accomp0:v0:F3 wait:48 melody:v0:A5 melody:v0:A4 melody:v100:C4 melody:v100:C5 accomp0:v100:B-2 accomp0:v100:B-3 accomp0:v100:F3 wait:48 melody:v0:C4 melody:v0:C5 accomp0:v0:F3 accomp0:v0:B-3 accomp0:v0:B-2 wait:48 [24] melody:v100:C4 melody:v100:C5 accomp0:v100:B-2 accomp0:v100:B-3 accomp0:v100:F3 wait:48 melody:v0:C4 melody:v0:C5 melody:v100:F4 melody:v100:F5 accomp0:v0:B-2 accomp0:v0:B-3 accomp0:v0:F3 wait:48 melody:v0:F5 melody:v0:F4 melody:v100:G4 melody:v100:G5 accomp0:v100:B-2 accomp0:v100:B-3 accomp0:v100:F3 wait:48 melody:v0:G4 melody:v0:G5 accomp0:v0:F3 accomp0:v0:B-3 accomp0:v0:B-2 accomp0:v100:D2 accomp0:v100:D3 accomp0:v100:A2 wait:48 melody:v100:C5 melody:v100:C6 accomp0:v0:A2 accomp0:v0:D3 accomp0:v0:D2 wait:48 melody:v0:C6 melody:v0:C5 melody:v100:C5 melody:v100:C6 accomp0:v100:D2 accomp0:v100:D3 accomp0:v100:A2 wait:48 melody:v0:C5 melody:v0:C6 melody:v100:F4 melody:v100:F5 accomp0:v0:A2 accomp0:v0:D3 accomp0:v0:D2 accomp0:v100:F2 accomp0:v100:F3 accomp0:v100:C3 wait:48 melody:v0:F5 melody:v0:F4 melody:v100:G4 melody:v100:G5 wait:48 melody:v0:G5 melody:v0:G4 melody:v100:A4 melody:v100:A5 accomp0:v0:C3 accomp0:v0:F3 accomp0:v0:F2 accomp0:v100:F2 accomp0:v100:F3 accomp0:v100:C3 wait:24 melody:v0:A5 melody:v0:A4 melody:v100:G4 melody:v100:G5 wait:48 [23] melody:v0:G5 melody:v0:G4 wait:24 melody:v100:G4 melody:v100:G5 accomp0:v0:C3 accomp0:v0:F3 accomp0:v0:F2 accomp0:v100:F2 accomp0:v100:F3 accomp0:v100:C3 wait:48 melody:v0:G4 melody:v0:G5 melody:v100:G4 melody:v100:G5 accomp0:v0:C3 accomp0:v0:F3 accomp0:v0:F2 accomp0:v100:C3 accomp0:v100:C4 accomp0:v100:G3 wait:48 melody:v0:G5 melody:v0:G4 melody:v100:A4 melody:v100:A5 wait:24 melody:v0:A5 melody:v0:A4 melody:v100:G4 melody:v100:G5 wait:24 accomp0:v0:G3 accomp0:v0:C4 accomp0:v0:C3 accomp0:v100:C3 accomp0:v100:C4 accomp0:v100:G3 wait:24 melody:v0:G5 melody:v0:G4 wait:24 melody:v100:G4 melody:v100:G5 wait:48 melody:v0:G4 melody:v0:G5 melody:v100:G4 melody:v100:G5 accomp0:v0:G3 accomp0:v0:C4 accomp0:v0:C3 accomp0:v100:C3 accomp0:v100:C4 accomp0:v100:G3 wait:48 melody:v0:G5 melody:v0:G4 melody:v100:A4 melody:v100:A5 wait:24 melody:v0:A5 melody:v0:A4 melody:v100:G4 melody:v100:G5 wait:24 accomp0:v0:G3 accomp0:v0:C4 accomp0:v0:C3 accomp0:v100:G3 accomp0:v100:C4 accomp0:v100:C3 wait:24 melody:v0:G5 melody:v0:G4 wait:24 melody:v100:F5 melody:v100:F4 wait:48 [22] melody:v0:F5 melody:v0:F4 melody:v98:C5 accomp0:v0:C3 accomp0:v0:C4 accomp0:v0:G3 accomp0:v100:G2 accomp0:v100:G3 accomp0:v100:D3 wait:48 melody:v0:C5 melody:v98:F5 accomp0:v0:D3 accomp0:v0:G3 accomp0:v0:G2 wait:48 melody:v0:F5 melody:v98:F5 accomp0:v100:G2 accomp0:v100:G3 accomp0:v100:D3 wait:48 melody:v0:F5 melody:v98:D5 accomp0:v0:D3 accomp0:v0:G2 accomp0:v0:G3 accomp0:v100:G2 accomp0:v100:G3 accomp0:v100:D3 wait:48 melody:v0:D5 melody:v98:F5 accomp0:v0:D3 accomp0:v0:G3 accomp0:v0:G2 accomp0:v100:G2 accomp0:v100:G3 accomp0:v100:D3 wait:48 melody:v0:F5 melody:v98:F5 accomp0:v0:D3 accomp0:v0:G3 accomp0:v0:G2 accomp0:v100:G2 accomp0:v100:G3 accomp0:v100:D3 wait:48 melody:v0:F5 melody:v98:D5 accomp0:v0:D3 accomp0:v0:G3 accomp0:v0:G2 accomp0:v100:D3 accomp0:v100:G3 accomp0:v100:G2 wait:48 melody:v0:D5 melody:v98:F5 accomp0:v0:G2 accomp0:v0:G3 accomp0:v0:D3 accomp0:v100:F3 accomp0:v100:B-3 accomp0:v100:B-2 wait:48 melody:v0:F5 accomp0:v0:B-2 accomp0:v0:B-3 accomp0:v0:F3 wait:48 melody:v98:F5 accomp0:v100:B-2 accomp0:v100:B-3 accomp0:v100:F3 wait:48 [21] melody:v0:F5 melody:v98:F5 accomp0:v0:B-2 accomp0:v0:B-3 accomp0:v0:F3 wait:48 melody:v0:F5 melody:v98:D5 accomp0:v100:B-2 accomp0:v100:B-3 accomp0:v100:F3 wait:48 melody:v0:D5 melody:v98:F5 accomp0:v0:F3 accomp0:v0:B-2 accomp0:v0:B-3 wait:48 melody:v0:F5 melody:v98:F5 accomp0:v100:B-2 accomp0:v100:B-3 accomp0:v100:F3 wait:48 melody:v0:F5 melody:v98:D5 accomp0:v0:F3 accomp0:v0:B-2 accomp0:v0:B-3 wait:48 melody:v0:D5 melody:v98:F5 accomp0:v100:F3 accomp0:v100:B-3 accomp0:v100:B-2 wait:48 melody:v0:F5 accomp0:v0:B-2 accomp0:v0:F3 accomp0:v0:B-3 accomp0:v100:A3 accomp0:v100:D4 accomp0:v100:D3 wait:48 melody:v98:F5 accomp0:v0:D3 accomp0:v0:D4 accomp0:v0:A3 wait:48 melody:v0:F5 melody:v98:F5 accomp0:v100:A3 accomp0:v100:D4 accomp0:v100:D3 wait:48 [20] melody:v0:F5 melody:v98:D5 accomp0:v0:D3 accomp0:v0:A3 accomp0:v0:D4 accomp0:v100:A3 accomp0:v100:D4 accomp0:v100:D3 wait:48 melody:v0:D5 melody:v98:F5 accomp0:v0:D3 accomp0:v0:D4 accomp0:v0:A3 accomp0:v100:D3 accomp0:v100:D4 accomp0:v100:A3 wait:48 melody:v0:F5 melody:v98:F5 accomp0:v0:A3 accomp0:v0:D4 accomp0:v0:D3 accomp0:v100:A3 accomp0:v100:D4 accomp0:v100:D3 wait:48 melody:v0:F5 melody:v98:D5 accomp0:v0:D3 accomp0:v0:D4 accomp0:v0:A3 accomp0:v100:D3 accomp0:v100:D4 accomp0:v100:A3 wait:48 melody:v0:D5 melody:v98:C5 accomp0:v0:A3 accomp0:v0:D4 accomp0:v0:D3 accomp0:v100:C3 accomp0:v100:C4 accomp0:v100:G3 wait:48 melody:v0:C5 accomp0:v0:G3 accomp0:v0:C4 accomp0:v0:C3 wait:48 melody:v98:F5 accomp0:v100:G3 accomp0:v100:C4 accomp0:v100:C3 wait:48 melody:v0:F5 melody:v98:F5 accomp0:v0:G3 accomp0:v0:C4 accomp0:v0:C3 wait:48 melody:v0:F5 melody:v98:F5 accomp0:v100:G3 accomp0:v100:C4 accomp0:v100:C3 wait:48 melody:v0:F5 melody:v98:F5 accomp0:v0:C3 accomp0:v0:G3 accomp0:v0:C4 wait:48 [19] melody:v0:F5 melody:v98:C5 accomp0:v100:G3 accomp0:v100:C4 accomp0:v100:C3 wait:48 melody:v0:C5 melody:v98:G4 accomp0:v0:C3 accomp0:v0:G3 accomp0:v0:C4 wait:48 melody:v0:G4 melody:v98:A4 accomp0:v100:C4 accomp0:v100:G3 accomp0:v100:C3 wait:48 melody:v0:A4 melody:v98:C5 accomp0:v0:C3 accomp0:v0:C4 accomp0:v0:G3 accomp0:v100:G2 accomp0:v100:G3 accomp0:v100:D3 wait:48 melody:v0:C5 melody:v98:F5 accomp0:v0:D3 accomp0:v0:G3 accomp0:v0:G2 wait:48 melody:v0:F5 melody:v98:F5 accomp0:v100:G2 accomp0:v100:G3 accomp0:v100:D3 wait:48 melody:v0:F5 melody:v98:D5 accomp0:v0:D3 accomp0:v0:G2 accomp0:v0:G3 accomp0:v100:D3 accomp0:v100:G3 accomp0:v100:G2 wait:48 melody:v0:D5 melody:v98:F5 accomp0:v0:G2 accomp0:v0:G3 accomp0:v0:D3 accomp0:v100:G2 accomp0:v100:G3 accomp0:v100:D3 wait:48 melody:v0:F5 melody:v98:F5 accomp0:v0:D3 accomp0:v0:G3 accomp0:v0:G2 accomp0:v100:G2 accomp0:v100:G3 accomp0:v100:D3 wait:48 [18] melody:v0:F5 melody:v98:D5 accomp0:v0:D3 accomp0:v0:G3 accomp0:v0:G2 accomp0:v100:G2 accomp0:v100:G3 accomp0:v100:D3 wait:48 melody:v0:D5 melody:v98:F5 accomp0:v0:D3 accomp0:v0:G3 accomp0:v0:G2 accomp0:v100:F3 accomp0:v100:B-3 accomp0:v100:B-2 wait:48 melody:v0:F5 accomp0:v0:B-2 accomp0:v0:B-3 accomp0:v0:F3 wait:48 melody:v98:F5 accomp0:v100:B-2 accomp0:v100:B-3 accomp0:v100:F3 wait:48 melody:v0:F5 melody:v98:F5 accomp0:v0:B-2 accomp0:v0:B-3 accomp0:v0:F3 wait:48 melody:v0:F5 melody:v98:D5 accomp0:v100:F3 accomp0:v100:B-3 accomp0:v100:B-2 wait:48 melody:v0:D5 melody:v98:F5 accomp0:v0:B-2 accomp0:v0:F3 accomp0:v0:B-3 wait:48 melody:v0:F5 melody:v98:A4 accomp0:v100:B-2 accomp0:v100:B-3 accomp0:v100:F3 wait:48 melody:v0:A4 melody:v98:D5 accomp0:v0:F3 accomp0:v0:B-2 accomp0:v0:B-3 wait:48 melody:v0:D5 melody:v98:F5 accomp0:v100:F3 accomp0:v100:B-3 accomp0:v100:B-2 wait:48 [17] melody:v0:F5 accomp0:v0:B-2 accomp0:v0:F3 accomp0:v0:B-3 accomp0:v100:A2 accomp0:v100:D3 accomp0:v100:D2 wait:48 melody:v98:F5 accomp0:v0:D2 accomp0:v0:D3 accomp0:v0:A2 wait:48 melody:v0:F5 melody:v98:F5 accomp0:v100:A2 accomp0:v100:D3 accomp0:v100:D2 wait:48 melody:v0:F5 melody:v98:D5 accomp0:v0:D2 accomp0:v0:A2 accomp0:v0:D3 accomp0:v100:F2 accomp0:v100:F3 accomp0:v100:C3 wait:48 melody:v0:D5 melody:v98:G5 wait:48 melody:v0:G5 melody:v98:G5 accomp0:v0:C3 accomp0:v0:F3 accomp0:v0:F2 accomp0:v100:F2 accomp0:v100:F3 accomp0:v100:C3 wait:48 melody:v0:G5 melody:v98:F5 wait:48 melody:v0:F5 melody:v98:G5 accomp0:v0:C3 accomp0:v0:F3 accomp0:v0:F2 accomp0:v100:C3 accomp0:v100:F3 accomp0:v100:F2 wait:48 melody:v0:G5 accomp0:v0:F2 accomp0:v0:F3 accomp0:v0:C3 accomp0:v100:C3 accomp0:v100:C4 accomp0:v100:G3 wait:48 [16] melody:v98:G5 wait:48 melody:v0:G5 accomp0:v0:G3 accomp0:v0:C4 accomp0:v0:C3 accomp0:v100:G3 accomp0:v100:C4 accomp0:v100:C3 wait:48 melody:v98:G5 wait:24 melody:v0:G5 melody:v98:A5 wait:24 accomp0:v0:C3 accomp0:v0:C4 accomp0:v0:G3 accomp0:v100:C3 accomp0:v100:C4 accomp0:v100:G3 wait:24 melody:v0:A5 wait:24 melody:v98:A5 wait:48 melody:v0:A5 melody:v98:F5 accomp0:v0:G3 accomp0:v0:C4 accomp0:v0:C3 accomp0:v100:C3 accomp0:v100:C4 accomp0:v100:G3 wait:48 melody:v0:F5 melody:v98:D5 wait:48 melody:v0:D5 melody:v98:D4 melody:v98:F4 melody:v91:B-4 accomp0:v0:G3 accomp0:v0:C4 accomp0:v0:C3 accomp0:v100:G2 wait:96 melody:v0:B-4 melody:v0:F4 melody:v0:D4 accomp0:v0:G2 accomp0:v100:G1 wait:96 [15] melody:v100:B-4 melody:v98:F4 melody:v98:D4 accomp0:v0:G1 accomp0:v100:G1 wait:48 melody:v0:B-4 melody:v0:F4 melody:v0:D4 melody:v98:B-4 melody:v98:G4 melody:v98:D4 wait:48 melody:v0:D4 melody:v0:G4 melody:v0:B-4 accomp0:v0:G1 accomp0:v100:G1 wait:24 melody:v98:B-4 melody:v98:G4 melody:v98:D4 wait:48 melody:v0:B-4 melody:v0:G4 melody:v0:D4 wait:24 melody:v98:C4 melody:v98:F4 melody:v98:A4 accomp0:v0:G1 accomp0:v100:F2 wait:96 melody:v0:C4 melody:v0:F4 melody:v0:A4 accomp0:v0:F2 accomp0:v100:F1 wait:96 [14] melody:v98:D5 melody:v98:F4 melody:v98:C4 accomp0:v0:F1 accomp0:v100:F1 wait:48 melody:v0:D5 melody:v0:F4 melody:v0:C4 melody:v98:C5 melody:v98:F4 melody:v98:C4 wait:48 melody:v0:C4 melody:v0:F4 melody:v0:C5 accomp0:v0:F1 accomp0:v100:F1 wait:24 melody:v98:C5 melody:v98:F4 melody:v98:C4 wait:48 melody:v0:C5 melody:v0:F4 melody:v0:C4 wait:24 melody:v97:A4 melody:v97:F4 melody:v97:D4 accomp0:v0:F1 accomp0:v100:D3 wait:96 melody:v0:D4 melody:v0:A4 melody:v0:F4 accomp0:v0:D3 accomp0:v100:D2 wait:96 melody:v97:D4 melody:v97:F4 melody:v97:A4 accomp0:v0:D2 accomp0:v100:D2 wait:48 melody:v0:D4 melody:v0:F4 melody:v0:A4 melody:v96:F4 melody:v96:D4 melody:v96:A4 wait:48 [13] melody:v0:A4 melody:v0:D4 melody:v0:F4 accomp0:v0:D2 accomp0:v100:D2 wait:24 melody:v96:A4 melody:v96:F4 melody:v96:D4 wait:48 melody:v0:A4 melody:v0:F4 melody:v0:D4 wait:24 melody:v96:D5 melody:v96:G4 melody:v96:E4 accomp0:v0:D2 accomp0:v100:C3 wait:96 melody:v0:E4 melody:v0:D5 melody:v0:G4 accomp0:v0:C3 accomp0:v100:C2 wait:96 melody:v96:D5 melody:v96:E4 melody:v96:G4 accomp0:v0:C2 accomp0:v100:C2 wait:48 melody:v0:D5 melody:v0:E4 melody:v0:G4 melody:v96:G4 melody:v96:E4 melody:v96:C5 wait:48 melody:v0:C5 melody:v0:E4 melody:v0:G4 accomp0:v0:C2 accomp0:v100:C2 wait:24 melody:v96:E4 melody:v96:G4 melody:v96:A4 wait:48 [12] melody:v0:E4 melody:v0:G4 melody:v0:A4 wait:24 melody:v98:D4 melody:v98:F4 melody:v91:B-4 accomp0:v0:C2 accomp0:v100:G2 wait:96 melody:v0:D4 melody:v0:F4 melody:v0:B-4 accomp0:v0:G2 accomp0:v100:G1 wait:96 melody:v100:B-4 melody:v98:F4 melody:v98:D4 accomp0:v0:G1 accomp0:v100:G1 wait:48 melody:v0:B-4 melody:v0:F4 melody:v0:D4 melody:v98:B-4 melody:v98:G4 melody:v98:D4 wait:48 melody:v0:D4 melody:v0:G4 melody:v0:B-4 accomp0:v0:G1 accomp0:v100:G1 wait:24 melody:v98:B-4 melody:v98:G4 melody:v98:D4 wait:48 melody:v0:B-4 melody:v0:G4 melody:v0:D4 wait:24 melody:v98:C4 melody:v98:F4 melody:v98:A4 accomp0:v0:G1 accomp0:v100:F2 wait:96 [11] melody:v0:C4 melody:v0:F4 melody:v0:A4 accomp0:v0:F2 accomp0:v100:F1 wait:96 melody:v98:D5 melody:v98:F4 melody:v98:C4 accomp0:v0:F1 accomp0:v100:F1 wait:48 melody:v0:D5 melody:v0:F4 melody:v0:C4 melody:v98:C5 melody:v98:F4 melody:v98:C4 wait:48 melody:v0:C4 melody:v0:F4 melody:v0:C5 accomp0:v0:F1 accomp0:v100:F1 wait:24 melody:v98:C5 melody:v98:F4 melody:v98:C4 wait:48 melody:v0:C5 melody:v0:F4 melody:v0:C4 wait:24 melody:v97:A4 melody:v97:F4 melody:v97:D4 accomp0:v0:F1 accomp0:v100:D3 wait:96 [10] melody:v0:D4 melody:v0:A4 melody:v0:F4 accomp0:v0:D3 accomp0:v100:D2 wait:96 melody:v97:D4 melody:v97:F4 melody:v97:A4 accomp0:v0:D2 accomp0:v100:D2 wait:48 melody:v0:D4 melody:v0:F4 melody:v0:A4 melody:v96:F4 melody:v96:D4 melody:v96:A4 wait:48 melody:v0:A4 melody:v0:D4 melody:v0:F4 accomp0:v0:D2 accomp0:v100:D2 wait:24 melody:v96:A4 melody:v96:F4 melody:v96:D4 wait:48 melody:v0:A4 melody:v0:F4 melody:v0:D4 wait:24 melody:v96:D5 melody:v96:G4 melody:v96:E4 accomp0:v0:D2 accomp0:v100:C3 wait:96 melody:v0:E4 melody:v0:D5 melody:v0:G4 accomp0:v0:C3 accomp0:v100:C2 wait:96 [9] melody:v96:D5 melody:v96:E4 melody:v96:G4 accomp0:v0:C2 accomp0:v100:C2 wait:48 melody:v0:D5 melody:v0:E4 melody:v0:G4 melody:v96:G4 melody:v96:E4 melody:v96:C5 wait:48 melody:v0:C5 melody:v0:E4 melody:v0:G4 accomp0:v0:C2 accomp0:v100:C2 wait:24 melody:v96:E4 melody:v96:G4 melody:v96:A4 wait:48 melody:v0:E4 melody:v0:G4 melody:v0:A4 wait:24 melody:v98:D4 melody:v98:F4 melody:v91:B-4 accomp0:v0:C2 accomp0:v100:G2 wait:96 melody:v0:D4 melody:v0:F4 melody:v0:B-4 accomp0:v0:G2 accomp0:v100:G1 wait:96 melody:v100:B-4 melody:v98:F4 melody:v98:D4 accomp0:v0:G1 accomp0:v100:G1 wait:48 [8] melody:v0:B-4 melody:v0:F4 melody:v0:D4 melody:v98:B-4 melody:v98:G4 melody:v98:D4 wait:48 melody:v0:D4 melody:v0:G4 melody:v0:B-4 accomp0:v0:G1 accomp0:v100:G1 wait:24 melody:v98:B-4 melody:v98:G4 melody:v98:D4 wait:48 melody:v0:B-4 melody:v0:G4 melody:v0:D4 wait:24 melody:v98:C4 melody:v98:F4 melody:v98:A4 accomp0:v0:G1 accomp0:v100:F2 wait:96 melody:v0:C4 melody:v0:F4 melody:v0:A4 accomp0:v0:F2 accomp0:v100:F1 wait:96 melody:v98:D5 melody:v98:F4 melody:v98:C4 accomp0:v0:F1 accomp0:v100:F1 wait:48 melody:v0:D5 melody:v0:F4 melody:v0:C4 melody:v98:C5 melody:v98:F4 melody:v98:C4 wait:48 melody:v0:C4 melody:v0:F4 melody:v0:C5 accomp0:v0:F1 accomp0:v100:F1 wait:24 melody:v98:C5 melody:v98:F4 melody:v98:C4 wait:48 [7] melody:v0:C5 melody:v0:F4 melody:v0:C4 wait:24 melody:v97:A4 melody:v97:F4 melody:v97:D4 accomp0:v0:F1 accomp0:v100:D3 wait:96 melody:v0:D4 melody:v0:A4 melody:v0:F4 accomp0:v0:D3 accomp0:v100:D2 wait:96 melody:v97:D4 melody:v97:F4 melody:v97:A4 accomp0:v0:D2 accomp0:v100:D2 wait:48 melody:v0:D4 melody:v0:F4 melody:v0:A4 melody:v96:F4 melody:v96:D4 melody:v96:A4 wait:48 melody:v0:A4 melody:v0:D4 melody:v0:F4 accomp0:v0:D2 accomp0:v100:D2 wait:24 melody:v96:A4 melody:v96:F4 melody:v96:D4 wait:48 melody:v0:A4 melody:v0:F4 melody:v0:D4 wait:24 melody:v96:D5 melody:v96:G4 melody:v96:E4 accomp0:v0:D2 accomp0:v100:C3 wait:96 [6] melody:v0:E4 melody:v0:D5 melody:v0:G4 accomp0:v0:C3 accomp0:v100:C2 wait:96 melody:v96:D5 melody:v96:E4 melody:v96:G4 accomp0:v0:C2 accomp0:v100:C2 wait:48 melody:v0:D5 melody:v0:E4 melody:v0:G4 melody:v96:G4 melody:v96:E4 melody:v96:C5 wait:48 melody:v0:C5 melody:v0:E4 melody:v0:G4 accomp0:v0:C2 accomp0:v100:C2 wait:24 melody:v96:E4 melody:v96:G4 melody:v96:A4 wait:48 melody:v0:E4 melody:v0:G4 melody:v0:A4 wait:24 melody:v98:D4 melody:v98:F4 melody:v91:B-4 accomp0:v0:C2 accomp0:v100:G2 wait:96 [5] melody:v0:D4 melody:v0:F4 melody:v0:B-4 accomp0:v0:G2 accomp0:v100:G1 wait:96 melody:v100:B-4 melody:v98:F4 melody:v98:D4 accomp0:v0:G1 accomp0:v100:G1 wait:48 melody:v0:B-4 melody:v0:F4 melody:v0:D4 melody:v98:B-4 melody:v98:G4 melody:v98:D4 wait:48 melody:v0:D4 melody:v0:G4 melody:v0:B-4 accomp0:v0:G1 accomp0:v100:G1 wait:24 melody:v98:B-4 melody:v98:G4 melody:v98:D4 wait:48 melody:v0:B-4 melody:v0:G4 melody:v0:D4 wait:24 melody:v98:C4 melody:v98:F4 melody:v98:A4 accomp0:v0:G1 accomp0:v100:F2 wait:96 melody:v0:C4 melody:v0:F4 melody:v0:A4 accomp0:v0:F2 accomp0:v100:F1 wait:96 [4] melody:v98:D5 melody:v98:F4 melody:v98:C4 accomp0:v0:F1 accomp0:v100:F1 wait:48 melody:v0:D5 melody:v0:F4 melody:v0:C4 melody:v98:C5 melody:v98:F4 melody:v98:C4 wait:48 melody:v0:C4 melody:v0:F4 melody:v0:C5 accomp0:v0:F1 accomp0:v100:F1 wait:24 melody:v98:C5 melody:v98:F4 melody:v98:C4 wait:48 melody:v0:C5 melody:v0:F4 melody:v0:C4 wait:24 melody:v97:A4 melody:v97:F4 melody:v97:D4 accomp0:v0:F1 accomp0:v100:D3 wait:96 melody:v0:D4 melody:v0:A4 melody:v0:F4 accomp0:v0:D3 accomp0:v100:D2 wait:96 melody:v97:D4 melody:v97:F4 melody:v97:A4 accomp0:v0:D2 accomp0:v100:D2 wait:48 [3] melody:v0:D4 melody:v0:F4 melody:v0:A4 melody:v96:F4 melody:v96:D4 melody:v96:A4 wait:48 melody:v0:A4 melody:v0:D4 melody:v0:F4 accomp0:v0:D2 accomp0:v100:D2 wait:24 melody:v96:A4 melody:v96:F4 melody:v96:D4 wait:48 melody:v0:A4 melody:v0:F4 melody:v0:D4 wait:24 melody:v96:D5 melody:v96:G4 melody:v96:E4 accomp0:v0:D2 accomp0:v100:C3 wait:96 melody:v0:E4 melody:v0:D5 melody:v0:G4 accomp0:v0:C3 accomp0:v100:C2 wait:96 melody:v96:D5 melody:v96:E4 melody:v96:G4 accomp0:v0:C2 accomp0:v100:C2 wait:48 melody:v0:D5 melody:v0:E4 melody:v0:G4 melody:v96:G4 melody:v96:E4 melody:v96:C5 wait:48 melody:v0:C5 melody:v0:E4 melody:v0:G4 accomp0:v0:C2 accomp0:v100:C2 wait:24 [2] melody:v96:E4 melody:v96:G4 melody:v96:A4 wait:48 melody:v0:E4 melody:v0:G4 melody:v0:A4 wait:24 accomp0:v0:C2 [0] [SEP]'\n"
          ],
          "name": "stdout"
        }
      ]
    },
    {
      "cell_type": "code",
      "metadata": {
        "id": "ODhJjmJlun0q",
        "colab_type": "code",
        "colab": {}
      },
      "source": [
        "def encode(text_tensor, label):\n",
        "  encoded_text = encoder.encode(text_tensor.numpy())\n",
        "  return encoded_text, label"
      ],
      "execution_count": null,
      "outputs": []
    },
    {
      "cell_type": "code",
      "metadata": {
        "id": "DaaVExa1urX9",
        "colab_type": "code",
        "colab": {}
      },
      "source": [
        "def encode_map_fn(text, label):\n",
        "  # py_func doesn't set the shape of the returned tensors.\n",
        "  encoded_text, label = tf.py_function(encode, \n",
        "                                       inp=[text, label], \n",
        "                                       Tout=(tf.int64, tf.int64))\n",
        "\n",
        "  # `tf.data.Datasets` work best if all components have a shape set\n",
        "  #  so set the shapes manually: \n",
        "  encoded_text.set_shape([None])\n",
        "  label.set_shape([])\n",
        "\n",
        "  return encoded_text, label\n",
        "\n",
        "\n",
        "all_encoded_data = all_labeled_data.map(encode_map_fn)"
      ],
      "execution_count": null,
      "outputs": []
    },
    {
      "cell_type": "code",
      "metadata": {
        "id": "AOJ3-UNZ6LTa",
        "colab_type": "code",
        "colab": {
          "base_uri": "https://localhost:8080/",
          "height": 34
        },
        "outputId": "929f191c-85ed-4c6a-89d6-7db9e725663f"
      },
      "source": [
        "# example\n",
        "example_text = next(iter(all_encoded_data))[0].numpy()\n",
        "print(example_text)"
      ],
      "execution_count": null,
      "outputs": [
        {
          "output_type": "stream",
          "text": [
            "[192 236 288 ... 273 188 143]\n"
          ],
          "name": "stdout"
        }
      ]
    },
    {
      "cell_type": "code",
      "metadata": {
        "id": "mGNXreM-nXss",
        "colab_type": "code",
        "colab": {}
      },
      "source": [
        "train_data = all_encoded_data.skip(TAKE_SIZE).shuffle(BUFFER_SIZE)\n",
        "train_data = train_data.padded_batch(BATCH_SIZE).repeat(30)\n",
        "\n",
        "test_data = all_encoded_data.take(TAKE_SIZE)\n",
        "test_data = test_data.padded_batch(BATCH_SIZE)"
      ],
      "execution_count": null,
      "outputs": []
    },
    {
      "cell_type": "code",
      "metadata": {
        "id": "xpkJJyZC6TTe",
        "colab_type": "code",
        "colab": {
          "base_uri": "https://localhost:8080/",
          "height": 34
        },
        "outputId": "5c97fdf8-0d86-4e9c-9b87-4c4e4a8823d6"
      },
      "source": [
        "test_data"
      ],
      "execution_count": null,
      "outputs": [
        {
          "output_type": "execute_result",
          "data": {
            "text/plain": [
              "<PaddedBatchDataset shapes: ((None, None), (None,)), types: (tf.int64, tf.int64)>"
            ]
          },
          "metadata": {
            "tags": []
          },
          "execution_count": 21
        }
      ]
    },
    {
      "cell_type": "code",
      "metadata": {
        "id": "WOgy0iNYHlnX",
        "colab_type": "code",
        "colab": {
          "base_uri": "https://localhost:8080/",
          "height": 395
        },
        "outputId": "3edc9de1-b351-4e66-ba74-786137f411bc"
      },
      "source": [
        "%%time\n",
        "from transformers import LineByLineTextDataset\n",
        "\n",
        "dataset = LineByLineTextDataset(\n",
        "    tokenizer=tokenizer,\n",
        "    file_path=\"./data/data_express_original.txt\",\n",
        "    block_size=128,\n",
        ")"
      ],
      "execution_count": null,
      "outputs": [
        {
          "output_type": "error",
          "ename": "AttributeError",
          "evalue": "ignored",
          "traceback": [
            "\u001b[0;31m---------------------------------------------------------------------------\u001b[0m",
            "\u001b[0;31mAttributeError\u001b[0m                            Traceback (most recent call last)",
            "\u001b[0;32m<ipython-input-25-87875743c45c>\u001b[0m in \u001b[0;36m<module>\u001b[0;34m()\u001b[0m\n\u001b[0;32m----> 1\u001b[0;31m \u001b[0mget_ipython\u001b[0m\u001b[0;34m(\u001b[0m\u001b[0;34m)\u001b[0m\u001b[0;34m.\u001b[0m\u001b[0mrun_cell_magic\u001b[0m\u001b[0;34m(\u001b[0m\u001b[0;34m'time'\u001b[0m\u001b[0;34m,\u001b[0m \u001b[0;34m''\u001b[0m\u001b[0;34m,\u001b[0m \u001b[0;34m'from transformers import LineByLineTextDataset\\n\\ndataset = LineByLineTextDataset(\\n    tokenizer=tokenizer,\\n    file_path=\"./data/data_express_original.txt\",\\n    block_size=128,\\n)'\u001b[0m\u001b[0;34m)\u001b[0m\u001b[0;34m\u001b[0m\u001b[0;34m\u001b[0m\u001b[0m\n\u001b[0m",
            "\u001b[0;32m/usr/local/lib/python3.6/dist-packages/IPython/core/interactiveshell.py\u001b[0m in \u001b[0;36mrun_cell_magic\u001b[0;34m(self, magic_name, line, cell)\u001b[0m\n\u001b[1;32m   2115\u001b[0m             \u001b[0mmagic_arg_s\u001b[0m \u001b[0;34m=\u001b[0m \u001b[0mself\u001b[0m\u001b[0;34m.\u001b[0m\u001b[0mvar_expand\u001b[0m\u001b[0;34m(\u001b[0m\u001b[0mline\u001b[0m\u001b[0;34m,\u001b[0m \u001b[0mstack_depth\u001b[0m\u001b[0;34m)\u001b[0m\u001b[0;34m\u001b[0m\u001b[0;34m\u001b[0m\u001b[0m\n\u001b[1;32m   2116\u001b[0m             \u001b[0;32mwith\u001b[0m \u001b[0mself\u001b[0m\u001b[0;34m.\u001b[0m\u001b[0mbuiltin_trap\u001b[0m\u001b[0;34m:\u001b[0m\u001b[0;34m\u001b[0m\u001b[0;34m\u001b[0m\u001b[0m\n\u001b[0;32m-> 2117\u001b[0;31m                 \u001b[0mresult\u001b[0m \u001b[0;34m=\u001b[0m \u001b[0mfn\u001b[0m\u001b[0;34m(\u001b[0m\u001b[0mmagic_arg_s\u001b[0m\u001b[0;34m,\u001b[0m \u001b[0mcell\u001b[0m\u001b[0;34m)\u001b[0m\u001b[0;34m\u001b[0m\u001b[0;34m\u001b[0m\u001b[0m\n\u001b[0m\u001b[1;32m   2118\u001b[0m             \u001b[0;32mreturn\u001b[0m \u001b[0mresult\u001b[0m\u001b[0;34m\u001b[0m\u001b[0;34m\u001b[0m\u001b[0m\n\u001b[1;32m   2119\u001b[0m \u001b[0;34m\u001b[0m\u001b[0m\n",
            "\u001b[0;32m<decorator-gen-60>\u001b[0m in \u001b[0;36mtime\u001b[0;34m(self, line, cell, local_ns)\u001b[0m\n",
            "\u001b[0;32m/usr/local/lib/python3.6/dist-packages/IPython/core/magic.py\u001b[0m in \u001b[0;36m<lambda>\u001b[0;34m(f, *a, **k)\u001b[0m\n\u001b[1;32m    186\u001b[0m     \u001b[0;31m# but it's overkill for just that one bit of state.\u001b[0m\u001b[0;34m\u001b[0m\u001b[0;34m\u001b[0m\u001b[0;34m\u001b[0m\u001b[0m\n\u001b[1;32m    187\u001b[0m     \u001b[0;32mdef\u001b[0m \u001b[0mmagic_deco\u001b[0m\u001b[0;34m(\u001b[0m\u001b[0marg\u001b[0m\u001b[0;34m)\u001b[0m\u001b[0;34m:\u001b[0m\u001b[0;34m\u001b[0m\u001b[0;34m\u001b[0m\u001b[0m\n\u001b[0;32m--> 188\u001b[0;31m         \u001b[0mcall\u001b[0m \u001b[0;34m=\u001b[0m \u001b[0;32mlambda\u001b[0m \u001b[0mf\u001b[0m\u001b[0;34m,\u001b[0m \u001b[0;34m*\u001b[0m\u001b[0ma\u001b[0m\u001b[0;34m,\u001b[0m \u001b[0;34m**\u001b[0m\u001b[0mk\u001b[0m\u001b[0;34m:\u001b[0m \u001b[0mf\u001b[0m\u001b[0;34m(\u001b[0m\u001b[0;34m*\u001b[0m\u001b[0ma\u001b[0m\u001b[0;34m,\u001b[0m \u001b[0;34m**\u001b[0m\u001b[0mk\u001b[0m\u001b[0;34m)\u001b[0m\u001b[0;34m\u001b[0m\u001b[0;34m\u001b[0m\u001b[0m\n\u001b[0m\u001b[1;32m    189\u001b[0m \u001b[0;34m\u001b[0m\u001b[0m\n\u001b[1;32m    190\u001b[0m         \u001b[0;32mif\u001b[0m \u001b[0mcallable\u001b[0m\u001b[0;34m(\u001b[0m\u001b[0marg\u001b[0m\u001b[0;34m)\u001b[0m\u001b[0;34m:\u001b[0m\u001b[0;34m\u001b[0m\u001b[0;34m\u001b[0m\u001b[0m\n",
            "\u001b[0;32m/usr/local/lib/python3.6/dist-packages/IPython/core/magics/execution.py\u001b[0m in \u001b[0;36mtime\u001b[0;34m(self, line, cell, local_ns)\u001b[0m\n\u001b[1;32m   1191\u001b[0m         \u001b[0;32melse\u001b[0m\u001b[0;34m:\u001b[0m\u001b[0;34m\u001b[0m\u001b[0;34m\u001b[0m\u001b[0m\n\u001b[1;32m   1192\u001b[0m             \u001b[0mst\u001b[0m \u001b[0;34m=\u001b[0m \u001b[0mclock2\u001b[0m\u001b[0;34m(\u001b[0m\u001b[0;34m)\u001b[0m\u001b[0;34m\u001b[0m\u001b[0;34m\u001b[0m\u001b[0m\n\u001b[0;32m-> 1193\u001b[0;31m             \u001b[0mexec\u001b[0m\u001b[0;34m(\u001b[0m\u001b[0mcode\u001b[0m\u001b[0;34m,\u001b[0m \u001b[0mglob\u001b[0m\u001b[0;34m,\u001b[0m \u001b[0mlocal_ns\u001b[0m\u001b[0;34m)\u001b[0m\u001b[0;34m\u001b[0m\u001b[0;34m\u001b[0m\u001b[0m\n\u001b[0m\u001b[1;32m   1194\u001b[0m             \u001b[0mend\u001b[0m \u001b[0;34m=\u001b[0m \u001b[0mclock2\u001b[0m\u001b[0;34m(\u001b[0m\u001b[0;34m)\u001b[0m\u001b[0;34m\u001b[0m\u001b[0;34m\u001b[0m\u001b[0m\n\u001b[1;32m   1195\u001b[0m             \u001b[0mout\u001b[0m \u001b[0;34m=\u001b[0m \u001b[0;32mNone\u001b[0m\u001b[0;34m\u001b[0m\u001b[0;34m\u001b[0m\u001b[0m\n",
            "\u001b[0;32m<timed exec>\u001b[0m in \u001b[0;36m<module>\u001b[0;34m()\u001b[0m\n",
            "\u001b[0;32m/usr/local/lib/python3.6/dist-packages/transformers/data/datasets/language_modeling.py\u001b[0m in \u001b[0;36m__init__\u001b[0;34m(self, tokenizer, file_path, block_size)\u001b[0m\n\u001b[1;32m     92\u001b[0m             \u001b[0mlines\u001b[0m \u001b[0;34m=\u001b[0m \u001b[0;34m[\u001b[0m\u001b[0mline\u001b[0m \u001b[0;32mfor\u001b[0m \u001b[0mline\u001b[0m \u001b[0;32min\u001b[0m \u001b[0mf\u001b[0m\u001b[0;34m.\u001b[0m\u001b[0mread\u001b[0m\u001b[0;34m(\u001b[0m\u001b[0;34m)\u001b[0m\u001b[0;34m.\u001b[0m\u001b[0msplitlines\u001b[0m\u001b[0;34m(\u001b[0m\u001b[0;34m)\u001b[0m \u001b[0;32mif\u001b[0m \u001b[0;34m(\u001b[0m\u001b[0mlen\u001b[0m\u001b[0;34m(\u001b[0m\u001b[0mline\u001b[0m\u001b[0;34m)\u001b[0m \u001b[0;34m>\u001b[0m \u001b[0;36m0\u001b[0m \u001b[0;32mand\u001b[0m \u001b[0;32mnot\u001b[0m \u001b[0mline\u001b[0m\u001b[0;34m.\u001b[0m\u001b[0misspace\u001b[0m\u001b[0;34m(\u001b[0m\u001b[0;34m)\u001b[0m\u001b[0;34m)\u001b[0m\u001b[0;34m]\u001b[0m\u001b[0;34m\u001b[0m\u001b[0;34m\u001b[0m\u001b[0m\n\u001b[1;32m     93\u001b[0m \u001b[0;34m\u001b[0m\u001b[0m\n\u001b[0;32m---> 94\u001b[0;31m         \u001b[0mbatch_encoding\u001b[0m \u001b[0;34m=\u001b[0m \u001b[0mtokenizer\u001b[0m\u001b[0;34m.\u001b[0m\u001b[0mbatch_encode_plus\u001b[0m\u001b[0;34m(\u001b[0m\u001b[0mlines\u001b[0m\u001b[0;34m,\u001b[0m \u001b[0madd_special_tokens\u001b[0m\u001b[0;34m=\u001b[0m\u001b[0;32mTrue\u001b[0m\u001b[0;34m,\u001b[0m \u001b[0mmax_length\u001b[0m\u001b[0;34m=\u001b[0m\u001b[0mblock_size\u001b[0m\u001b[0;34m)\u001b[0m\u001b[0;34m\u001b[0m\u001b[0;34m\u001b[0m\u001b[0m\n\u001b[0m\u001b[1;32m     95\u001b[0m         \u001b[0mself\u001b[0m\u001b[0;34m.\u001b[0m\u001b[0mexamples\u001b[0m \u001b[0;34m=\u001b[0m \u001b[0mbatch_encoding\u001b[0m\u001b[0;34m[\u001b[0m\u001b[0;34m\"input_ids\"\u001b[0m\u001b[0;34m]\u001b[0m\u001b[0;34m\u001b[0m\u001b[0;34m\u001b[0m\u001b[0m\n\u001b[1;32m     96\u001b[0m \u001b[0;34m\u001b[0m\u001b[0m\n",
            "\u001b[0;31mAttributeError\u001b[0m: 'Tokenizer' object has no attribute 'batch_encode_plus'"
          ]
        }
      ]
    },
    {
      "cell_type": "markdown",
      "metadata": {
        "id": "OV4L3BpThm2F",
        "colab_type": "text"
      },
      "source": [
        "###### Training"
      ]
    },
    {
      "cell_type": "code",
      "metadata": {
        "id": "ywftxJiR1K--",
        "colab_type": "code",
        "colab": {}
      },
      "source": [
        "# Prepare training: Compile tf.keras model with optimizer, loss and learning rate schedule\n",
        "optimizer = tf.keras.optimizers.Adam(learning_rate=3e-5, epsilon=1e-08, clipnorm=1.0)\n",
        "loss = tf.keras.losses.SparseCategoricalCrossentropy(from_logits=True)\n",
        "metric = tf.keras.metrics.SparseCategoricalAccuracy('accuracy')\n",
        "model.compile(optimizer=optimizer, loss=loss, metrics=[metric])\n",
        "\n",
        "# Fix to TypeError: \n",
        "# You are attempting to use Python control flow in a layer that was not declared to be dynamic. Pass `dynamic=True` to the class constructor\n",
        "model.run_eagerly = True"
      ],
      "execution_count": null,
      "outputs": []
    },
    {
      "cell_type": "code",
      "metadata": {
        "id": "AlOOG7961jHZ",
        "colab_type": "code",
        "colab": {
          "base_uri": "https://localhost:8080/",
          "height": 613
        },
        "outputId": "d9ce36b4-8390-461f-9a9e-c102c20c0898"
      },
      "source": [
        "# Train and evaluate using tf.keras.Model.fit()\n",
        "history = model.fit(train_data, epochs=2) #steps_per_epoch=115,)\n",
        "                    #validation_data=test_data, validation_steps=7)"
      ],
      "execution_count": null,
      "outputs": [
        {
          "output_type": "stream",
          "text": [
            "Epoch 1/2\n"
          ],
          "name": "stdout"
        },
        {
          "output_type": "error",
          "ename": "TypeError",
          "evalue": "ignored",
          "traceback": [
            "\u001b[0;31m---------------------------------------------------------------------------\u001b[0m",
            "\u001b[0;31mOutOfRangeError\u001b[0m                           Traceback (most recent call last)",
            "\u001b[0;32m/usr/local/lib/python3.6/dist-packages/tensorflow/python/eager/context.py\u001b[0m in \u001b[0;36mexecution_mode\u001b[0;34m(mode)\u001b[0m\n\u001b[1;32m   1985\u001b[0m       \u001b[0mctx\u001b[0m\u001b[0;34m.\u001b[0m\u001b[0mexecutor\u001b[0m \u001b[0;34m=\u001b[0m \u001b[0mexecutor_new\u001b[0m\u001b[0;34m\u001b[0m\u001b[0;34m\u001b[0m\u001b[0m\n\u001b[0;32m-> 1986\u001b[0;31m       \u001b[0;32myield\u001b[0m\u001b[0;34m\u001b[0m\u001b[0;34m\u001b[0m\u001b[0m\n\u001b[0m\u001b[1;32m   1987\u001b[0m     \u001b[0;32mfinally\u001b[0m\u001b[0;34m:\u001b[0m\u001b[0;34m\u001b[0m\u001b[0;34m\u001b[0m\u001b[0m\n",
            "\u001b[0;32m/usr/local/lib/python3.6/dist-packages/tensorflow/python/data/ops/iterator_ops.py\u001b[0m in \u001b[0;36m_next_internal\u001b[0;34m(self)\u001b[0m\n\u001b[1;32m    654\u001b[0m             \u001b[0moutput_types\u001b[0m\u001b[0;34m=\u001b[0m\u001b[0mself\u001b[0m\u001b[0;34m.\u001b[0m\u001b[0m_flat_output_types\u001b[0m\u001b[0;34m,\u001b[0m\u001b[0;34m\u001b[0m\u001b[0;34m\u001b[0m\u001b[0m\n\u001b[0;32m--> 655\u001b[0;31m             output_shapes=self._flat_output_shapes)\n\u001b[0m\u001b[1;32m    656\u001b[0m \u001b[0;34m\u001b[0m\u001b[0m\n",
            "\u001b[0;32m/usr/local/lib/python3.6/dist-packages/tensorflow/python/ops/gen_dataset_ops.py\u001b[0m in \u001b[0;36miterator_get_next\u001b[0;34m(iterator, output_types, output_shapes, name)\u001b[0m\n\u001b[1;32m   2362\u001b[0m     \u001b[0;32mexcept\u001b[0m \u001b[0m_core\u001b[0m\u001b[0;34m.\u001b[0m\u001b[0m_NotOkStatusException\u001b[0m \u001b[0;32mas\u001b[0m \u001b[0me\u001b[0m\u001b[0;34m:\u001b[0m\u001b[0;34m\u001b[0m\u001b[0;34m\u001b[0m\u001b[0m\n\u001b[0;32m-> 2363\u001b[0;31m       \u001b[0m_ops\u001b[0m\u001b[0;34m.\u001b[0m\u001b[0mraise_from_not_ok_status\u001b[0m\u001b[0;34m(\u001b[0m\u001b[0me\u001b[0m\u001b[0;34m,\u001b[0m \u001b[0mname\u001b[0m\u001b[0;34m)\u001b[0m\u001b[0;34m\u001b[0m\u001b[0;34m\u001b[0m\u001b[0m\n\u001b[0m\u001b[1;32m   2364\u001b[0m   \u001b[0;31m# Add nodes to the TensorFlow graph.\u001b[0m\u001b[0;34m\u001b[0m\u001b[0;34m\u001b[0m\u001b[0;34m\u001b[0m\u001b[0m\n",
            "\u001b[0;32m/usr/local/lib/python3.6/dist-packages/tensorflow/python/framework/ops.py\u001b[0m in \u001b[0;36mraise_from_not_ok_status\u001b[0;34m(e, name)\u001b[0m\n\u001b[1;32m   6652\u001b[0m   \u001b[0;31m# pylint: disable=protected-access\u001b[0m\u001b[0;34m\u001b[0m\u001b[0;34m\u001b[0m\u001b[0;34m\u001b[0m\u001b[0m\n\u001b[0;32m-> 6653\u001b[0;31m   \u001b[0msix\u001b[0m\u001b[0;34m.\u001b[0m\u001b[0mraise_from\u001b[0m\u001b[0;34m(\u001b[0m\u001b[0mcore\u001b[0m\u001b[0;34m.\u001b[0m\u001b[0m_status_to_exception\u001b[0m\u001b[0;34m(\u001b[0m\u001b[0me\u001b[0m\u001b[0;34m.\u001b[0m\u001b[0mcode\u001b[0m\u001b[0;34m,\u001b[0m \u001b[0mmessage\u001b[0m\u001b[0;34m)\u001b[0m\u001b[0;34m,\u001b[0m \u001b[0;32mNone\u001b[0m\u001b[0;34m)\u001b[0m\u001b[0;34m\u001b[0m\u001b[0;34m\u001b[0m\u001b[0m\n\u001b[0m\u001b[1;32m   6654\u001b[0m   \u001b[0;31m# pylint: enable=protected-access\u001b[0m\u001b[0;34m\u001b[0m\u001b[0;34m\u001b[0m\u001b[0;34m\u001b[0m\u001b[0m\n",
            "\u001b[0;32m/usr/local/lib/python3.6/dist-packages/six.py\u001b[0m in \u001b[0;36mraise_from\u001b[0;34m(value, from_value)\u001b[0m\n",
            "\u001b[0;31mOutOfRangeError\u001b[0m: End of sequence [Op:IteratorGetNext]",
            "\nDuring handling of the above exception, another exception occurred:\n",
            "\u001b[0;31mOutOfRangeError\u001b[0m                           Traceback (most recent call last)",
            "\u001b[0;32m/usr/local/lib/python3.6/dist-packages/tensorflow/python/data/ops/iterator_ops.py\u001b[0m in \u001b[0;36mnext\u001b[0;34m(self)\u001b[0m\n\u001b[1;32m    669\u001b[0m     \u001b[0;32mtry\u001b[0m\u001b[0;34m:\u001b[0m\u001b[0;34m\u001b[0m\u001b[0;34m\u001b[0m\u001b[0m\n\u001b[0;32m--> 670\u001b[0;31m       \u001b[0;32mreturn\u001b[0m \u001b[0mself\u001b[0m\u001b[0;34m.\u001b[0m\u001b[0m_next_internal\u001b[0m\u001b[0;34m(\u001b[0m\u001b[0;34m)\u001b[0m\u001b[0;34m\u001b[0m\u001b[0;34m\u001b[0m\u001b[0m\n\u001b[0m\u001b[1;32m    671\u001b[0m     \u001b[0;32mexcept\u001b[0m \u001b[0merrors\u001b[0m\u001b[0;34m.\u001b[0m\u001b[0mOutOfRangeError\u001b[0m\u001b[0;34m:\u001b[0m\u001b[0;34m\u001b[0m\u001b[0;34m\u001b[0m\u001b[0m\n",
            "\u001b[0;32m/usr/local/lib/python3.6/dist-packages/tensorflow/python/data/ops/iterator_ops.py\u001b[0m in \u001b[0;36m_next_internal\u001b[0;34m(self)\u001b[0m\n\u001b[1;32m    660\u001b[0m       \u001b[0;32mexcept\u001b[0m \u001b[0mAttributeError\u001b[0m\u001b[0;34m:\u001b[0m\u001b[0;34m\u001b[0m\u001b[0;34m\u001b[0m\u001b[0m\n\u001b[0;32m--> 661\u001b[0;31m         \u001b[0;32mreturn\u001b[0m \u001b[0mstructure\u001b[0m\u001b[0;34m.\u001b[0m\u001b[0mfrom_compatible_tensor_list\u001b[0m\u001b[0;34m(\u001b[0m\u001b[0mself\u001b[0m\u001b[0;34m.\u001b[0m\u001b[0m_element_spec\u001b[0m\u001b[0;34m,\u001b[0m \u001b[0mret\u001b[0m\u001b[0;34m)\u001b[0m\u001b[0;34m\u001b[0m\u001b[0;34m\u001b[0m\u001b[0m\n\u001b[0m\u001b[1;32m    662\u001b[0m \u001b[0;34m\u001b[0m\u001b[0m\n",
            "\u001b[0;32m/usr/lib/python3.6/contextlib.py\u001b[0m in \u001b[0;36m__exit__\u001b[0;34m(self, type, value, traceback)\u001b[0m\n\u001b[1;32m     98\u001b[0m             \u001b[0;32mtry\u001b[0m\u001b[0;34m:\u001b[0m\u001b[0;34m\u001b[0m\u001b[0;34m\u001b[0m\u001b[0m\n\u001b[0;32m---> 99\u001b[0;31m                 \u001b[0mself\u001b[0m\u001b[0;34m.\u001b[0m\u001b[0mgen\u001b[0m\u001b[0;34m.\u001b[0m\u001b[0mthrow\u001b[0m\u001b[0;34m(\u001b[0m\u001b[0mtype\u001b[0m\u001b[0;34m,\u001b[0m \u001b[0mvalue\u001b[0m\u001b[0;34m,\u001b[0m \u001b[0mtraceback\u001b[0m\u001b[0;34m)\u001b[0m\u001b[0;34m\u001b[0m\u001b[0;34m\u001b[0m\u001b[0m\n\u001b[0m\u001b[1;32m    100\u001b[0m             \u001b[0;32mexcept\u001b[0m \u001b[0mStopIteration\u001b[0m \u001b[0;32mas\u001b[0m \u001b[0mexc\u001b[0m\u001b[0;34m:\u001b[0m\u001b[0;34m\u001b[0m\u001b[0;34m\u001b[0m\u001b[0m\n",
            "\u001b[0;32m/usr/local/lib/python3.6/dist-packages/tensorflow/python/eager/context.py\u001b[0m in \u001b[0;36mexecution_mode\u001b[0;34m(mode)\u001b[0m\n\u001b[1;32m   1988\u001b[0m       \u001b[0mctx\u001b[0m\u001b[0;34m.\u001b[0m\u001b[0mexecutor\u001b[0m \u001b[0;34m=\u001b[0m \u001b[0mexecutor_old\u001b[0m\u001b[0;34m\u001b[0m\u001b[0;34m\u001b[0m\u001b[0m\n\u001b[0;32m-> 1989\u001b[0;31m       \u001b[0mexecutor_new\u001b[0m\u001b[0;34m.\u001b[0m\u001b[0mwait\u001b[0m\u001b[0;34m(\u001b[0m\u001b[0;34m)\u001b[0m\u001b[0;34m\u001b[0m\u001b[0;34m\u001b[0m\u001b[0m\n\u001b[0m\u001b[1;32m   1990\u001b[0m \u001b[0;34m\u001b[0m\u001b[0m\n",
            "\u001b[0;32m/usr/local/lib/python3.6/dist-packages/tensorflow/python/eager/executor.py\u001b[0m in \u001b[0;36mwait\u001b[0;34m(self)\u001b[0m\n\u001b[1;32m     66\u001b[0m     \u001b[0;34m\"\"\"Waits for ops dispatched in this executor to finish.\"\"\"\u001b[0m\u001b[0;34m\u001b[0m\u001b[0;34m\u001b[0m\u001b[0m\n\u001b[0;32m---> 67\u001b[0;31m     \u001b[0mpywrap_tfe\u001b[0m\u001b[0;34m.\u001b[0m\u001b[0mTFE_ExecutorWaitForAllPendingNodes\u001b[0m\u001b[0;34m(\u001b[0m\u001b[0mself\u001b[0m\u001b[0;34m.\u001b[0m\u001b[0m_handle\u001b[0m\u001b[0;34m)\u001b[0m\u001b[0;34m\u001b[0m\u001b[0;34m\u001b[0m\u001b[0m\n\u001b[0m\u001b[1;32m     68\u001b[0m \u001b[0;34m\u001b[0m\u001b[0m\n",
            "\u001b[0;31mOutOfRangeError\u001b[0m: End of sequence",
            "\nDuring handling of the above exception, another exception occurred:\n",
            "\u001b[0;31mStopIteration\u001b[0m                             Traceback (most recent call last)",
            "\u001b[0;32m/usr/local/lib/python3.6/dist-packages/tensorflow/python/keras/engine/data_adapter.py\u001b[0m in \u001b[0;36mcatch_stop_iteration\u001b[0;34m(self)\u001b[0m\n\u001b[1;32m   1135\u001b[0m     \u001b[0;32mtry\u001b[0m\u001b[0;34m:\u001b[0m\u001b[0;34m\u001b[0m\u001b[0;34m\u001b[0m\u001b[0m\n\u001b[0;32m-> 1136\u001b[0;31m       \u001b[0;32myield\u001b[0m\u001b[0;34m\u001b[0m\u001b[0;34m\u001b[0m\u001b[0m\n\u001b[0m\u001b[1;32m   1137\u001b[0m       \u001b[0mcontext\u001b[0m\u001b[0;34m.\u001b[0m\u001b[0masync_wait\u001b[0m\u001b[0;34m(\u001b[0m\u001b[0;34m)\u001b[0m\u001b[0;34m\u001b[0m\u001b[0;34m\u001b[0m\u001b[0m\n",
            "\u001b[0;32m/usr/local/lib/python3.6/dist-packages/tensorflow/python/keras/engine/training.py\u001b[0m in \u001b[0;36mfit\u001b[0;34m(self, x, y, batch_size, epochs, verbose, callbacks, validation_split, validation_data, shuffle, class_weight, sample_weight, initial_epoch, steps_per_epoch, validation_steps, validation_batch_size, validation_freq, max_queue_size, workers, use_multiprocessing)\u001b[0m\n\u001b[1;32m    847\u001b[0m               \u001b[0mcallbacks\u001b[0m\u001b[0;34m.\u001b[0m\u001b[0mon_train_batch_begin\u001b[0m\u001b[0;34m(\u001b[0m\u001b[0mstep\u001b[0m\u001b[0;34m)\u001b[0m\u001b[0;34m\u001b[0m\u001b[0;34m\u001b[0m\u001b[0m\n\u001b[0;32m--> 848\u001b[0;31m               \u001b[0mtmp_logs\u001b[0m \u001b[0;34m=\u001b[0m \u001b[0mtrain_function\u001b[0m\u001b[0;34m(\u001b[0m\u001b[0miterator\u001b[0m\u001b[0;34m)\u001b[0m\u001b[0;34m\u001b[0m\u001b[0;34m\u001b[0m\u001b[0m\n\u001b[0m\u001b[1;32m    849\u001b[0m               \u001b[0;31m# Catch OutOfRangeError for Datasets of unknown size.\u001b[0m\u001b[0;34m\u001b[0m\u001b[0;34m\u001b[0m\u001b[0;34m\u001b[0m\u001b[0m\n",
            "\u001b[0;32m/usr/local/lib/python3.6/dist-packages/tensorflow/python/keras/engine/training.py\u001b[0m in \u001b[0;36mtrain_function\u001b[0;34m(iterator)\u001b[0m\n\u001b[1;32m    569\u001b[0m     \u001b[0;32mdef\u001b[0m \u001b[0mtrain_function\u001b[0m\u001b[0;34m(\u001b[0m\u001b[0miterator\u001b[0m\u001b[0;34m)\u001b[0m\u001b[0;34m:\u001b[0m\u001b[0;34m\u001b[0m\u001b[0;34m\u001b[0m\u001b[0m\n\u001b[0;32m--> 570\u001b[0;31m       \u001b[0mdata\u001b[0m \u001b[0;34m=\u001b[0m \u001b[0mnext\u001b[0m\u001b[0;34m(\u001b[0m\u001b[0miterator\u001b[0m\u001b[0;34m)\u001b[0m\u001b[0;34m\u001b[0m\u001b[0;34m\u001b[0m\u001b[0m\n\u001b[0m\u001b[1;32m    571\u001b[0m       outputs = self.distribute_strategy.run(\n",
            "\u001b[0;32m/usr/local/lib/python3.6/dist-packages/tensorflow/python/data/ops/iterator_ops.py\u001b[0m in \u001b[0;36m__next__\u001b[0;34m(self)\u001b[0m\n\u001b[1;32m    630\u001b[0m   \u001b[0;32mdef\u001b[0m \u001b[0m__next__\u001b[0m\u001b[0;34m(\u001b[0m\u001b[0mself\u001b[0m\u001b[0;34m)\u001b[0m\u001b[0;34m:\u001b[0m  \u001b[0;31m# For Python 3 compatibility\u001b[0m\u001b[0;34m\u001b[0m\u001b[0;34m\u001b[0m\u001b[0m\n\u001b[0;32m--> 631\u001b[0;31m     \u001b[0;32mreturn\u001b[0m \u001b[0mself\u001b[0m\u001b[0;34m.\u001b[0m\u001b[0mnext\u001b[0m\u001b[0;34m(\u001b[0m\u001b[0;34m)\u001b[0m\u001b[0;34m\u001b[0m\u001b[0;34m\u001b[0m\u001b[0m\n\u001b[0m\u001b[1;32m    632\u001b[0m \u001b[0;34m\u001b[0m\u001b[0m\n",
            "\u001b[0;32m/usr/local/lib/python3.6/dist-packages/tensorflow/python/data/ops/iterator_ops.py\u001b[0m in \u001b[0;36mnext\u001b[0;34m(self)\u001b[0m\n\u001b[1;32m    671\u001b[0m     \u001b[0;32mexcept\u001b[0m \u001b[0merrors\u001b[0m\u001b[0;34m.\u001b[0m\u001b[0mOutOfRangeError\u001b[0m\u001b[0;34m:\u001b[0m\u001b[0;34m\u001b[0m\u001b[0;34m\u001b[0m\u001b[0m\n\u001b[0;32m--> 672\u001b[0;31m       \u001b[0;32mraise\u001b[0m \u001b[0mStopIteration\u001b[0m\u001b[0;34m\u001b[0m\u001b[0;34m\u001b[0m\u001b[0m\n\u001b[0m\u001b[1;32m    673\u001b[0m \u001b[0;34m\u001b[0m\u001b[0m\n",
            "\u001b[0;31mStopIteration\u001b[0m: ",
            "\nDuring handling of the above exception, another exception occurred:\n",
            "\u001b[0;31mTypeError\u001b[0m                                 Traceback (most recent call last)",
            "\u001b[0;32m<ipython-input-30-c195e020856a>\u001b[0m in \u001b[0;36m<module>\u001b[0;34m()\u001b[0m\n\u001b[1;32m      1\u001b[0m \u001b[0;31m# Train and evaluate using tf.keras.Model.fit()\u001b[0m\u001b[0;34m\u001b[0m\u001b[0;34m\u001b[0m\u001b[0;34m\u001b[0m\u001b[0m\n\u001b[0;32m----> 2\u001b[0;31m \u001b[0mhistory\u001b[0m \u001b[0;34m=\u001b[0m \u001b[0mmodel\u001b[0m\u001b[0;34m.\u001b[0m\u001b[0mfit\u001b[0m\u001b[0;34m(\u001b[0m\u001b[0mtrain_data\u001b[0m\u001b[0;34m,\u001b[0m \u001b[0mepochs\u001b[0m\u001b[0;34m=\u001b[0m\u001b[0;36m2\u001b[0m\u001b[0;34m)\u001b[0m \u001b[0;31m#steps_per_epoch=115,)\u001b[0m\u001b[0;34m\u001b[0m\u001b[0;34m\u001b[0m\u001b[0m\n\u001b[0m\u001b[1;32m      3\u001b[0m                     \u001b[0;31m#validation_data=test_data, validation_steps=7)\u001b[0m\u001b[0;34m\u001b[0m\u001b[0;34m\u001b[0m\u001b[0;34m\u001b[0m\u001b[0m\n",
            "\u001b[0;32m/usr/local/lib/python3.6/dist-packages/tensorflow/python/keras/engine/training.py\u001b[0m in \u001b[0;36m_method_wrapper\u001b[0;34m(self, *args, **kwargs)\u001b[0m\n\u001b[1;32m     64\u001b[0m   \u001b[0;32mdef\u001b[0m \u001b[0m_method_wrapper\u001b[0m\u001b[0;34m(\u001b[0m\u001b[0mself\u001b[0m\u001b[0;34m,\u001b[0m \u001b[0;34m*\u001b[0m\u001b[0margs\u001b[0m\u001b[0;34m,\u001b[0m \u001b[0;34m**\u001b[0m\u001b[0mkwargs\u001b[0m\u001b[0;34m)\u001b[0m\u001b[0;34m:\u001b[0m\u001b[0;34m\u001b[0m\u001b[0;34m\u001b[0m\u001b[0m\n\u001b[1;32m     65\u001b[0m     \u001b[0;32mif\u001b[0m \u001b[0;32mnot\u001b[0m \u001b[0mself\u001b[0m\u001b[0;34m.\u001b[0m\u001b[0m_in_multi_worker_mode\u001b[0m\u001b[0;34m(\u001b[0m\u001b[0;34m)\u001b[0m\u001b[0;34m:\u001b[0m  \u001b[0;31m# pylint: disable=protected-access\u001b[0m\u001b[0;34m\u001b[0m\u001b[0;34m\u001b[0m\u001b[0m\n\u001b[0;32m---> 66\u001b[0;31m       \u001b[0;32mreturn\u001b[0m \u001b[0mmethod\u001b[0m\u001b[0;34m(\u001b[0m\u001b[0mself\u001b[0m\u001b[0;34m,\u001b[0m \u001b[0;34m*\u001b[0m\u001b[0margs\u001b[0m\u001b[0;34m,\u001b[0m \u001b[0;34m**\u001b[0m\u001b[0mkwargs\u001b[0m\u001b[0;34m)\u001b[0m\u001b[0;34m\u001b[0m\u001b[0;34m\u001b[0m\u001b[0m\n\u001b[0m\u001b[1;32m     67\u001b[0m \u001b[0;34m\u001b[0m\u001b[0m\n\u001b[1;32m     68\u001b[0m     \u001b[0;31m# Running inside `run_distribute_coordinator` already.\u001b[0m\u001b[0;34m\u001b[0m\u001b[0;34m\u001b[0m\u001b[0;34m\u001b[0m\u001b[0m\n",
            "\u001b[0;32m/usr/local/lib/python3.6/dist-packages/tensorflow/python/keras/engine/training.py\u001b[0m in \u001b[0;36mfit\u001b[0;34m(self, x, y, batch_size, epochs, verbose, callbacks, validation_split, validation_data, shuffle, class_weight, sample_weight, initial_epoch, steps_per_epoch, validation_steps, validation_batch_size, validation_freq, max_queue_size, workers, use_multiprocessing)\u001b[0m\n\u001b[1;32m    853\u001b[0m                 \u001b[0mcontext\u001b[0m\u001b[0;34m.\u001b[0m\u001b[0masync_wait\u001b[0m\u001b[0;34m(\u001b[0m\u001b[0;34m)\u001b[0m\u001b[0;34m\u001b[0m\u001b[0;34m\u001b[0m\u001b[0m\n\u001b[1;32m    854\u001b[0m               \u001b[0mlogs\u001b[0m \u001b[0;34m=\u001b[0m \u001b[0mtmp_logs\u001b[0m  \u001b[0;31m# No error, now safe to assign to logs.\u001b[0m\u001b[0;34m\u001b[0m\u001b[0;34m\u001b[0m\u001b[0m\n\u001b[0;32m--> 855\u001b[0;31m               \u001b[0mcallbacks\u001b[0m\u001b[0;34m.\u001b[0m\u001b[0mon_train_batch_end\u001b[0m\u001b[0;34m(\u001b[0m\u001b[0mstep\u001b[0m\u001b[0;34m,\u001b[0m \u001b[0mlogs\u001b[0m\u001b[0;34m)\u001b[0m\u001b[0;34m\u001b[0m\u001b[0;34m\u001b[0m\u001b[0m\n\u001b[0m\u001b[1;32m    856\u001b[0m         \u001b[0mepoch_logs\u001b[0m \u001b[0;34m=\u001b[0m \u001b[0mcopy\u001b[0m\u001b[0;34m.\u001b[0m\u001b[0mcopy\u001b[0m\u001b[0;34m(\u001b[0m\u001b[0mlogs\u001b[0m\u001b[0;34m)\u001b[0m\u001b[0;34m\u001b[0m\u001b[0;34m\u001b[0m\u001b[0m\n\u001b[1;32m    857\u001b[0m \u001b[0;34m\u001b[0m\u001b[0m\n",
            "\u001b[0;32m/usr/lib/python3.6/contextlib.py\u001b[0m in \u001b[0;36m__exit__\u001b[0;34m(self, type, value, traceback)\u001b[0m\n\u001b[1;32m     97\u001b[0m                 \u001b[0mvalue\u001b[0m \u001b[0;34m=\u001b[0m \u001b[0mtype\u001b[0m\u001b[0;34m(\u001b[0m\u001b[0;34m)\u001b[0m\u001b[0;34m\u001b[0m\u001b[0;34m\u001b[0m\u001b[0m\n\u001b[1;32m     98\u001b[0m             \u001b[0;32mtry\u001b[0m\u001b[0;34m:\u001b[0m\u001b[0;34m\u001b[0m\u001b[0;34m\u001b[0m\u001b[0m\n\u001b[0;32m---> 99\u001b[0;31m                 \u001b[0mself\u001b[0m\u001b[0;34m.\u001b[0m\u001b[0mgen\u001b[0m\u001b[0;34m.\u001b[0m\u001b[0mthrow\u001b[0m\u001b[0;34m(\u001b[0m\u001b[0mtype\u001b[0m\u001b[0;34m,\u001b[0m \u001b[0mvalue\u001b[0m\u001b[0;34m,\u001b[0m \u001b[0mtraceback\u001b[0m\u001b[0;34m)\u001b[0m\u001b[0;34m\u001b[0m\u001b[0;34m\u001b[0m\u001b[0m\n\u001b[0m\u001b[1;32m    100\u001b[0m             \u001b[0;32mexcept\u001b[0m \u001b[0mStopIteration\u001b[0m \u001b[0;32mas\u001b[0m \u001b[0mexc\u001b[0m\u001b[0;34m:\u001b[0m\u001b[0;34m\u001b[0m\u001b[0;34m\u001b[0m\u001b[0m\n\u001b[1;32m    101\u001b[0m                 \u001b[0;31m# Suppress StopIteration *unless* it's the same exception that\u001b[0m\u001b[0;34m\u001b[0m\u001b[0;34m\u001b[0m\u001b[0;34m\u001b[0m\u001b[0m\n",
            "\u001b[0;32m/usr/local/lib/python3.6/dist-packages/tensorflow/python/keras/engine/data_adapter.py\u001b[0m in \u001b[0;36mcatch_stop_iteration\u001b[0;34m(self)\u001b[0m\n\u001b[1;32m   1151\u001b[0m             \u001b[0;34m\"{} batches). You may need to use the repeat() function \"\u001b[0m\u001b[0;34m\u001b[0m\u001b[0;34m\u001b[0m\u001b[0m\n\u001b[1;32m   1152\u001b[0m             \"when building your dataset.\".format(total_epochs *\n\u001b[0;32m-> 1153\u001b[0;31m                                                  self._inferred_steps))\n\u001b[0m\u001b[1;32m   1154\u001b[0m \u001b[0;34m\u001b[0m\u001b[0m\n\u001b[1;32m   1155\u001b[0m   \u001b[0;32mdef\u001b[0m \u001b[0msteps\u001b[0m\u001b[0;34m(\u001b[0m\u001b[0mself\u001b[0m\u001b[0;34m)\u001b[0m\u001b[0;34m:\u001b[0m\u001b[0;34m\u001b[0m\u001b[0;34m\u001b[0m\u001b[0m\n",
            "\u001b[0;31mTypeError\u001b[0m: unsupported operand type(s) for *: 'int' and 'NoneType'"
          ]
        }
      ]
    },
    {
      "cell_type": "code",
      "metadata": {
        "id": "05RKK0AX1tD9",
        "colab_type": "code",
        "colab": {}
      },
      "source": [
        "eval_loss, eval_acc = model.evaluate(test_data)\n",
        "print('\\nEval loss: {:.3f}, Eval accuracy: {:.3f}'.format(eval_loss, eval_acc))"
      ],
      "execution_count": null,
      "outputs": []
    },
    {
      "cell_type": "code",
      "metadata": {
        "id": "S1CKSdv51wGw",
        "colab_type": "code",
        "colab": {}
      },
      "source": [
        "model.save_pretrained('./save/')"
      ],
      "execution_count": null,
      "outputs": []
    },
    {
      "cell_type": "code",
      "metadata": {
        "id": "Dn6zobRb4zBZ",
        "colab_type": "code",
        "colab": {}
      },
      "source": [
        ""
      ],
      "execution_count": null,
      "outputs": []
    },
    {
      "cell_type": "code",
      "metadata": {
        "id": "M3OYSoDZ2Kd5",
        "colab_type": "code",
        "colab": {
          "base_uri": "https://localhost:8080/",
          "height": 630
        },
        "outputId": "beed7459-0e52-4905-f767-b6f6a4ee7a66"
      },
      "source": [
        "model = tf.keras.Sequential()\n",
        "\n",
        "# The first layer converts integer representations to dense vector embeddings\n",
        "model.add(tf.keras.layers.Embedding(vocab_size, 64))\n",
        "\n",
        "# The next layer is a Long Short-Term Memory layer, \n",
        "# which lets the model understand words in their context with other words. \n",
        "# A bidirectional wrapper on the LSTM helps it to learn about the datapoints \n",
        "# in relationship to the datapoints that came before it and after it.\n",
        "model.add(tf.keras.layers.Bidirectional(tf.keras.layers.LSTM(64)))\n",
        "\n",
        "# a series of one or more densely connected layers, with the last one being the output layer. \n",
        "# The output layer produces a probability for all the labels. \n",
        "# The one with the highest probability is the models prediction of an example's label.\n",
        "for units in [64, 64]:\n",
        "  model.add(tf.keras.layers.Dense(units, activation='relu'))\n",
        "\n",
        "# Output layer. The first argument is the number of labels.\n",
        "model.add(tf.keras.layers.Dense(3))\n",
        "\n",
        "\n",
        "model.compile(optimizer='adam',\n",
        "              loss=tf.keras.losses.SparseCategoricalCrossentropy(from_logits=True),\n",
        "              metrics=['accuracy'])\n",
        "\n",
        "model.fit(train_data, epochs=3, validation_data=test_data)"
      ],
      "execution_count": null,
      "outputs": [
        {
          "output_type": "stream",
          "text": [
            "Epoch 1/3\n"
          ],
          "name": "stdout"
        },
        {
          "output_type": "error",
          "ename": "TypeError",
          "evalue": "ignored",
          "traceback": [
            "\u001b[0;31m---------------------------------------------------------------------------\u001b[0m",
            "\u001b[0;31mOutOfRangeError\u001b[0m                           Traceback (most recent call last)",
            "\u001b[0;32m/usr/local/lib/python3.6/dist-packages/tensorflow/python/keras/engine/data_adapter.py\u001b[0m in \u001b[0;36mcatch_stop_iteration\u001b[0;34m(self)\u001b[0m\n\u001b[1;32m   1135\u001b[0m     \u001b[0;32mtry\u001b[0m\u001b[0;34m:\u001b[0m\u001b[0;34m\u001b[0m\u001b[0;34m\u001b[0m\u001b[0m\n\u001b[0;32m-> 1136\u001b[0;31m       \u001b[0;32myield\u001b[0m\u001b[0;34m\u001b[0m\u001b[0;34m\u001b[0m\u001b[0m\n\u001b[0m\u001b[1;32m   1137\u001b[0m       \u001b[0mcontext\u001b[0m\u001b[0;34m.\u001b[0m\u001b[0masync_wait\u001b[0m\u001b[0;34m(\u001b[0m\u001b[0;34m)\u001b[0m\u001b[0;34m\u001b[0m\u001b[0;34m\u001b[0m\u001b[0m\n",
            "\u001b[0;32m/usr/local/lib/python3.6/dist-packages/tensorflow/python/keras/engine/training.py\u001b[0m in \u001b[0;36mfit\u001b[0;34m(self, x, y, batch_size, epochs, verbose, callbacks, validation_split, validation_data, shuffle, class_weight, sample_weight, initial_epoch, steps_per_epoch, validation_steps, validation_batch_size, validation_freq, max_queue_size, workers, use_multiprocessing)\u001b[0m\n\u001b[1;32m    847\u001b[0m               \u001b[0mcallbacks\u001b[0m\u001b[0;34m.\u001b[0m\u001b[0mon_train_batch_begin\u001b[0m\u001b[0;34m(\u001b[0m\u001b[0mstep\u001b[0m\u001b[0;34m)\u001b[0m\u001b[0;34m\u001b[0m\u001b[0;34m\u001b[0m\u001b[0m\n\u001b[0;32m--> 848\u001b[0;31m               \u001b[0mtmp_logs\u001b[0m \u001b[0;34m=\u001b[0m \u001b[0mtrain_function\u001b[0m\u001b[0;34m(\u001b[0m\u001b[0miterator\u001b[0m\u001b[0;34m)\u001b[0m\u001b[0;34m\u001b[0m\u001b[0;34m\u001b[0m\u001b[0m\n\u001b[0m\u001b[1;32m    849\u001b[0m               \u001b[0;31m# Catch OutOfRangeError for Datasets of unknown size.\u001b[0m\u001b[0;34m\u001b[0m\u001b[0;34m\u001b[0m\u001b[0;34m\u001b[0m\u001b[0m\n",
            "\u001b[0;32m/usr/local/lib/python3.6/dist-packages/tensorflow/python/eager/def_function.py\u001b[0m in \u001b[0;36m__call__\u001b[0;34m(self, *args, **kwds)\u001b[0m\n\u001b[1;32m    579\u001b[0m     \u001b[0;32melse\u001b[0m\u001b[0;34m:\u001b[0m\u001b[0;34m\u001b[0m\u001b[0;34m\u001b[0m\u001b[0m\n\u001b[0;32m--> 580\u001b[0;31m       \u001b[0mresult\u001b[0m \u001b[0;34m=\u001b[0m \u001b[0mself\u001b[0m\u001b[0;34m.\u001b[0m\u001b[0m_call\u001b[0m\u001b[0;34m(\u001b[0m\u001b[0;34m*\u001b[0m\u001b[0margs\u001b[0m\u001b[0;34m,\u001b[0m \u001b[0;34m**\u001b[0m\u001b[0mkwds\u001b[0m\u001b[0;34m)\u001b[0m\u001b[0;34m\u001b[0m\u001b[0;34m\u001b[0m\u001b[0m\n\u001b[0m\u001b[1;32m    581\u001b[0m \u001b[0;34m\u001b[0m\u001b[0m\n",
            "\u001b[0;32m/usr/local/lib/python3.6/dist-packages/tensorflow/python/eager/def_function.py\u001b[0m in \u001b[0;36m_call\u001b[0;34m(self, *args, **kwds)\u001b[0m\n\u001b[1;32m    643\u001b[0m         \u001b[0;31m# stateless function.\u001b[0m\u001b[0;34m\u001b[0m\u001b[0;34m\u001b[0m\u001b[0;34m\u001b[0m\u001b[0m\n\u001b[0;32m--> 644\u001b[0;31m         \u001b[0;32mreturn\u001b[0m \u001b[0mself\u001b[0m\u001b[0;34m.\u001b[0m\u001b[0m_stateless_fn\u001b[0m\u001b[0;34m(\u001b[0m\u001b[0;34m*\u001b[0m\u001b[0margs\u001b[0m\u001b[0;34m,\u001b[0m \u001b[0;34m**\u001b[0m\u001b[0mkwds\u001b[0m\u001b[0;34m)\u001b[0m\u001b[0;34m\u001b[0m\u001b[0;34m\u001b[0m\u001b[0m\n\u001b[0m\u001b[1;32m    645\u001b[0m     \u001b[0;32melse\u001b[0m\u001b[0;34m:\u001b[0m\u001b[0;34m\u001b[0m\u001b[0;34m\u001b[0m\u001b[0m\n",
            "\u001b[0;32m/usr/local/lib/python3.6/dist-packages/tensorflow/python/eager/function.py\u001b[0m in \u001b[0;36m__call__\u001b[0;34m(self, *args, **kwargs)\u001b[0m\n\u001b[1;32m   2419\u001b[0m       \u001b[0mgraph_function\u001b[0m\u001b[0;34m,\u001b[0m \u001b[0margs\u001b[0m\u001b[0;34m,\u001b[0m \u001b[0mkwargs\u001b[0m \u001b[0;34m=\u001b[0m \u001b[0mself\u001b[0m\u001b[0;34m.\u001b[0m\u001b[0m_maybe_define_function\u001b[0m\u001b[0;34m(\u001b[0m\u001b[0margs\u001b[0m\u001b[0;34m,\u001b[0m \u001b[0mkwargs\u001b[0m\u001b[0;34m)\u001b[0m\u001b[0;34m\u001b[0m\u001b[0;34m\u001b[0m\u001b[0m\n\u001b[0;32m-> 2420\u001b[0;31m     \u001b[0;32mreturn\u001b[0m \u001b[0mgraph_function\u001b[0m\u001b[0;34m.\u001b[0m\u001b[0m_filtered_call\u001b[0m\u001b[0;34m(\u001b[0m\u001b[0margs\u001b[0m\u001b[0;34m,\u001b[0m \u001b[0mkwargs\u001b[0m\u001b[0;34m)\u001b[0m  \u001b[0;31m# pylint: disable=protected-access\u001b[0m\u001b[0;34m\u001b[0m\u001b[0;34m\u001b[0m\u001b[0m\n\u001b[0m\u001b[1;32m   2421\u001b[0m \u001b[0;34m\u001b[0m\u001b[0m\n",
            "\u001b[0;32m/usr/local/lib/python3.6/dist-packages/tensorflow/python/eager/function.py\u001b[0m in \u001b[0;36m_filtered_call\u001b[0;34m(self, args, kwargs)\u001b[0m\n\u001b[1;32m   1664\u001b[0m                            resource_variable_ops.BaseResourceVariable))),\n\u001b[0;32m-> 1665\u001b[0;31m         self.captured_inputs)\n\u001b[0m\u001b[1;32m   1666\u001b[0m \u001b[0;34m\u001b[0m\u001b[0m\n",
            "\u001b[0;32m/usr/local/lib/python3.6/dist-packages/tensorflow/python/eager/function.py\u001b[0m in \u001b[0;36m_call_flat\u001b[0;34m(self, args, captured_inputs, cancellation_manager)\u001b[0m\n\u001b[1;32m   1745\u001b[0m       return self._build_call_outputs(self._inference_function.call(\n\u001b[0;32m-> 1746\u001b[0;31m           ctx, args, cancellation_manager=cancellation_manager))\n\u001b[0m\u001b[1;32m   1747\u001b[0m     forward_backward = self._select_forward_and_backward_functions(\n",
            "\u001b[0;32m/usr/local/lib/python3.6/dist-packages/tensorflow/python/eager/function.py\u001b[0m in \u001b[0;36mcall\u001b[0;34m(self, ctx, args, cancellation_manager)\u001b[0m\n\u001b[1;32m    597\u001b[0m               \u001b[0mattrs\u001b[0m\u001b[0;34m=\u001b[0m\u001b[0mattrs\u001b[0m\u001b[0;34m,\u001b[0m\u001b[0;34m\u001b[0m\u001b[0;34m\u001b[0m\u001b[0m\n\u001b[0;32m--> 598\u001b[0;31m               ctx=ctx)\n\u001b[0m\u001b[1;32m    599\u001b[0m         \u001b[0;32melse\u001b[0m\u001b[0;34m:\u001b[0m\u001b[0;34m\u001b[0m\u001b[0;34m\u001b[0m\u001b[0m\n",
            "\u001b[0;32m/usr/local/lib/python3.6/dist-packages/tensorflow/python/eager/execute.py\u001b[0m in \u001b[0;36mquick_execute\u001b[0;34m(op_name, num_outputs, inputs, attrs, ctx, name)\u001b[0m\n\u001b[1;32m     59\u001b[0m     tensors = pywrap_tfe.TFE_Py_Execute(ctx._handle, device_name, op_name,\n\u001b[0;32m---> 60\u001b[0;31m                                         inputs, attrs, num_outputs)\n\u001b[0m\u001b[1;32m     61\u001b[0m   \u001b[0;32mexcept\u001b[0m \u001b[0mcore\u001b[0m\u001b[0;34m.\u001b[0m\u001b[0m_NotOkStatusException\u001b[0m \u001b[0;32mas\u001b[0m \u001b[0me\u001b[0m\u001b[0;34m:\u001b[0m\u001b[0;34m\u001b[0m\u001b[0;34m\u001b[0m\u001b[0m\n",
            "\u001b[0;31mOutOfRangeError\u001b[0m: 2 root error(s) found.\n  (0) Out of range:  End of sequence\n\t [[node IteratorGetNext (defined at <ipython-input-32-740018d58a45>:26) ]]\n\t [[Adam/Adam/update/AssignSubVariableOp/_33]]\n  (1) Out of range:  End of sequence\n\t [[node IteratorGetNext (defined at <ipython-input-32-740018d58a45>:26) ]]\n0 successful operations.\n0 derived errors ignored. [Op:__inference_train_function_35460]\n\nFunction call stack:\ntrain_function -> train_function\n",
            "\nDuring handling of the above exception, another exception occurred:\n",
            "\u001b[0;31mTypeError\u001b[0m                                 Traceback (most recent call last)",
            "\u001b[0;32m<ipython-input-32-740018d58a45>\u001b[0m in \u001b[0;36m<module>\u001b[0;34m()\u001b[0m\n\u001b[1;32m     24\u001b[0m               metrics=['accuracy'])\n\u001b[1;32m     25\u001b[0m \u001b[0;34m\u001b[0m\u001b[0m\n\u001b[0;32m---> 26\u001b[0;31m \u001b[0mmodel\u001b[0m\u001b[0;34m.\u001b[0m\u001b[0mfit\u001b[0m\u001b[0;34m(\u001b[0m\u001b[0mtrain_data\u001b[0m\u001b[0;34m,\u001b[0m \u001b[0mepochs\u001b[0m\u001b[0;34m=\u001b[0m\u001b[0;36m3\u001b[0m\u001b[0;34m,\u001b[0m \u001b[0mvalidation_data\u001b[0m\u001b[0;34m=\u001b[0m\u001b[0mtest_data\u001b[0m\u001b[0;34m)\u001b[0m\u001b[0;34m\u001b[0m\u001b[0;34m\u001b[0m\u001b[0m\n\u001b[0m",
            "\u001b[0;32m/usr/local/lib/python3.6/dist-packages/tensorflow/python/keras/engine/training.py\u001b[0m in \u001b[0;36m_method_wrapper\u001b[0;34m(self, *args, **kwargs)\u001b[0m\n\u001b[1;32m     64\u001b[0m   \u001b[0;32mdef\u001b[0m \u001b[0m_method_wrapper\u001b[0m\u001b[0;34m(\u001b[0m\u001b[0mself\u001b[0m\u001b[0;34m,\u001b[0m \u001b[0;34m*\u001b[0m\u001b[0margs\u001b[0m\u001b[0;34m,\u001b[0m \u001b[0;34m**\u001b[0m\u001b[0mkwargs\u001b[0m\u001b[0;34m)\u001b[0m\u001b[0;34m:\u001b[0m\u001b[0;34m\u001b[0m\u001b[0;34m\u001b[0m\u001b[0m\n\u001b[1;32m     65\u001b[0m     \u001b[0;32mif\u001b[0m \u001b[0;32mnot\u001b[0m \u001b[0mself\u001b[0m\u001b[0;34m.\u001b[0m\u001b[0m_in_multi_worker_mode\u001b[0m\u001b[0;34m(\u001b[0m\u001b[0;34m)\u001b[0m\u001b[0;34m:\u001b[0m  \u001b[0;31m# pylint: disable=protected-access\u001b[0m\u001b[0;34m\u001b[0m\u001b[0;34m\u001b[0m\u001b[0m\n\u001b[0;32m---> 66\u001b[0;31m       \u001b[0;32mreturn\u001b[0m \u001b[0mmethod\u001b[0m\u001b[0;34m(\u001b[0m\u001b[0mself\u001b[0m\u001b[0;34m,\u001b[0m \u001b[0;34m*\u001b[0m\u001b[0margs\u001b[0m\u001b[0;34m,\u001b[0m \u001b[0;34m**\u001b[0m\u001b[0mkwargs\u001b[0m\u001b[0;34m)\u001b[0m\u001b[0;34m\u001b[0m\u001b[0;34m\u001b[0m\u001b[0m\n\u001b[0m\u001b[1;32m     67\u001b[0m \u001b[0;34m\u001b[0m\u001b[0m\n\u001b[1;32m     68\u001b[0m     \u001b[0;31m# Running inside `run_distribute_coordinator` already.\u001b[0m\u001b[0;34m\u001b[0m\u001b[0;34m\u001b[0m\u001b[0;34m\u001b[0m\u001b[0m\n",
            "\u001b[0;32m/usr/local/lib/python3.6/dist-packages/tensorflow/python/keras/engine/training.py\u001b[0m in \u001b[0;36mfit\u001b[0;34m(self, x, y, batch_size, epochs, verbose, callbacks, validation_split, validation_data, shuffle, class_weight, sample_weight, initial_epoch, steps_per_epoch, validation_steps, validation_batch_size, validation_freq, max_queue_size, workers, use_multiprocessing)\u001b[0m\n\u001b[1;32m    853\u001b[0m                 \u001b[0mcontext\u001b[0m\u001b[0;34m.\u001b[0m\u001b[0masync_wait\u001b[0m\u001b[0;34m(\u001b[0m\u001b[0;34m)\u001b[0m\u001b[0;34m\u001b[0m\u001b[0;34m\u001b[0m\u001b[0m\n\u001b[1;32m    854\u001b[0m               \u001b[0mlogs\u001b[0m \u001b[0;34m=\u001b[0m \u001b[0mtmp_logs\u001b[0m  \u001b[0;31m# No error, now safe to assign to logs.\u001b[0m\u001b[0;34m\u001b[0m\u001b[0;34m\u001b[0m\u001b[0m\n\u001b[0;32m--> 855\u001b[0;31m               \u001b[0mcallbacks\u001b[0m\u001b[0;34m.\u001b[0m\u001b[0mon_train_batch_end\u001b[0m\u001b[0;34m(\u001b[0m\u001b[0mstep\u001b[0m\u001b[0;34m,\u001b[0m \u001b[0mlogs\u001b[0m\u001b[0;34m)\u001b[0m\u001b[0;34m\u001b[0m\u001b[0;34m\u001b[0m\u001b[0m\n\u001b[0m\u001b[1;32m    856\u001b[0m         \u001b[0mepoch_logs\u001b[0m \u001b[0;34m=\u001b[0m \u001b[0mcopy\u001b[0m\u001b[0;34m.\u001b[0m\u001b[0mcopy\u001b[0m\u001b[0;34m(\u001b[0m\u001b[0mlogs\u001b[0m\u001b[0;34m)\u001b[0m\u001b[0;34m\u001b[0m\u001b[0;34m\u001b[0m\u001b[0m\n\u001b[1;32m    857\u001b[0m \u001b[0;34m\u001b[0m\u001b[0m\n",
            "\u001b[0;32m/usr/lib/python3.6/contextlib.py\u001b[0m in \u001b[0;36m__exit__\u001b[0;34m(self, type, value, traceback)\u001b[0m\n\u001b[1;32m     97\u001b[0m                 \u001b[0mvalue\u001b[0m \u001b[0;34m=\u001b[0m \u001b[0mtype\u001b[0m\u001b[0;34m(\u001b[0m\u001b[0;34m)\u001b[0m\u001b[0;34m\u001b[0m\u001b[0;34m\u001b[0m\u001b[0m\n\u001b[1;32m     98\u001b[0m             \u001b[0;32mtry\u001b[0m\u001b[0;34m:\u001b[0m\u001b[0;34m\u001b[0m\u001b[0;34m\u001b[0m\u001b[0m\n\u001b[0;32m---> 99\u001b[0;31m                 \u001b[0mself\u001b[0m\u001b[0;34m.\u001b[0m\u001b[0mgen\u001b[0m\u001b[0;34m.\u001b[0m\u001b[0mthrow\u001b[0m\u001b[0;34m(\u001b[0m\u001b[0mtype\u001b[0m\u001b[0;34m,\u001b[0m \u001b[0mvalue\u001b[0m\u001b[0;34m,\u001b[0m \u001b[0mtraceback\u001b[0m\u001b[0;34m)\u001b[0m\u001b[0;34m\u001b[0m\u001b[0;34m\u001b[0m\u001b[0m\n\u001b[0m\u001b[1;32m    100\u001b[0m             \u001b[0;32mexcept\u001b[0m \u001b[0mStopIteration\u001b[0m \u001b[0;32mas\u001b[0m \u001b[0mexc\u001b[0m\u001b[0;34m:\u001b[0m\u001b[0;34m\u001b[0m\u001b[0;34m\u001b[0m\u001b[0m\n\u001b[1;32m    101\u001b[0m                 \u001b[0;31m# Suppress StopIteration *unless* it's the same exception that\u001b[0m\u001b[0;34m\u001b[0m\u001b[0;34m\u001b[0m\u001b[0;34m\u001b[0m\u001b[0m\n",
            "\u001b[0;32m/usr/local/lib/python3.6/dist-packages/tensorflow/python/keras/engine/data_adapter.py\u001b[0m in \u001b[0;36mcatch_stop_iteration\u001b[0;34m(self)\u001b[0m\n\u001b[1;32m   1151\u001b[0m             \u001b[0;34m\"{} batches). You may need to use the repeat() function \"\u001b[0m\u001b[0;34m\u001b[0m\u001b[0;34m\u001b[0m\u001b[0m\n\u001b[1;32m   1152\u001b[0m             \"when building your dataset.\".format(total_epochs *\n\u001b[0;32m-> 1153\u001b[0;31m                                                  self._inferred_steps))\n\u001b[0m\u001b[1;32m   1154\u001b[0m \u001b[0;34m\u001b[0m\u001b[0m\n\u001b[1;32m   1155\u001b[0m   \u001b[0;32mdef\u001b[0m \u001b[0msteps\u001b[0m\u001b[0;34m(\u001b[0m\u001b[0mself\u001b[0m\u001b[0;34m)\u001b[0m\u001b[0;34m:\u001b[0m\u001b[0;34m\u001b[0m\u001b[0;34m\u001b[0m\u001b[0m\n",
            "\u001b[0;31mTypeError\u001b[0m: unsupported operand type(s) for *: 'int' and 'NoneType'"
          ]
        }
      ]
    },
    {
      "cell_type": "code",
      "metadata": {
        "id": "ixmN8Td6U_-i",
        "colab_type": "code",
        "colab": {}
      },
      "source": [
        "\n",
        "\n",
        "special_tokens_dict = {'cls_token': '[CLS]',\n",
        "                      'sep_token': '[SEP]',\n",
        "                      }\n",
        "\n",
        "\n",
        "num_added_toks = tokenizer.add_special_tokens(special_tokens_dict)\n",
        "print('Added new tokens: {}'.format(num_added_toks))\n",
        "model.resize_token_embeddings(len(tokenizer))\n",
        "\n",
        "train"
      ],
      "execution_count": null,
      "outputs": []
    },
    {
      "cell_type": "code",
      "metadata": {
        "id": "sJK7WEPEfZn8",
        "colab_type": "code",
        "colab": {}
      },
      "source": [
        "input_ids = torch.tensor(tokenizer.encode(\"Hello, my dog is cute\", add_special_tokens=True)).unsqueeze(0)  # Batch size 1\n",
        "outputs = model(input_ids)\n",
        "last_hidden_states, mems = outputs[:2]"
      ],
      "execution_count": null,
      "outputs": []
    },
    {
      "cell_type": "code",
      "metadata": {
        "id": "h28YUFedxLts",
        "colab_type": "code",
        "colab": {}
      },
      "source": [
        ""
      ],
      "execution_count": null,
      "outputs": []
    }
  ]
}